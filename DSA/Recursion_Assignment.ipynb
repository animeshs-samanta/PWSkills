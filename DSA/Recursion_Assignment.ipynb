{
 "cells": [
  {
   "cell_type": "code",
   "execution_count": 1,
   "id": "fcf6d1e8-44bd-4911-8dd1-39b2745a9a01",
   "metadata": {},
   "outputs": [
    {
     "name": "stdout",
     "output_type": "stream",
     "text": [
      "Move disk 1 from A to C\n",
      "Move disk 2 from A to B\n",
      "Move disk 1 from C to B\n",
      "Move disk 3 from A to C\n",
      "Move disk 1 from B to A\n",
      "Move disk 2 from B to C\n",
      "Move disk 1 from A to C\n"
     ]
    },
    {
     "data": {
      "text/plain": [
       "'\\nIn this program:\\n\\nn represents the number of disks.\\nsource, target, and auxiliary represent the three rods (poles) A, B, and C.\\nThe base case of the recursion is when there is only one disk (n == 1), and in that case, we directly move the disk from the source rod to\\nthe target rod.\\nFor more than one disk, the algorithm breaks the problem into three steps:\\n    1. Move n-1 disks from the source rod to the auxiliary rod.\\n    2. Move the nth disk from the source rod to the target rod.\\n    3. Move the n-1 disks from the auxiliary rod to the target rod.\\nThe recursive calls effectively solve the smaller subproblems until the base case is reached, and then the solutions are combined to solve \\nthe original problem.\\n\\nThe movements of disks are accomplished through the print statement in the middle of the recursion, which shows the disk number being moved\\nfrom one rod to another.\\n\\n'"
      ]
     },
     "execution_count": 1,
     "metadata": {},
     "output_type": "execute_result"
    }
   ],
   "source": [
    "# Q.1 Can you explain the logic and working of the Tower of Hanoi algorithm by writing a python program? How does the recursion work, and how\n",
    " #are the movements of disks between rods accomplished?\n",
    "    \n",
    "def tower_of_hanoi(n, source, target, auxiliary):\n",
    "    if n > 0:\n",
    "        # Move n-1 disks from source to auxiliary rod\n",
    "        tower_of_hanoi(n-1, source, auxiliary, target)\n",
    "        \n",
    "        # Move the nth disk from source to target rod\n",
    "        print(f\"Move disk {n} from {source} to {target}\")\n",
    "        \n",
    "        # Move the n-1 disks from auxiliary rod to target rod\n",
    "        tower_of_hanoi(n-1, auxiliary, target, source)\n",
    "\n",
    "# Example usage\n",
    "num_disks = 3\n",
    "tower_of_hanoi(num_disks, 'A', 'C', 'B')\n",
    "\n",
    "'''\n",
    "In this program:\n",
    "\n",
    "n represents the number of disks.\n",
    "source, target, and auxiliary represent the three rods (poles) A, B, and C.\n",
    "The base case of the recursion is when there is only one disk (n == 1), and in that case, we directly move the disk from the source rod to\n",
    "the target rod.\n",
    "For more than one disk, the algorithm breaks the problem into three steps:\n",
    "    1. Move n-1 disks from the source rod to the auxiliary rod.\n",
    "    2. Move the nth disk from the source rod to the target rod.\n",
    "    3. Move the n-1 disks from the auxiliary rod to the target rod.\n",
    "The recursive calls effectively solve the smaller subproblems until the base case is reached, and then the solutions are combined to solve \n",
    "the original problem.\n",
    "\n",
    "The movements of disks are accomplished through the print statement in the middle of the recursion, which shows the disk number being moved\n",
    "from one rod to another.\n",
    "\n",
    "'''"
   ]
  },
  {
   "cell_type": "code",
   "execution_count": null,
   "id": "a84956ac-918b-403f-bcd7-186c6a6ba562",
   "metadata": {},
   "outputs": [],
   "source": [
    "\n",
    "\n",
    "Q.2 Given two strings wordi and word2, return the minimum number of operations required to convert wordi to word2.\n",
    "\n",
    "Example 1:\n",
    "\n",
    "Input: word1 = \"horse\", word2 = \"ros\"\n",
    "\n",
    "Output: 3\n",
    "\n",
    "Explanation:\n",
    "\n",
    "horse -> rorse (replace 'h' with 'r')\n",
    "\n",
    "rorse -> rose (remove 'r')\n",
    "\n",
    "rose -> ros (remove 'e')\n",
    "\n",
    "Example 2:\n",
    "\n",
    "Input: word1 = \"intention\", word2 = \"execution\"\n",
    "\n",
    "Output: 5\n",
    "\n",
    "Explanation:\n",
    "\n",
    "intention -> inention (rimove 't')\n",
    "\n",
    "inention -> enention (replace 'i' with 'e')\n",
    "\n",
    "enention -> exention (replace 'n' with 'x')\n",
    "\n",
    "exention -> exection (replace 'n' with 'c')\n",
    "\n",
    "exection -> execution (insert 'u')"
   ]
  },
  {
   "cell_type": "code",
   "execution_count": null,
   "id": "f4b2f13d-29e8-448c-8c86-3377df6e8f6b",
   "metadata": {},
   "outputs": [],
   "source": []
  },
  {
   "cell_type": "code",
   "execution_count": 2,
   "id": "34ecc81d-469d-464c-a8c8-78b323b27b0e",
   "metadata": {},
   "outputs": [
    {
     "name": "stdout",
     "output_type": "stream",
     "text": [
      "22\n"
     ]
    }
   ],
   "source": [
    "# Q. 3 Print the max value of the array [13, 1, -3, 22, 5].\n",
    "\n",
    "\n",
    "def find_max_recursive(arr, n):\n",
    "    # Base case: if there is only one element in the array\n",
    "    if n == 1:\n",
    "        return arr[0]\n",
    "    \n",
    "    # Recursive case: find the maximum of the rest of the array\n",
    "    max_of_rest = find_max_recursive(arr[1:], n - 1)\n",
    "    \n",
    "    # Compare the maximum of the rest with the first element and return the larger one\n",
    "    return max(arr[0], max_of_rest)\n",
    "\n",
    "\n",
    "array = [13, 1, -3, 22, 5]\n",
    "max_value = find_max_recursive(array, len(array))\n",
    "print(max_value)\n"
   ]
  },
  {
   "cell_type": "code",
   "execution_count": 3,
   "id": "c8a6b382-eb17-4ad6-9b23-0c78b1488829",
   "metadata": {},
   "outputs": [
    {
     "name": "stdout",
     "output_type": "stream",
     "text": [
      "120\n"
     ]
    }
   ],
   "source": [
    "# Q.4 Find the sum of the values of the array [92, 23, 15, -20, 10].\n",
    "\n",
    "def find_sum_recursive(arr, n):\n",
    "    # Base case: if there is only one element in the array\n",
    "    if n == 1:\n",
    "        return arr[0]\n",
    "    \n",
    "    # Recursive case: add the first element to the sum of the rest of the array\n",
    "    return arr[0] + find_sum_recursive(arr[1:], n - 1)\n",
    "\n",
    "\n",
    "array = [92, 23, 15, -20, 10]\n",
    "sum_of_values = find_sum_recursive(array, len(array))\n",
    "print(sum_of_values)\n"
   ]
  },
  {
   "cell_type": "code",
   "execution_count": 4,
   "id": "66fefce9-8527-4339-a429-99a28c0db3f2",
   "metadata": {},
   "outputs": [
    {
     "name": "stdout",
     "output_type": "stream",
     "text": [
      "Yes\n",
      "No\n"
     ]
    }
   ],
   "source": [
    "#Q.5 Given a number n. Print if it is an armstrong number or not.An armstrong number is a number if the sum of every digit in that number \n",
    "# raised to the power of total digits in that number is equal to the number.\n",
    "'''\n",
    "Example : 153 = 1^3 + 5^3 + 3^3 = 1 +125+27=153 hence 153 is an armstrong number. (Easy)\n",
    "\n",
    "Input1: 153\n",
    "\n",
    "Outputi: Yes\n",
    "\n",
    "Input 2:134\n",
    "\n",
    "Output2: No\n",
    "'''\n",
    "\n",
    "def is_armstrong_number(n):\n",
    "    # Convert the number to a string to find its length\n",
    "    num_str = str(n)\n",
    "    num_digits = len(num_str)\n",
    "    \n",
    "    # Calculate the sum of each digit raised to the power of total digits\n",
    "    armstrong_sum = sum(int(digit) ** num_digits for digit in num_str)\n",
    "    \n",
    "    # Check if the sum is equal to the original number\n",
    "    return armstrong_sum == n\n",
    "\n",
    "\n",
    "input_number1 = 153\n",
    "output1 = is_armstrong_number(input_number1)\n",
    "print(\"Yes\" if output1 else \"No\")  # Output: Yes\n",
    "\n",
    "input_number2 = 134\n",
    "output2 = is_armstrong_number(input_number2)\n",
    "print(\"Yes\" if output2 else \"No\")  # Output: No\n"
   ]
  }
 ],
 "metadata": {
  "kernelspec": {
   "display_name": "Python 3 (ipykernel)",
   "language": "python",
   "name": "python3"
  },
  "language_info": {
   "codemirror_mode": {
    "name": "ipython",
    "version": 3
   },
   "file_extension": ".py",
   "mimetype": "text/x-python",
   "name": "python",
   "nbconvert_exporter": "python",
   "pygments_lexer": "ipython3",
   "version": "3.10.8"
  }
 },
 "nbformat": 4,
 "nbformat_minor": 5
}
