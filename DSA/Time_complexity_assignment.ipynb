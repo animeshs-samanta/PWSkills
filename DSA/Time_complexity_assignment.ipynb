{
 "cells": [
  {
   "cell_type": "code",
   "execution_count": null,
   "id": "b3f86b73-1643-4d99-8053-ffc94ea9db12",
   "metadata": {},
   "outputs": [],
   "source": [
    "Find time complexity of below code blocks :"
   ]
  },
  {
   "cell_type": "code",
   "execution_count": null,
   "id": "a95df8c0-3602-45c5-8036-3aacca3f7091",
   "metadata": {},
   "outputs": [],
   "source": [
    "'''\n",
    "Problem 1 :\n",
    "\n",
    "def quicksort(arr):\n",
    "    if len(arr) <= 1:\n",
    "        return arr\n",
    "    pivot = arr[len(arr) // 2]\n",
    "    left = [x for x in arr if x < pivot]\n",
    "    middle = [x for x in arr if x == pivot]\n",
    "    right = [x for x in arr if x > pivot]\n",
    "    return quicksort(left) + middle + quicksort(right)\n",
    "'''\n",
    "\n",
    "Time complexity : O(n^2)"
   ]
  },
  {
   "cell_type": "code",
   "execution_count": null,
   "id": "0038d3b0-709a-4e13-96c0-508ca5c6c35c",
   "metadata": {},
   "outputs": [],
   "source": [
    "'''\n",
    "Problem 2 :\n",
    "\n",
    "def nested_loop_example(matrix):\n",
    "    rows, cols = len(matrix), len(matrix[0])\n",
    "    total = 0\n",
    "    for i in range(rows):\n",
    "        for j in range(cols):\n",
    "            total += matrix[i][j]\n",
    "    return total\n",
    "'''\n",
    "Time complexity : O(n * m), where n = rows, m = columns"
   ]
  },
  {
   "cell_type": "code",
   "execution_count": null,
   "id": "3ba68198-005b-4b83-9ebc-8b8d5476926f",
   "metadata": {},
   "outputs": [],
   "source": [
    "'''\n",
    "Problem 3 :\n",
    "\n",
    "def example_function(arr):\n",
    "    result = 0\n",
    "    for element in arr:\n",
    "        result += element\n",
    "    return result\n",
    "\n",
    "'''\n",
    "Time complexity : O(n)"
   ]
  },
  {
   "cell_type": "code",
   "execution_count": null,
   "id": "3ff90efd-ef69-4b1f-a42f-7f07fe906ab8",
   "metadata": {},
   "outputs": [],
   "source": [
    "'''\n",
    "Problem 4 :\n",
    "\n",
    "def longest_increasing_subsequence(nums):\n",
    "    n = len(nums)\n",
    "    lis = [1] * n\n",
    "    for i in range(1, n):\n",
    "        for j in range(0, i):\n",
    "            if nums[i] > nums[j] and lis[i] < lis[j] + 1:\n",
    "                is[i] = lis[j] + 1\n",
    "                \n",
    "    return max(lis)\n",
    "\n",
    "'''\n",
    "Time complexity : O(n^2)"
   ]
  },
  {
   "cell_type": "code",
   "execution_count": null,
   "id": "c0136b93-1a4f-4bdd-8f7e-63d3f36e2da0",
   "metadata": {},
   "outputs": [],
   "source": [
    "'''\n",
    "Problem 5 :\n",
    "\n",
    "def mysterious_function(arr):\n",
    "    n = len(arr)\n",
    "    result = 0\n",
    "    for i in range(n):\n",
    "        for j in range(i, n):\n",
    "            result += arr[i] * arr[j]\n",
    "            \n",
    "    return result\n",
    "\n",
    "'''\n",
    "Time complexity : O(n^2)"
   ]
  },
  {
   "cell_type": "code",
   "execution_count": null,
   "id": "53bede24-e549-4fd8-8d49-ee3fda002763",
   "metadata": {},
   "outputs": [],
   "source": []
  },
  {
   "cell_type": "code",
   "execution_count": null,
   "id": "42378b1e-a2f0-4fe3-b24b-0c44d33d2885",
   "metadata": {},
   "outputs": [],
   "source": [
    "Solve the following problems on recursion"
   ]
  },
  {
   "cell_type": "code",
   "execution_count": 18,
   "id": "3787f117-a104-4489-923d-685affca2c6b",
   "metadata": {},
   "outputs": [
    {
     "name": "stdout",
     "output_type": "stream",
     "text": [
      "6\n"
     ]
    }
   ],
   "source": [
    "'''\n",
    "Problem 6 : Sum of Digits\n",
    "Write a recursive function to calculate the sum of digits of a given positive integer.\n",
    "sum_of_digits(123) -> 6\n",
    "\n",
    "'''\n",
    "def sumOfDigit(num):\n",
    "    if num == 0:\n",
    "        return 0\n",
    "    return num%10 + sumOfDigit(num//10)\n",
    "\n",
    "result = sumOfDigit(123)\n",
    "print(result)"
   ]
  },
  {
   "cell_type": "code",
   "execution_count": 17,
   "id": "97bcd67f-a3eb-4d2e-b2be-6921fa8bdaba",
   "metadata": {},
   "outputs": [
    {
     "name": "stdout",
     "output_type": "stream",
     "text": [
      "0 1 1 2 3 5 8 13 21 34 "
     ]
    }
   ],
   "source": [
    "'''\n",
    "Problem 7: Fibonacci Series\n",
    "Write a recursive function to generate the first n numbers of the Fibonacci series.\n",
    "fibonacci_series(6) -> [0, 1, 1, 2, 3, 5]\n",
    "'''\n",
    "\n",
    "def fibonacci(n):\n",
    "    if n == 0:\n",
    "        return 0\n",
    "    elif n == 1:\n",
    "        return 1\n",
    "    else:\n",
    "        return fibonacci(n-1) + fibonacci(n-2)\n",
    "\n",
    "\n",
    "n = 10\n",
    "for i in range(0,n):\n",
    "    print(fibonacci(i), end=\" \")"
   ]
  },
  {
   "cell_type": "code",
   "execution_count": 12,
   "id": "33ecf333-ed6c-47aa-bbcb-ef7f0a78e5b8",
   "metadata": {},
   "outputs": [
    {
     "name": "stdout",
     "output_type": "stream",
     "text": [
      "True\n"
     ]
    }
   ],
   "source": [
    "'''\n",
    "Problem 8 : Subset Sum\n",
    "\n",
    "Given a set of positive integers and a target sum, write a recursive function to determine if there exists a subset\n",
    "of the integers that adds up to the target sum.\n",
    "subset_sum([3, 34, 4, 12, 5, 2], 9) -> True\n",
    "\n",
    "'''\n",
    "def isSubsetSum(set, n, sum):\n",
    "    if (sum == 0):\n",
    "        return True\n",
    "    if (n == 0):\n",
    "        return False\n",
    " \n",
    "    # If last element is greater than sum, then ignore it\n",
    "    if (set[n-1] >sum):\n",
    "        return isSubsetSum(set, n-1, sum)\n",
    " \n",
    "    # Else, check if sum can be obtained\n",
    "    # (a) including the last element\n",
    "    # (b) excluding the last element\n",
    "    return isSubsetSum(set, n-1, sum) or isSubsetSum( set, n-1, sum-set[n-1])\n",
    "\n",
    "\n",
    " \n",
    "set1 = [3, 34, 4, 12, 5, 2]\n",
    "sum = 9\n",
    "n = len(set1)\n",
    "result = isSubsetSum(set1, n, sum)\n",
    "print(result)"
   ]
  },
  {
   "cell_type": "code",
   "execution_count": 7,
   "id": "6ab31fce-e31b-4bff-b080-e956ff870665",
   "metadata": {},
   "outputs": [
    {
     "name": "stdout",
     "output_type": "stream",
     "text": [
      "True\n",
      "True\n",
      "False\n"
     ]
    }
   ],
   "source": [
    "'''\n",
    "Problem 9: Word Break\n",
    "Given a non-empty string and a list of words, write a recursive function to determine if the string can be\n",
    "segmented into a space-separated sequence of list words.\n",
    "word_break(\"leetcode\", [\"leet\", \"code\"]) -> True\n",
    "'''\n",
    "\n",
    "def wordBreak(word_list, string):\n",
    "    if not string:\n",
    "        return True\n",
    "    \n",
    "    for word in word_list:\n",
    "        if string.startswith(word):\n",
    "            # If the current word is at the beginning of the string,\n",
    "            # check if the rest of the string can be segmented recursively\n",
    "            if wordBreak(word_list, string[len(word):]) :\n",
    "                return True\n",
    "    return False\n",
    "\n",
    "result = wordBreak([\"leet\", \"code\"], \"leetcode\")\n",
    "print(result)\n",
    "\n",
    "result = wordBreak([\"He\", \"Boy\", \"is\", \"a\"], \"HeisaBoy\")\n",
    "print(result)\n",
    "\n",
    "result = wordBreak([\"He\", \"Boy\", \"is\", \"a\"], \"TheBoy\")\n",
    "print(result)"
   ]
  },
  {
   "cell_type": "code",
   "execution_count": 36,
   "id": "7660e8f2-92e0-4cfc-8810-d1ffa0d5663f",
   "metadata": {},
   "outputs": [
    {
     "name": "stdout",
     "output_type": "stream",
     "text": [
      "..Q.\n",
      "Q...\n",
      "...Q\n",
      ".Q..\n",
      "\n",
      ".Q..\n",
      "...Q\n",
      "Q...\n",
      "..Q.\n",
      "\n"
     ]
    }
   ],
   "source": [
    "'''\n",
    "Problem 10 : N-Queens\n",
    "Implement a recursive function to solve the N-Queens problem, where you have to place N queens on an N×N\n",
    "chessboard in such a way that no two queens threaten each other.\n",
    "n_queens(4)\n",
    "\n",
    "[\n",
    "\n",
    "[\".Q..\",\n",
    "\n",
    "\"...Q\",\n",
    "\n",
    "\"Q...\",\n",
    "\n",
    "\"..Q.\"],\n",
    "\n",
    "[\"..Q.\",\n",
    "\n",
    "\"Q...\",\n",
    "\n",
    "\"...Q\",\n",
    "\n",
    "\".Q..\"]\n",
    "\n",
    "]\n",
    "\n",
    "'''\n",
    "\n",
    "def is_safe(board, row, col, n):\n",
    "    # Check if there is a queen in the same column\n",
    "    for i in range(row):\n",
    "        if board[i][col] == 1:\n",
    "            return False\n",
    "    \n",
    "    # Check upper left diagonal\n",
    "    for i, j in zip(range(row, -1, -1), range(col, -1, -1)):\n",
    "        if board[i][j] == 1:\n",
    "            return False\n",
    "    \n",
    "    # Check upper right diagonal\n",
    "    for i, j in zip(range(row, -1, -1), range(col, n)):\n",
    "        if board[i][j] == 1:\n",
    "            return False\n",
    "    \n",
    "    return True\n",
    "\n",
    "def solve_n_queens_util(board, row, n, result):\n",
    "    if row == n:\n",
    "        # All queens are placed successfully, add the solution to the result\n",
    "        result.append([\"\".join([\"Q\" if cell == 1 else \".\" for cell in row]) for row in board])\n",
    "        return\n",
    "    \n",
    "    for col in range(n):\n",
    "        if is_safe(board, row, col, n):\n",
    "            board[row][col] = 1\n",
    "            solve_n_queens_util(board, row + 1, n, result)\n",
    "            board[row][col] = 0\n",
    "\n",
    "def solve_n_queens(n):\n",
    "    result = []\n",
    "    board = [[0] * n for _ in range(n)]\n",
    "    solve_n_queens_util(board, 0, n, result)\n",
    "    return result\n",
    "\n",
    "# Example usage:\n",
    "n = 4\n",
    "solutions = solve_n_queens(n)\n",
    "for solution in solutions:\n",
    "    for row in solution:\n",
    "        print(row)\n",
    "    print()\n"
   ]
  },
  {
   "cell_type": "code",
   "execution_count": null,
   "id": "bbdf09c0-ae0c-470c-a62f-99ad92caf1de",
   "metadata": {},
   "outputs": [],
   "source": []
  }
 ],
 "metadata": {
  "kernelspec": {
   "display_name": "Python 3 (ipykernel)",
   "language": "python",
   "name": "python3"
  },
  "language_info": {
   "codemirror_mode": {
    "name": "ipython",
    "version": 3
   },
   "file_extension": ".py",
   "mimetype": "text/x-python",
   "name": "python",
   "nbconvert_exporter": "python",
   "pygments_lexer": "ipython3",
   "version": "3.10.8"
  }
 },
 "nbformat": 4,
 "nbformat_minor": 5
}
