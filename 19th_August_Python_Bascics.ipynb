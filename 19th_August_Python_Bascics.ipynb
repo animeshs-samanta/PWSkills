{
 "cells": [
  {
   "cell_type": "markdown",
   "id": "77af671c-6a00-4864-939f-e3eea31f9a05",
   "metadata": {},
   "source": [
    "TOPIC: Python Basics Variable"
   ]
  },
  {
   "cell_type": "code",
   "execution_count": 7,
   "id": "e09fa465-78f4-43d4-b7e5-3dfa8bd0c8a9",
   "metadata": {},
   "outputs": [
    {
     "name": "stdout",
     "output_type": "stream",
     "text": [
      "After swaping the  variables value are:\n",
      "x= 20\n",
      "y= 10\n"
     ]
    }
   ],
   "source": [
    "#Q.1\n",
    "\n",
    "x=10\n",
    "y=20\n",
    "x=x+y\n",
    "y=x-y\n",
    "x=x-y\n",
    "print(\"After swaping the  variables value are:\")\n",
    "print(\"x=\", x)\n",
    "print(\"y=\", y)"
   ]
  },
  {
   "cell_type": "code",
   "execution_count": 8,
   "id": "32743e96-3747-4096-aed7-f8413807d2a6",
   "metadata": {},
   "outputs": [
    {
     "name": "stdout",
     "output_type": "stream",
     "text": [
      "Enter the length of rectangle: \n"
     ]
    },
    {
     "name": "stdin",
     "output_type": "stream",
     "text": [
      " 20\n"
     ]
    },
    {
     "name": "stdout",
     "output_type": "stream",
     "text": [
      "Enter the width of rectangle: \n"
     ]
    },
    {
     "name": "stdin",
     "output_type": "stream",
     "text": [
      " 10\n"
     ]
    },
    {
     "name": "stdout",
     "output_type": "stream",
     "text": [
      "The area of the rectangle is:  200.0\n"
     ]
    }
   ],
   "source": [
    "#Q. 2\n",
    "print(\"Enter the length of rectangle: \")\n",
    "length=float(input())\n",
    "print(\"Enter the width of rectangle: \")\n",
    "width=float(input())\n",
    "area=length*width  #calculate the area of the rectangle\n",
    "print(\"The area of the rectangle is: \",area)"
   ]
  },
  {
   "cell_type": "code",
   "execution_count": 10,
   "id": "7065164b-fc90-47fc-bc36-9da0d480a338",
   "metadata": {},
   "outputs": [
    {
     "name": "stdout",
     "output_type": "stream",
     "text": [
      "Enter the temperature in celsius: \n"
     ]
    },
    {
     "name": "stdin",
     "output_type": "stream",
     "text": [
      " -40\n"
     ]
    },
    {
     "name": "stdout",
     "output_type": "stream",
     "text": [
      "Temperature in Fahrenheit:  -40.0\n"
     ]
    }
   ],
   "source": [
    "#Q. 3\n",
    "\n",
    "print(\"Enter the temperature in celsius: \")\n",
    "celsius=float(input())\n",
    "fahrenheit=(celsius * 9/5) + 32   #convert celsius to fahrenheit\n",
    "print(\"Temperature in Fahrenheit: \",fahrenheit)\n"
   ]
  },
  {
   "cell_type": "code",
   "execution_count": null,
   "id": "7bef7c33-d4e9-4c93-9031-16fd7bdcceaa",
   "metadata": {},
   "outputs": [],
   "source": []
  },
  {
   "cell_type": "markdown",
   "id": "99005526-b54a-4607-b143-3198f77384e4",
   "metadata": {},
   "source": [
    "TOPIC: String Based Questions"
   ]
  },
  {
   "cell_type": "code",
   "execution_count": 11,
   "id": "107e8951-3156-4b35-8beb-5a60ecb53087",
   "metadata": {},
   "outputs": [
    {
     "name": "stdout",
     "output_type": "stream",
     "text": [
      "Enter a string: \n"
     ]
    },
    {
     "name": "stdin",
     "output_type": "stream",
     "text": [
      " Animesh\n"
     ]
    },
    {
     "name": "stdout",
     "output_type": "stream",
     "text": [
      "The length of the string is:  7\n"
     ]
    }
   ],
   "source": [
    "#Q. 1\n",
    "\n",
    "print(\"Enter a string: \")\n",
    "string=str(input())\n",
    "print(\"The length of the string is: \" ,len(string)) #len function is use for calculate the length of string\n",
    "      "
   ]
  },
  {
   "cell_type": "code",
   "execution_count": 12,
   "id": "3254913f-83b4-4794-85b0-20214d547bbf",
   "metadata": {},
   "outputs": [
    {
     "name": "stdout",
     "output_type": "stream",
     "text": [
      "Enter a sentence: \n"
     ]
    },
    {
     "name": "stdin",
     "output_type": "stream",
     "text": [
      " My name is Animesh Samanta\n"
     ]
    },
    {
     "name": "stdout",
     "output_type": "stream",
     "text": [
      "Total no of vowel is:  9\n"
     ]
    }
   ],
   "source": [
    "#Q. 2\n",
    "\n",
    "print(\"Enter a sentence: \")\n",
    "sentence=input()\n",
    "\n",
    "sentence=sentence.lower() # Convert the sentence to lowercase for easier comparison\n",
    "count=0  #Initialize a count variable for vowels\n",
    "# Iterate through each character in the sentence\n",
    "for vowel in sentence:\n",
    "    if vowel in \"aeiou\":\n",
    "        count=count+1\n",
    "        \n",
    "print(\"Total no of vowel is: \",count)"
   ]
  },
  {
   "cell_type": "code",
   "execution_count": 13,
   "id": "9e3cb748-3c41-4859-b62d-6cdf88c845af",
   "metadata": {},
   "outputs": [
    {
     "name": "stdout",
     "output_type": "stream",
     "text": [
      "Enter a string: \n"
     ]
    },
    {
     "name": "stdin",
     "output_type": "stream",
     "text": [
      " College\n"
     ]
    },
    {
     "name": "stdout",
     "output_type": "stream",
     "text": [
      "Reverse of the string is:  egelloC\n"
     ]
    }
   ],
   "source": [
    "#Q. 3\n",
    "\n",
    "print(\"Enter a string: \")\n",
    "string=input()\n",
    "string_reverse=string[::-1]   #convert the string in reverse form\n",
    "print(\"Reverse of the string is: \", string_reverse)"
   ]
  },
  {
   "cell_type": "code",
   "execution_count": 15,
   "id": "28b262f3-ae56-436e-a08f-25bc29ce6af4",
   "metadata": {},
   "outputs": [
    {
     "name": "stdout",
     "output_type": "stream",
     "text": [
      "Enter a string: \n"
     ]
    },
    {
     "name": "stdin",
     "output_type": "stream",
     "text": [
      " Noon\n"
     ]
    },
    {
     "name": "stdout",
     "output_type": "stream",
     "text": [
      "The entered string is a palindrome.\n"
     ]
    }
   ],
   "source": [
    "#Q. 4\n",
    "\n",
    "print(\"Enter a string: \")\n",
    "string=input()\n",
    "\n",
    "# Remove spaces and convert the string to lowercase for comparison\n",
    "new_string=string.replace(\" \", \"\").lower()\n",
    "\n",
    "# Check if the new string is equal to its reverse\n",
    "if new_string==new_string[::-1]:\n",
    "    print(\"The entered string is a palindrome.\")\n",
    "else:\n",
    "    print(\"The entered string is not a palindrome.\")\n"
   ]
  },
  {
   "cell_type": "code",
   "execution_count": 16,
   "id": "47e6b829-6482-4f47-b528-17b60e6b2f56",
   "metadata": {},
   "outputs": [
    {
     "name": "stdout",
     "output_type": "stream",
     "text": [
      "Enter a string: \n"
     ]
    },
    {
     "name": "stdin",
     "output_type": "stream",
     "text": [
      " Ram is a good boy  \n"
     ]
    },
    {
     "name": "stdout",
     "output_type": "stream",
     "text": [
      "Modified string: Ramisagoodboy\n"
     ]
    }
   ],
   "source": [
    "#Q. 5\n",
    "\n",
    "print(\"Enter a string: \")\n",
    "string=input()\n",
    "\n",
    "# Remove spaces from the string\n",
    "new_string=string.replace(\" \", \"\")\n",
    "\n",
    "# Display the modified string without spaces\n",
    "print(\"Modified string:\", new_string)\n"
   ]
  },
  {
   "cell_type": "code",
   "execution_count": null,
   "id": "84be83b1-4a63-4d7e-a148-2107832d6eec",
   "metadata": {},
   "outputs": [],
   "source": []
  }
 ],
 "metadata": {
  "kernelspec": {
   "display_name": "Python 3 (ipykernel)",
   "language": "python",
   "name": "python3"
  },
  "language_info": {
   "codemirror_mode": {
    "name": "ipython",
    "version": 3
   },
   "file_extension": ".py",
   "mimetype": "text/x-python",
   "name": "python",
   "nbconvert_exporter": "python",
   "pygments_lexer": "ipython3",
   "version": "3.10.8"
  }
 },
 "nbformat": 4,
 "nbformat_minor": 5
}
