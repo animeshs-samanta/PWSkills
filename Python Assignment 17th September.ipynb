{
 "cells": [
  {
   "cell_type": "markdown",
   "id": "2a00a289-edf4-4938-8323-814a4d03c8df",
   "metadata": {},
   "source": [
    "---------------For Loop :-------------------"
   ]
  },
  {
   "cell_type": "code",
   "execution_count": null,
   "id": "f54a58be-9c7e-46bb-a77e-73ad1c778079",
   "metadata": {},
   "outputs": [],
   "source": []
  },
  {
   "cell_type": "code",
   "execution_count": 1,
   "id": "400f0e2b-d999-48a6-8657-aac50ff686ef",
   "metadata": {},
   "outputs": [
    {
     "name": "stdout",
     "output_type": "stream",
     "text": [
      "1\n",
      "2\n",
      "3\n",
      "4\n",
      "5\n",
      "6\n",
      "7\n",
      "8\n",
      "9\n",
      "10\n"
     ]
    }
   ],
   "source": [
    "#1. Write a Python program to print numbers from 1 to 10 using a for loop.\n",
    "\n",
    "for i in range(1,11):\n",
    "    print(i)"
   ]
  },
  {
   "cell_type": "code",
   "execution_count": 2,
   "id": "91ba515b-77bb-46ca-ba67-7455eea76a4c",
   "metadata": {},
   "outputs": [
    {
     "name": "stdout",
     "output_type": "stream",
     "text": [
      "This is For loop example:\n",
      "1\n",
      "2\n",
      "3\n",
      "4\n",
      "5\n",
      "6\n",
      "7\n",
      "8\n",
      "9\n",
      "10\n",
      "\n",
      "This is While loop example:\n",
      "1\n",
      "2\n",
      "3\n",
      "4\n",
      "5\n",
      "6\n",
      "7\n",
      "8\n",
      "9\n",
      "10\n"
     ]
    }
   ],
   "source": [
    "#2. Explain the difference between a for loop and a while loop in Python.\n",
    "'''\n",
    "FOR LOOP: \n",
    "\n",
    "A for loop is a control flow statement that executes code for a predefined number of iterations.The keyword used in this control flow statement is \"for\". \n",
    "When the number of iterations is already known, the for loop is used.\n",
    "\n",
    "SYNTAX:\n",
    "\n",
    "for(initialization; condition; iteration){\n",
    "   //body of the 'for' loop\n",
    "}\n",
    "'''\n",
    "# Example:\n",
    "print(\"This is For loop example:\")\n",
    "for i in range(1,11):\n",
    "    print(i)\n",
    "    \n",
    "'''\n",
    "WHILE LOOP:\n",
    "\n",
    "A loop that runs a single statement or a set of statements for a given true condition. This loop is represented by the keyword \"while\". \n",
    "When the number of iterations is unknown, a while loop is used. The statement is repeated until the Boolean value is false. \n",
    "Because the condition is tested at the beginning of a while loop, it is also known as the pre-test loop.\n",
    "\n",
    "SYNTAX:\n",
    "\n",
    "while ( condition) {\n",
    "   statements;\n",
    "   //body of the loop\n",
    "}\n",
    "\n",
    "'''\n",
    "# Example:\n",
    "print(\"\\nThis is While loop example:\")\n",
    "i = 1\n",
    "while i < 11:\n",
    "   print(i)\n",
    "   i += 1 "
   ]
  },
  {
   "cell_type": "code",
   "execution_count": 3,
   "id": "d7ce9547-b7e7-42b0-ba61-e310b50552c8",
   "metadata": {},
   "outputs": [
    {
     "name": "stdout",
     "output_type": "stream",
     "text": [
      "Sum of 1 to 100 is:  5050\n"
     ]
    }
   ],
   "source": [
    "#3. Write a Python program to calculate the sum of all numbers from 1 to 100 using a for loop.\n",
    "\n",
    "sum=0\n",
    "for i in range(1,101):\n",
    "    sum+=i\n",
    "print(\"Sum of 1 to 100 is: \",sum)\n",
    "   "
   ]
  },
  {
   "cell_type": "code",
   "execution_count": 4,
   "id": "a8ee9125-9350-4926-9197-20112a425541",
   "metadata": {},
   "outputs": [
    {
     "name": "stdout",
     "output_type": "stream",
     "text": [
      "List item is: 3\n",
      "List item is: 6\n",
      "List item is: 8\n",
      "List item is: 5\n",
      "List item is: 2\n",
      "List item is: 9\n"
     ]
    }
   ],
   "source": [
    "#4. How do you iterate through a list using a for loop in Python?\n",
    "\n",
    "l=[3,6,8,5,2,9]\n",
    "for i in l:\n",
    "    print(\"List item is:\", i)"
   ]
  },
  {
   "cell_type": "code",
   "execution_count": 5,
   "id": "fe517b1e-075f-440b-bad0-fb47d5cca1fc",
   "metadata": {},
   "outputs": [
    {
     "name": "stdout",
     "output_type": "stream",
     "text": [
      "Product of all list item is:  12960\n"
     ]
    }
   ],
   "source": [
    "#5. Write a Python program to find the product of all elements in a list using a for loop.\n",
    "\n",
    "l=[3,6,8,5,2,9]\n",
    "product=1\n",
    "for i in l:\n",
    "    product*=i\n",
    "print(\"Product of all list item is: \",product)   \n"
   ]
  },
  {
   "cell_type": "code",
   "execution_count": 6,
   "id": "c81bf384-4522-4d72-812d-adccccc950b4",
   "metadata": {},
   "outputs": [
    {
     "name": "stdout",
     "output_type": "stream",
     "text": [
      "Even no from 1 to 20: \n",
      "2\n",
      "4\n",
      "6\n",
      "8\n",
      "10\n",
      "12\n",
      "14\n",
      "16\n",
      "18\n",
      "20\n"
     ]
    }
   ],
   "source": [
    "# 6. Create a Python program that prints all even numbers from 1 to 20 using a for loop.\n",
    "\n",
    "print(\"Even no from 1 to 20: \")\n",
    "for i in range(1,21):\n",
    "    if i%2==0:\n",
    "        print(i)"
   ]
  },
  {
   "cell_type": "code",
   "execution_count": 7,
   "id": "2c31f8f7-ddfe-4e43-97d1-32aa8f188b50",
   "metadata": {},
   "outputs": [
    {
     "name": "stdin",
     "output_type": "stream",
     "text": [
      "Enter a no : 5\n"
     ]
    },
    {
     "name": "stdout",
     "output_type": "stream",
     "text": [
      "factorial of a no :  120\n"
     ]
    }
   ],
   "source": [
    "# 7. Write a Python program that calculates the factorial of a number using a for loop.\n",
    "\n",
    "n=int(input(\"Enter a no :\"))\n",
    "fact=1\n",
    "for i in range(1,n+1):\n",
    "    fact*=i\n",
    "print(\"factorial of a no : \",fact)"
   ]
  },
  {
   "cell_type": "code",
   "execution_count": 8,
   "id": "61984159-a319-4ec1-9512-cc43e02890f8",
   "metadata": {},
   "outputs": [
    {
     "name": "stdout",
     "output_type": "stream",
     "text": [
      "The string item is: \n"
     ]
    },
    {
     "name": "stdin",
     "output_type": "stream",
     "text": [
      "Enter a string: animesh\n"
     ]
    },
    {
     "name": "stdout",
     "output_type": "stream",
     "text": [
      "a\n",
      "n\n",
      "i\n",
      "m\n",
      "e\n",
      "s\n",
      "h\n"
     ]
    }
   ],
   "source": [
    "# 8. How can you iterate through the characters of a string using a for loop in Python?\n",
    "\n",
    "print(\"The string item is: \")\n",
    "s=input(\"Enter a string:\")\n",
    "for i in s:\n",
    "    print(i)\n"
   ]
  },
  {
   "cell_type": "code",
   "execution_count": 9,
   "id": "f4c3f31d-fd86-46ed-8578-a298a3019983",
   "metadata": {},
   "outputs": [
    {
     "name": "stdout",
     "output_type": "stream",
     "text": [
      "The large no is  70\n"
     ]
    }
   ],
   "source": [
    "#9. Write a Python program to find the largest number in a list using a for loop.\n",
    "\n",
    "l=[2,4,70,4,9,5]\n",
    "large=l[0]\n",
    "for i in range(1,len(l)):\n",
    "    if large<=l[i]:\n",
    "        large=l[i]\n",
    "print(\"The large no is \",large)"
   ]
  },
  {
   "cell_type": "code",
   "execution_count": 10,
   "id": "9090c318-c40f-4d82-9592-42e724d0ad89",
   "metadata": {},
   "outputs": [
    {
     "name": "stdin",
     "output_type": "stream",
     "text": [
      "Enter the length : 8\n"
     ]
    },
    {
     "name": "stdout",
     "output_type": "stream",
     "text": [
      "Fibonacci series upto 8 is: \n",
      "0\n",
      "1\n",
      "1\n",
      "2\n",
      "3\n",
      "5\n",
      "8\n",
      "13\n"
     ]
    }
   ],
   "source": [
    "# 10. Create a Python program that prints the Fibonacci sequence up to a specified limit using a for loop.\n",
    "\n",
    "n=int(input(\"Enter the length :\"))\n",
    "print(f\"Fibonacci series upto {n} is: \")\n",
    "a,b=0,1\n",
    "for i in range(n):\n",
    "    print(a)\n",
    "    a,b=b,a+b\n",
    "    "
   ]
  },
  {
   "cell_type": "code",
   "execution_count": 11,
   "id": "cbea234a-3bbd-4840-9efb-453e5335297b",
   "metadata": {},
   "outputs": [
    {
     "name": "stdin",
     "output_type": "stream",
     "text": [
      "Enter a string: animesh\n"
     ]
    },
    {
     "name": "stdout",
     "output_type": "stream",
     "text": [
      "The no of vowel in string  is:  3\n"
     ]
    }
   ],
   "source": [
    "#11. Write a Python program to count the number of vowels in a given string using a for loop.\n",
    "\n",
    "s=input(\"Enter a string:\")\n",
    "count=0\n",
    "for i in s:\n",
    "    if i in \"aeiouAEIOU\":\n",
    "        count+=1\n",
    "print(\"The no of vowel in string  is: \",count)"
   ]
  },
  {
   "cell_type": "code",
   "execution_count": 12,
   "id": "2b22d140-c9c1-408b-b308-24ac8cffd945",
   "metadata": {},
   "outputs": [
    {
     "name": "stdin",
     "output_type": "stream",
     "text": [
      "Enter a no : 7\n"
     ]
    },
    {
     "name": "stdout",
     "output_type": "stream",
     "text": [
      "Multiplication table of 7 is: \n",
      "7 * 1 = 7\n",
      "7 * 2 = 14\n",
      "7 * 3 = 21\n",
      "7 * 4 = 28\n",
      "7 * 5 = 35\n",
      "7 * 6 = 42\n",
      "7 * 7 = 49\n",
      "7 * 8 = 56\n",
      "7 * 9 = 63\n",
      "7 * 10 = 70\n"
     ]
    }
   ],
   "source": [
    "# 12. Create a Python program that generates a multiplication table for a given number using a for loop.\n",
    "\n",
    "n=int(input(\"Enter a no :\"))\n",
    "print(f\"Multiplication table of {n} is: \")\n",
    "for i in range(1,11):\n",
    "    print(n ,\"*\",i,\"=\",i*n)"
   ]
  },
  {
   "cell_type": "code",
   "execution_count": 13,
   "id": "2b6bf371-def2-4d48-8020-bd51cd31f50a",
   "metadata": {},
   "outputs": [
    {
     "name": "stdout",
     "output_type": "stream",
     "text": [
      "5\n",
      "9\n",
      "4\n",
      "7\n",
      "4\n",
      "2\n"
     ]
    }
   ],
   "source": [
    "# 13. Write a Python program to reverse a list using a for loop.\n",
    "\n",
    "l=[2,4,7,4,9,5]\n",
    "for i in range(-1,-len(l)-1,-1):\n",
    "    print(l[i])"
   ]
  },
  {
   "cell_type": "code",
   "execution_count": 14,
   "id": "3e1e25c5-3880-4b59-9052-d02408a9240a",
   "metadata": {},
   "outputs": [
    {
     "name": "stdout",
     "output_type": "stream",
     "text": [
      "Common element of the List is [3, 4, 5, 4, 7, 3, 2]\n"
     ]
    }
   ],
   "source": [
    "# 14. Write a Python program to find the common elements between two lists using a for loop.\n",
    "\n",
    "l1=[1,3,4,5,4,7,9,3,2]\n",
    "l2=[4,5,3,2,7,8,10,23]\n",
    "l=[]\n",
    "for item in l1:\n",
    "    if item in l2:\n",
    "        l.append(item)\n",
    "        \n",
    "#l=list(set(l1).intersection(l2))\n",
    "print(\"Common element of the List is\",l)"
   ]
  },
  {
   "cell_type": "code",
   "execution_count": 15,
   "id": "e5b9d597-ac36-43aa-b33f-089e3d09eb15",
   "metadata": {},
   "outputs": [
    {
     "name": "stdout",
     "output_type": "stream",
     "text": [
      "a 2\n",
      "b 4\n",
      "c 6\n",
      "d 8\n"
     ]
    }
   ],
   "source": [
    "# 15. Explain how to use a for loop to iterate through the keys and values of a dictionary in Python.\n",
    "\n",
    "dictionary={\"a\":2,\"b\":4,\"c\":6,\"d\":8}\n",
    "for key, value in dictionary.items():\n",
    "    print(key,value) \n"
   ]
  },
  {
   "cell_type": "code",
   "execution_count": 17,
   "id": "1bf34dbe-9d6f-41c8-81dd-464aeec6c10e",
   "metadata": {},
   "outputs": [
    {
     "name": "stdin",
     "output_type": "stream",
     "text": [
      "Enter the 1st no : 24\n",
      "Enter the 2nd no : 72\n"
     ]
    },
    {
     "name": "stdout",
     "output_type": "stream",
     "text": [
      "GCD of 24 and 72 is:  24\n"
     ]
    }
   ],
   "source": [
    "# 16. Write a Python program to find the GCD (Greatest Common Divisor) of two numbers using a for loop.\n",
    "n1 = int(input(\"Enter the 1st no :\"))\n",
    "n2 = int(input(\"Enter the 2nd no :\"))\n",
    "if n1>n2:\n",
    "    small=n2\n",
    "else:\n",
    "    small=n1\n",
    "for i in range(1,small+1):\n",
    "    if ((n1%i==0) and (n2%i==0)):\n",
    "        gcd=i\n",
    "print(f\"GCD of {n1} and {n2} is: \",gcd) "
   ]
  },
  {
   "cell_type": "code",
   "execution_count": 18,
   "id": "60bc2723-c36a-4468-964f-fb3682bfcea1",
   "metadata": {},
   "outputs": [
    {
     "name": "stdin",
     "output_type": "stream",
     "text": [
      "Enter a string:  malayalam\n"
     ]
    },
    {
     "name": "stdout",
     "output_type": "stream",
     "text": [
      "Yes\n"
     ]
    }
   ],
   "source": [
    "# 17. Create a Python program that checks if a string is a palindrome using a for loop.\n",
    "\n",
    "def isPalindrome(str):\n",
    "    # Run loop from 0 to len/2\n",
    "    for i in range(0, int(len(str)/2)):\n",
    "        if str[i]!=str[len(str)-i-1]:\n",
    "            return False\n",
    "    return True\n",
    " \n",
    "s=input(\"Enter a string: \")\n",
    "ans = isPalindrome(s)\n",
    " \n",
    "if (ans):\n",
    "    print(\"Yes\")\n",
    "else:\n",
    "    print(\"No\")\n"
   ]
  },
  {
   "cell_type": "code",
   "execution_count": 19,
   "id": "e7648d81-665b-455d-9355-27cccf93a92b",
   "metadata": {},
   "outputs": [
    {
     "name": "stdout",
     "output_type": "stream",
     "text": [
      "Original List is:  [2, 3, 4, 5, 6, 3, 4]\n",
      "Unique item list is:  [2, 3, 4, 5, 6]\n"
     ]
    }
   ],
   "source": [
    "# 18. Write a Python program to remove duplicates from a list using a for loop.\n",
    "\n",
    "l=[2,3,4,5,6,3,4]\n",
    "new_list=[]\n",
    "for item in l:\n",
    "    if item not in new_list:\n",
    "        new_list.append(item)\n",
    "print(\"Original List is: \",l)\n",
    "print(\"Unique item list is: \",new_list)"
   ]
  },
  {
   "cell_type": "code",
   "execution_count": 20,
   "id": "4ceb0837-6fd6-4b76-8e6e-101ce87fc126",
   "metadata": {},
   "outputs": [
    {
     "name": "stdin",
     "output_type": "stream",
     "text": [
      "Enter a sentence:  i am a student\n"
     ]
    },
    {
     "name": "stdout",
     "output_type": "stream",
     "text": [
      "No of word in sentence:  4\n"
     ]
    }
   ],
   "source": [
    "# 19. Create a Python program that counts the number of words in a sentence using a for loop.\n",
    "\n",
    "s=input(\"Enter a sentence: \")\n",
    "word=s.split()\n",
    "count=0\n",
    "for i in word:\n",
    "    count+=1\n",
    "print(\"No of word in sentence: \",count)"
   ]
  },
  {
   "cell_type": "code",
   "execution_count": 21,
   "id": "1cb0cbcb-3504-4360-ae86-48d9ba35103d",
   "metadata": {},
   "outputs": [
    {
     "name": "stdout",
     "output_type": "stream",
     "text": [
      "Sum of all odd numbers from 1 to 50 is:  625\n"
     ]
    }
   ],
   "source": [
    "# 20. Write a Python program to find the sum of all odd numbers from 1 to 50 using a for loop.\n",
    "\n",
    "sum=0\n",
    "for i in range(1,50):\n",
    "    if(i%2!=0):\n",
    "        sum+=i\n",
    "print(\"Sum of all odd numbers from 1 to 50 is: \",sum)\n"
   ]
  },
  {
   "cell_type": "code",
   "execution_count": 22,
   "id": "a4b07463-2929-4b62-afd6-f7d023b7bcb9",
   "metadata": {},
   "outputs": [
    {
     "name": "stdin",
     "output_type": "stream",
     "text": [
      "Enter the year:  2000\n"
     ]
    },
    {
     "name": "stdout",
     "output_type": "stream",
     "text": [
      "2000 is Leap Year\n"
     ]
    }
   ],
   "source": [
    "# 21. Write a Python program that checks if a given year is a leap year using a for loop.\n",
    "\n",
    "year=int(input(\"Enter the year: \"))\n",
    "if((year%4==0 and year%100!=0) or (year%400==0)):\n",
    "    print(f\"{year} is Leap Year\")\n",
    "else:\n",
    "     print(f\"{year} is not Leap Year\")"
   ]
  },
  {
   "cell_type": "code",
   "execution_count": 24,
   "id": "f1cd5e4e-7d10-4230-ac7e-7f7e5a894254",
   "metadata": {},
   "outputs": [
    {
     "name": "stdin",
     "output_type": "stream",
     "text": [
      "Enter a no:  81\n"
     ]
    },
    {
     "name": "stdout",
     "output_type": "stream",
     "text": [
      "Squre root of the no is:  9.0\n"
     ]
    }
   ],
   "source": [
    "# 22. Create a Python program that calculates the square root of a number using a for loop.\n",
    "\n",
    "num=int(input(\"Enter a no: \"))\n",
    "squreroot = num**(0.5)\n",
    "print(\"Squre root of the no is: \",squreroot)"
   ]
  },
  {
   "cell_type": "code",
   "execution_count": 25,
   "id": "29005bfe-5ffa-4fea-a340-c84ca61f1428",
   "metadata": {},
   "outputs": [
    {
     "name": "stdin",
     "output_type": "stream",
     "text": [
      "Enter 1st no:  24\n",
      "Enter 2nd no:  72\n"
     ]
    },
    {
     "name": "stdout",
     "output_type": "stream",
     "text": [
      "LCM is:  72\n"
     ]
    }
   ],
   "source": [
    "# 23. Write a Python program to find the LCM (Least Common Multiple) of two numbers using a for loop.\n",
    "\n",
    "num1=int(input(\"Enter 1st no: \"))\n",
    "num2=int(input(\"Enter 2nd no: \"))\n",
    "if num1>num2:\n",
    "    greater=num1\n",
    "else:\n",
    "    greater=num2\n",
    "while(True):\n",
    "    if (greater%num1 == 0) and (greater%num2 == 0):\n",
    "        result=greater\n",
    "        break\n",
    "    greater+=1\n",
    "\n",
    "print(\"LCM is: \",result)"
   ]
  },
  {
   "cell_type": "code",
   "execution_count": null,
   "id": "e869b433-11f6-43ab-bd0f-ead18fdcd263",
   "metadata": {},
   "outputs": [],
   "source": []
  },
  {
   "cell_type": "markdown",
   "id": "8b2c2ff2-1ecd-4eb4-b6bc-e861e9f6a437",
   "metadata": {},
   "source": [
    "-----------------------If else : -----------------"
   ]
  },
  {
   "cell_type": "code",
   "execution_count": null,
   "id": "a0e265e6-407b-4f21-b41d-8b523640ffc0",
   "metadata": {},
   "outputs": [],
   "source": []
  },
  {
   "cell_type": "code",
   "execution_count": 26,
   "id": "c6d05fc6-5414-4f52-a5fe-9a3a16d26059",
   "metadata": {},
   "outputs": [
    {
     "name": "stdin",
     "output_type": "stream",
     "text": [
      "Enter a number:  8\n"
     ]
    },
    {
     "name": "stdout",
     "output_type": "stream",
     "text": [
      "The no is Positive\n"
     ]
    }
   ],
   "source": [
    "# 1. Write a Python program to check if a number is positive, negative, or zero using an if-else statement.\n",
    "\n",
    "n=int(input(\"Enter a number: \"))\n",
    "if(n>0):\n",
    "    print(\"The no is Positive\")\n",
    "else:\n",
    "    if(n<0):\n",
    "         print(\"The no is Negative\")\n",
    "    else:\n",
    "        print(\"The no is Zero\")"
   ]
  },
  {
   "cell_type": "code",
   "execution_count": 27,
   "id": "5f6a8171-27a9-493b-aacb-ebbcbcea48f2",
   "metadata": {},
   "outputs": [
    {
     "name": "stdin",
     "output_type": "stream",
     "text": [
      "Enter a number:  3456\n"
     ]
    },
    {
     "name": "stdout",
     "output_type": "stream",
     "text": [
      "3456 is Even\n"
     ]
    }
   ],
   "source": [
    "# 2. Create a Python program that checks if a given number is even or odd using an if-else statement.\n",
    "\n",
    "n=int(input(\"Enter a number: \"))\n",
    "if (n%2==0):\n",
    "    print(f\"{n} is Even\")\n",
    "else:\n",
    "    print(f\"{n} is Odd\")"
   ]
  },
  {
   "cell_type": "code",
   "execution_count": 28,
   "id": "ea1ad556-7a22-4952-ba35-a9a87690fe7d",
   "metadata": {},
   "outputs": [
    {
     "name": "stdin",
     "output_type": "stream",
     "text": [
      "Enter the 1st  number:  67\n",
      "Enter the 2nd  number:  34\n",
      "Enter the 3rd  number:  98\n"
     ]
    },
    {
     "name": "stdout",
     "output_type": "stream",
     "text": [
      "98 is the max no\n"
     ]
    }
   ],
   "source": [
    "# 3. How can you use nested if-else statements in Python, and provide an example?\n",
    "\n",
    "n1=int(input(\"Enter the 1st  number: \"))\n",
    "n2=int(input(\"Enter the 2nd  number: \"))\n",
    "n3=int(input(\"Enter the 3rd  number: \"))\n",
    "if(n1>n2 and n1>n3):\n",
    "    print(f\"{n1} is the max no\")\n",
    "else:\n",
    "    if(n2>n1 and  n2>n3):\n",
    "        print(f\"{n2} is the max no\")\n",
    "    else:\n",
    "         print(f\"{n3} is the max no\")"
   ]
  },
  {
   "cell_type": "code",
   "execution_count": 30,
   "id": "91a19c42-073c-4db3-8081-e65076adeb24",
   "metadata": {},
   "outputs": [
    {
     "name": "stdin",
     "output_type": "stream",
     "text": [
      "Enter the 1st  number:  45\n",
      "Enter the 2nd  number:  26\n",
      "Enter the 3rd  number:  53\n"
     ]
    },
    {
     "name": "stdout",
     "output_type": "stream",
     "text": [
      "53 is the max no\n"
     ]
    }
   ],
   "source": [
    "# 4. Write a Python program to determine the largest of three numbers using if-else.\n",
    "\n",
    "n1=int(input(\"Enter the 1st  number: \"))\n",
    "n2=int(input(\"Enter the 2nd  number: \"))\n",
    "n3=int(input(\"Enter the 3rd  number: \"))\n",
    "if(n1>n2 and n1>n3):\n",
    "    print(f\"{n1} is the max no\")\n",
    "elif(n2>n1 and  n2>n3):\n",
    "    print(f\"{n2} is the max no\")\n",
    "else:\n",
    "     print(f\"{n3} is the max no\")"
   ]
  },
  {
   "cell_type": "code",
   "execution_count": 31,
   "id": "1b7bff85-db20-4ca6-a1ea-5cd80d26c59c",
   "metadata": {},
   "outputs": [
    {
     "name": "stdin",
     "output_type": "stream",
     "text": [
      "Enter a number:  -33\n"
     ]
    },
    {
     "name": "stdout",
     "output_type": "stream",
     "text": [
      "33\n"
     ]
    }
   ],
   "source": [
    "# 5. Write a Python program that calculates the absolute value of a number using if-else.\n",
    "\n",
    "n=int(input(\"Enter a number: \"))\n",
    "if (n<0):\n",
    "    print(-n)\n",
    "else:\n",
    "    print(n)"
   ]
  },
  {
   "cell_type": "code",
   "execution_count": 32,
   "id": "fe180609-1059-47dd-a935-ed0cc75de4ed",
   "metadata": {},
   "outputs": [
    {
     "name": "stdin",
     "output_type": "stream",
     "text": [
      "Enter a char: e\n"
     ]
    },
    {
     "name": "stdout",
     "output_type": "stream",
     "text": [
      "e is vowel\n"
     ]
    }
   ],
   "source": [
    "# 6. Create a Python program that checks if a given character is a vowel or consonant using if-else.\n",
    "\n",
    "char=input(\"Enter a char:\")\n",
    "if char in 'aeiouAEIOU':\n",
    "    print(f\"{char} is vowel\")\n",
    "else:\n",
    "    print(f\"{char} is Consonant\")"
   ]
  },
  {
   "cell_type": "code",
   "execution_count": 33,
   "id": "f25092cd-9c2e-4433-ba55-31c8d27a2398",
   "metadata": {},
   "outputs": [
    {
     "name": "stdin",
     "output_type": "stream",
     "text": [
      "Enter your are:  56\n"
     ]
    },
    {
     "name": "stdout",
     "output_type": "stream",
     "text": [
      "You are eligible to vote\n"
     ]
    }
   ],
   "source": [
    "# 7. Write a Python program to determine if a user is eligible to vote based on their age using if-else.\n",
    "\n",
    "age=int(input(\"Enter your are: \"))\n",
    "if(age>=18):\n",
    "    print(\"You are eligible to vote\")\n",
    "else:\n",
    "     print(\"Tour are not eligible to vote\")"
   ]
  },
  {
   "cell_type": "code",
   "execution_count": 34,
   "id": "d6f37ffe-c642-470c-a430-672a6f6659ea",
   "metadata": {},
   "outputs": [
    {
     "name": "stdin",
     "output_type": "stream",
     "text": [
      "Enter the amount:  5000\n"
     ]
    },
    {
     "name": "stdout",
     "output_type": "stream",
     "text": [
      "Original Price: Rs. 5000.00\n",
      "Discounted Price: Rs. 4000.00\n",
      "You saved: Rs.1000.00\n"
     ]
    }
   ],
   "source": [
    "# 8. Create a Python program that calculates the discount amount based on the purchase amount using if-else.\n",
    "\n",
    "amount=float(input(\"Enter the amount: \"))\n",
    "discount=0\n",
    "\n",
    "if amount>=1000:\n",
    "    discount=0.20  # 20% discount for purchases over or equal to 1000\n",
    "elif amount >=500:\n",
    "    discount=0.10  #10% discount for purchases over or equal to 500\n",
    "\n",
    "discounte_price=amount*(1 - discount)\n",
    "\n",
    "print(f\"Original Price: Rs. {amount:.2f}\")\n",
    "print(f\"Discounted Price: Rs. {discounte_price:.2f}\")\n",
    "print(f\"You saved: Rs.{amount - discounte_price:.2f}\")"
   ]
  },
  {
   "cell_type": "code",
   "execution_count": 35,
   "id": "f52fdb9c-1319-4873-8501-62bd7676042d",
   "metadata": {},
   "outputs": [
    {
     "name": "stdin",
     "output_type": "stream",
     "text": [
      "Enter a no:  56\n"
     ]
    },
    {
     "name": "stdout",
     "output_type": "stream",
     "text": [
      "56 between the range\n"
     ]
    }
   ],
   "source": [
    "# 9. Write a Python program to check if a number is within a specified range using if-else.\n",
    "\n",
    "n1=int(input(\"Enter a no: \"))\n",
    "\n",
    "if 10<=n1<=100:\n",
    "    print(f\"{n1} between the range\")\n",
    "else:\n",
    "    print(f\"{n1} not in the range\")"
   ]
  },
  {
   "cell_type": "code",
   "execution_count": 36,
   "id": "1ada46d9-95b8-4280-ae72-39e828a2b227",
   "metadata": {},
   "outputs": [
    {
     "name": "stdin",
     "output_type": "stream",
     "text": [
      "Enter the number of student:  89\n"
     ]
    },
    {
     "name": "stdout",
     "output_type": "stream",
     "text": [
      "Your grade is 'B'\n"
     ]
    }
   ],
   "source": [
    "# 10. Create a Python program that determines the grade of a student based on their score using if-else.\n",
    "\n",
    "n1=int(input(\"Enter the number of student: \"))\n",
    "if(n1>=90):\n",
    "    print(\"Your grade is 'A'\")\n",
    "elif(n1>=80):\n",
    "    print(\"Your grade is 'B'\")\n",
    "elif(n1>=70):\n",
    "     print(\"Your grade is 'C'\")\n",
    "elif(n1>=60):\n",
    "    print(\"Your grade is 'D'\")\n",
    "else:\n",
    "    print(\"Fail\")"
   ]
  },
  {
   "cell_type": "code",
   "execution_count": 37,
   "id": "2dc99866-da43-4a20-a504-ca69cc625feb",
   "metadata": {},
   "outputs": [
    {
     "name": "stdout",
     "output_type": "stream",
     "text": [
      "The string is empty\n"
     ]
    }
   ],
   "source": [
    "\n",
    "# 11. Write a Python program to check if a string is empty or not using if-else.\n",
    "\n",
    "string = \"\"\n",
    "if len(string) == 0:\n",
    "    print(\"The string is empty\")\n",
    "else:\n",
    "    print(\"String is no empty\")\n"
   ]
  },
  {
   "cell_type": "code",
   "execution_count": 38,
   "id": "632101c6-7635-4b24-b280-5e821b4a0529",
   "metadata": {},
   "outputs": [
    {
     "name": "stdin",
     "output_type": "stream",
     "text": [
      "Enter the 1st side:  56\n",
      "Enter the 2nd side:  87\n",
      "Enter the 3rd side:  34\n"
     ]
    },
    {
     "name": "stdout",
     "output_type": "stream",
     "text": [
      "Scalene triangle\n"
     ]
    }
   ],
   "source": [
    "# 12. Create a Python program that identifies the type of a triangle (e.g., equilateral, isosceles, or scalene) based on input values using if-else\n",
    "\n",
    "n1=int(input(\"Enter the 1st side: \"))\n",
    "n2=int(input(\"Enter the 2nd side: \"))\n",
    "n3=int(input(\"Enter the 3rd side: \"))\n",
    "if(n1==n2 and n2==n3):\n",
    "    print(\"Equilateral triangle\")\n",
    "elif(n1==n2 or n1==n3 or n2==n3):\n",
    "    print(\"Isosceles triangle\")\n",
    "else:\n",
    "     print(\"Scalene triangle\")"
   ]
  },
  {
   "cell_type": "code",
   "execution_count": 39,
   "id": "4c66486c-086a-447f-b550-bb824d69129e",
   "metadata": {},
   "outputs": [
    {
     "name": "stdin",
     "output_type": "stream",
     "text": [
      "Enter the weekday:  4\n"
     ]
    },
    {
     "name": "stdout",
     "output_type": "stream",
     "text": [
      "Thrusday\n"
     ]
    }
   ],
   "source": [
    "# 13. Write a Python program to determine the day of the week based on a user-provided number using if-else.\n",
    "\n",
    "day=int(input(\"Enter the weekday: \"))\n",
    "if(day==1):\n",
    "    print(\"Monday\")\n",
    "elif(day==2):\n",
    "    print(\"Tuesday\")\n",
    "elif(day==3):\n",
    "    print(\"Wednesday\")\n",
    "elif(day==4):\n",
    "    print(\"Thrusday\")\n",
    "elif(day==5):\n",
    "    print(\"Friday\")\n",
    "elif(day==6):\n",
    "    print(\"Saturday\")\n",
    "elif(day==7):\n",
    "    print(\"Sunday\")\n",
    "else:\n",
    "    print(\"Wrong Week Day\")"
   ]
  },
  {
   "cell_type": "code",
   "execution_count": 40,
   "id": "42932969-88ac-483e-a7a5-c66c6b4bceff",
   "metadata": {},
   "outputs": [
    {
     "name": "stdin",
     "output_type": "stream",
     "text": [
      "Enter the year:  2400\n"
     ]
    },
    {
     "name": "stdout",
     "output_type": "stream",
     "text": [
      "2400 is Leap Year\n"
     ]
    }
   ],
   "source": [
    "# 14. Create a Python program that checks if a given year is a leap year using both if-else and a function.\n",
    "\n",
    "def leapyear(year):\n",
    "    year=int(input(\"Enter the year: \"))\n",
    "    if((year%4==0 and year%100!=0) or (year%400==0)):\n",
    "        print(f\"{year} is Leap Year\")\n",
    "    else:\n",
    "         print(f\"{year} is not Leap Year\")\n",
    "            \n",
    "leapyear(2014)"
   ]
  },
  {
   "cell_type": "code",
   "execution_count": 43,
   "id": "6cf9da53-904b-4cfb-8bc0-f7de66f5e6e8",
   "metadata": {},
   "outputs": [
    {
     "name": "stdin",
     "output_type": "stream",
     "text": [
      "Please provide a number 56\n"
     ]
    },
    {
     "name": "stdout",
     "output_type": "stream",
     "text": [
      "The number is 56\n"
     ]
    }
   ],
   "source": [
    "#15. How do you use the \"assert\" statement in Python to add debugging checks within if-else blocks?\n",
    "\n",
    "number = int ( input ( \"Please provide a number\" ) )\n",
    "assert number >= 0\n",
    "print ('The number is', number )"
   ]
  },
  {
   "cell_type": "code",
   "execution_count": 44,
   "id": "68d2cfa5-88fd-4f17-a11c-a3f620c60bf9",
   "metadata": {},
   "outputs": [
    {
     "name": "stdin",
     "output_type": "stream",
     "text": [
      "Enter your are:  90\n"
     ]
    },
    {
     "name": "stdout",
     "output_type": "stream",
     "text": [
      "You are eligibile for a senior citizen discount\n"
     ]
    }
   ],
   "source": [
    "# 16. Create a Python program that determines the eligibility of a person for a senior citizen discount based on age using if-else.\n",
    "\n",
    "age=int(input(\"Enter your are: \"))\n",
    "if(age>=60):\n",
    "    print(\"You are eligibile for a senior citizen discount\")\n",
    "else:\n",
    "     print(\"Tour are not eligible for a senior citizen discount\")"
   ]
  },
  {
   "cell_type": "code",
   "execution_count": 45,
   "id": "882d7c60-cd68-42a8-b00f-b35b769c7fba",
   "metadata": {},
   "outputs": [
    {
     "name": "stdin",
     "output_type": "stream",
     "text": [
      "Enter a char:  asdfghj\n"
     ]
    },
    {
     "name": "stdout",
     "output_type": "stream",
     "text": [
      "Char is Lowercase\n"
     ]
    }
   ],
   "source": [
    "# 17. Write a Python program to categorize a given character as uppercase, lowercase, or neither using if-else.\n",
    "\n",
    "char=input(\"Enter a char: \")\n",
    "if (char.isupper()):\n",
    "    print(\"Char is Uppercase\")\n",
    "elif(char.islower()):\n",
    "     print(\"Char is Lowercase\")\n",
    "else:\n",
    "     print(\"Char is not Upper or Lower case both\")"
   ]
  },
  {
   "cell_type": "code",
   "execution_count": 46,
   "id": "086b3e76-58c5-4015-9d86-56ba9df2a49f",
   "metadata": {},
   "outputs": [
    {
     "name": "stdin",
     "output_type": "stream",
     "text": [
      "Enter value of a : 1\n",
      "Enter value of b : -4\n",
      "Enter value of c : 6\n"
     ]
    },
    {
     "name": "stdout",
     "output_type": "stream",
     "text": [
      "Complex Roots\n",
      "2.0  + i 2.8284271247461903\n",
      "2.0 - i 2.8284271247461903\n"
     ]
    }
   ],
   "source": [
    "# 18. Write a Python program to determine the roots of a quadratic equation using if-else.\n",
    "\n",
    "import math\n",
    "def quadratic(a, b, c):\n",
    "    \n",
    "\td=b*b-4*a*c\n",
    "\tval=math.sqrt(abs(d))\n",
    "\t\n",
    "\tif d>0:\n",
    "\t\tprint(\"Real and Different Roots\")\n",
    "\t\tprint((-b + val)/(2 * a))\n",
    "\t\tprint((-b - val)/(2 * a))\n",
    "\t\n",
    "\telif d==0:\n",
    "\t\tprint(\"Real and Same Roots\")\n",
    "\t\tprint(-b / (2 * a))\n",
    "        \n",
    "\telse:\n",
    "        \n",
    "\t\tprint(\"Complex Roots\")\n",
    "\t\tprint(- b / (2 * a),\" + i\", val)\n",
    "\t\tprint(- b / (2 * a), \"- i\", val)\n",
    "\n",
    "a = float(input(\"Enter value of a :\"))\n",
    "b = float(input(\"Enter value of b :\"))\n",
    "c = float(input(\"Enter value of c :\"))\n",
    "\n",
    "if a == 0:\n",
    "\t\tprint(\"Equation is not valid quadratic equation\")\n",
    "else:\n",
    "\tquadratic(a, b, c)"
   ]
  },
  {
   "cell_type": "code",
   "execution_count": 47,
   "id": "5d884291-487a-436d-9b72-779e70e724a8",
   "metadata": {},
   "outputs": [
    {
     "name": "stdin",
     "output_type": "stream",
     "text": [
      "Enter the year:  2016\n"
     ]
    },
    {
     "name": "stdout",
     "output_type": "stream",
     "text": [
      "21 century\n"
     ]
    }
   ],
   "source": [
    "# 19. Create a Python program that checks if a given year is a century year or not using if-else.\n",
    "\n",
    "year=int(input(\"Enter the year: \"))\n",
    "if (year <= 0): \n",
    "    print(\"0 and negative is not allow for a year\") \n",
    "          \n",
    "    # If year is between 1 to 100 it \n",
    "    # will come in 1st century \n",
    "elif (year <= 100): \n",
    "    print(\"1st century\") \n",
    "elif (year % 100 == 0): \n",
    "    print(year // 100,\"century\") \n",
    "else: \n",
    "    print(year // 100 + 1,\"century\")"
   ]
  },
  {
   "cell_type": "code",
   "execution_count": 48,
   "id": "e65f6d0a-3066-4297-b864-4df38d8fef97",
   "metadata": {},
   "outputs": [
    {
     "name": "stdin",
     "output_type": "stream",
     "text": [
      "Enter a number: 66\n"
     ]
    },
    {
     "name": "stdout",
     "output_type": "stream",
     "text": [
      "56 is not perfect Squre\n"
     ]
    }
   ],
   "source": [
    "# 20. Write a Python program to determine if a given number is a perfect square using if-else.\n",
    "\n",
    "n = int(input(\"Enter a number:\"))\n",
    "squre_root = n1**.5\n",
    "\n",
    "if squre_root.is_integer():\n",
    "    print(f\"{n1} is perfect Squre\")\n",
    "else:\n",
    "    print(f\"{n1} is not perfect Squre\")"
   ]
  },
  {
   "cell_type": "raw",
   "id": "c458aff2-3e84-4034-8d16-063e07fdc2fa",
   "metadata": {},
   "source": [
    "# 21. Explain the purpose of the \"continue\" and \"break\" statements within if-else loops.\n",
    "\n",
    "Break Statement in Python:\n",
    "    The break statement in Python is used to terminate the loop or statement in which it is present.\n",
    "    After that, the control will pass to the statements that are present after the break statement, if available. \n",
    "    If the break statement is present in the nested loop, then it terminates only those loops which contain the break statement. \n",
    "    \n",
    "    for loop:\n",
    "    # statement(s)\n",
    "    if condition:\n",
    "        break\n",
    "    # statement(s)\n",
    "    # loop end\n",
    "\n",
    "\n",
    "Continue Statement in Python:\n",
    "    Continue statement is opposite to that of the break statement, instead of terminating the loop, it forces to execute the next iteration of the loop.\n",
    "    When the continue statement is executed in the loop, the code inside the loop following the continue statement will be skipped and the next iteration of the loop will begin.\n",
    "    \n",
    "    while loop:\n",
    "    # statement(s)\n",
    "        if condition:\n",
    "            continue\n",
    "            # statement(s)"
   ]
  },
  {
   "cell_type": "code",
   "execution_count": 51,
   "id": "4c6614f2-d523-4151-bd01-b7dc29b69ff5",
   "metadata": {},
   "outputs": [
    {
     "name": "stdin",
     "output_type": "stream",
     "text": [
      "Enter your height in meters:  1.73736\n",
      "Enter your Weight in Kg:  60\n"
     ]
    },
    {
     "name": "stdout",
     "output_type": "stream",
     "text": [
      "BMI calculated is: 19.877950908051197\n",
      "Congrats! You are Healthy\n"
     ]
    }
   ],
   "source": [
    "# 22. Create a Python program that calculates the BMI (Body Mass Index) of a person based on their weight and height using if-else.\n",
    "\n",
    "h=float(input(\"Enter your height in meters: \"))\n",
    "w=float(input(\"Enter your Weight in Kg: \"))\n",
    "\n",
    "BMI=w/(h*h)\n",
    "print(\"BMI calculated is:\",BMI)\n",
    "\n",
    "if(BMI>0):\n",
    "\tif(BMI<=16):\n",
    "\t\tprint(\"You are very underweight\")\n",
    "\telif(BMI<=18.5):\n",
    "\t\tprint(\"You are underweight\")\n",
    "\telif(BMI<=25):\n",
    "\t\tprint(\"Congrats! You are Healthy\")\n",
    "\telif(BMI<=30):\n",
    "\t\tprint(\"You are overweight\")\n",
    "\telse:\n",
    "         print(\"You are very overweight\")\n",
    "else:\n",
    "    print(\"enter valid details\") "
   ]
  },
  {
   "cell_type": "code",
   "execution_count": null,
   "id": "0e572a02-19f3-477e-a3de-e8bd5a02c6de",
   "metadata": {},
   "outputs": [],
   "source": [
    "# 23. How can you use the \"filter()\" function with if-else statements to filter elements from a list?\n",
    "\n"
   ]
  },
  {
   "cell_type": "code",
   "execution_count": 52,
   "id": "51e301a2-5789-433f-bcb5-a5825e6cdbe6",
   "metadata": {},
   "outputs": [
    {
     "name": "stdin",
     "output_type": "stream",
     "text": [
      "Enter a number:  45\n"
     ]
    },
    {
     "name": "stdout",
     "output_type": "stream",
     "text": [
      "The number is not prime.\n"
     ]
    }
   ],
   "source": [
    "# 24. Write a Python program to determine if a given number is prime or not using if-else.\n",
    "\n",
    "num=int(input(\"Enter a number: \"))\n",
    "\n",
    "if num<2:\n",
    "    print(\"The number is not prime.\")\n",
    "else:\n",
    "    prime=True\n",
    "    \n",
    "    for i in range(2,int(num**0.5)+1):\n",
    "        if num%i==0:\n",
    "            prime=False\n",
    "            break\n",
    "    \n",
    "    if prime:\n",
    "        print(\"The number is prime.\")\n",
    "    else:\n",
    "        print(\"The number is not prime.\")\n"
   ]
  },
  {
   "cell_type": "code",
   "execution_count": null,
   "id": "5d575f10-0670-4198-a938-131f2b6ab081",
   "metadata": {},
   "outputs": [],
   "source": []
  },
  {
   "cell_type": "code",
   "execution_count": null,
   "id": "d3c71606-7800-4c22-af07-3d3dd3c56eae",
   "metadata": {},
   "outputs": [],
   "source": []
  },
  {
   "cell_type": "markdown",
   "id": "1d59aaec-c14f-4042-b2e2-99d9eeb6deac",
   "metadata": {},
   "source": [
    "-----------------Map :--------------------"
   ]
  },
  {
   "cell_type": "code",
   "execution_count": 53,
   "id": "f27ec036-65ab-43b7-916b-59352d48ba56",
   "metadata": {},
   "outputs": [
    {
     "name": "stdout",
     "output_type": "stream",
     "text": [
      "[2, 4, 6, 8, 10]\n"
     ]
    }
   ],
   "source": [
    "# 1. Explain the purpose of the `map()` function in Python and provide an example of how it can be used to apply a function to each element of an iterable.\n",
    "\n",
    "'''\n",
    "The map() function in Python is used to apply a given function to each item in an iterable (such as a list, tuple, or other iterable). \n",
    "It returns a map object (an iterator), which can be converted to other iterable types like lists or tuples, \n",
    "containing the results of applying the function to each element. The primary purpose of the map() function is to perform a \n",
    "transformation or mapping operation on each element of the iterable without the need for explicit loops.\n",
    "\n",
    "Here's an example of how the map() function can be used to apply a function to each element of a list:\n",
    "'''\n",
    "\n",
    "def double(x):\n",
    "    return x * 2\n",
    "\n",
    "# Create a list of numbers\n",
    "l1 = [1, 2, 3, 4, 5]\n",
    "\n",
    "# Use map() to double each number in the list\n",
    "doubled_numbers = list(map(double, l1))\n",
    "\n",
    "print(doubled_numbers)\n"
   ]
  },
  {
   "cell_type": "code",
   "execution_count": 54,
   "id": "b028f96c-4f8e-4e80-90e5-9bb628f4d48f",
   "metadata": {},
   "outputs": [
    {
     "data": {
      "text/plain": [
       "[4, 16, 36, 64]"
      ]
     },
     "execution_count": 54,
     "metadata": {},
     "output_type": "execute_result"
    }
   ],
   "source": [
    "# 2. Write a Python program that uses the `map()` function to square each element of a list of numbers.\n",
    "\n",
    "l=[2,4,6,8]\n",
    "\n",
    "list(map(lambda x : x*x , l))"
   ]
  },
  {
   "cell_type": "code",
   "execution_count": null,
   "id": "27cdc977-8b8a-4cf3-aeff-7d9f411d790e",
   "metadata": {},
   "outputs": [],
   "source": [
    "# 3. How does the `map()` function differ from a list comprehension in Python, and when would you choose one over the other?\n",
    "\n",
    "'''\n",
    "The map() function and list comprehensions in Python both transform elements in an iterable\n",
    ", but they differ in syntax, return type, readability, functionality, and performance. \n",
    "Use map() with an existing function for more complex transformations and when memory efficiency is important. \n",
    "Choose list comprehensions for simple transformations, readability, and when you want a new list directly.\n",
    "The choice depends on the specific use case, but list comprehensions are often favored for simplicity and readability.\n",
    "\n",
    "'''\n",
    "\n"
   ]
  },
  {
   "cell_type": "code",
   "execution_count": 2,
   "id": "698c6f58-5aed-49b1-8794-968280eb85a8",
   "metadata": {},
   "outputs": [
    {
     "name": "stdout",
     "output_type": "stream",
     "text": [
      "['ANIMESH', 'AKASH', 'ARNAM', 'ARGHA', 'ARUP']\n"
     ]
    }
   ],
   "source": [
    "# 4. Create a Python program that uses the `map()` function to convert a list of names to uppercase.\n",
    "\n",
    "names = [\"Animesh\" , \"Akash\" , \"Arnam\", \"Argha\", \"Arup\"]\n",
    "\n",
    "uppercase = list(map(lambda name : name.upper() , names))\n",
    "\n",
    "print(uppercase)"
   ]
  },
  {
   "cell_type": "code",
   "execution_count": 3,
   "id": "6d755abd-a560-4875-9f80-2d84f2a5fb30",
   "metadata": {},
   "outputs": [
    {
     "name": "stdout",
     "output_type": "stream",
     "text": [
      "[7, 5, 5, 5, 4]\n"
     ]
    }
   ],
   "source": [
    "# 5. Write a Python program that uses the `map()` function to calculate the length of each word in a list of strings.\n",
    "\n",
    "words = [\"Animesh\" , \"Akash\" , \"Arnam\", \"Argha\", \"Arup\"]\n",
    "\n",
    "length = list(map(lambda name : len(name) , words))\n",
    "\n",
    "print(length)"
   ]
  },
  {
   "cell_type": "code",
   "execution_count": 4,
   "id": "7ba4dd3a-f8d2-46b3-9fa9-3411ae2e4c98",
   "metadata": {},
   "outputs": [
    {
     "name": "stdout",
     "output_type": "stream",
     "text": [
      "[3, 7, 11, 15]\n"
     ]
    }
   ],
   "source": [
    "# 6. How can you use the `map()` function to apply a custom function to elements of multiple lists simultaneously in Python?\n",
    "\n",
    "\n",
    "list1 = [2, 4, 6, 8]\n",
    "list2 = [1, 3, 5, 7]\n",
    "\n",
    "def addition(a, b):\n",
    "    return a + b\n",
    "\n",
    "result = list(map(addition, list1, list2))\n",
    "\n",
    "print(result)\n"
   ]
  },
  {
   "cell_type": "code",
   "execution_count": 9,
   "id": "529f2732-932c-4a3f-8ec8-367b63eb3325",
   "metadata": {},
   "outputs": [
    {
     "name": "stdout",
     "output_type": "stream",
     "text": [
      "[-40.0, 89.6, 212.0, 168.8]\n"
     ]
    }
   ],
   "source": [
    "# 7. Create a Python program that uses `map()` to convert a list of temperatures from Celsius to Fahrenheit.\n",
    "\n",
    "celcious = [-40, 32, 100, 76]\n",
    "\n",
    "\n",
    "def temperature(a):\n",
    "    return (a* (9/5)) +32\n",
    "\n",
    "fahrenheit = list(map( temperature, celcious))\n",
    "\n",
    "print(fahrenheit)"
   ]
  },
  {
   "cell_type": "code",
   "execution_count": 11,
   "id": "a9abd3ca-b05b-42f8-aea2-868afaa7ca4e",
   "metadata": {},
   "outputs": [
    {
     "name": "stdout",
     "output_type": "stream",
     "text": [
      "[5, 9, 3, 6, 8, 10]\n"
     ]
    }
   ],
   "source": [
    "# 8.  Write a Python program that uses the `map()` function to round each element of a list of floating-point numbers to the nearest integer.\n",
    "\n",
    "list1 = [4.7, 8.6, 3.1, 6.3, 7.5, 9.8]\n",
    "\n",
    "round_number = list(map(lambda no : round(no), list1))\n",
    "\n",
    "print(round_number)"
   ]
  },
  {
   "cell_type": "code",
   "execution_count": null,
   "id": "5ce28d1d-0a56-45d3-b2bd-65a656ad620a",
   "metadata": {},
   "outputs": [],
   "source": []
  },
  {
   "cell_type": "code",
   "execution_count": null,
   "id": "55587037-f56d-4670-a57d-df5870eb3203",
   "metadata": {},
   "outputs": [],
   "source": []
  },
  {
   "cell_type": "markdown",
   "id": "21d4dac5-ca2d-4440-8944-cd43cfcde796",
   "metadata": {},
   "source": [
    "-----------------------Reduce :--------------"
   ]
  },
  {
   "cell_type": "code",
   "execution_count": null,
   "id": "aa878334-45f3-4194-af74-32e320e65a80",
   "metadata": {},
   "outputs": [],
   "source": []
  },
  {
   "cell_type": "code",
   "execution_count": 12,
   "id": "38b38cf8-530b-46de-af22-f243f385e44b",
   "metadata": {},
   "outputs": [
    {
     "name": "stdout",
     "output_type": "stream",
     "text": [
      "30\n"
     ]
    }
   ],
   "source": [
    "# 1. What is the `reduce()` function in Python, and what module should you import to use it? Provide an example of its basic usage.\n",
    "\n",
    "'''\n",
    "The reduce() function in Python is a part of the functools module. It is used to apply a specified function cumulatively to the elements of an iterable (e.g., a list), reducing the iterable to a single accumulated result.\n",
    "\n",
    "To use the reduce() function, you need to import it from the functools module. Here's an example of its basic usage:\n",
    "\n",
    "'''\n",
    "from functools import reduce\n",
    "numbers = [2,4,6,8,10]\n",
    "\n",
    "def addition(x, y):\n",
    "    return x + y\n",
    "\n",
    "result = reduce(addition, numbers)\n",
    "print(result)\n"
   ]
  },
  {
   "cell_type": "code",
   "execution_count": 13,
   "id": "4ba8acc3-77ee-4566-8e98-9388adba6efa",
   "metadata": {},
   "outputs": [
    {
     "name": "stdout",
     "output_type": "stream",
     "text": [
      "3840\n"
     ]
    }
   ],
   "source": [
    "# 2. Write a Python program that uses the `reduce()` function to find the product of all elements in a list.\n",
    "\n",
    "from functools import reduce\n",
    "numbers = [2,4,6,8,10]\n",
    "\n",
    "def product(x, y):\n",
    "    return x * y\n",
    "\n",
    "result = reduce(product, numbers)\n",
    "print(result)"
   ]
  },
  {
   "cell_type": "code",
   "execution_count": 15,
   "id": "a83b25cd-ea6d-46d4-bf69-18215df90f91",
   "metadata": {},
   "outputs": [
    {
     "name": "stdout",
     "output_type": "stream",
     "text": [
      "10\n"
     ]
    }
   ],
   "source": [
    "# 3. Create a Python program that uses `reduce()` to find the maximum element in a list of numbers.\n",
    "\n",
    "from functools import reduce\n",
    "numbers = [2,4,6,8,10]\n",
    "result = reduce(lambda x,y: x if x > y else y, numbers)\n",
    "print(result)"
   ]
  },
  {
   "cell_type": "code",
   "execution_count": 16,
   "id": "9e4dc1fc-aab3-4666-abe9-1d7ed1f3f7b8",
   "metadata": {},
   "outputs": [
    {
     "name": "stdout",
     "output_type": "stream",
     "text": [
      "Heisagoodboy\n"
     ]
    }
   ],
   "source": [
    "# 4. How can you use the `reduce()` function to concatenate a list of strings into a single string?\n",
    "\n",
    "from functools import reduce\n",
    "string = [\"He\" , \"is\" , \"a\" , \"good\", \"boy\"]\n",
    "result = reduce(lambda x,y: x + y, string)\n",
    "print(result)"
   ]
  },
  {
   "cell_type": "code",
   "execution_count": 26,
   "id": "dcfc4597-1248-4e95-8e81-d59877999dca",
   "metadata": {},
   "outputs": [
    {
     "name": "stdin",
     "output_type": "stream",
     "text": [
      "Enter a positive number :  5\n"
     ]
    },
    {
     "name": "stdout",
     "output_type": "stream",
     "text": [
      "120\n"
     ]
    }
   ],
   "source": [
    "# 5. Write a Python program that calculates the factorial of a number using the `reduce()` function.\n",
    "\n",
    "from functools import reduce\n",
    "num = int(input(\"Enter a positive number : \"))\n",
    "def product(x, y):\n",
    "    return x*y\n",
    "result = reduce(product, range(1,num+1))\n",
    "print(result)"
   ]
  },
  {
   "cell_type": "code",
   "execution_count": 56,
   "id": "b91ce9b5-fdd4-4406-bd9a-707c057c07de",
   "metadata": {},
   "outputs": [
    {
     "name": "stdout",
     "output_type": "stream",
     "text": [
      "The GCD of [16, 120] is 8.\n"
     ]
    }
   ],
   "source": [
    "# 6. Create a Python program that uses `reduce()` to find the GCD (Greatest Common Divisor) of a list of numbers.\n",
    "\n",
    "from functools import reduce\n",
    "from math import gcd\n",
    "\n",
    "def find_gcd(numbers):\n",
    "    if len(numbers) == 0:\n",
    "        return None\n",
    "    return reduce(gcd, numbers)\n",
    "\n",
    "number_list = [16,120]\n",
    "\n",
    "result = find_gcd(number_list)\n",
    "if result is not None:\n",
    "    print(f\"The GCD of {number_list} is {result}.\")\n",
    "else:\n",
    "    print(\"The list is empty, so GCD is undefined.\")\n",
    "\n"
   ]
  },
  {
   "cell_type": "code",
   "execution_count": 57,
   "id": "642862bf-97ae-4644-a50c-c2d4b72b0d13",
   "metadata": {},
   "outputs": [
    {
     "name": "stdin",
     "output_type": "stream",
     "text": [
      "Enter a number :  124\n"
     ]
    },
    {
     "name": "stdout",
     "output_type": "stream",
     "text": [
      "7\n"
     ]
    }
   ],
   "source": [
    "# 7. Write a Python program athat uses the `reduce()` function to find the sum of the digits of a given number.\n",
    "\n",
    "from functools import reduce\n",
    "num = input(\"Enter a number : \")\n",
    "def add_digit(x, y):\n",
    "    return int(x) + int(y)\n",
    "if num.isdigit():\n",
    "    result = reduce(add_digit, num)\n",
    "    print(result)\n",
    "else:\n",
    "    print(\"Enter valid input\")"
   ]
  },
  {
   "cell_type": "code",
   "execution_count": null,
   "id": "45df2e30-ae07-45fe-8b0c-5d7368a2b751",
   "metadata": {},
   "outputs": [],
   "source": []
  },
  {
   "cell_type": "code",
   "execution_count": null,
   "id": "4ee3c4ee-5bc3-430c-ae3c-2a14da8a0bf4",
   "metadata": {},
   "outputs": [],
   "source": []
  },
  {
   "cell_type": "markdown",
   "id": "c5fa665b-f51f-4fed-91b2-0168d918093f",
   "metadata": {},
   "source": [
    "------------------------Filter :--------------------"
   ]
  },
  {
   "cell_type": "code",
   "execution_count": null,
   "id": "870adcea-0e02-4f4b-83ec-4ea71445dae4",
   "metadata": {},
   "outputs": [],
   "source": []
  },
  {
   "cell_type": "code",
   "execution_count": 60,
   "id": "515e80ff-7631-4282-aed2-dba6d95eb72d",
   "metadata": {},
   "outputs": [
    {
     "name": "stdout",
     "output_type": "stream",
     "text": [
      "[2, 4, 6, 8, 10]\n"
     ]
    }
   ],
   "source": [
    "# 1. Explain the purpose of the `filter()` function in Python and provide an example of how it can be used to filter elements from an iterable.\n",
    "\n",
    "'''\n",
    "\n",
    "The filter() method filters the given sequence with the help of a function that tests each element in the sequence to be true or not. \n",
    "Syntax: filter(function, sequence)\n",
    "\n",
    "function: function that tests if each element of a sequence is true or not.\n",
    "sequence: sequence which needs to be filtered, it can be sets, lists, tuples, or containers of any iterators.\n",
    "Returns: an iterator that is already filtered.\n",
    "'''\n",
    "\n",
    "\n",
    "# returns True if the argument passed is even\n",
    "\n",
    "def check_even(number):\n",
    "    if number % 2 == 0:\n",
    "          return True  \n",
    "    return False\n",
    "\n",
    "\n",
    "numbers = [1, 2, 3, 4, 5, 6, 7, 8, 9, 10]\n",
    "\n",
    "# if an element passed to check_even() returns True, select it\n",
    "even_numbers = list(filter(check_even, numbers))\n",
    "print(even_numbers)\n"
   ]
  },
  {
   "cell_type": "code",
   "execution_count": 58,
   "id": "4ee44147-190c-4448-a2cb-b358d9b22309",
   "metadata": {},
   "outputs": [
    {
     "name": "stdout",
     "output_type": "stream",
     "text": [
      "[2, 4, 6, 8, 10]\n"
     ]
    }
   ],
   "source": [
    "# 2. Write a Python program that uses the `filter()` function to select even numbers from a list of integers.\n",
    "\n",
    "def check_even(number):\n",
    "    if number % 2 == 0:\n",
    "          return True  \n",
    "    return False\n",
    "\n",
    "\n",
    "numbers = [1, 2, 3, 4, 5, 6, 7, 8, 9, 10]\n",
    "\n",
    "# if an element passed to check_even() returns True, select it\n",
    "even_numbers = list(filter(check_even, numbers))\n",
    "print(even_numbers)"
   ]
  },
  {
   "cell_type": "code",
   "execution_count": 59,
   "id": "d9e53585-8c34-4ab5-80b8-d766204ddfbd",
   "metadata": {},
   "outputs": [
    {
     "name": "stdout",
     "output_type": "stream",
     "text": [
      "The list start with A is : ['Animesh', 'Akash', 'Arnam']\n"
     ]
    }
   ],
   "source": [
    "# 3. Create a Python program that uses the `filter()` function to select names that start with a specific letter from a list of strings.\n",
    "\n",
    "list1 = [\"Animesh\", \"Akash\", \"Arnam\", \"Gourab\", \"Kishalaya\", \"Nur\"]\n",
    "\n",
    "start_letter = \"A\"\n",
    "\n",
    "with_A = list(filter(lambda x: x.startswith(start_letter), list1))\n",
    "\n",
    "print(f\"The list start with {start_letter} is :\", with_A)"
   ]
  },
  {
   "cell_type": "code",
   "execution_count": 61,
   "id": "4ef27c51-a2ac-4aeb-9b09-9666e5673651",
   "metadata": {},
   "outputs": [
    {
     "name": "stdout",
     "output_type": "stream",
     "text": [
      "[3, 67, 5, 73, 53, 17]\n"
     ]
    }
   ],
   "source": [
    "# 4. Write a Python program that uses the `filter()` function to select prime numbers from a list of integers.\n",
    "\n",
    "def isprime(num):\n",
    "    if num<2:\n",
    "        prime=False\n",
    "    else:\n",
    "        prime=True\n",
    "    \n",
    "    for i in range(2,int(num**0.5)+1):\n",
    "        if num%i==0:\n",
    "            prime=False\n",
    "            break\n",
    "    if prime:\n",
    "        return True\n",
    "    else:\n",
    "        return False\n",
    "        \n",
    "        \n",
    "list1 = [3,56,67,5,6,73,56,33,53,98,17,91]\n",
    "prime_list = list(filter(isprime, list1))\n",
    "print(prime_list)\n"
   ]
  },
  {
   "cell_type": "code",
   "execution_count": 62,
   "id": "9bd2ddf8-c814-4890-890b-b90f02224ceb",
   "metadata": {},
   "outputs": [
    {
     "name": "stdout",
     "output_type": "stream",
     "text": [
      "The original list is :  [10, None, 20, None, None, 30, 50, None, False]\n",
      "List after removal of None values :  [10, 20, 30, 50, False]\n"
     ]
    }
   ],
   "source": [
    "# 5. How can you use the `filter()` function to remove None values from a list in Python?\n",
    "\n",
    "\n",
    "list1 = [10, None, 20, None, None, 30, 50, None, False]\n",
    "\n",
    "print (\"The original list is : \" ,list1)\n",
    "\n",
    "new_list = list(filter(lambda x: x is not None, list1))\n",
    "\n",
    "print (\"List after removal of None values : \",new_list)\n"
   ]
  },
  {
   "cell_type": "code",
   "execution_count": 63,
   "id": "a34226a0-6519-4e33-9f8a-358c5e94a389",
   "metadata": {},
   "outputs": [
    {
     "name": "stdout",
     "output_type": "stream",
     "text": [
      "The new list  is : ['Animesh', 'Gourab', 'Kishalaya']\n"
     ]
    }
   ],
   "source": [
    "# 6. Create a Python program that uses `filter()` to select words longer than a certain length from a list of strings.\n",
    "\n",
    "list1 = [\"Animesh\", \"Akash\", \"Arnam\", \"Gourab\", \"Kishalaya\", \"Nur\"]\n",
    "\n",
    "length = 5\n",
    "\n",
    "new_list = list(filter(lambda x: length<len(x), list1))\n",
    "\n",
    "print(\"The new list  is :\", new_list)"
   ]
  },
  {
   "cell_type": "code",
   "execution_count": 64,
   "id": "16d545a8-7f10-4ef9-b9dd-adb45ba63ca9",
   "metadata": {},
   "outputs": [
    {
     "name": "stdout",
     "output_type": "stream",
     "text": [
      "The above Threshold size strings are : ['Animesh', 'Akash', 'Arnam', 'Gourab', 'Kishalaya']\n"
     ]
    }
   ],
   "source": [
    "#7. Write a Python program that uses the `filter()` function to select elements greater than a specified threshold from a list of values.\n",
    "\n",
    "list1 = [\"Animesh\", \"Akash\", \"Arnam\", \"Gourab\", \"Kishalaya\", \"Nur\"]\n",
    "\n",
    "thres= 4\n",
    "\n",
    "new_list = list(filter(lambda x: thres<=len(x), list1))\n",
    "\n",
    "print(\"The above Threshold size strings are :\", new_list)"
   ]
  },
  {
   "cell_type": "code",
   "execution_count": null,
   "id": "7de41f79-3817-4861-9e60-8ccc4eb5aeff",
   "metadata": {},
   "outputs": [],
   "source": []
  },
  {
   "cell_type": "code",
   "execution_count": null,
   "id": "cb515bc6-d346-42d3-a9f4-554ef25dec7e",
   "metadata": {},
   "outputs": [],
   "source": []
  },
  {
   "cell_type": "markdown",
   "id": "d5e3c83d-fd5a-473c-9c95-563e325d4905",
   "metadata": {},
   "source": [
    "--------------------Recursion:----------------------"
   ]
  },
  {
   "cell_type": "code",
   "execution_count": null,
   "id": "8fbd1228-07eb-4e8d-952a-bd32db5a306f",
   "metadata": {},
   "outputs": [],
   "source": []
  },
  {
   "cell_type": "code",
   "execution_count": 65,
   "id": "a222d82a-873c-46bc-ae87-269f2997ab1d",
   "metadata": {},
   "outputs": [
    {
     "data": {
      "text/plain": [
       "24"
      ]
     },
     "execution_count": 65,
     "metadata": {},
     "output_type": "execute_result"
    }
   ],
   "source": [
    "\n",
    "# 1. Explain the concept of recursion in Python. How does it differ from iteration?\n",
    "\n",
    "'''\n",
    "Recursion : A technique in which the function calls itself in its body to solve the problem, \n",
    "typically breaking into smaller and more manageable sub-problems.\n",
    "\n",
    "A program is called recursive when an entity calls itself. \n",
    "A program is called iterative when there is a loop (or repetition).\n",
    "'''\n",
    "def factorial(n):\n",
    "    # Base case\n",
    "    if n == 0:\n",
    "        return 1\n",
    "    # Recursive step\n",
    "    else:\n",
    "        return n * factorial(n - 1)\n",
    "factorial(4)"
   ]
  },
  {
   "cell_type": "code",
   "execution_count": 66,
   "id": "8983461b-b625-44da-af4f-1e535973bf36",
   "metadata": {},
   "outputs": [
    {
     "data": {
      "text/plain": [
       "24"
      ]
     },
     "execution_count": 66,
     "metadata": {},
     "output_type": "execute_result"
    }
   ],
   "source": [
    "# 2. Write a Python program to calculate the factorial of a number using recursion.\n",
    "\n",
    "def factorial(n):\n",
    "    # Base case\n",
    "    if n == 0:\n",
    "        return 1\n",
    "    # Recursive step\n",
    "    else:\n",
    "        return n * factorial(n - 1)\n",
    "factorial(4)"
   ]
  },
  {
   "cell_type": "code",
   "execution_count": 67,
   "id": "8a531d32-e1c9-43c0-82b9-fe442ea3ebe7",
   "metadata": {},
   "outputs": [
    {
     "name": "stdout",
     "output_type": "stream",
     "text": [
      "The 7th Fibonacci number is 13\n"
     ]
    }
   ],
   "source": [
    "# 3. Create a recursive Python function to find the nth Fibonacci number.\n",
    "\n",
    "def fibonacci(n):\n",
    "    if n == 0:\n",
    "        return 0\n",
    "    elif n == 1:\n",
    "        return 1\n",
    "    else:\n",
    "        # Recursive step: Sum of the previous two Fibonacci numbers\n",
    "        return fibonacci(n - 1) + fibonacci(n - 2)\n",
    "\n",
    "n = 7\n",
    "result = fibonacci(n)\n",
    "print(f\"The {n}th Fibonacci number is {result}\")\n"
   ]
  },
  {
   "cell_type": "code",
   "execution_count": 68,
   "id": "02b7f9e3-ae04-43a3-8547-ffb82ddede29",
   "metadata": {},
   "outputs": [
    {
     "name": "stdout",
     "output_type": "stream",
     "text": [
      "The sum of the elements in the list is: 15\n"
     ]
    }
   ],
   "source": [
    "# 4. Write a recursive Python function to calculate the sum of all elements in a list.\n",
    "\n",
    "def recursive_sum(l):\n",
    "    # Base case: an empty list has a sum of 0\n",
    "    if not l:\n",
    "        return 0\n",
    "    else:\n",
    "        return l[0] + recursive_sum(l[1:])\n",
    "\n",
    "list1 = [1, 2, 3, 4, 5]  \n",
    "result = recursive_sum(list1)\n",
    "print(f\"The sum of the elements in the list is: {result}\")\n"
   ]
  },
  {
   "cell_type": "code",
   "execution_count": null,
   "id": "5e60293f-5524-4876-af2f-6f4b8ce13071",
   "metadata": {},
   "outputs": [],
   "source": [
    "#5.How can you prevent a recursive function from running indefinitely, causing a stack overflow error?\n",
    "\n",
    "Implement a base case: A base case is a condition in which the recursive function will not call itself again.\n",
    "This is important because it ensures that the recursive function will eventually stop and not continue indefinitely, \n",
    "which can lead to stack overflow."
   ]
  },
  {
   "cell_type": "code",
   "execution_count": 69,
   "id": "61bc0609-6277-455b-b4e8-f6871dae0541",
   "metadata": {},
   "outputs": [
    {
     "data": {
      "text/plain": [
       "10"
      ]
     },
     "execution_count": 69,
     "metadata": {},
     "output_type": "execute_result"
    }
   ],
   "source": [
    "# 6. Create a recursive Python function to find the greatest common divisor (GCD) of two numbers using the Euclidean algorithm.\n",
    "\n",
    "def gcd(a, b):\n",
    "   if a == b:\n",
    "      return a\n",
    "   elif a < b:\n",
    "      return gcd(b, a)\n",
    "   else:\n",
    "      return gcd(b, a - b)\n",
    "\n",
    "gcd(10,20)"
   ]
  },
  {
   "cell_type": "code",
   "execution_count": 70,
   "id": "48782bc1-6b84-4f41-b253-bae3ef6b6d38",
   "metadata": {},
   "outputs": [
    {
     "name": "stdin",
     "output_type": "stream",
     "text": [
      "Enter your string: animesh\n"
     ]
    },
    {
     "name": "stdout",
     "output_type": "stream",
     "text": [
      "reversed String: hsemina\n"
     ]
    }
   ],
   "source": [
    "# 7. Write a recursive Python function to reverse a string.\n",
    "\n",
    "def reverse_str(my_str):\n",
    "   if len(my_str) == 0:\n",
    "      return my_str\n",
    "   else:\n",
    "      return reverse_str(my_str[1:]) + my_str[0]\n",
    "\n",
    "my_string = input('Enter your string:')\n",
    "print(f\"reversed String: {reverse_str(my_string)}\")"
   ]
  },
  {
   "cell_type": "code",
   "execution_count": 6,
   "id": "3f45de7b-e8c2-44d4-84ab-24dcd9159940",
   "metadata": {},
   "outputs": [
    {
     "name": "stdout",
     "output_type": "stream",
     "text": [
      "2 to the power 3 is 8\n"
     ]
    }
   ],
   "source": [
    "# 8. Create a recursive Python function to calculate the power of a number (x^n).\n",
    "\n",
    "def power(x, n):\n",
    "    if n != 0:\n",
    "        return x * power(x, n - 1)\n",
    "    else:\n",
    "        return 1\n",
    "\n",
    "\n",
    "x = 2\n",
    "n = 3\n",
    "print(x, \"to the power\", n, \"is\", power(x, n))"
   ]
  },
  {
   "cell_type": "code",
   "execution_count": null,
   "id": "9a5ab13c-f11d-457a-8ae1-2634f6cb8398",
   "metadata": {},
   "outputs": [],
   "source": [
    "# 9. Write a recursive Python function to find all permutations of a given string.\n",
    "\n"
   ]
  },
  {
   "cell_type": "code",
   "execution_count": 71,
   "id": "9a265f3b-eb2e-436c-9082-f705844820b3",
   "metadata": {},
   "outputs": [
    {
     "name": "stdin",
     "output_type": "stream",
     "text": [
      "Enter string: mom\n"
     ]
    },
    {
     "name": "stdout",
     "output_type": "stream",
     "text": [
      "String is a palindrome!\n"
     ]
    }
   ],
   "source": [
    "# 10. Write a recursive Python function to check if a string is a palindrome.\n",
    "\n",
    "def is_palindrome(s):\n",
    "    if len(s) < 1:\n",
    "        return True\n",
    "    else:\n",
    "        if s[0] == s[-1]:\n",
    "            return is_palindrome(s[1:-1])\n",
    "        else:\n",
    "            return False\n",
    "a=str(input(\"Enter string:\"))\n",
    "if(is_palindrome(a)==True):\n",
    "    print(\"String is a palindrome!\")\n",
    "else:\n",
    "    print(\"String isn't a palindrome!\")"
   ]
  },
  {
   "cell_type": "code",
   "execution_count": null,
   "id": "11e761e5-f829-4d88-bb61-544907a2db39",
   "metadata": {},
   "outputs": [],
   "source": [
    "# 11. Create a recursive Python function to generate all possible combinations of a list of elements.\n",
    "\n"
   ]
  },
  {
   "cell_type": "code",
   "execution_count": null,
   "id": "e6cd8b94-e555-46c1-99e7-7215413b6f4f",
   "metadata": {},
   "outputs": [],
   "source": []
  },
  {
   "cell_type": "code",
   "execution_count": null,
   "id": "8260515c-fa42-448a-b77e-d42ef4df0772",
   "metadata": {},
   "outputs": [],
   "source": []
  },
  {
   "cell_type": "markdown",
   "id": "7733a672-ebda-4193-a1be-efb12e2876e8",
   "metadata": {},
   "source": [
    "-----------------------Basics of Functions:-----------------"
   ]
  },
  {
   "cell_type": "code",
   "execution_count": null,
   "id": "929b816e-79b3-4217-a455-87a14caab7b0",
   "metadata": {},
   "outputs": [],
   "source": []
  },
  {
   "cell_type": "code",
   "execution_count": null,
   "id": "aa5f057d-7856-460a-8ccc-163a9c53d1cb",
   "metadata": {},
   "outputs": [],
   "source": [
    "# 1. What is a function in Python, and why is it used?\n",
    "\n",
    "A function is a block of code which only runs when it is called. You can pass data, known as parameters, into a function.\n",
    "A function can return data as a result."
   ]
  },
  {
   "cell_type": "code",
   "execution_count": 72,
   "id": "73e818ac-f54d-4828-b70a-5881b7a2ded1",
   "metadata": {},
   "outputs": [
    {
     "data": {
      "text/plain": [
       "'This is an example'"
      ]
     },
     "execution_count": 72,
     "metadata": {},
     "output_type": "execute_result"
    }
   ],
   "source": [
    "# 2. How do you define a function in Python? Provide an example.\n",
    "\n",
    "#In Python, you define a function with the def keyword, then write the function identifier (name) followed by parentheses and a colon.\n",
    "\n",
    "def Example():\n",
    "    return \"This is an example\"\n",
    "\n",
    "Example()"
   ]
  },
  {
   "cell_type": "code",
   "execution_count": null,
   "id": "fb790b8f-38e2-4629-9b38-d09ba89c1ddc",
   "metadata": {},
   "outputs": [],
   "source": [
    "# 3. Explain the difference between a function definition and a function call.\n",
    "\n",
    "A function is a block of code that performs a specific task, while a function call is an expression that invokes\n",
    "a function and executes the code in the function"
   ]
  },
  {
   "cell_type": "code",
   "execution_count": 73,
   "id": "48dd1025-f549-4ff0-92dd-41db915a4ffd",
   "metadata": {},
   "outputs": [
    {
     "data": {
      "text/plain": [
       "30"
      ]
     },
     "execution_count": 73,
     "metadata": {},
     "output_type": "execute_result"
    }
   ],
   "source": [
    "# 4. Write a Python program that defines a function to calculate the sum of two numbers and then calls the function.\n",
    "\n",
    "def addition(a,b):\n",
    "    return a+b\n",
    "\n",
    "\n",
    "addition(10,20)"
   ]
  },
  {
   "cell_type": "code",
   "execution_count": 74,
   "id": "d95430e8-79de-42c8-9184-3dc5c3a9af0c",
   "metadata": {},
   "outputs": [
    {
     "data": {
      "text/plain": [
       "15"
      ]
     },
     "execution_count": 74,
     "metadata": {},
     "output_type": "execute_result"
    }
   ],
   "source": [
    "# 5. What is a function signature, and what information does it typically include?\n",
    "'''\n",
    "A function signature refers to the essential components that define a function in programming.\n",
    "It includes specific details that describe the function's interface, such as its name, return type, and parameter list.\n",
    "The signature serves as a unique identifier for the function and enables other parts of the program to interact with it.\n",
    "'''\n",
    "\n",
    "def add_numbers(a: int, b: int) -> int:\n",
    "    return a + b\n",
    "add_numbers(5,10)"
   ]
  },
  {
   "cell_type": "code",
   "execution_count": 75,
   "id": "d8e32d29-c890-4a16-a7cd-9912640621f5",
   "metadata": {},
   "outputs": [
    {
     "data": {
      "text/plain": [
       "200"
      ]
     },
     "execution_count": 75,
     "metadata": {},
     "output_type": "execute_result"
    }
   ],
   "source": [
    "# 6. Create a Python function that takes two arguments and returns their product.\n",
    "\n",
    "def product(a,b):\n",
    "    return a*b\n",
    "\n",
    "product(10,20)"
   ]
  },
  {
   "cell_type": "code",
   "execution_count": null,
   "id": "72c7e974-4a92-4602-8362-c3d03f721d81",
   "metadata": {},
   "outputs": [],
   "source": []
  },
  {
   "cell_type": "code",
   "execution_count": null,
   "id": "82b7c5bf-4691-4fef-be80-cb2b9d41977e",
   "metadata": {},
   "outputs": [],
   "source": []
  },
  {
   "cell_type": "markdown",
   "id": "58108993-b04d-4328-91cd-e254449a2592",
   "metadata": {},
   "source": [
    "-------------------Function Parameters and Arguments:-----------------"
   ]
  },
  {
   "cell_type": "code",
   "execution_count": null,
   "id": "899172cb-a843-4349-b4a8-bd4abf320408",
   "metadata": {},
   "outputs": [],
   "source": []
  },
  {
   "cell_type": "code",
   "execution_count": null,
   "id": "75552c40-4168-4b18-b896-fcb7b43c7af3",
   "metadata": {},
   "outputs": [],
   "source": [
    "# 1. Explain the concepts of formal parameters and actual arguments in Python functions.\n",
    "\n",
    "Actual Parameters                               \tFormal Parameters\n",
    "Defined when it is invoked.              \tDefined when the function is called.\n",
    "Passed on calling a function\t            They will be in the called function.\n",
    "Data types will not be mentioned.\t        The data type must be included."
   ]
  },
  {
   "cell_type": "code",
   "execution_count": 76,
   "id": "b083b762-9efc-4725-9a31-cf7c9283bf61",
   "metadata": {},
   "outputs": [
    {
     "data": {
      "text/plain": [
       "13"
      ]
     },
     "execution_count": 76,
     "metadata": {},
     "output_type": "execute_result"
    }
   ],
   "source": [
    "# 2. Write a Python program that defines a function with default argument values.\n",
    "\n",
    "def addition(a,b=10):\n",
    "    return a+b\n",
    "\n",
    "addition(3)"
   ]
  },
  {
   "cell_type": "code",
   "execution_count": 77,
   "id": "5f8cca25-13c1-491e-ae4c-1ac3537f03c1",
   "metadata": {},
   "outputs": [
    {
     "name": "stdout",
     "output_type": "stream",
     "text": [
      "Hi, I am Animesh\n",
      "My age is  22\n"
     ]
    }
   ],
   "source": [
    "# 3. How do you use keyword arguments in Python function calls? Provide an example\n",
    "\n",
    "def Details(name, age):\n",
    "\tprint(\"Hi, I am\", name)\n",
    "\tprint(\"My age is \", age)\n",
    "\n",
    "Details(name=\"Animesh\", age=22)\n"
   ]
  },
  {
   "cell_type": "code",
   "execution_count": null,
   "id": "a8366a8d-525c-400b-bcc7-93082e77709f",
   "metadata": {},
   "outputs": [],
   "source": [
    "# 4. Create a Python function that accepts a variable number of arguments and calculates their sum.\n",
    "\n",
    "def addition(*args):\n",
    "    total = sum(args)\n",
    "    return total\n",
    "\n",
    "addition(4,5,6)\n"
   ]
  },
  {
   "cell_type": "code",
   "execution_count": null,
   "id": "e5005b3e-b734-4f64-826e-fe88b83dd1ce",
   "metadata": {},
   "outputs": [],
   "source": [
    "# 5. What is the purpose of the `*args` and `**kwargs` syntax in function parameter lists?\n",
    "\n",
    "*args passes variable number of non-keyworded arguments and on which operation of the tuple can be performed.\n",
    "**kwargs passes variable number of keyword arguments dictionary to function on which operation of a dictionary can be performed."
   ]
  },
  {
   "cell_type": "code",
   "execution_count": null,
   "id": "11d53ba1-7186-43c4-8119-2ee7574b4f24",
   "metadata": {},
   "outputs": [],
   "source": []
  },
  {
   "cell_type": "code",
   "execution_count": null,
   "id": "b8777cdd-ebc4-42d7-8577-0263b23709e4",
   "metadata": {},
   "outputs": [],
   "source": []
  },
  {
   "cell_type": "markdown",
   "id": "990a5c62-0d0a-4042-9e34-44885fecb761",
   "metadata": {},
   "source": [
    "--------------------Return Values and Scoping:--------------------"
   ]
  },
  {
   "cell_type": "code",
   "execution_count": null,
   "id": "d26cd85a-d74e-4086-8438-e730b8f9fe8e",
   "metadata": {},
   "outputs": [],
   "source": []
  },
  {
   "cell_type": "code",
   "execution_count": null,
   "id": "1c6feb4d-1dc9-4abb-bc4a-c5a3a509aa4c",
   "metadata": {},
   "outputs": [],
   "source": [
    "# 1. Describe the role of the `return` statement in Python functions and provide examples.\n",
    "'''\n",
    "A return statement is used to end the execution of the function call and “returns” the result\n",
    "\n",
    "'''\n",
    "def addition(*args):\n",
    "    total = sum(args)\n",
    "    return total\n",
    "\n",
    "addition(4,5,6)"
   ]
  },
  {
   "cell_type": "code",
   "execution_count": 80,
   "id": "6fefdc1f-4436-4fb6-8204-134949f39230",
   "metadata": {},
   "outputs": [
    {
     "name": "stdout",
     "output_type": "stream",
     "text": [
      "Local variable\n",
      "global variable\n"
     ]
    }
   ],
   "source": [
    "# 2. Explain the concept of variable scope in Python, including local and global variables.\n",
    "'''\n",
    "Python Global variables are those which are not defined inside any function and have a global scope whereas Python \n",
    "local variables are those which are defined inside a function and their scope is limited to that function only.\n",
    "'''\n",
    "\n",
    "x = \"global variable\"\n",
    "\n",
    "def myfunc():\n",
    "  x = \"Local variable\"\n",
    "  print(x)\n",
    "\n",
    "myfunc()\n",
    "print( x)\n"
   ]
  },
  {
   "cell_type": "code",
   "execution_count": 81,
   "id": "acdb7e72-520e-40eb-9f25-f65d3c6da6bd",
   "metadata": {},
   "outputs": [
    {
     "name": "stdout",
     "output_type": "stream",
     "text": [
      "Local variable\n",
      "global variable\n"
     ]
    }
   ],
   "source": [
    "# 3. Write a Python program that demonstrates the use of global variables within functions\n",
    "\n",
    "x = \"global variable\"\n",
    "\n",
    "def myfunc():\n",
    "  x = \"Local variable\"\n",
    "  print(x)\n",
    "\n",
    "myfunc()\n",
    "print( x)"
   ]
  },
  {
   "cell_type": "code",
   "execution_count": 82,
   "id": "363089ef-60da-40d2-8091-ec1d6ed32023",
   "metadata": {},
   "outputs": [
    {
     "data": {
      "text/plain": [
       "24"
      ]
     },
     "execution_count": 82,
     "metadata": {},
     "output_type": "execute_result"
    }
   ],
   "source": [
    "# 4. Create a Python function that calculates the factorial of a number and returns it.\n",
    "\n",
    "def factorial(n):\n",
    "    result = 1\n",
    "    for i in range(1,n+1):\n",
    "        result =result *i\n",
    "    return result\n",
    "factorial(4)"
   ]
  },
  {
   "cell_type": "code",
   "execution_count": 83,
   "id": "a2638192-2bbd-4f07-8d4b-2d3993a53c24",
   "metadata": {},
   "outputs": [
    {
     "name": "stdout",
     "output_type": "stream",
     "text": [
      "Value of local variable a is  3\n",
      "Value of global variable a is  5\n"
     ]
    }
   ],
   "source": [
    "# 5. How can you access variables defined outside a function from within the function?\n",
    "\n",
    "a = 5\n",
    "def local():\n",
    "   a = 3\n",
    "   print(\"Value of local variable a is \",a)\n",
    "\n",
    "local()\n",
    "print(\"Value of global variable a is \",a)"
   ]
  },
  {
   "cell_type": "code",
   "execution_count": 84,
   "id": "b5b55a65-5193-4526-b3ed-2acc323c911a",
   "metadata": {},
   "outputs": [
    {
     "data": {
      "text/plain": [
       "'yth'"
      ]
     },
     "execution_count": 84,
     "metadata": {},
     "output_type": "execute_result"
    }
   ],
   "source": [
    "\"Python\"[1:4]"
   ]
  },
  {
   "cell_type": "code",
   "execution_count": null,
   "id": "dd19e284-598b-4f6b-ab09-bbb635a3fc64",
   "metadata": {},
   "outputs": [],
   "source": []
  },
  {
   "cell_type": "markdown",
   "id": "3b26358c-608a-4c2b-8812-2cf63e3b7642",
   "metadata": {},
   "source": [
    "------------------------Lambda Functions and Higher-Order Functions:--------------------"
   ]
  },
  {
   "cell_type": "code",
   "execution_count": null,
   "id": "02b9fecd-9bee-43a4-b998-1391b1aae208",
   "metadata": {},
   "outputs": [],
   "source": []
  },
  {
   "cell_type": "code",
   "execution_count": 86,
   "id": "b4154b63-7a68-4efd-9c91-c13ea667c30b",
   "metadata": {},
   "outputs": [
    {
     "name": "stdout",
     "output_type": "stream",
     "text": [
      "15\n"
     ]
    }
   ],
   "source": [
    "# 1. What are lambda functions in Python, and when are they typically used?\n",
    "'''\n",
    "A lambda function is a small anonymous function.\n",
    "A lambda function can take any number of arguments, but can only have one expression.\n",
    "Syntax\n",
    "lambda arguments : expression\n",
    "'''\n",
    "x = lambda a : a + 10\n",
    "print(x(5))"
   ]
  },
  {
   "cell_type": "code",
   "execution_count": 87,
   "id": "14105ef5-5d15-40e4-901c-d5f93004d2d5",
   "metadata": {},
   "outputs": [
    {
     "name": "stdout",
     "output_type": "stream",
     "text": [
      "Sorted list based on the second element of each tuple:\n",
      "[(3, 2), (4, 3), (1, 5), (5, 7), (8, 10)]\n"
     ]
    }
   ],
   "source": [
    "# 2. Write a Python program that uses lambda functions to sort a list of tuples based on the second element.\n",
    "\n",
    "# List of tuples\n",
    "list_of_tuples = [(1, 5), (3, 2), (8, 10), (5, 7), (4, 3)]\n",
    "\n",
    "# Sorting the list based on the second element of each tuple\n",
    "sorted_list = sorted(list_of_tuples, key=lambda x: x[1])\n",
    "\n",
    "print(\"Sorted list based on the second element of each tuple:\")\n",
    "print(sorted_list)\n"
   ]
  },
  {
   "cell_type": "code",
   "execution_count": null,
   "id": "e5790e9f-c7b5-4fe8-9398-0908e60f12dd",
   "metadata": {},
   "outputs": [],
   "source": [
    "# 3. Explain the concept of higher-order functions in Python, and provide an example.\n",
    "'''\n",
    "A function is called Higher Order Function if it contains other functions as a parameter or returns a function as an output i.e,\n",
    "the functions that operate with another function are known as Higher order Functions.\n"
   ]
  },
  {
   "cell_type": "code",
   "execution_count": 88,
   "id": "34a02e7c-88dc-4e40-80d4-8292600f21e7",
   "metadata": {},
   "outputs": [
    {
     "name": "stdout",
     "output_type": "stream",
     "text": [
      "[1, 4, 9, 16]\n"
     ]
    }
   ],
   "source": [
    "# 4. Create a Python function that takes a list of numbers and a function as arguments, applying the function to each element in the list.\n",
    "\n",
    "def addition(n): \n",
    "    return n**2 \n",
    "  \n",
    "numbers = (1, 2, 3, 4) \n",
    "result = map(addition, numbers) \n",
    "print(list(result)) "
   ]
  },
  {
   "cell_type": "code",
   "execution_count": null,
   "id": "82465a4e-665b-4114-b537-84a6bbdda64c",
   "metadata": {},
   "outputs": [],
   "source": []
  },
  {
   "cell_type": "code",
   "execution_count": null,
   "id": "1a1f0a0e-36b3-4046-900e-15ad665eb188",
   "metadata": {},
   "outputs": [],
   "source": []
  },
  {
   "cell_type": "markdown",
   "id": "934f7033-c31a-43f3-a92c-5d47394108fc",
   "metadata": {},
   "source": [
    "---------------------Built-in Functions:----------------------"
   ]
  },
  {
   "cell_type": "markdown",
   "id": "b1185e2b-2c54-4adb-831c-8ec47f2f4a44",
   "metadata": {},
   "source": []
  },
  {
   "cell_type": "code",
   "execution_count": 89,
   "id": "8144b920-65eb-406b-9d8e-0ba7dceaa99a",
   "metadata": {},
   "outputs": [
    {
     "name": "stdout",
     "output_type": "stream",
     "text": [
      "length of the list is:  7\n",
      "Min element of the list is:  1\n",
      "Max element of the list is:  9\n"
     ]
    }
   ],
   "source": [
    "# 1.  Describe the role of built-in functions like `len()`, `max()`, and `min()` in Python.\n",
    "'''\n",
    "len() :- This function returns the length of list.\n",
    "min() :- This function returns the minimum element of list\n",
    "max() :- This function returns the maximum element of list.\n",
    "'''\n",
    "\n",
    "list1 = [4,6,7,3,6,1,9]\n",
    "print(\"length of the list is: \",len(list1))\n",
    "print(\"Min element of the list is: \",min(list1))\n",
    "print(\"Max element of the list is: \",max(list1))"
   ]
  },
  {
   "cell_type": "code",
   "execution_count": 90,
   "id": "19cc2b00-e49c-4d10-aace-a01c3b5ccf19",
   "metadata": {},
   "outputs": [
    {
     "name": "stdout",
     "output_type": "stream",
     "text": [
      "[1, 4, 9, 16]\n"
     ]
    }
   ],
   "source": [
    "# 2. Write a Python program that uses the `map()` function to apply a function to each element of a list.\n",
    "'''\n",
    "map() function returns a map object(which is an iterator) of the results after \n",
    "applying the given function to each item of a given iterable (list, tuple etc.)\n",
    "'''\n",
    "def addition(n): \n",
    "    return n**2 \n",
    "  \n",
    "numbers = (1, 2, 3, 4) \n",
    "result = map(addition, numbers) \n",
    "print(list(result)) "
   ]
  },
  {
   "cell_type": "code",
   "execution_count": 91,
   "id": "ecdf67f1-8a70-425c-9e22-a258520b67da",
   "metadata": {},
   "outputs": [
    {
     "name": "stdout",
     "output_type": "stream",
     "text": [
      "The filtered letters are:\n",
      "a\n",
      "i\n",
      "e\n"
     ]
    }
   ],
   "source": [
    "# 3. How does the `filter()` function work in Python, and when would you use it?\n",
    "'''\n",
    "Filter() is a built-in function in Python. The filter function can be applied to an iterable such as a list or a dictionary and create a new iterator.\n",
    "'''\n",
    "# function that filters vowels\n",
    "def vowel(letter):\n",
    "    if letter in \"AEIOUaeiou\":\n",
    "        return True\n",
    "    else:\n",
    "        return False\n",
    "\n",
    "sequence = ['a', 'n', 'i', 'm', 'e', 's', 'h']\n",
    " \n",
    "# using filter function\n",
    "filtered = filter(vowel, sequence)\n",
    " \n",
    "print('The filtered letters are:')\n",
    "for s in filtered:\n",
    "    print(s)"
   ]
  },
  {
   "cell_type": "code",
   "execution_count": 92,
   "id": "154b5cd7-7835-47e3-9a36-b8b207d65b27",
   "metadata": {},
   "outputs": [
    {
     "name": "stdout",
     "output_type": "stream",
     "text": [
      "3840\n"
     ]
    }
   ],
   "source": [
    "# 4. Create a Python program that uses the `reduce()` function to find the product of all elements in a list.\n",
    "\n",
    "from functools import reduce\n",
    "numbers = [2,4,6,8,10]\n",
    "\n",
    "def multiplication(x, y):\n",
    "    return x * y\n",
    "\n",
    "result = reduce(multiplication, numbers)\n",
    "print(result)\n"
   ]
  },
  {
   "cell_type": "code",
   "execution_count": null,
   "id": "2dd001a3-a501-466e-b0f1-84d57d2011d2",
   "metadata": {},
   "outputs": [],
   "source": []
  },
  {
   "cell_type": "code",
   "execution_count": null,
   "id": "005e333d-adf3-444b-9b2f-af6d796017f0",
   "metadata": {},
   "outputs": [],
   "source": []
  },
  {
   "cell_type": "code",
   "execution_count": null,
   "id": "d4077fd5-1271-406e-a7b2-8804e6cea357",
   "metadata": {},
   "outputs": [],
   "source": [
    "----------------------Function Documentation and Best Practices:--------------"
   ]
  },
  {
   "cell_type": "code",
   "execution_count": null,
   "id": "4011b39e-4790-45c4-9b37-d3ccc0732b84",
   "metadata": {},
   "outputs": [],
   "source": [
    "# 1. Explain the purpose of docstrings in Python functions and how to write them.\n",
    "\n",
    "A Python docstring is a string used to document a Python module, class, function or method,\n",
    "so programmers can understand what it does without having to read the details of the implementation."
   ]
  },
  {
   "cell_type": "code",
   "execution_count": null,
   "id": "58b9386b-1493-4b4f-b149-59f1aa87868e",
   "metadata": {},
   "outputs": [],
   "source": [
    "# 2. Describe some best practices for naming functions and variables in Python, including naming conventions and guidelines.\n",
    "Use descriptive and meaningful names.\n",
    "Follow a consistent naming convention. \n",
    "Avoid reserved keywords.\n",
    "Don't use abbreviations.\n",
    "Be mindful of variable scope.\n"
   ]
  },
  {
   "cell_type": "code",
   "execution_count": null,
   "id": "95221d86-19d5-49eb-bcef-0a0c904dd875",
   "metadata": {},
   "outputs": [],
   "source": []
  }
 ],
 "metadata": {
  "kernelspec": {
   "display_name": "Python 3 (ipykernel)",
   "language": "python",
   "name": "python3"
  },
  "language_info": {
   "codemirror_mode": {
    "name": "ipython",
    "version": 3
   },
   "file_extension": ".py",
   "mimetype": "text/x-python",
   "name": "python",
   "nbconvert_exporter": "python",
   "pygments_lexer": "ipython3",
   "version": "3.10.8"
  }
 },
 "nbformat": 4,
 "nbformat_minor": 5
}
