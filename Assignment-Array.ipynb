{
 "cells": [
  {
   "cell_type": "code",
   "execution_count": 1,
   "id": "08ceb91b-1489-4862-9969-b286b1d18e20",
   "metadata": {},
   "outputs": [
    {
     "data": {
      "text/plain": [
       "True"
      ]
     },
     "execution_count": 1,
     "metadata": {},
     "output_type": "execute_result"
    }
   ],
   "source": [
    "'''1. Given an array, check if it contains any duplicates or not.\n",
    "arr = [1, 2, 4, 2, 5, 9]\n",
    "Output = True\n",
    "'''\n",
    "\n",
    "def check_duplicate(arr):\n",
    "    for i  in range(len(arr)):\n",
    "        for j in range(i+1, len(arr)):\n",
    "            if arr[i] == arr[j]:\n",
    "                return True\n",
    "           \n",
    "    \n",
    "arr = [1, 2, 4, 2, 5, 9]\n",
    "check_duplicate(arr)\n",
    "\n"
   ]
  },
  {
   "cell_type": "code",
   "execution_count": 2,
   "id": "7641853e-32dc-44d2-b390-41fa97cb3936",
   "metadata": {},
   "outputs": [
    {
     "name": "stdout",
     "output_type": "stream",
     "text": [
      "[5, 6, 7, 1, 2, 3, 4]\n"
     ]
    }
   ],
   "source": [
    "'''2. Given an array and an integer k, rotate the array to the right by k steps.\n",
    "arr = [1, 2, 3, 4, 5, 6, 7] k = 3\n",
    "Output = [5, 6, 7, 1, 2, 3, 4]\n",
    "'''\n",
    "def reverse(nums, start, end):\n",
    "    while start < end:\n",
    "        nums[start], nums[end] = nums[end], nums[start]\n",
    "        start += 1\n",
    "        end -= 1\n",
    "\n",
    "def rotate_array(nums, k):\n",
    "    if not nums:\n",
    "        return []\n",
    "\n",
    "    k = k % len(nums)\n",
    "    n = len(nums)\n",
    "\n",
    "    reverse(nums, 0, n - 1)  # Reverse the entire array\n",
    "    reverse(nums, 0, k - 1)  # Reverse the first k elements\n",
    "    reverse(nums, k, n - 1)  # Reverse the rest of the elements\n",
    "\n",
    "arr = [1, 2, 3, 4, 5, 6, 7]\n",
    "k = 3\n",
    "\n",
    "rotate_array(arr, k)\n",
    "print(arr)\n",
    "\n"
   ]
  },
  {
   "cell_type": "code",
   "execution_count": 3,
   "id": "58ff83fc-6568-4d7f-8a54-70d46fea6965",
   "metadata": {},
   "outputs": [
    {
     "name": "stdout",
     "output_type": "stream",
     "text": [
      "[12, 9, 7, 5, 4, 2]\n"
     ]
    }
   ],
   "source": [
    "'''\n",
    "3. Reverse the given array in-place, means without using any extra data structure.\n",
    "arr = [2, 4, 5, 7, 9, 12]\n",
    "Output = [12, 9, 7, 5, 4, 2]\n",
    "'''\n",
    "'''\n",
    "arr = [2, 4, 5, 7, 9, 12]\n",
    "arr1=[]\n",
    "for i in range(len(arr)-1,-1,-1):\n",
    "    arr1.append(arr[i])\n",
    "print(arr1)\n",
    "'''\n",
    "arr = [2, 4, 5, 7, 9, 12]\n",
    "start = 0\n",
    "end = len(arr)-1\n",
    "\n",
    "while start < end:\n",
    "    arr[start], arr[end] = arr[end], arr[start]\n",
    "    start += 1\n",
    "    end -= 1\n",
    "print(arr) \n",
    "\n"
   ]
  },
  {
   "cell_type": "code",
   "execution_count": null,
   "id": "7e3377e5-8d46-41b6-b275-b5e644901438",
   "metadata": {},
   "outputs": [],
   "source": [
    "'''\n",
    "4. Given an array of integers, find the maximum element in an array\n",
    "arr = [10, 5, 20, 8, 15]\n",
    "Output = 20\n",
    "'''\n",
    "arr = [10, 5, 20, 8, 15]\n",
    "maxElement = arr[0]\n",
    "for i in range(1,len(arr)):\n",
    "    if maxElement < arr[i]:\n",
    "        maxElement = arr[i]\n",
    "print(maxElement)\n",
    "\n"
   ]
  },
  {
   "cell_type": "code",
   "execution_count": 4,
   "id": "0a339d25-2e83-4dc8-ba75-a0afba88fd2b",
   "metadata": {},
   "outputs": [
    {
     "name": "stdout",
     "output_type": "stream",
     "text": [
      "[1, 2, 3, 4, 5]\n"
     ]
    }
   ],
   "source": [
    "'''\n",
    "5. Given a sorted array, remove the duplicate element without using any extra data structure.\n",
    "arr = [1, 1, 2, 2, 2, 3, 3, 4, 4, 4, 5, 5]\n",
    "Output = [1, 2, 3, 4, 5]\n",
    "'''\n",
    "\n",
    "def remove_duplicates(arr):\n",
    "    if len(arr) == 0 or len(arr) == 1:\n",
    "        return arr\n",
    "    j=0\n",
    "    for i in range(0, len(arr)):\n",
    "        if arr[i] != arr[i - 1]:\n",
    "            arr[j] = arr[i]\n",
    "            j += 1\n",
    "\n",
    "    # Truncate the array to remove the duplicate elements\n",
    "    del arr[j:]\n",
    "\n",
    "    return arr\n",
    "\n",
    "arr = [1, 1, 2, 2, 2, 3, 3, 4, 4, 4, 5, 5]\n",
    "print(remove_duplicates(arr))"
   ]
  },
  {
   "cell_type": "code",
   "execution_count": null,
   "id": "62e9471a-3857-4c69-b2b8-6c8bf68a7aec",
   "metadata": {},
   "outputs": [],
   "source": []
  },
  {
   "cell_type": "code",
   "execution_count": null,
   "id": "8e3bf715-aa95-418d-af55-363cbcbb438a",
   "metadata": {},
   "outputs": [],
   "source": []
  },
  {
   "cell_type": "code",
   "execution_count": null,
   "id": "b73e6751-0e3f-4c6e-9566-226b27bb6310",
   "metadata": {},
   "outputs": [],
   "source": []
  },
  {
   "cell_type": "code",
   "execution_count": null,
   "id": "7bcdf32e-08ab-49e1-ab5d-90a57f9862e5",
   "metadata": {},
   "outputs": [],
   "source": []
  },
  {
   "cell_type": "code",
   "execution_count": null,
   "id": "24493ac5-94a6-4012-b318-f0bee207e49e",
   "metadata": {},
   "outputs": [],
   "source": []
  },
  {
   "cell_type": "code",
   "execution_count": null,
   "id": "c85c0521-d353-4f59-a9f3-4f84bb25a9ee",
   "metadata": {},
   "outputs": [],
   "source": []
  },
  {
   "cell_type": "code",
   "execution_count": null,
   "id": "8a8b598c-b3ba-4ab0-9825-efe219b48373",
   "metadata": {},
   "outputs": [],
   "source": []
  }
 ],
 "metadata": {
  "kernelspec": {
   "display_name": "Python 3 (ipykernel)",
   "language": "python",
   "name": "python3"
  },
  "language_info": {
   "codemirror_mode": {
    "name": "ipython",
    "version": 3
   },
   "file_extension": ".py",
   "mimetype": "text/x-python",
   "name": "python",
   "nbconvert_exporter": "python",
   "pygments_lexer": "ipython3",
   "version": "3.10.8"
  }
 },
 "nbformat": 4,
 "nbformat_minor": 5
}
