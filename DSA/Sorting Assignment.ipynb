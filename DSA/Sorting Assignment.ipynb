{
 "cells": [
  {
   "cell_type": "code",
   "execution_count": 1,
   "id": "1173a4b0-04e4-45f4-8f9a-8cc3bbb80e1e",
   "metadata": {},
   "outputs": [
    {
     "name": "stdout",
     "output_type": "stream",
     "text": [
      "{8: 1, 2: 4, 3: 1, 7: 1, 4: 1, 5: 1, 6: 1}\n",
      "Element appearing maximum number of times: 2 : 4\n"
     ]
    }
   ],
   "source": [
    "# Problem 1.Given an array of n numbers, give an algorithm which gives the element appearing maximum number of times?\n",
    "\n",
    "\n",
    "def find_most_frequent_element(arr):\n",
    "    frequency_counter = {}\n",
    "\n",
    "    # Count the frequency of each element in the array\n",
    "    for num in arr:\n",
    "        if num in frequency_counter:\n",
    "            frequency_counter[num] += 1\n",
    "        else:\n",
    "            frequency_counter[num] = 1\n",
    "\n",
    "    # Find the element with the maximum frequency\n",
    "    print(frequency_counter)\n",
    "    max_frequency = 0\n",
    "    most_frequent_element = None\n",
    "\n",
    "    for num, frequency in frequency_counter.items():\n",
    "        if frequency > max_frequency:\n",
    "            max_frequency = frequency\n",
    "            most_frequent_element = num\n",
    "\n",
    "    return f\"{most_frequent_element} : {max_frequency}\"\n",
    "\n",
    "arr = [8, 2, 3, 2, 7, 4, 5, 2, 6, 2]\n",
    "result = find_most_frequent_element(arr)\n",
    "print(\"Element appearing maximum number of times:\", result)\n"
   ]
  },
  {
   "cell_type": "code",
   "execution_count": 3,
   "id": "ae0d3ec1-f7c8-4400-943a-10368840b596",
   "metadata": {},
   "outputs": [
    {
     "name": "stdout",
     "output_type": "stream",
     "text": [
      "5\n"
     ]
    }
   ],
   "source": [
    "# Problem 2 : We are given a list of n-1 integers and these integers are in the range of 1 to n . There are no duplicates in the list. One of the \n",
    "# integers is missing in the list. Give an algorithm to find that element Ex: [1,2,4,6,3,7,8] 5 is the missing num.\n",
    "\n",
    "\n",
    "def find_missing_value(arr):\n",
    "    n = len(arr) +1\n",
    "    sum1 = (n*(n+1))//2\n",
    "    missing_num = sum1 - sum(arr)\n",
    "    return missing_num\n",
    "\n",
    "arr =  [1,2,4,6,3,7,8]\n",
    "result = find_missing_value(arr)\n",
    "print(result)"
   ]
  },
  {
   "cell_type": "code",
   "execution_count": 4,
   "id": "25092ce2-a6c3-4655-b27c-bb1165bc672c",
   "metadata": {},
   "outputs": [
    {
     "name": "stdout",
     "output_type": "stream",
     "text": [
      "3\n"
     ]
    }
   ],
   "source": [
    "# Problem 3 : Given an array of n positive numbers. All numbers occurs even number of times except 1 which occurs odd number of times. Find that number\n",
    "# in O(n) time and O(1) space. Ex: [1,2,3,2,3,1,3]. 3 is repeats odd times.\n",
    "\n",
    "def odd_repeats(arr):\n",
    "    result = 0\n",
    "    for number in arr:\n",
    "        result = result ^ number\n",
    "    return result\n",
    "\n",
    "arr = [1,2,3,2,3,1,3]\n",
    "res = odd_repeats(arr)\n",
    "print(res)\n",
    "    "
   ]
  },
  {
   "cell_type": "code",
   "execution_count": 5,
   "id": "97f8a05c-12e4-4dfb-b043-71c1b2d1b928",
   "metadata": {},
   "outputs": [
    {
     "name": "stdout",
     "output_type": "stream",
     "text": [
      "(1, 5)\n"
     ]
    }
   ],
   "source": [
    "# Problem 4 : Given an array of n elements. Find two elements in the array such that their sum is equal to given element K.\n",
    "'''\n",
    "def find_sum(arr,k):\n",
    "    for i in range(len(arr)):\n",
    "        for j in range(i+1, len(arr)):\n",
    "            if (arr[i] + arr[j] == k):\n",
    "                return(arr[i], arr[j])\n",
    "\n",
    "                \n",
    "arr = [4,1,5,8,3]\n",
    "result = find_sum(arr,6)\n",
    "print(result)\n",
    "'''\n",
    "def find_pair(arr, target_sum):\n",
    "    arr.sort() \n",
    "    left, right = 0, len(arr) - 1\n",
    "\n",
    "    while left < right:\n",
    "        current_sum = arr[left] + arr[right]\n",
    "\n",
    "        if current_sum == target_sum:\n",
    "            # Found a pair whose sum is equal to target_sum\n",
    "            return arr[left], arr[right]\n",
    "        elif current_sum < target_sum:\n",
    "            left += 1\n",
    "        else:\n",
    "            right -= 1\n",
    "    # No pair found\n",
    "    return None\n",
    "\n",
    "arr = [4,1,5,8,3]\n",
    "target_sum = 6\n",
    "result = find_pair(arr, target_sum)\n",
    "print(result)"
   ]
  },
  {
   "cell_type": "code",
   "execution_count": 6,
   "id": "a37bc6ad-a1f5-4a64-9256-795e5db18caa",
   "metadata": {},
   "outputs": [
    {
     "name": "stdout",
     "output_type": "stream",
     "text": [
      "Closest sum pair: (-80, 85)\n"
     ]
    }
   ],
   "source": [
    "#Problem 5 : Given an array of both positive and negative numbers, find two numbers such that their sum is closest to 0. Ex: [ 1 ,60 ,-10, 70, -80,85].\n",
    "#Ans : -80,85.\n",
    "\n",
    "\n",
    "def find_closest_sum_pair(arr):\n",
    "    arr.sort()\n",
    "    \n",
    "    closest_sum = float('inf')\n",
    "    pair = None\n",
    "\n",
    "    left, right = 0, len(arr) - 1\n",
    "\n",
    "    while left < right:\n",
    "        current_sum = arr[left] + arr[right]\n",
    "        current_diff = abs(current_sum)\n",
    "\n",
    "        if current_diff < closest_sum:\n",
    "            closest_sum = current_diff\n",
    "            pair = (arr[left], arr[right])\n",
    "\n",
    "        if current_sum < 0:\n",
    "            left += 1\n",
    "        elif current_sum > 0:\n",
    "            right -= 1\n",
    "        else:\n",
    "            # If the sum is 0, this is the closest possible pair\n",
    "            return pair\n",
    "\n",
    "    return pair\n",
    "\n",
    "arr =[ 1 ,60 ,-10, 70, -80,85]\n",
    "result = find_closest_sum_pair(arr)\n",
    "print(\"Closest sum pair:\", result)\n",
    "\n"
   ]
  },
  {
   "cell_type": "code",
   "execution_count": 7,
   "id": "b7bc490c-7863-4b6c-b363-f858a7d7a61d",
   "metadata": {},
   "outputs": [
    {
     "name": "stdout",
     "output_type": "stream",
     "text": [
      "0 -3 1\n",
      "-1 2 -3\n"
     ]
    }
   ],
   "source": [
    "# Problem 6 : Given an array of n elements . Find three elements such that their sum is equal to the given number.\n",
    "\n",
    "def findTriplets(arr, n, sum):\n",
    "    for i in range(0, n - 2): \n",
    "        for j in range(i + 1, n - 1): \n",
    "            for k in range(j + 1, n):\n",
    "                if (arr[i] + arr[j] + arr[k] == sum): \n",
    "                    print(arr[i], \" \", arr[j], \" \", arr[k], sep = \"\")\n",
    "                        \n",
    "arr = [ 0, -1, 2, -3, 1 ]\n",
    "n = len(arr) \n",
    "findTriplets(arr, n, -2)\n",
    "\n"
   ]
  },
  {
   "cell_type": "code",
   "execution_count": 8,
   "id": "11d799a7-eccd-4248-bc09-1b400053a8f3",
   "metadata": {},
   "outputs": [
    {
     "name": "stdout",
     "output_type": "stream",
     "text": [
      "(5, 12, 13)\n"
     ]
    }
   ],
   "source": [
    "# Problem 7 : Given an array of n elements . Find three elements i, j, k in the array such that i * i + j * j = k*k.\n",
    "\n",
    "def find_pythagorean_triplet(arr):\n",
    "    n = len(arr)\n",
    "    for i in range(n - 2):\n",
    "        for j in range(i + 1, n - 1):\n",
    "            for k in range(j + 1, n):\n",
    "                # Check the Pythagorean condition\n",
    "                if arr[i] * arr[i] + arr[j] * arr[j] == arr[k] * arr[k]:\n",
    "                    return (arr[i], arr[j], arr[k])\n",
    "\n",
    "    # If no triplet is found, return None\n",
    "    return None\n",
    "\n",
    "\n",
    "arr = [ 1, 4, 6, 5,12,13]\n",
    "result = find_pythagorean_triplet(arr)\n",
    "print(result)"
   ]
  },
  {
   "cell_type": "code",
   "execution_count": 9,
   "id": "a6d49c6d-a9fa-487d-977f-6f20951d09d3",
   "metadata": {},
   "outputs": [
    {
     "name": "stdout",
     "output_type": "stream",
     "text": [
      "Majority no is : 5\n"
     ]
    }
   ],
   "source": [
    "# Problem 8 : An element is a majority if it appears more than n/2 times. Give an algorithm takes an array of n element as argument and identifies a \n",
    "# majority (if it exists).\n",
    "\n",
    "def find_majority(arr,n):\n",
    "    maxcount = 0\n",
    "    index = -1\n",
    "    for i in range(n):\n",
    "        count = 1\n",
    "        for j in range(i+1, n):\n",
    "            if (arr[i] == arr[j]) :\n",
    "                count+=1\n",
    "                \n",
    "        if (maxcount < count):\n",
    "            maxcount = count\n",
    "            index = i\n",
    "    if (maxcount > n//2):\n",
    "        print(f\"Majority no is : {arr[index]}\")\n",
    "    else:\n",
    "        print(\"No Majority Found\")\n",
    "\n",
    "arr = [5, 5, 2,6, 5, 1,5]\n",
    "n = len(arr)\n",
    "find_majority(arr,n)\n",
    "\n"
   ]
  },
  {
   "cell_type": "code",
   "execution_count": 10,
   "id": "e7cae462-eb22-4aac-935b-a9dd6287a1bf",
   "metadata": {},
   "outputs": [
    {
     "name": "stdout",
     "output_type": "stream",
     "text": [
      "Row number = 3\n",
      "MaxCount = 4\n"
     ]
    }
   ],
   "source": [
    "# Problem 9 : Given n × n matrix, and in each row all 1’s are followed by 0’s. Find the row with the maximum number of 0’s.\n",
    "\n",
    "def findMax(arr):\n",
    "    N = len(arr)\n",
    "    MaxCount = 0\n",
    "    MaxCountRow = 0\n",
    "    for i in range(N):\n",
    "        count = 0\n",
    "        for j in range(N):\n",
    "            if arr[i][j] == 0:\n",
    "                count += 1\n",
    "        if count > MaxCount:\n",
    "            MaxCountRow = i + 1\n",
    "            MaxCount = count\n",
    "    print(\"Row number =\", MaxCountRow)\n",
    "    print(\"MaxCount =\", MaxCount)\n",
    "\n",
    "\n",
    "\n",
    "arr = [[0, 0, 0, 1],\n",
    "       [0, 0, 0, 1],\n",
    "       [0, 0, 0, 0],\n",
    "       [0, 1, 1, 1]]\n",
    "\n",
    "findMax(arr)\n"
   ]
  },
  {
   "cell_type": "code",
   "execution_count": 11,
   "id": "c6dcfc70-6d56-411e-9302-bd6b258da867",
   "metadata": {},
   "outputs": [
    {
     "name": "stdout",
     "output_type": "stream",
     "text": [
      "[0, 0, 0, 0, 0, 1, 1, 1, 1, 1, 2, 2]\n"
     ]
    }
   ],
   "source": [
    "# Problem 10 : Sort an array of 0’s, 1’s and 2’s [or R’s, G’s and B’s]: Given an array A[] consisting of 0’s, 1’s and 2’s, give an algorithm for sorting\n",
    "# A[].The algorithm should put all 0’s first, then all 1’s and finally all 2’s at the end. Example Input = {0,1,1,0,1,2,1,2,0,0,0,1}, \n",
    "# Output = {0,0,0,0,0,1,1,1,1,1,2,2}\n",
    "\n",
    "def sort_array(arr):\n",
    "    for i in range(len(arr)):\n",
    "        for j in range(i+1, len(arr)):\n",
    "            if (arr[i] >= arr[j]):\n",
    "                arr[i], arr[j] = arr[j], arr[i]\n",
    "    return arr\n",
    "arr = [0,1,1,0,1,2,1,2,0,0,0,1]\n",
    "result = sort_array(arr)\n",
    "print(result)\n"
   ]
  },
  {
   "cell_type": "code",
   "execution_count": null,
   "id": "bbbebc06-6205-45d0-ba26-e5d90001cf76",
   "metadata": {},
   "outputs": [],
   "source": []
  },
  {
   "cell_type": "code",
   "execution_count": null,
   "id": "9e9bf24d-56fc-4527-aea2-4e6eed7d05ea",
   "metadata": {},
   "outputs": [],
   "source": []
  }
 ],
 "metadata": {
  "kernelspec": {
   "display_name": "Python 3 (ipykernel)",
   "language": "python",
   "name": "python3"
  },
  "language_info": {
   "codemirror_mode": {
    "name": "ipython",
    "version": 3
   },
   "file_extension": ".py",
   "mimetype": "text/x-python",
   "name": "python",
   "nbconvert_exporter": "python",
   "pygments_lexer": "ipython3",
   "version": "3.10.8"
  }
 },
 "nbformat": 4,
 "nbformat_minor": 5
}
