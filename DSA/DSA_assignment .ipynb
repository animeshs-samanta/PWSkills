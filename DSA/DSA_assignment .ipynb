{
 "cells": [
  {
   "cell_type": "code",
   "execution_count": null,
   "id": "fe5a840f-aef6-4beb-bb93-5bafb4f3ba38",
   "metadata": {},
   "outputs": [],
   "source": []
  },
  {
   "cell_type": "code",
   "execution_count": 1,
   "id": "3cdc07c5-006e-4f9f-bdd4-c1fe0e26dc0d",
   "metadata": {},
   "outputs": [
    {
     "name": "stdout",
     "output_type": "stream",
     "text": [
      "5 -> 4 -> 3 -> 2 -> 1 -> "
     ]
    }
   ],
   "source": [
    "'''\n",
    "Problem 1: Reverse a singly linked list.\n",
    "Input: 1 -> 2 -> 3 -> 4 -> 5\n",
    "Output: 5 -> 4 -> 3 -> 2 -> 1\n",
    "'''\n",
    "\n",
    "class Node:\n",
    "    def __init__(self, data=None, next=None):\n",
    "        self.data = data\n",
    "        self.next = next\n",
    "\n",
    "    def setData(self, data):\n",
    "        self.data = data\n",
    "\n",
    "    def getData(self):\n",
    "        return self.data\n",
    "\n",
    "    def setNext(self, next):\n",
    "        self.next = next\n",
    "\n",
    "    def getNext(self):\n",
    "        return self.next\n",
    "\n",
    "def reverse_linked_list(head):\n",
    "    prev = None\n",
    "    current = head\n",
    "\n",
    "    while current is not None:\n",
    "        next_node = current.getNext()\n",
    "        current.setNext(prev)\n",
    "        prev = current\n",
    "        current = next_node\n",
    "\n",
    "    return prev\n",
    "\n",
    "head = Node(1)\n",
    "node2 = Node(2)\n",
    "node3 = Node(3)\n",
    "node4 = Node(4)\n",
    "node5 = Node(5)\n",
    "\n",
    "head.setNext(node2)\n",
    "node2.setNext(node3)\n",
    "node3.setNext(node4)\n",
    "node4.setNext(node5)\n",
    "\n",
    "result = reverse_linked_list(head)\n",
    "\n",
    "# Print the reversed linked list\n",
    "while result is not None:\n",
    "    print(result.getData(), end=\" -> \")\n",
    "    result = result.getNext()\n"
   ]
  },
  {
   "cell_type": "code",
   "execution_count": 2,
   "id": "8a370634-3aa7-42d0-9c93-df1b11cfb4ef",
   "metadata": {},
   "outputs": [
    {
     "name": "stdout",
     "output_type": "stream",
     "text": [
      "1->2->3->4->5->6->"
     ]
    }
   ],
   "source": [
    "'''\n",
    "Problem 2: Merge two sorted linked lists into one sorted linked list.\n",
    "Input: List 1: 1 -> 3 -> 5, List 2: 2 -> 4 -> 6\n",
    "Output: 1 -> 2 -> 3 -> 4 -> 5 -> 6\n",
    "'''\n",
    "class ListNode:\n",
    "    def __init__(self, value=0, next=None):\n",
    "        self.value = value\n",
    "        self.next = next\n",
    "        \n",
    "        \n",
    "        \n",
    "def merge_linked_list(list1, list2):\n",
    "    head = ListNode()\n",
    "    current = head\n",
    "    \n",
    "    while list1 is not None and list2 is not None:\n",
    "        if list1.value < list2.value :\n",
    "            current.next = list1\n",
    "            list1 = list1.next\n",
    "        \n",
    "        else:\n",
    "            current.next = list2\n",
    "            list2 = list2.next\n",
    "            \n",
    "        current = current.next\n",
    "    \n",
    "    #if any list has remaining element, append them\n",
    "    if list1 is not None:\n",
    "        current.next = list1\n",
    "    \n",
    "    if list2 is not None:\n",
    "        current.next = list2\n",
    "        \n",
    "    return head.next\n",
    " \n",
    "    \n",
    "\n",
    "#Traverse thr linklist\n",
    "def traverse(head):\n",
    "    temp = head\n",
    "    while(temp):\n",
    "        print(temp.value, end = \"->\")\n",
    "        temp = temp.next\n",
    "        \n",
    "    \n",
    "linked_list1 = ListNode(1, ListNode(3, ListNode(5))) \n",
    "linked_list2 = ListNode(2, ListNode(4, ListNode(6))) \n",
    "\n",
    "result = merge_linked_list(linked_list1, linked_list2)\n",
    "traverse(result)\n",
    "\n",
    "# while result is not None:\n",
    "#     print(result.value, end=\" -> \")\n",
    "#     result = result.next"
   ]
  },
  {
   "cell_type": "code",
   "execution_count": 3,
   "id": "33abc2f0-f13b-46f4-91dd-f5f772e5252b",
   "metadata": {},
   "outputs": [
    {
     "name": "stdout",
     "output_type": "stream",
     "text": [
      "3\n"
     ]
    }
   ],
   "source": [
    "#find the length of the linklist\n",
    "\n",
    "\n",
    "class ListNode:\n",
    "    def __init__(self, value=0, next=None):\n",
    "        self.value = value\n",
    "        self.next = next\n",
    "\n",
    "def length(head):\n",
    "    temp = head\n",
    "    len = 0\n",
    "    while(temp):\n",
    "        len+=1\n",
    "        temp = temp.next\n",
    "    return len\n",
    "\n",
    "linked_list2 = ListNode(2, ListNode(4, ListNode(6)))\n",
    "\n",
    "print(length(linked_list2))\n"
   ]
  },
  {
   "cell_type": "code",
   "execution_count": 4,
   "id": "77301d23-65aa-4756-89d0-5b81399045d6",
   "metadata": {},
   "outputs": [
    {
     "name": "stdout",
     "output_type": "stream",
     "text": [
      "Linked List before Deletion\n",
      "1->2->3->4->5->\n",
      "\n",
      "Linked List after Deletion\n",
      "1->2->3->5->"
     ]
    }
   ],
   "source": [
    "'''\n",
    "Problem 3: Remove the nth node from the end of a linked list\n",
    "Input: 1 -> 2 -> 3 -> 4 -> 5, n = 2\n",
    "Output: 1 -> 2 -> 3 -> 5\n",
    "'''\n",
    "class ListNode:\n",
    "    def __init__(self, value=0, next=None):\n",
    "        self.value = value\n",
    "        self.next = next\n",
    "        \n",
    "def delte_Node(head,n):\n",
    "    temp = head\n",
    "    prev = None\n",
    "    k = length(head) - n +1\n",
    "    \n",
    "    for i in range(1,k):\n",
    "        prev = temp\n",
    "        temp = temp.next\n",
    "    if (prev == None):\n",
    "        head = head.next\n",
    "        return head\n",
    "    else:\n",
    "        prev.next = prev.next.next\n",
    "        return head\n",
    "    \n",
    "    \n",
    "linked_list = ListNode(1, ListNode(2, ListNode(3, ListNode(4, ListNode(5)))))\n",
    "\n",
    "head = linked_list\n",
    "print(\"Linked List before Deletion\")\n",
    "traverse(head)\n",
    "\n",
    "print(\"\\n\\nLinked List after Deletion\") \n",
    "delte_Node(head,2)\n",
    "traverse(head)\n"
   ]
  },
  {
   "cell_type": "code",
   "execution_count": 5,
   "id": "5a82fa3f-c05a-4165-a399-1f02ab1e7b5e",
   "metadata": {},
   "outputs": [
    {
     "name": "stdout",
     "output_type": "stream",
     "text": [
      "Intersection Point: 3\n"
     ]
    }
   ],
   "source": [
    "'''\n",
    "Problem 4: Find the intersection point of two linked lists.\n",
    "Input: List 1: 1 -> 2 -> 3 -> 4, List 2: 9 -> 8 -> 3 -> 4\n",
    "Output: Node with value 3\n",
    "'''\n",
    "class ListNode:\n",
    "    def __init__(self, value=0, next=None):\n",
    "        self.value = value\n",
    "        self.next = next\n",
    "\n",
    "def intersectionNode(head1, head2):\n",
    "    while head2:\n",
    "        temp = head1\n",
    "        while temp:\n",
    "            # if both Node values are the same\n",
    "            if temp.value == head2.value:\n",
    "                return temp\n",
    "            temp = temp.next\n",
    "        head2 = head2.next\n",
    "    # intersection is not present between the lists\n",
    "    return None\n",
    "\n",
    "head1 = ListNode(1, ListNode(2, ListNode(3, ListNode(4))))\n",
    "head2 = ListNode(9, ListNode(8, ListNode(3, ListNode(4))))\n",
    "\n",
    "result = intersectionNode(head1, head2)\n",
    "\n",
    "if not result:\n",
    "    print(\"No Intersection Point\")\n",
    "else:\n",
    "    print(\"Intersection Point:\", result.value)\n"
   ]
  },
  {
   "cell_type": "code",
   "execution_count": 6,
   "id": "ca9abab1-7c4d-48b6-b892-40509c4ec9c0",
   "metadata": {},
   "outputs": [
    {
     "name": "stdout",
     "output_type": "stream",
     "text": [
      "Repeated elements: {1, 3}\n"
     ]
    }
   ],
   "source": [
    "'''\n",
    "Problem 5: Remove duplicates from a sorted linked list.\n",
    "Input: 1 -> 1 -> 2 -> 3 -> 3\n",
    "Output: 1 -> 2 ->\n",
    "'''\n",
    "class ListNode:\n",
    "    def __init__(self, value=0, next=None):\n",
    "        self.value = value\n",
    "        self.next = next\n",
    "\n",
    "def print_repeated_elements(head):\n",
    "    temp = head\n",
    "    repeated_elements = set()\n",
    "\n",
    "    while temp is not None and temp.next is not None:\n",
    "        if temp.value == temp.next.value:\n",
    "            repeated_elements.add(temp.value)\n",
    "        temp = temp.next\n",
    "\n",
    "    return repeated_elements\n",
    "\n",
    "\n",
    "linked_list = ListNode(1, ListNode(1, ListNode(2, ListNode(3, ListNode(3)))))\n",
    "result = print_repeated_elements(linked_list)\n",
    "\n",
    "# Print the modified linked list without duplicates\n",
    "if result:\n",
    "    print(\"Repeated elements:\", result)\n",
    "else:\n",
    "    print(\"No repeated elements.\")"
   ]
  },
  {
   "cell_type": "code",
   "execution_count": 7,
   "id": "8f45bb03-6002-40df-8ee3-cf4ea5108612",
   "metadata": {},
   "outputs": [
    {
     "name": "stdout",
     "output_type": "stream",
     "text": [
      "5\n"
     ]
    }
   ],
   "source": [
    "\n",
    "'''\n",
    "Problem 6: Add two numbers represented by linked lists (where each node contains a single digit).\n",
    "Input: List 1: 2 -> 4 -> 3, List 2: 5 -> 6 -> 4 (represents 342 + 465)\n",
    "Output: 7 -> 0 -> 8 (represents 807)\n",
    "'''\n",
    "\n",
    "class ListNode:\n",
    "    def __init__(self, value=0, next=None):\n",
    "        self.value = value\n",
    "        self.next = next\n",
    "\n",
    "def reverse_linked_list(head):\n",
    "    prev = None\n",
    "    current = head\n",
    "    while current is not None:\n",
    "        next_node = current.next\n",
    "        current.next = prev\n",
    "        prev = current\n",
    "        current = next_node\n",
    "    return prev.value\n",
    "\n",
    "def traverse(head):\n",
    "    current = head\n",
    "    while current is not None:\n",
    "        print(current.value, end=\" -> \")\n",
    "        current = current.next\n",
    "    print(\"\")\n",
    "\n",
    "\n",
    "def addTwoLists(first, second):\n",
    "    list1 = (reverse_linked_list(first))\n",
    "    list2 = str(reverse_linked_list(second))\n",
    "    \n",
    "    return str(list1)\n",
    "    \n",
    "linked_list = ListNode(1, ListNode(2, ListNode(3, ListNode(4, ListNode(5)))))\n",
    "\n",
    "first = ListNode(1, ListNode(2, ListNode(3, ListNode(4, ListNode(5)))))\n",
    "second = ListNode(1, ListNode(2, ListNode(3, ListNode(4, ListNode(5)))))\n",
    "\n",
    "head = linked_list\n",
    "head = reverse_linked_list(head)\n",
    "#traverse(head)\n",
    "\n",
    "result = addTwoLists(first, second)\n",
    "print(result)"
   ]
  },
  {
   "cell_type": "code",
   "execution_count": 8,
   "id": "598382f5-8290-4e36-9eb6-f560564864c7",
   "metadata": {},
   "outputs": [
    {
     "name": "stdout",
     "output_type": "stream",
     "text": [
      "2 -> 1 -> 4 -> 3 -> 5 -> \n"
     ]
    }
   ],
   "source": [
    "'''\n",
    "Problem 7: Swap nodes in pairs in a linked list.\n",
    "Input: 1 -> 2 -> 3 -> 4\n",
    "Output: 2 -> 1 -> 4 -> 3\n",
    "'''\n",
    "\n",
    "class ListNode:\n",
    "    def __init__(self, value=0, next=None):\n",
    "        self.value = value\n",
    "        self.next = next\n",
    "\n",
    "def length(head):\n",
    "    count = 0\n",
    "    while head is not None:\n",
    "        count += 1\n",
    "        head = head.next\n",
    "    return count\n",
    "\n",
    "def swapNodesInPairs(head):\n",
    "    temp = head\n",
    "    for i in range(0, length(head), 2):\n",
    "        if temp is not None and temp.next is not None:\n",
    "            temp.value, temp.next.value = temp.next.value, temp.value\n",
    "            temp = temp.next.next\n",
    "    return head\n",
    "\n",
    "def traverse(head):\n",
    "    while head is not None:\n",
    "        print(head.value, end=\" -> \")\n",
    "        head = head.next\n",
    "    print()\n",
    "\n",
    "linked_list = ListNode(1, ListNode(2, ListNode(3, ListNode(4, ListNode(5)))))\n",
    "\n",
    "head = linked_list\n",
    "head = swapNodesInPairs(head)\n",
    "traverse(head)\n"
   ]
  },
  {
   "cell_type": "code",
   "execution_count": null,
   "id": "68f63771-4249-405e-b3d4-9cb927971b59",
   "metadata": {},
   "outputs": [],
   "source": [
    "'''\n",
    "Problem 8: Reverse nodes in a linked list in groups of k.\n",
    "Input: 1 -> 2 -> 3 -> 4 -> 5, k = 3\n",
    "Output: 3 -> 2 -> 1 -> 4 -> 5\n",
    "'''\n"
   ]
  },
  {
   "cell_type": "code",
   "execution_count": 10,
   "id": "6128a34f-473b-4db2-bf45-6a79bf4cc89e",
   "metadata": {},
   "outputs": [
    {
     "name": "stdout",
     "output_type": "stream",
     "text": [
      "True\n"
     ]
    }
   ],
   "source": [
    "'''\n",
    "Problem 9: Determine if a linked list is a palindrome.\n",
    "Input: 1 -> 2 -> 2 -> 1\n",
    "Output: True\n",
    "'''\n",
    "\n",
    "class ListNode:\n",
    "    def __init__(self, value=None, next=None):\n",
    "        self.value = value\n",
    "        self.next = next\n",
    "\n",
    "def is_palindrome(head):\n",
    "    if head is None or head.next is None:\n",
    "        return True\n",
    "\n",
    "    # Find the middle of the linked list\n",
    "    slow = head\n",
    "    fast = head\n",
    "    while fast.next is not None and fast.next.next is not None:\n",
    "        slow = slow.next\n",
    "        fast = fast.next.next\n",
    "\n",
    "    # Reverse the second half of the linked list\n",
    "    second_half = reverse_linked_list(slow.next)\n",
    "    slow.next = None  # Break the link between the first and second halves\n",
    "\n",
    "    # Compare the reversed second half with the first half\n",
    "    return compare_linked_lists(head, second_half)\n",
    "\n",
    "def reverse_linked_list(head):\n",
    "    prev = None\n",
    "    current = head\n",
    "\n",
    "    while current is not None:\n",
    "        next_node = current.next\n",
    "        current.next = prev\n",
    "        prev = current\n",
    "        current = next_node\n",
    "\n",
    "    return prev\n",
    "\n",
    "def compare_linked_lists(list1, list2):\n",
    "    while list1 is not None and list2 is not None:\n",
    "        if list1.value != list2.value:\n",
    "            return False\n",
    "        list1 = list1.next\n",
    "        list2 = list2.next\n",
    "\n",
    "    # One of the lists might be longer than the other\n",
    "    # If both lists reach the end simultaneously, they are equal\n",
    "    return list1 is None and list2 is None\n",
    "\n",
    "\n",
    "head = ListNode(1, ListNode(2, ListNode(2, ListNode(1))))\n",
    "\n",
    "print(is_palindrome(head))\n"
   ]
  },
  {
   "cell_type": "code",
   "execution_count": 11,
   "id": "86b4ca51-64b7-48d5-b855-994783017ae4",
   "metadata": {},
   "outputs": [
    {
     "name": "stdout",
     "output_type": "stream",
     "text": [
      "4 -> 5 -> 1 -> 2 -> 3 -> \n"
     ]
    }
   ],
   "source": [
    "'''\n",
    "Problem 10: Rotate a linked list to the right by k places.\n",
    "Input: 1 -> 2 -> 3 -> 4 -> 5, k = 2\n",
    "Output: 4 -> 5 -> 1 -> 2 -> 3\n",
    "'''\n",
    "\n",
    "class ListNode:\n",
    "    def __init__(self, value=None, next=None):\n",
    "        self.value = value\n",
    "        self.next = next\n",
    "\n",
    "def rotateLL(head, k):\n",
    "    if k == 0:\n",
    "        return head\n",
    "    \n",
    "    temp = head\n",
    "    count = 0\n",
    "    \n",
    "    # Find the new head and break the linked list at the new head position\n",
    "    while(count < k and temp is not None):\n",
    "        temp = temp.next\n",
    "        count += 1\n",
    "        \n",
    "    if temp is None:\n",
    "        return head\n",
    "    \n",
    "    k_node = temp  # store the kth node\n",
    "    \n",
    "    while temp.next is not None:\n",
    "        temp = temp.next\n",
    "        \n",
    "    temp.next = head\n",
    "    head = k_node.next  # Reattach the broken part to the original head\n",
    "    \n",
    "    k_node.next = None\n",
    "    \n",
    "    return head  # return the new head\n",
    "\n",
    "def traverse(head):\n",
    "    while head is not None:\n",
    "        print(head.value, end=\" -> \")\n",
    "        head = head.next\n",
    "    print()\n",
    "\n",
    "\n",
    "head = ListNode(1, ListNode(2, ListNode(3, ListNode(4,ListNode(5)))))\n",
    "k = 2\n",
    "result = rotateLL(head, k)\n",
    "\n",
    "traverse(result)\n"
   ]
  },
  {
   "cell_type": "code",
   "execution_count": null,
   "id": "186ad109-41d0-4404-afbf-9b09c4b80574",
   "metadata": {},
   "outputs": [],
   "source": [
    "'''\n",
    "Problem 11: Flatten a multilevel doubly linked list.\n",
    "Input: 1 <-> 2 <-> 3 <-> 7 <-> 8 <-> 11 -> 12, 4 <-> 5 -> 9 -> 10, 6 -> 13\n",
    "Output: 1 <-> 2 <-> 3 <-> 4 <-> 5 <-> 6 <-> 7 <-> 8 <-> 9 <-> 10 <-> 11 <-> 12 <-> 13\n",
    "'''\n"
   ]
  },
  {
   "cell_type": "code",
   "execution_count": 13,
   "id": "64d5a104-06c4-48b0-b2ff-cbc8aa4e4ba9",
   "metadata": {},
   "outputs": [
    {
     "name": "stdout",
     "output_type": "stream",
     "text": [
      "Original Linked List:\n",
      "1 -> 2 -> 3 -> 4 -> 5 -> \n",
      "Rearranged Linked List:\n",
      "1 -> 3 -> 5 -> 2 -> 4 -> \n"
     ]
    }
   ],
   "source": [
    "'''\n",
    "Problem 12: Rearrange a linked list such that all even positioned nodes are placed at the end.\n",
    "Input: 1 -> 2 -> 3 -> 4 -> 5\n",
    "Output: 1 -> 3 -> 5 -> 2 -> 4\n",
    "'''\n",
    "\n",
    "class ListNode:\n",
    "    def __init__(self, value=None, next=None):\n",
    "        self.value = value\n",
    "        self.next = next\n",
    "\n",
    "\n",
    "def traverse(head):\n",
    "    while head is not None:\n",
    "        print(head.value, end=\" -> \")\n",
    "        head = head.next\n",
    "    print()\n",
    "\n",
    "def rearrange_linked_list(head):\n",
    "    if head is None or head.next is None or head.next.next is None:\n",
    "        # No rearrangement needed for small lists\n",
    "        return head\n",
    "\n",
    "    # Separate odd and even positioned nodes\n",
    "    odd_head = head\n",
    "    even_head = head.next\n",
    "    odd = odd_head\n",
    "    even = even_head\n",
    "\n",
    "    while even is not None and even.next is not None:\n",
    "        odd.next = even.next\n",
    "        odd = odd.next\n",
    "\n",
    "        even.next = odd.next\n",
    "        even = even.next\n",
    "\n",
    "    # Merge odd and even lists\n",
    "    odd.next = even_head\n",
    "\n",
    "    return odd_head\n",
    "\n",
    "\n",
    "head = ListNode(1, ListNode(2, ListNode(3, ListNode(4, ListNode(5)))))\n",
    "\n",
    "print(\"Original Linked List:\")\n",
    "traverse(head)\n",
    "\n",
    "head = rearrange_linked_list(head)\n",
    "print(\"Rearranged Linked List:\")\n",
    "traverse(head)\n"
   ]
  },
  {
   "cell_type": "code",
   "execution_count": null,
   "id": "43c0481f-635a-4c17-b275-e1877a933a39",
   "metadata": {},
   "outputs": [],
   "source": [
    "'''\n",
    "Problem 13: Given a non-negative number represented as a linked list, add one to it.\n",
    "Input: 1 -> 2 -> 3 (represents the number 123)\n",
    "Output: 1 -> 2 -> 4 (represents the number 124)\n",
    "'''\n",
    "\n"
   ]
  },
  {
   "cell_type": "code",
   "execution_count": 14,
   "id": "bc4d8ddd-fe74-4835-a467-bf824b7bf0a5",
   "metadata": {},
   "outputs": [
    {
     "name": "stdout",
     "output_type": "stream",
     "text": [
      "2\n"
     ]
    }
   ],
   "source": [
    "'''\n",
    "Problem 14: Given a sorted array and a target value, return the index if the target is found. If not, return the\n",
    "index where it would be inserted.\n",
    "Input: nums = [1, 3, 5, 6], target = 5\n",
    "Output: 2\n",
    "'''\n",
    "def find(arr, target):\n",
    "    left = 0\n",
    "    right = len(arr) -1\n",
    "    \n",
    "    while(left <= right):\n",
    "        mid = (left + right) //2\n",
    "        \n",
    "        if arr[mid] == target:\n",
    "            return mid\n",
    "        \n",
    "        if arr[mid] < target:\n",
    "            left = mid+1\n",
    "        else:\n",
    "            right = mid - 1\n",
    "        \n",
    "        if arr[mid] > target:\n",
    "            right = mid -1 \n",
    "        else:\n",
    "            left = mid + 1\n",
    "            \n",
    "nums = [1, 3, 5, 6]\n",
    "target = 5\n",
    "result = find(nums, target)\n",
    "print(result)"
   ]
  },
  {
   "cell_type": "code",
   "execution_count": 16,
   "id": "9d47446a-a0a2-4cc3-9056-0eefba4bb3b0",
   "metadata": {},
   "outputs": [
    {
     "name": "stdout",
     "output_type": "stream",
     "text": [
      "0\n"
     ]
    }
   ],
   "source": [
    "'''\n",
    "Problem 15: Find the minimum element in a rotated sorted array.\n",
    "Input: [4, 5, 6, 7, 0, 1, 2]\n",
    "Output: 0\n",
    "'''\n",
    "def find_min(nums):\n",
    "    left, right = 0, len(nums) - 1\n",
    "\n",
    "    while left < right:\n",
    "        mid = (left + right) // 2\n",
    "\n",
    "        if nums[mid] > nums[right]:\n",
    "            left = mid + 1\n",
    "        else:\n",
    "            right = mid\n",
    "\n",
    "    return nums[left]\n",
    "\n",
    "\n",
    "nums = [4, 5, 6, 7, 0, 1, 2]\n",
    "result = find_min(nums)\n",
    "print(result) \n",
    "\n"
   ]
  },
  {
   "cell_type": "code",
   "execution_count": 17,
   "id": "d9851662-e254-4c0f-8a8a-f913f925b465",
   "metadata": {},
   "outputs": [
    {
     "name": "stdout",
     "output_type": "stream",
     "text": [
      "4\n"
     ]
    }
   ],
   "source": [
    "'''\n",
    "Problem 16: Search for a target value in a rotated sorted array.\n",
    "Input: nums = [4, 5, 6, 7, 0, 1, 2], target = 0\n",
    "Output: 4\n",
    "'''\n",
    "def findTarget(nums,  target):\n",
    "    left = 0\n",
    "    right = len(nums) -1 \n",
    "    while left <= right:\n",
    "        mid = (left + right) // 2\n",
    "        if nums[mid] == target:\n",
    "            return mid\n",
    "        \n",
    "        #check the lft element\n",
    "        if nums[left] <= nums[mid]:\n",
    "            if nums[left] <= target < nums[mid]:   #Check the target element present between left and mid\n",
    "                right = mid - 1\n",
    "            else:\n",
    "                left = mid + 1\n",
    "        \n",
    "        #check the right element\n",
    "        else:\n",
    "            if nums[mid] < target <= nums[right]:    #Check the target element present between mid and right\n",
    "                left = mid + 1\n",
    "            else:\n",
    "                right = mid - 1\n",
    "    return -1 \n",
    "    \n",
    "nums =  [4, 5, 6, 7, 0, 1, 2]\n",
    "target = 0\n",
    "result = findTarget(nums,  target)\n",
    "print(result)"
   ]
  },
  {
   "cell_type": "code",
   "execution_count": 18,
   "id": "46f54d75-3723-4e13-b143-297acd3ac3c2",
   "metadata": {},
   "outputs": [
    {
     "name": "stdout",
     "output_type": "stream",
     "text": [
      "2\n"
     ]
    }
   ],
   "source": [
    "'''\n",
    "Problem 17: Find the peak element in an array. A peak element is greater than its neighbors.\n",
    "Input: nums = [1, 2, 3, 1]\n",
    "Output: 2 (index of peak element)\n",
    "'''\n",
    "\n",
    "'''\n",
    "def findPeakElement(arr):\n",
    "    peakElement = arr[0]\n",
    "    index = -1\n",
    "    for i in range(1,len(arr)):\n",
    "        if arr[i] > peakElement:\n",
    "            peakElement = arr[i]\n",
    "            index = i\n",
    "    return index\n",
    "\n",
    "arr = [1, 2, 3, 1]\n",
    "result = findPeakElement(arr)\n",
    "print(result)\n",
    "'''\n",
    "def findPeakElement(nums):\n",
    "    left, right = 0, len(nums) - 1\n",
    "\n",
    "    while left < right:\n",
    "        mid = (left + right) // 2\n",
    "\n",
    "        if nums[mid] > nums[mid + 1]:\n",
    "            # If the mid element is greater than the element to its right,\n",
    "            # a peak element must be on the left side, including mid.\n",
    "            right = mid\n",
    "        else:\n",
    "            # If the mid element is less than or equal to the element to its right,\n",
    "            # a peak element must be on the right side, excluding mid.\n",
    "            left = mid + 1\n",
    "\n",
    "    return left  # 'left' will be the index of the peak element\n",
    "\n",
    "\n",
    "arr = [1, 2, 3, 1]\n",
    "result = findPeakElement(arr)\n",
    "print(result)"
   ]
  },
  {
   "cell_type": "code",
   "execution_count": 19,
   "id": "6476500e-adbc-4f6f-a618-ddd1132ae9a6",
   "metadata": {},
   "outputs": [
    {
     "name": "stdout",
     "output_type": "stream",
     "text": [
      "8\n"
     ]
    }
   ],
   "source": [
    "'''\n",
    "Problem 18: Given a m x n matrix where each row and column is sorted in ascending order, count the number\n",
    "of negative numbers.\n",
    "Input: grid = [[4, 3, 2, -1], [3, 2, 1, -1], [1, 1, -1, -2], [-1, -1, -2, -3]]\n",
    "Output: 8\n",
    "'''\n",
    "\n",
    "def countNegative(matrix):\n",
    "    rows, cols = len(matrix), len(matrix[0])\n",
    "    count = 0\n",
    "    for i in range(rows):\n",
    "        for j in range(cols):\n",
    "            if matrix[i][j] < 0:\n",
    "                count += 1\n",
    "    return count\n",
    "    \n",
    "    \n",
    "matrix = [[4, 3, 2, -1], [3, 2, 1, -1], [1, 1, -1, -2], [-1, -1, -2, -3]]\n",
    "result = countNegative(matrix)\n",
    "print(result)"
   ]
  },
  {
   "cell_type": "code",
   "execution_count": 20,
   "id": "a3be2aed-09db-491f-b3c4-f4f9783607b8",
   "metadata": {},
   "outputs": [
    {
     "name": "stdout",
     "output_type": "stream",
     "text": [
      "True\n"
     ]
    }
   ],
   "source": [
    "'''\n",
    "Problem 19: Given a 2D matrix sorted in ascending order in each row, and the first integer of each row is\n",
    "greater than the last integer of the previous row, determine if a target value is present in the matrix.\n",
    "Input: matrix = [[1, 3, 5, 7], [10, 11, 16, 20], [23, 30, 34, 60]], target = 3\n",
    "Output: True\n",
    "'''\n",
    "\n",
    "def search_matrix(matrix, target):\n",
    "    if not matrix or not matrix[0]:\n",
    "        return False\n",
    "\n",
    "    rows, cols = len(matrix), len(matrix[0])\n",
    "    low, high = 0, rows * cols - 1\n",
    "\n",
    "    while low <= high:\n",
    "        mid = (low + high) // 2\n",
    "        mid_value = matrix[mid // cols][mid % cols]\n",
    "\n",
    "        if mid_value == target:\n",
    "            return True\n",
    "        elif mid_value < target:\n",
    "            low = mid + 1\n",
    "        else:\n",
    "            high = mid - 1\n",
    "\n",
    "    return False\n",
    "\n",
    "\n",
    "matrix = [[1, 3, 5, 7], [10, 11, 16, 20], [23, 30, 34, 60]]\n",
    "target = 3\n",
    "result = search_matrix(matrix, target)\n",
    "print(result)\n",
    "\n",
    "    "
   ]
  },
  {
   "cell_type": "code",
   "execution_count": 21,
   "id": "b64d84f2-666f-4f4c-a097-dc354e43f410",
   "metadata": {},
   "outputs": [
    {
     "name": "stdout",
     "output_type": "stream",
     "text": [
      "2\n"
     ]
    }
   ],
   "source": [
    "'''\n",
    "Problem 20: Find Median in Two Sorted Arrays\n",
    "Problem: Given two sorted arrays, find the median of the combined sorted array.\n",
    "Input: nums1 = [1, 3], nums2 = [2]\n",
    "Output: 2.0\n",
    "'''\n",
    "def findMedian(num1, num2):\n",
    "    num1.extend(num2)\n",
    "    n = len(num1)\n",
    "    num1.sort()\n",
    "    if n%2 == 0:\n",
    "        median = (num1[n/2] + num1[n/2 + 1]) / 2\n",
    "    else:\n",
    "        median = num1[n//2]\n",
    "    return median\n",
    "\n",
    "num1 = [1, 3]\n",
    "num2 = [2]\n",
    "result = findMedian(num1, num2)\n",
    "print(result)"
   ]
  },
  {
   "cell_type": "code",
   "execution_count": 22,
   "id": "2e0f9760-23b2-4cbc-a42d-f186c51f68b2",
   "metadata": {},
   "outputs": [
    {
     "name": "stdout",
     "output_type": "stream",
     "text": [
      "c\n"
     ]
    }
   ],
   "source": [
    "'''\n",
    "Problem 21: Given a sorted character array and a target letter, find the smallest letter in the array that is greater than the target.\n",
    "Input: letters = ['c', 'f', 'j'], target = 'a'\n",
    "Output: 'c'\n",
    "'''\n",
    "def findChar(letters, target):\n",
    "    for char in letters:\n",
    "        if target < char:\n",
    "            print(char)\n",
    "            break\n",
    "\n",
    "letters = ['c', 'f', 'j']\n",
    "target = 'a'\n",
    "findChar(letters, target)"
   ]
  },
  {
   "cell_type": "code",
   "execution_count": 23,
   "id": "706f66b1-24dc-49cc-a172-a174156d53c3",
   "metadata": {},
   "outputs": [
    {
     "name": "stdout",
     "output_type": "stream",
     "text": [
      "[0, 0, 1, 1, 2, 2]\n"
     ]
    }
   ],
   "source": [
    "'''\n",
    "Problem 22: Given an array with n objects colored red, white, or blue, sort them in-place so that objects of\n",
    "the same color are adjacent, with the colors in the order red, white, and blue.\n",
    "Input: nums = [2, 0, 2, 1, 1, 0]\n",
    "Output: [0, 0, 1, 1, 2, 2]\n",
    "'''\n",
    "\n",
    "def sort_array(arr):\n",
    "    for i in range(len(arr)):\n",
    "        for j in range(i+1, len(arr)):\n",
    "            if (arr[i] >= arr[j]):\n",
    "                arr[i], arr[j] = arr[j], arr[i]\n",
    "    return arr\n",
    "arr = [2, 0, 2, 1, 1, 0]\n",
    "result = sort_array(arr)\n",
    "print(result)\n"
   ]
  },
  {
   "cell_type": "code",
   "execution_count": 24,
   "id": "93734c81-cd40-4ae5-bcfb-51d963d8df28",
   "metadata": {},
   "outputs": [
    {
     "name": "stdout",
     "output_type": "stream",
     "text": [
      "5\n"
     ]
    }
   ],
   "source": [
    "'''\n",
    "Problem 23: Find the kth largest element in an unsorted array.\n",
    "Input: nums = [3, 2, 1, 5, 6, 4], k = 2\n",
    "Output: 5\n",
    "'''\n",
    "def findKthLargest(arr, k):\n",
    "    sorted = False\n",
    "    while not sorted:\n",
    "        sorted = True\n",
    "        for i in range(len(arr) - 1):\n",
    "            if arr[i] < arr[i + 1]:\n",
    "                arr[i], arr[i + 1] = arr[i + 1], arr[i]\n",
    "                sorted = False\n",
    "    \n",
    "    return arr[k-1]\n",
    "arr = [3, 2, 1, 5, 6, 4]\n",
    "k = 2\n",
    "result = findKthLargest(arr, k)\n",
    "print(result)"
   ]
  },
  {
   "cell_type": "code",
   "execution_count": 25,
   "id": "ad6144e4-e177-47b6-bc90-e6ed6eb5a963",
   "metadata": {},
   "outputs": [
    {
     "name": "stdout",
     "output_type": "stream",
     "text": [
      "[3, 5, 1, 6, 2, 4]\n"
     ]
    }
   ],
   "source": [
    "'''\n",
    "Problem 24: Given an unsorted array, reorder it in-place such that nums[0] <= nums[1] >= nums[2] <=nums[3]...\n",
    "Input: nums = [3, 5, 2, 1, 6, 4]\n",
    "Output: [3, 5, 1, 6, 2, 4]\n",
    "'''\n",
    "def setOrder(arr):\n",
    "    n = len(arr)\n",
    "    for i in range(1,n,2):\n",
    "        #compare with the left element\n",
    "        if(i>0 and arr[i-1] > arr[i]):\n",
    "            arr[i-1], arr[i] = arr[i], arr[i-1]\n",
    "        \n",
    "        #compare with the right element\n",
    "        if(i< n-1 and arr[i] < arr[i+1]):\n",
    "            arr[i], arr[i+1] = arr[i+1], arr[i]\n",
    "    return arr\n",
    "\n",
    "arr = [3, 5, 2, 1, 6, 4]\n",
    "result = setOrder(arr)\n",
    "print(result)"
   ]
  },
  {
   "cell_type": "code",
   "execution_count": 26,
   "id": "0b023459-e83d-40f4-8594-4127079d2bd4",
   "metadata": {},
   "outputs": [
    {
     "name": "stdout",
     "output_type": "stream",
     "text": [
      "15\n"
     ]
    }
   ],
   "source": [
    "'''\n",
    "Problem 25: Given an array of integers, calculate the sum of all its elements.\n",
    "Input: [1, 2, 3, 4, 5]\n",
    "Output: 15\n",
    "'''\n",
    "def calculateSum(arr):\n",
    "    sum = 0\n",
    "    for i in range(len(arr)):\n",
    "        sum += arr[i]\n",
    "    return sum\n",
    "\n",
    "arr = [1, 2, 3, 4, 5]\n",
    "result = calculateSum(arr)\n",
    "print(result)"
   ]
  },
  {
   "cell_type": "code",
   "execution_count": 27,
   "id": "635de0c1-7f24-44c6-84b4-9767c569310e",
   "metadata": {},
   "outputs": [
    {
     "name": "stdout",
     "output_type": "stream",
     "text": [
      "9\n"
     ]
    }
   ],
   "source": [
    "'''\n",
    "Problem 26: Find the maximum element in an array of integers.\n",
    "Input: [3, 7, 2, 9, 4, 1]\n",
    "Output: 9\n",
    "'''\n",
    "def findMax(arr):\n",
    "    max_element = arr[0]\n",
    "    for i in range(1,len(arr)):\n",
    "        if arr[i]> max_element:\n",
    "            max_element = arr[i]\n",
    "    return max_element\n",
    "\n",
    "arr = [3, 7, 2, 9, 4, 1]\n",
    "result = findMax(arr)\n",
    "print(result)"
   ]
  },
  {
   "cell_type": "code",
   "execution_count": 28,
   "id": "6452a17b-dafb-463d-9228-0a4b5f07123a",
   "metadata": {},
   "outputs": [
    {
     "name": "stdout",
     "output_type": "stream",
     "text": [
      "2\n"
     ]
    }
   ],
   "source": [
    "'''\n",
    "Problem 27: Implement linear search to find the index of a target element in an array.\n",
    "Input: [5, 3, 8, 2, 7, 4], target = 8\n",
    "Output: 2\n",
    "'''\n",
    "def linearSearch(arr, target):\n",
    "    for i in range(len(arr)):\n",
    "        if arr[i] == target:\n",
    "            return i\n",
    "    return -1\n",
    "\n",
    "arr = [5, 3, 8, 2, 7, 4]\n",
    "target = 8\n",
    "result = linearSearch(arr, target)\n",
    "print(result)"
   ]
  },
  {
   "cell_type": "code",
   "execution_count": 29,
   "id": "d6a4cd97-c956-4c76-9853-c6e71d09e0d3",
   "metadata": {},
   "outputs": [
    {
     "name": "stdout",
     "output_type": "stream",
     "text": [
      "120\n"
     ]
    }
   ],
   "source": [
    "'''\n",
    "Problem 28 Calculate the factorial of a given number.\n",
    "Input: 5\n",
    "Output: 120 (as 5! = 5 * 4 * 3 * 2 * 1 = 120)\n",
    "'''\n",
    "def factorial(num):\n",
    "    if(num == 1 or num == 0):\n",
    "        return 1\n",
    "    return num* factorial(num -1)\n",
    "\n",
    "result = factorial(5)\n",
    "print(result)"
   ]
  },
  {
   "cell_type": "code",
   "execution_count": 30,
   "id": "fa8478e9-3966-4e80-a493-e7fb19e8c1cc",
   "metadata": {},
   "outputs": [
    {
     "name": "stdout",
     "output_type": "stream",
     "text": [
      "True\n"
     ]
    }
   ],
   "source": [
    "'''\n",
    "Problem 29: Check if a given number is a prime number.\n",
    "Input: 7\n",
    "Output: True\n",
    "'''\n",
    "\n",
    "def checkPrime(num):\n",
    "    prime = True\n",
    "    if num == 1:\n",
    "        return\n",
    "    for i in range(2, int(num**.5)):\n",
    "        if num % i == 0:\n",
    "            prime = False\n",
    "            break\n",
    "    return prime\n",
    "\n",
    "result = checkPrime(7)\n",
    "print(result)"
   ]
  },
  {
   "cell_type": "code",
   "execution_count": 31,
   "id": "06a1d2fa-8c03-48b2-9538-5d7be5337ba3",
   "metadata": {},
   "outputs": [
    {
     "name": "stdout",
     "output_type": "stream",
     "text": [
      "0 1 1 2 3 5 8 13 "
     ]
    }
   ],
   "source": [
    "'''\n",
    "Problem 30: Generate the Fibonacci series up to a given number n.\n",
    "Input: 8\n",
    "Output: [0, 1, 1, 2, 3, 5, 8, 13]\n",
    "'''\n",
    "def fibonacci(num):\n",
    "    a,b = 0,1\n",
    "    for _ in range(num):\n",
    "        print(a , end = \" \")\n",
    "        a , b = b, b+a\n",
    "        \n",
    "fibonacci(8)"
   ]
  },
  {
   "cell_type": "code",
   "execution_count": 32,
   "id": "9d6a45fd-b980-4746-bd79-9662f9fbfd48",
   "metadata": {},
   "outputs": [
    {
     "name": "stdout",
     "output_type": "stream",
     "text": [
      "81\n"
     ]
    }
   ],
   "source": [
    "'''\n",
    "Problem 31: Calculate the power of a number using recursion.\n",
    "Input: base = 3, exponent = 4\n",
    "Output: 81 (as 3^4 = 3 * 3 * 3 * 3 = 81)\n",
    "'''\n",
    "def powRec(base, exponent):\n",
    "    if exponent == 1:\n",
    "        return base\n",
    "    return base * powRec(base, exponent-1)\n",
    "\n",
    "base = 3\n",
    "exponent = 4\n",
    "result = powRec(base, exponent)\n",
    "print(result)"
   ]
  },
  {
   "cell_type": "code",
   "execution_count": 33,
   "id": "735fbdf3-9237-453c-bdb3-4bf328b75fe3",
   "metadata": {},
   "outputs": [
    {
     "name": "stdout",
     "output_type": "stream",
     "text": [
      "olleh"
     ]
    }
   ],
   "source": [
    "'''\n",
    "Problem 32: Reverse a given string.\n",
    "Input: \"hello\"\n",
    "Output: \"olleh\"\n",
    "'''\n",
    "def reverse(string):\n",
    "    for i in range(len(string)-1,-1,-1):\n",
    "        print(string[i], end=\"\")\n",
    "reverse(\"hello\")"
   ]
  },
  {
   "cell_type": "code",
   "execution_count": null,
   "id": "f23dabe6-e7e1-41f7-9873-5cec8e60a94c",
   "metadata": {},
   "outputs": [],
   "source": []
  }
 ],
 "metadata": {
  "kernelspec": {
   "display_name": "Python 3 (ipykernel)",
   "language": "python",
   "name": "python3"
  },
  "language_info": {
   "codemirror_mode": {
    "name": "ipython",
    "version": 3
   },
   "file_extension": ".py",
   "mimetype": "text/x-python",
   "name": "python",
   "nbconvert_exporter": "python",
   "pygments_lexer": "ipython3",
   "version": "3.10.8"
  }
 },
 "nbformat": 4,
 "nbformat_minor": 5
}
