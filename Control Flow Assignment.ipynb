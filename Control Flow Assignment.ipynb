{
 "cells": [
  {
   "cell_type": "markdown",
   "id": "6500f953-63da-4d06-bbf5-d1092d50fd1c",
   "metadata": {},
   "source": [
    "----------------Basic If-Else Statements:------------------\n"
   ]
  },
  {
   "cell_type": "code",
   "execution_count": 2,
   "id": "02f7fbfe-d33c-41da-bf7e-de88397a17ca",
   "metadata": {},
   "outputs": [
    {
     "name": "stdin",
     "output_type": "stream",
     "text": [
      "Enter a number:  -6\n"
     ]
    },
    {
     "name": "stdout",
     "output_type": "stream",
     "text": [
      "The no is Negative\n"
     ]
    }
   ],
   "source": [
    "# 1. Write a Python program to check if a given number is positive or negative.\n",
    "\n",
    "n=int(input(\"Enter a number: \"))\n",
    "if(n>=0):\n",
    "    print(\"The no is Positive\")\n",
    "else:\n",
    "     print(\"The no is Negative\")"
   ]
  },
  {
   "cell_type": "code",
   "execution_count": 3,
   "id": "beb054c2-2720-493b-8453-e51610a9b598",
   "metadata": {},
   "outputs": [
    {
     "name": "stdin",
     "output_type": "stream",
     "text": [
      "Enter your are:  34\n"
     ]
    },
    {
     "name": "stdout",
     "output_type": "stream",
     "text": [
      "You are eligible to vote\n"
     ]
    }
   ],
   "source": [
    "# 2. Create a program that determines if a person is eligible to vote based on their age.\n",
    "\n",
    "age=int(input(\"Enter your are: \"))\n",
    "if(age>=18):\n",
    "    print(\"You are eligible to vote\")\n",
    "else:\n",
    "     print(\"Tour are not eligible to vote\")"
   ]
  },
  {
   "cell_type": "code",
   "execution_count": 4,
   "id": "e0b351b9-bd1c-49a3-a743-e0c5cfc79353",
   "metadata": {},
   "outputs": [
    {
     "name": "stdin",
     "output_type": "stream",
     "text": [
      "Enter the 1st  number:  54\n",
      "Enter the 2nd  number:  23\n"
     ]
    },
    {
     "name": "stdout",
     "output_type": "stream",
     "text": [
      "54 is the max no\n"
     ]
    }
   ],
   "source": [
    "# 3. Develop a program to find the maximum of two numbers using if-else statements.\n",
    "\n",
    "n1=int(input(\"Enter the 1st  number: \"))\n",
    "n2=int(input(\"Enter the 2nd  number: \"))\n",
    "if(n1>n2):\n",
    "    print(f\"{n1} is the max no\")\n",
    "else:\n",
    "     print(f\"{n2} is the max no\")"
   ]
  },
  {
   "cell_type": "code",
   "execution_count": 5,
   "id": "21f238d7-bcb6-4c57-8c1a-142109a39950",
   "metadata": {},
   "outputs": [
    {
     "name": "stdin",
     "output_type": "stream",
     "text": [
      "Enter the year:  2000\n"
     ]
    },
    {
     "name": "stdout",
     "output_type": "stream",
     "text": [
      "2000 is Leap Year\n"
     ]
    }
   ],
   "source": [
    "# 4. Write a Python script to classify a given year as a leap year or not.\n",
    "\n",
    "year=int(input(\"Enter the year: \"))\n",
    "if((year%4==0 and year%100!=0) or (year%400==0)):\n",
    "    print(f\"{year} is Leap Year\")\n",
    "else:\n",
    "     print(f\"{year} is not Leap Year\")"
   ]
  },
  {
   "cell_type": "code",
   "execution_count": 7,
   "id": "c320058f-1378-437f-aa8d-4f44c1df15cb",
   "metadata": {},
   "outputs": [
    {
     "name": "stdin",
     "output_type": "stream",
     "text": [
      "Enter a char: E\n"
     ]
    },
    {
     "name": "stdout",
     "output_type": "stream",
     "text": [
      "E is vowel\n"
     ]
    }
   ],
   "source": [
    "# 5. Create a program that checks whether a character is a vowel or a consonant.\n",
    "\n",
    "char=input(\"Enter a char:\")\n",
    "if char in 'aeiouAEIOU':\n",
    "    print(f\"{char} is vowel\")\n",
    "else:\n",
    "    print(f\"{char} is Consonant\")"
   ]
  },
  {
   "cell_type": "code",
   "execution_count": 8,
   "id": "981054ba-e15e-446a-95d1-f1c982e4ccb3",
   "metadata": {},
   "outputs": [
    {
     "name": "stdin",
     "output_type": "stream",
     "text": [
      "Enter a number:  56\n"
     ]
    },
    {
     "name": "stdout",
     "output_type": "stream",
     "text": [
      "56 is Even\n"
     ]
    }
   ],
   "source": [
    "# 6. Implement a program to determine whether a given number is even or odd.\n",
    "\n",
    "n=int(input(\"Enter a number: \"))\n",
    "if (n%2==0):\n",
    "    print(f\"{n} is Even\")\n",
    "else:\n",
    "    print(f\"{n} is Odd\")"
   ]
  },
  {
   "cell_type": "code",
   "execution_count": 9,
   "id": "f14cba24-bf4c-49a5-95b8-532a3f38b664",
   "metadata": {},
   "outputs": [
    {
     "name": "stdin",
     "output_type": "stream",
     "text": [
      "Enter a number:  -6\n"
     ]
    },
    {
     "name": "stdout",
     "output_type": "stream",
     "text": [
      "6\n"
     ]
    }
   ],
   "source": [
    "# 7. Write a Python function to calculate the absolute value of a number without using the `abs()` function.\n",
    "\n",
    "n=int(input(\"Enter a number: \"))\n",
    "if (n<0):\n",
    "    print(-n)\n",
    "else:\n",
    "    print(n)"
   ]
  },
  {
   "cell_type": "code",
   "execution_count": 10,
   "id": "7c433d32-ab0e-4e3c-9d0e-c7220f2ab553",
   "metadata": {},
   "outputs": [
    {
     "name": "stdin",
     "output_type": "stream",
     "text": [
      "Enter the 1st  number:  76\n",
      "Enter the 2nd  number:  34\n",
      "Enter the 3rd  number:  98\n"
     ]
    },
    {
     "name": "stdout",
     "output_type": "stream",
     "text": [
      "98 is the max no\n"
     ]
    }
   ],
   "source": [
    "# 8. Develop a program that determines the largest of three given numbers using if-else statements.\n",
    "\n",
    "n1=int(input(\"Enter the 1st  number: \"))\n",
    "n2=int(input(\"Enter the 2nd  number: \"))\n",
    "n3=int(input(\"Enter the 3rd  number: \"))\n",
    "if(n1>n2 and n1>n3):\n",
    "    print(f\"{n1} is the max no\")\n",
    "elif(n2>n1 and  n2>n3):\n",
    "    print(f\"{n2} is the max no\")\n",
    "else:\n",
    "     print(f\"{n3} is the max no\")"
   ]
  },
  {
   "cell_type": "code",
   "execution_count": 11,
   "id": "b2e10ffc-6f9d-46bc-8e47-329a5ebda078",
   "metadata": {},
   "outputs": [
    {
     "name": "stdin",
     "output_type": "stream",
     "text": [
      "Enter a string:  mom\n"
     ]
    },
    {
     "name": "stdout",
     "output_type": "stream",
     "text": [
      "The string is Palindrome\n"
     ]
    }
   ],
   "source": [
    "# 9. Create a program that checks if a given string is a palindrome.\n",
    "\n",
    "char=input(\"Enter a string: \")\n",
    "char=char.lower()\n",
    "if (char==char[::-1]):\n",
    "    print(\"The string is Palindrome\")\n",
    "else:\n",
    "    print(\"The string is not Palindrome\") "
   ]
  },
  {
   "cell_type": "code",
   "execution_count": 12,
   "id": "61c1a113-dc43-405c-8563-ef0ba64db17c",
   "metadata": {},
   "outputs": [
    {
     "name": "stdin",
     "output_type": "stream",
     "text": [
      "Enter the number of student:  89\n"
     ]
    },
    {
     "name": "stdout",
     "output_type": "stream",
     "text": [
      "Your grade is 'B'\n"
     ]
    }
   ],
   "source": [
    "# 10. Write a Python program to calculate the grade based on a student's score.\n",
    "\n",
    "n1=int(input(\"Enter the number of student: \"))\n",
    "if(n1>=90):\n",
    "    print(\"Your grade is 'A'\")\n",
    "elif(n1>=80):\n",
    "    print(\"Your grade is 'B'\")\n",
    "elif(n1>=70):\n",
    "     print(\"Your grade is 'C'\")\n",
    "elif(n1>=60):\n",
    "    print(\"Your grade is 'D'\")\n",
    "else:\n",
    "    print(\"Fail\")"
   ]
  },
  {
   "cell_type": "code",
   "execution_count": null,
   "id": "9136dc6e-c5da-4cda-a649-ee111cfd4e41",
   "metadata": {},
   "outputs": [],
   "source": []
  },
  {
   "cell_type": "code",
   "execution_count": null,
   "id": "cd5dbdc7-6e91-4331-9397-20f058ebda18",
   "metadata": {},
   "outputs": [],
   "source": []
  },
  {
   "cell_type": "markdown",
   "id": "d062d703-73d0-4d4b-b02c-646014bb105e",
   "metadata": {},
   "source": [
    "--------------------Nested If-Else Statements: ------------------"
   ]
  },
  {
   "cell_type": "code",
   "execution_count": null,
   "id": "f0c79f44-a7ae-49ea-9c48-8dbf4f26da71",
   "metadata": {},
   "outputs": [],
   "source": []
  },
  {
   "cell_type": "code",
   "execution_count": 13,
   "id": "4438524c-b084-44c7-943d-5cbae27b8c61",
   "metadata": {},
   "outputs": [
    {
     "name": "stdin",
     "output_type": "stream",
     "text": [
      "Enter the 1st  number:  56\n",
      "Enter the 2nd  number:  34\n",
      "Enter the 3rd  number:  12\n"
     ]
    },
    {
     "name": "stdout",
     "output_type": "stream",
     "text": [
      "56 is the max no\n"
     ]
    }
   ],
   "source": [
    "# 11. Write a program to find the largest among three numbers using nested if-else statements.\n",
    "\n",
    "n1=int(input(\"Enter the 1st  number: \"))\n",
    "n2=int(input(\"Enter the 2nd  number: \"))\n",
    "n3=int(input(\"Enter the 3rd  number: \"))\n",
    "if(n1>n2 and n1>n3):\n",
    "    print(f\"{n1} is the max no\")\n",
    "elif(n2>n1 and  n2>n3):\n",
    "    print(f\"{n2} is the max no\")\n",
    "else:\n",
    "     print(f\"{n3} is the max no\")"
   ]
  },
  {
   "cell_type": "code",
   "execution_count": 14,
   "id": "58fe6f75-75f5-467e-830e-c0c40b26d124",
   "metadata": {},
   "outputs": [
    {
     "name": "stdin",
     "output_type": "stream",
     "text": [
      "Enter the 1st side:  50\n",
      "Enter the 2nd side:  54\n",
      "Enter the 3rd side:  80\n"
     ]
    },
    {
     "name": "stdout",
     "output_type": "stream",
     "text": [
      "Scalene triangle\n"
     ]
    }
   ],
   "source": [
    "# 12. Implement a program to determine if a triangle is equilateral, isosceles, or scalene.\n",
    "\n",
    "n1=int(input(\"Enter the 1st side: \"))\n",
    "n2=int(input(\"Enter the 2nd side: \"))\n",
    "n3=int(input(\"Enter the 3rd side: \"))\n",
    "if(n1==n2 and n2==n3):\n",
    "    print(\"Equilateral triangle\")\n",
    "elif(n1==n2 or n1==n3 or n2==n3):\n",
    "    print(\"Isosceles triangle\")\n",
    "else:\n",
    "     print(\"Scalene triangle\")"
   ]
  },
  {
   "cell_type": "code",
   "execution_count": 15,
   "id": "5ebff8f0-0e32-42af-9a88-22fde984f114",
   "metadata": {},
   "outputs": [
    {
     "name": "stdin",
     "output_type": "stream",
     "text": [
      "Enter the year:  1600\n"
     ]
    },
    {
     "name": "stdout",
     "output_type": "stream",
     "text": [
      "1600 is Leap Year\n"
     ]
    }
   ],
   "source": [
    "# 13. Develop a program that checks if a year is a leap year and also if it is a century year.\n",
    "\n",
    "year=int(input(\"Enter the year: \"))\n",
    "if((year%4==0 and year%100!=0) or (year%400==0)):\n",
    "    print(f\"{year} is Leap Year\")\n",
    "else:\n",
    "     print(f\"{year} is not Leap Year\")"
   ]
  },
  {
   "cell_type": "code",
   "execution_count": 16,
   "id": "2532c76b-dd20-4ad3-b2f9-7267f193f8e7",
   "metadata": {},
   "outputs": [
    {
     "name": "stdin",
     "output_type": "stream",
     "text": [
      "Enter a number:  0\n"
     ]
    },
    {
     "name": "stdout",
     "output_type": "stream",
     "text": [
      "The no is Zero\n"
     ]
    }
   ],
   "source": [
    "# 14. Write a Python script to determine if a number is positive, negative, or zero.\n",
    "\n",
    "n=int(input(\"Enter a number: \"))\n",
    "if(n>0):\n",
    "    print(\"The no is Positive\")\n",
    "else:\n",
    "    if(n<0):\n",
    "         print(\"The no is Negative\")\n",
    "    else:\n",
    "        print(\"The no is Zero\")"
   ]
  },
  {
   "cell_type": "code",
   "execution_count": 18,
   "id": "de42524f-295a-45a9-b307-f6dcb502db64",
   "metadata": {},
   "outputs": [
    {
     "name": "stdin",
     "output_type": "stream",
     "text": [
      "Enter your age:  17\n"
     ]
    },
    {
     "name": "stdout",
     "output_type": "stream",
     "text": [
      "You are teenage\n"
     ]
    }
   ],
   "source": [
    "# 15. Create a program to check if a person is a teenager (between 13 and 19 years old).\n",
    "\n",
    "age=int(input(\"Enter your age: \"))\n",
    "if(13<=age<=19):\n",
    "    print(\"You are teenage\")\n",
    "else:\n",
    "    print(\"You are not\")"
   ]
  },
  {
   "cell_type": "code",
   "execution_count": 19,
   "id": "4dd17423-834e-4b92-a308-ceecd7612f65",
   "metadata": {},
   "outputs": [
    {
     "name": "stdin",
     "output_type": "stream",
     "text": [
      "Enter the angle:  90\n"
     ]
    },
    {
     "name": "stdout",
     "output_type": "stream",
     "text": [
      "Right Angle\n"
     ]
    }
   ],
   "source": [
    "# 16. Develop a program that determines the type of angle based on its measure (acute, obtuse, or right).\n",
    "\n",
    "angle=int(input(\"Enter the angle: \"))\n",
    "if(0<=angle<90):\n",
    "    print(\"Acute Angle\")\n",
    "else:\n",
    "    if(90<angle<180):\n",
    "        print(\"Obtuse Angle\")\n",
    "    else:\n",
    "        if(angle==90):\n",
    "            print(\"Right Angle\")\n",
    "     "
   ]
  },
  {
   "cell_type": "code",
   "execution_count": 21,
   "id": "45310d79-cc40-4c5c-b5ed-4868341349fb",
   "metadata": {},
   "outputs": [
    {
     "name": "stdin",
     "output_type": "stream",
     "text": [
      "Enter value of a : 1\n",
      "Enter value of b : -2\n",
      "Enter value of c : 3\n"
     ]
    },
    {
     "name": "stdout",
     "output_type": "stream",
     "text": [
      "Complex Roots\n",
      "1.0  + i 2.8284271247461903\n",
      "1.0 - i 2.8284271247461903\n"
     ]
    }
   ],
   "source": [
    "# 17. Write a Python program to calculate the roots of a quadratic equation.\n",
    "\n",
    "import math\n",
    "def quadratic(a, b, c):\n",
    "    \n",
    "\td=b*b-4*a*c\n",
    "\tval=math.sqrt(abs(d))\n",
    "\t\n",
    "\tif d>0:\n",
    "\t\tprint(\"Real and Different Roots\")\n",
    "\t\tprint((-b + val)/(2 * a))\n",
    "\t\tprint((-b - val)/(2 * a))\n",
    "\t\n",
    "\telif d==0:\n",
    "\t\tprint(\"Real and Same Roots\")\n",
    "\t\tprint(-b / (2 * a))\n",
    "        \n",
    "\telse:\n",
    "        \n",
    "\t\tprint(\"Complex Roots\")\n",
    "\t\tprint(- b / (2 * a),\" + i\", val)\n",
    "\t\tprint(- b / (2 * a), \"- i\", val)\n",
    "\n",
    "a = float(input(\"Enter value of a :\"))\n",
    "b = float(input(\"Enter value of b :\"))\n",
    "c = float(input(\"Enter value of c :\"))\n",
    "\n",
    "if a == 0:\n",
    "\t\tprint(\"Equation is not valid quadratic equation\")\n",
    "else:\n",
    "\tquadratic(a, b, c)"
   ]
  },
  {
   "cell_type": "code",
   "execution_count": 22,
   "id": "40b29d3e-3388-4900-b8c8-9c5b09cdebdd",
   "metadata": {},
   "outputs": [
    {
     "name": "stdin",
     "output_type": "stream",
     "text": [
      "Enter the weekday:  5\n"
     ]
    },
    {
     "name": "stdout",
     "output_type": "stream",
     "text": [
      "Friday\n"
     ]
    }
   ],
   "source": [
    "# 18. Implement a program to determine the day of the week based on a user-provided number (1 for Monday, 2 for Tuesday, etc.).\n",
    "\n",
    "day=int(input(\"Enter the weekday: \"))\n",
    "if(day==1):\n",
    "    print(\"Monday\")\n",
    "elif(day==2):\n",
    "    print(\"Tuesday\")\n",
    "elif(day==3):\n",
    "    print(\"Wednesday\")\n",
    "elif(day==4):\n",
    "    print(\"Thrusday\")\n",
    "elif(day==5):\n",
    "    print(\"Friday\")\n",
    "elif(day==6):\n",
    "    print(\"Saturday\")\n",
    "elif(day==7):\n",
    "    print(\"Sunday\")\n",
    "else:\n",
    "    print(\"Wrong Week Day\")"
   ]
  },
  {
   "cell_type": "code",
   "execution_count": 23,
   "id": "485c6a33-866a-498f-a7ec-f42a060397a1",
   "metadata": {},
   "outputs": [
    {
     "name": "stdin",
     "output_type": "stream",
     "text": [
      "Enter the year:  2500\n"
     ]
    },
    {
     "name": "stdout",
     "output_type": "stream",
     "text": [
      "2500 is not Leap Year\n"
     ]
    }
   ],
   "source": [
    "# 19. Create a program that determines if a year is a leap year and also if it is evenly divisible by 400.\n",
    "\n",
    "year=int(input(\"Enter the year: \"))\n",
    "if((year%4==0 and year%100!=0) or (year%400==0)):\n",
    "    print(f\"{year} is Leap Year\")\n",
    "else:\n",
    "     print(f\"{year} is not Leap Year\")"
   ]
  },
  {
   "cell_type": "code",
   "execution_count": 24,
   "id": "58406333-b38e-441c-84be-ce6a3e79a62b",
   "metadata": {},
   "outputs": [
    {
     "name": "stdin",
     "output_type": "stream",
     "text": [
      "Enter a number:  54\n"
     ]
    },
    {
     "name": "stdout",
     "output_type": "stream",
     "text": [
      "The number is not prime.\n"
     ]
    }
   ],
   "source": [
    "# 20. Develop a program that checks if a given number is prime or not using nested if-else statements.\n",
    "\n",
    "num=int(input(\"Enter a number: \"))\n",
    "\n",
    "if num<2:\n",
    "    print(\"The number is not prime.\")\n",
    "else:\n",
    "    prime=True\n",
    "    \n",
    "    for i in range(2,int(num**0.5)+1):\n",
    "        if num%i==0:\n",
    "            prime=False\n",
    "            break\n",
    "    \n",
    "    if prime:\n",
    "        print(\"The number is prime.\")\n",
    "    else:\n",
    "        print(\"The number is not prime.\")\n"
   ]
  },
  {
   "cell_type": "code",
   "execution_count": null,
   "id": "2a11b17c-5324-409d-9c15-08d7a52f7bd7",
   "metadata": {},
   "outputs": [],
   "source": []
  },
  {
   "cell_type": "code",
   "execution_count": null,
   "id": "62d06302-48d1-44be-8043-3735092eb67e",
   "metadata": {},
   "outputs": [],
   "source": []
  },
  {
   "cell_type": "markdown",
   "id": "ec5e3a0e-171f-4c41-a0d9-0b5b1c48f22f",
   "metadata": {},
   "source": [
    "---------------------------------Elif Statements:------------------\n"
   ]
  },
  {
   "cell_type": "code",
   "execution_count": null,
   "id": "1b4acff8-0113-44cb-a661-fe75490e78bb",
   "metadata": {},
   "outputs": [],
   "source": []
  },
  {
   "cell_type": "code",
   "execution_count": 25,
   "id": "f4face0e-57fe-40d5-8f34-a62b621f0bec",
   "metadata": {},
   "outputs": [
    {
     "name": "stdin",
     "output_type": "stream",
     "text": [
      "Enter the number of student:  78\n"
     ]
    },
    {
     "name": "stdout",
     "output_type": "stream",
     "text": [
      "Your grade is 'C'\n"
     ]
    }
   ],
   "source": [
    "# 21. Write a Python program to assign grades based on different ranges of scores using elif statements.\n",
    "\n",
    "n1=int(input(\"Enter the number of student: \"))\n",
    "if(n1>=90):\n",
    "    print(\"Your grade is 'A'\")\n",
    "elif(n1>=80):\n",
    "    print(\"Your grade is 'B'\")\n",
    "elif(n1>=70):\n",
    "     print(\"Your grade is 'C'\")\n",
    "elif(n1>=60):\n",
    "    print(\"Your grade is 'D'\")\n",
    "else:\n",
    "    print(\"Fail\")"
   ]
  },
  {
   "cell_type": "code",
   "execution_count": 26,
   "id": "f5e15841-3e3d-469b-9ef9-1e9a8e69afa9",
   "metadata": {},
   "outputs": [
    {
     "name": "stdin",
     "output_type": "stream",
     "text": [
      "Enter the 1st side:  70\n",
      "Enter the 2nd side:  80\n",
      "Enter the 3rd side:  70\n"
     ]
    },
    {
     "name": "stdout",
     "output_type": "stream",
     "text": [
      "Isosceles triangle\n"
     ]
    }
   ],
   "source": [
    "# 22. Implement a program to determine the type of a triangle based on its angles.\n",
    "\n",
    "n1=int(input(\"Enter the 1st side: \"))\n",
    "n2=int(input(\"Enter the 2nd side: \"))\n",
    "n3=int(input(\"Enter the 3rd side: \"))\n",
    "if(n1==n2 and n2==n3):\n",
    "    print(\"Equilateral triangle\")\n",
    "elif(n1==n2 or n1==n3 or n2==n3):\n",
    "    print(\"Isosceles triangle\")\n",
    "else:\n",
    "     print(\"Scalene triangle\")"
   ]
  },
  {
   "cell_type": "code",
   "execution_count": 27,
   "id": "f6bb7b3b-1f70-4c8f-99e2-d4244e99ca2b",
   "metadata": {},
   "outputs": [
    {
     "name": "stdin",
     "output_type": "stream",
     "text": [
      "Enter your height in meters:  1.8\n",
      "Enter your Weight in Kg:  60\n"
     ]
    },
    {
     "name": "stdout",
     "output_type": "stream",
     "text": [
      "BMI calculated is: 18.51851851851852\n",
      "Congrats! You are Healthy\n"
     ]
    }
   ],
   "source": [
    "# 23. Develop a program to categorize a given person's BMI into underweight, normal, overweight, or obese using elif statements.\n",
    "\n",
    "h=float(input(\"Enter your height in meters: \"))\n",
    "w=float(input(\"Enter your Weight in Kg: \"))\n",
    "\n",
    "BMI=w/(h*h)\n",
    "print(\"BMI calculated is:\",BMI)\n",
    "\n",
    "if(BMI>0):\n",
    "\tif(BMI<=16):\n",
    "\t\tprint(\"You are very underweight\")\n",
    "\telif(BMI<=18.5):\n",
    "\t\tprint(\"You are underweight\")\n",
    "\telif(BMI<=25):\n",
    "\t\tprint(\"Congrats! You are Healthy\")\n",
    "\telif(BMI<=30):\n",
    "\t\tprint(\"You are overweight\")\n",
    "\telse:\n",
    "         print(\"You are very overweight\")\n",
    "else:\n",
    "    print(\"enter valid details\") "
   ]
  },
  {
   "cell_type": "code",
   "execution_count": 29,
   "id": "7d1f7355-ebb2-4109-a612-d247d5989840",
   "metadata": {},
   "outputs": [
    {
     "name": "stdin",
     "output_type": "stream",
     "text": [
      "Enter a number:  45\n"
     ]
    },
    {
     "name": "stdout",
     "output_type": "stream",
     "text": [
      "The no is Positive\n"
     ]
    }
   ],
   "source": [
    "# 24. Create a program that determines whether a given number is positive, negative, or zero using elif statements.\n",
    "\n",
    "n=int(input(\"Enter a number: \"))\n",
    "if(n>0):\n",
    "    print(\"The no is Positive\")\n",
    "elif(n<0):\n",
    "     print(\"The no is Negative\")\n",
    "else:\n",
    "    print(\"The no is Zero\")"
   ]
  },
  {
   "cell_type": "code",
   "execution_count": 30,
   "id": "8679e1dd-d2da-4036-a332-68eda5d9054c",
   "metadata": {},
   "outputs": [
    {
     "name": "stdin",
     "output_type": "stream",
     "text": [
      "Enter a char:  t\n"
     ]
    },
    {
     "name": "stdout",
     "output_type": "stream",
     "text": [
      "Char is Lowercase\n"
     ]
    }
   ],
   "source": [
    "# 25. Write a Python script to determine the type of a character (uppercase, lowercase, or special) using elif statements.\n",
    "\n",
    "char=input(\"Enter a char: \")\n",
    "if (char.isupper()):\n",
    "    print(\"Char is Uppercase\")\n",
    "elif(char.islower()):\n",
    "     print(\"Char is Lowercase\")\n",
    "else:\n",
    "     print(\"Char is Special\")"
   ]
  },
  {
   "cell_type": "code",
   "execution_count": 31,
   "id": "82d090aa-2fd4-4d0b-b720-5e63b62a3956",
   "metadata": {},
   "outputs": [
    {
     "name": "stdin",
     "output_type": "stream",
     "text": [
      "Enter the amount:  3000\n"
     ]
    },
    {
     "name": "stdout",
     "output_type": "stream",
     "text": [
      "Original Price: Rs. 3000.00\n",
      "Discounted Price: Rs. 2400.00\n",
      "You saved: Rs.600.00\n"
     ]
    }
   ],
   "source": [
    "# 26. Implement a program to calculate the discounted price based on different purchase amounts using elif statements.\n",
    "\n",
    "\n",
    "amount=float(input(\"Enter the amount: \"))\n",
    "discount=0\n",
    "\n",
    "if amount>=1000:\n",
    "    discount=0.20  # 20% discount for purchases over or equal to 1000\n",
    "elif amount >=500:\n",
    "    discount=0.10  #10% discount for purchases over or equal to 500\n",
    "\n",
    "discounte_price=amount*(1 - discount)\n",
    "\n",
    "print(f\"Original Price: Rs. {amount:.2f}\")\n",
    "print(f\"Discounted Price: Rs. {discounte_price:.2f}\")\n",
    "print(f\"You saved: Rs.{amount - discounte_price:.2f}\")"
   ]
  },
  {
   "cell_type": "code",
   "execution_count": 32,
   "id": "f3398b65-4990-4e99-af48-0264e100c16e",
   "metadata": {},
   "outputs": [
    {
     "name": "stdin",
     "output_type": "stream",
     "text": [
      "Enter your electricity consumption in kWh:  456\n"
     ]
    },
    {
     "name": "stdout",
     "output_type": "stream",
     "text": [
      " Your total Electricity Bill: Rs. 2770.00\n"
     ]
    }
   ],
   "source": [
    "# 27. Develop a program to calculate the electricity bill based on different consumption slabs using elif statements.\n",
    "\n",
    "consumption=float(input(\"Enter your electricity consumption in kWh: \"))\n",
    "\n",
    "slab1=4  # Rate for the first 100 kWh\n",
    "slab2=6  # Rate for the next 200 kWh\n",
    "slab3=7.5  # Rate for consumption over 300 kWh\n",
    "\n",
    "total_cost=0.0\n",
    "\n",
    "if consumption<=100:\n",
    "    total_cost=consumption*slab1\n",
    "elif consumption <= 300:\n",
    "    total_cost=100*slab1+(consumption-100)*slab2\n",
    "else:\n",
    "    total_cost=100*slab1+200*slab2+(consumption-300)*slab3\n",
    "\n",
    "print(f\" Your total Electricity Bill: Rs. {total_cost:.2f}\")"
   ]
  },
  {
   "cell_type": "code",
   "execution_count": 33,
   "id": "8c8b7c76-273a-4a1c-a377-64c2a0c13bc8",
   "metadata": {},
   "outputs": [
    {
     "name": "stdin",
     "output_type": "stream",
     "text": [
      "Enter a month (1-12):  6\n"
     ]
    },
    {
     "name": "stdout",
     "output_type": "stream",
     "text": [
      "The season for month 6 is Summer.\n"
     ]
    }
   ],
   "source": [
    "# 29. Write a Python script to determine the season based on a user-provided month using elif statements.\n",
    "\n",
    "month=int(input(\"Enter a month (1-12): \"))\n",
    "\n",
    "if 3<=month<=5:\n",
    "    season=\"Spring\"\n",
    "elif 6<=month<=8:\n",
    "    season=\"Summer\"\n",
    "elif 9<=month<=11:\n",
    "    season=\"Autumn\"\n",
    "elif month==12 or month==1 or month==2:\n",
    "    season=\"Winter\"\n",
    "else:\n",
    "    season = \"Invalid month\"\n",
    "\n",
    "if season != \"Invalid month\":\n",
    "    print(f\"The season for month {month} is {season}.\")\n",
    "else:\n",
    "    print(\"Invalid input. Please enter a month between 1 and 12.\")"
   ]
  },
  {
   "cell_type": "code",
   "execution_count": 1,
   "id": "57dcd91b-8bb0-4646-adf5-64619cc66a18",
   "metadata": {},
   "outputs": [
    {
     "name": "stdin",
     "output_type": "stream",
     "text": [
      "Enter a year:  2023\n",
      "Enter a month (1-12):  2\n"
     ]
    },
    {
     "name": "stdout",
     "output_type": "stream",
     "text": [
      "The month 2 in the year 2023 has 28 days.\n"
     ]
    }
   ],
   "source": [
    "# 30. Implement a program to determine the type of a year (leap or common) and month (30 or 31 days) using elif statements.\n",
    "\n",
    "year=int(input(\"Enter a year: \"))\n",
    "month=int(input(\"Enter a month (1-12): \"))\n",
    "\n",
    "if (year%4==0 and year%100!=0) or (year%400==0):\n",
    "    leapyear=True\n",
    "else:\n",
    "    leapyear=False\n",
    "\n",
    "if month==2:\n",
    "    if leapyear:\n",
    "        days_in_month=29\n",
    "    else:\n",
    "        days_in_month=28\n",
    "elif month in [4,6,9,11]:\n",
    "    days_in_month=30\n",
    "elif month in [1,3,5,7,8,10,12]:\n",
    "    days_in_month=31\n",
    "else:\n",
    "    days_in_month=None  \n",
    "\n",
    "if days_in_month is not None:\n",
    "    print(f\"The month {month} in the year {year} has {days_in_month} days.\")\n",
    "else:\n",
    "    print(\"Invalid input. Please enter a valid month (1-12).\")"
   ]
  },
  {
   "cell_type": "code",
   "execution_count": null,
   "id": "d82cd861-a419-4b52-88c5-1b2c337a7686",
   "metadata": {},
   "outputs": [],
   "source": []
  },
  {
   "cell_type": "code",
   "execution_count": null,
   "id": "906e1a9b-3a04-4b1a-a4dd-291b304f2c07",
   "metadata": {},
   "outputs": [],
   "source": []
  },
  {
   "cell_type": "code",
   "execution_count": null,
   "id": "08949674-fd09-4ddf-a992-74e9d2a1d369",
   "metadata": {},
   "outputs": [],
   "source": []
  },
  {
   "cell_type": "markdown",
   "id": "52013a32-1094-4af4-8087-17851fbb8193",
   "metadata": {},
   "source": [
    "--------------------Basic Level:----------------------\n"
   ]
  },
  {
   "cell_type": "code",
   "execution_count": null,
   "id": "44204db1-acf2-44cf-9bb9-4839c1a83450",
   "metadata": {},
   "outputs": [],
   "source": []
  },
  {
   "cell_type": "code",
   "execution_count": 3,
   "id": "95e16168-0ddb-47f2-bb23-cc04e164e771",
   "metadata": {},
   "outputs": [
    {
     "name": "stdin",
     "output_type": "stream",
     "text": [
      "Enter a number:  3\n"
     ]
    },
    {
     "name": "stdout",
     "output_type": "stream",
     "text": [
      "The no is Positive\n"
     ]
    }
   ],
   "source": [
    "#1. Write a Python program that checks if a given number is positive, negative, or zero.\n",
    "n=int(input(\"Enter a number: \"))\n",
    "if(n>0):\n",
    "    print(\"The no is Positive\")\n",
    "elif(n<0):\n",
    "     print(\"The no is Negative\")\n",
    "else:\n",
    "    print(\"The no is Zero\")"
   ]
  },
  {
   "cell_type": "code",
   "execution_count": 4,
   "id": "510be3c0-0f9c-42d1-84d8-fdde33834ad2",
   "metadata": {},
   "outputs": [
    {
     "name": "stdin",
     "output_type": "stream",
     "text": [
      "Enter your are:  34\n"
     ]
    },
    {
     "name": "stdout",
     "output_type": "stream",
     "text": [
      "You are eligible to vote\n"
     ]
    }
   ],
   "source": [
    "# 2. Create a program to determine if a person is eligible to vote based on their age.\n",
    "age=int(input(\"Enter your are: \"))\n",
    "if(age>=18):\n",
    "    print(\"You are eligible to vote\")\n",
    "else:\n",
    "     print(\"Tour are not eligible to vote\")"
   ]
  },
  {
   "cell_type": "code",
   "execution_count": 5,
   "id": "fa0d95da-a1ee-4c57-89ba-55a654082631",
   "metadata": {},
   "outputs": [
    {
     "name": "stdin",
     "output_type": "stream",
     "text": [
      "Enter the 1st  number:  56\n",
      "Enter the 2nd  number:  34\n"
     ]
    },
    {
     "name": "stdout",
     "output_type": "stream",
     "text": [
      "56 is the max no\n"
     ]
    }
   ],
   "source": [
    "# 3. Write a program to find the maximum of two given numbers using conditional statements.\n",
    "n1=int(input(\"Enter the 1st  number: \"))\n",
    "n2=int(input(\"Enter the 2nd  number: \"))\n",
    "if(n1>n2):\n",
    "    print(f\"{n1} is the max no\")\n",
    "else:\n",
    "     print(f\"{n2} is the max no\")"
   ]
  },
  {
   "cell_type": "code",
   "execution_count": 6,
   "id": "6e7b0b1a-a359-4c9e-a18f-969dc1e39401",
   "metadata": {},
   "outputs": [
    {
     "name": "stdin",
     "output_type": "stream",
     "text": [
      "Enter the number of student:  45\n"
     ]
    },
    {
     "name": "stdout",
     "output_type": "stream",
     "text": [
      "Fail\n"
     ]
    }
   ],
   "source": [
    "# 4. Develop a program that calculates the grade of a student based on their exam score.\n",
    "n1=int(input(\"Enter the number of student: \"))\n",
    "if(n1>=90):\n",
    "    print(\"Your grade is 'A'\")\n",
    "elif(n1>=80):\n",
    "    print(\"Your grade is 'B'\")\n",
    "elif(n1>=70):\n",
    "     print(\"Your grade is 'C'\")\n",
    "elif(n1>=60):\n",
    "    print(\"Your grade is 'D'\")\n",
    "else:\n",
    "    print(\"Fail\")"
   ]
  },
  {
   "cell_type": "code",
   "execution_count": 7,
   "id": "2c72d8b9-46bc-40a4-b583-97f2d607c9d4",
   "metadata": {},
   "outputs": [
    {
     "name": "stdin",
     "output_type": "stream",
     "text": [
      "Enter the year:  2024\n"
     ]
    },
    {
     "name": "stdout",
     "output_type": "stream",
     "text": [
      "2024 is Leap Year\n"
     ]
    }
   ],
   "source": [
    "# 5. Create a program that checks if a year is a leap year or not.\n",
    "year=int(input(\"Enter the year: \"))\n",
    "if((year%4==0 and year%100!=0) or (year%400==0)):\n",
    "    print(f\"{year} is Leap Year\")\n",
    "else:\n",
    "     print(f\"{year} is not Leap Year\")"
   ]
  },
  {
   "cell_type": "code",
   "execution_count": 8,
   "id": "6b918938-30f6-47d7-b47d-7506f7dea409",
   "metadata": {},
   "outputs": [
    {
     "name": "stdin",
     "output_type": "stream",
     "text": [
      "Enter the 1st side:  60\n",
      "Enter the 2nd side:  60\n",
      "Enter the 3rd side:  60\n"
     ]
    },
    {
     "name": "stdout",
     "output_type": "stream",
     "text": [
      "Equilateral triangle\n"
     ]
    }
   ],
   "source": [
    "# 6. Write a program to classify a triangle based on its sides' lengths.\n",
    "\n",
    "n1=int(input(\"Enter the 1st side: \"))\n",
    "n2=int(input(\"Enter the 2nd side: \"))\n",
    "n3=int(input(\"Enter the 3rd side: \"))\n",
    "if(n1==n2 and n2==n3):\n",
    "    print(\"Equilateral triangle\")\n",
    "elif(n1==n2 or n1==n3 or n2==n3):\n",
    "    print(\"Isosceles triangle\")\n",
    "else:\n",
    "     print(\"Scalene triangle\")"
   ]
  },
  {
   "cell_type": "code",
   "execution_count": 9,
   "id": "33eda620-6f0f-457d-865a-59bcf420021b",
   "metadata": {},
   "outputs": [
    {
     "name": "stdin",
     "output_type": "stream",
     "text": [
      "Enter the 1st  number:  43\n",
      "Enter the 2nd  number:  12\n",
      "Enter the 3rd  number:  23\n"
     ]
    },
    {
     "name": "stdout",
     "output_type": "stream",
     "text": [
      "43 is the max no\n"
     ]
    }
   ],
   "source": [
    "# 7. Build a program that determines the largest of three given numbers.\n",
    "n1=int(input(\"Enter the 1st  number: \"))\n",
    "n2=int(input(\"Enter the 2nd  number: \"))\n",
    "n3=int(input(\"Enter the 3rd  number: \"))\n",
    "if(n1>n2 and n1>n3):\n",
    "    print(f\"{n1} is the max no\")\n",
    "elif(n2>n1 and  n2>n3):\n",
    "    print(f\"{n2} is the max no\")\n",
    "else:\n",
    "     print(f\"{n3} is the max no\")"
   ]
  },
  {
   "cell_type": "code",
   "execution_count": 11,
   "id": "bc30c925-442b-4dc0-b02e-03fae43dfae3",
   "metadata": {},
   "outputs": [
    {
     "name": "stdin",
     "output_type": "stream",
     "text": [
      "Enter a char: t\n"
     ]
    },
    {
     "name": "stdout",
     "output_type": "stream",
     "text": [
      "t is Consonant\n"
     ]
    }
   ],
   "source": [
    "# 8. Develop a program that checks whether a character is a vowel or a consonant.\n",
    "char=input(\"Enter a char:\")\n",
    "if char in 'aeiouAEIOU':\n",
    "    print(f\"{char} is vowel\")\n",
    "else:\n",
    "    print(f\"{char} is Consonant\")"
   ]
  },
  {
   "cell_type": "code",
   "execution_count": 12,
   "id": "d0223dcd-d857-4e5c-a068-a05ebca71612",
   "metadata": {},
   "outputs": [
    {
     "name": "stdin",
     "output_type": "stream",
     "text": [
      "Enter the amount:  5000\n"
     ]
    },
    {
     "name": "stdout",
     "output_type": "stream",
     "text": [
      "Original Price: Rs. 5000.00\n",
      "Discounted Price: Rs. 4000.00\n",
      "You saved: Rs.1000.00\n"
     ]
    }
   ],
   "source": [
    "# 9. Create a program to calculate the total cost of a shopping cart based on discounts.\n",
    "\n",
    "amount=float(input(\"Enter the amount: \"))\n",
    "discount=0\n",
    "\n",
    "if amount>=1000:\n",
    "    discount=0.20  # 20% discount for purchases over or equal to 1000\n",
    "elif amount >=500:\n",
    "    discount=0.10  #10% discount for purchases over or equal to 500\n",
    "\n",
    "discounte_price=amount*(1 - discount)\n",
    "\n",
    "print(f\"Original Price: Rs. {amount:.2f}\")\n",
    "print(f\"Discounted Price: Rs. {discounte_price:.2f}\")\n",
    "print(f\"You saved: Rs.{amount - discounte_price:.2f}\")"
   ]
  },
  {
   "cell_type": "code",
   "execution_count": 13,
   "id": "97912b6f-0d46-46ef-9713-f125e71776c7",
   "metadata": {},
   "outputs": [
    {
     "name": "stdin",
     "output_type": "stream",
     "text": [
      "Enter a number:  51\n"
     ]
    },
    {
     "name": "stdout",
     "output_type": "stream",
     "text": [
      "51 is Odd\n"
     ]
    }
   ],
   "source": [
    "# 10. Write a program that checks if a given number is even or odd.\n",
    "\n",
    "n=int(input(\"Enter a number: \"))\n",
    "if (n%2==0):\n",
    "    print(f\"{n} is Even\")\n",
    "else:\n",
    "    print(f\"{n} is Odd\")"
   ]
  },
  {
   "cell_type": "code",
   "execution_count": null,
   "id": "ac73f2fa-8464-4afc-9304-0f1d17626f69",
   "metadata": {},
   "outputs": [],
   "source": []
  },
  {
   "cell_type": "code",
   "execution_count": null,
   "id": "d8ce480a-02a8-4c55-a06b-c43feeb5a5d8",
   "metadata": {},
   "outputs": [],
   "source": []
  },
  {
   "cell_type": "markdown",
   "id": "7ffdc7b7-0415-42d8-9e7f-a101c453365d",
   "metadata": {},
   "source": [
    "--------------------Intermediate Level:------------------"
   ]
  },
  {
   "cell_type": "code",
   "execution_count": null,
   "id": "7a403582-a4fc-4c1b-aec2-024ab6199d6a",
   "metadata": {},
   "outputs": [],
   "source": []
  },
  {
   "cell_type": "code",
   "execution_count": 14,
   "id": "81c19882-f148-47f3-ad9d-49d3115f13d3",
   "metadata": {},
   "outputs": [
    {
     "name": "stdin",
     "output_type": "stream",
     "text": [
      "Enter value of a : 5\n",
      "Enter value of b : 3\n",
      "Enter value of c : 7\n"
     ]
    },
    {
     "name": "stdout",
     "output_type": "stream",
     "text": [
      "Complex Roots\n",
      "-0.3  + i 11.445523142259598\n",
      "-0.3 - i 11.445523142259598\n"
     ]
    }
   ],
   "source": [
    "# 11. Write a program that calculates the roots of a quadratic equation .\n",
    "import math\n",
    "def quadratic(a, b, c):\n",
    "    \n",
    "\td=b*b-4*a*c\n",
    "\tval=math.sqrt(abs(d))\n",
    "\t\n",
    "\tif d>0:\n",
    "\t\tprint(\"Real and Different Roots\")\n",
    "\t\tprint((-b + val)/(2 * a))\n",
    "\t\tprint((-b - val)/(2 * a))\n",
    "\t\n",
    "\telif d==0:\n",
    "\t\tprint(\"Real and Same Roots\")\n",
    "\t\tprint(-b / (2 * a))\n",
    "        \n",
    "\telse:\n",
    "        \n",
    "\t\tprint(\"Complex Roots\")\n",
    "\t\tprint(- b / (2 * a),\" + i\", val)\n",
    "\t\tprint(- b / (2 * a), \"- i\", val)\n",
    "\n",
    "a = float(input(\"Enter value of a :\"))\n",
    "b = float(input(\"Enter value of b :\"))\n",
    "c = float(input(\"Enter value of c :\"))\n",
    "\n",
    "if a == 0:\n",
    "\t\tprint(\"Equation is not valid quadratic equation\")\n",
    "else:\n",
    "\tquadratic(a, b, c)"
   ]
  },
  {
   "cell_type": "code",
   "execution_count": 16,
   "id": "77806c71-5334-4911-8875-984e08d7840d",
   "metadata": {},
   "outputs": [
    {
     "name": "stdin",
     "output_type": "stream",
     "text": [
      "Enter the weekday:  5\n"
     ]
    },
    {
     "name": "stdout",
     "output_type": "stream",
     "text": [
      "Friday\n"
     ]
    }
   ],
   "source": [
    "# 12. Create a program that determines the day of the week based on the day number (1-7).\n",
    "day=int(input(\"Enter the weekday: \"))\n",
    "if(day==1):\n",
    "    print(\"Monday\")\n",
    "elif(day==2):\n",
    "    print(\"Tuesday\")\n",
    "elif(day==3):\n",
    "    print(\"Wednesday\")\n",
    "elif(day==4):\n",
    "    print(\"Thrusday\")\n",
    "elif(day==5):\n",
    "    print(\"Friday\")\n",
    "elif(day==6):\n",
    "    print(\"Saturday\")\n",
    "elif(day==7):\n",
    "    print(\"Sunday\")\n",
    "else:\n",
    "    print(\"Wrong Week Day\")"
   ]
  },
  {
   "cell_type": "code",
   "execution_count": 17,
   "id": "fc4010d3-c2e0-4162-bd86-0db00bc71814",
   "metadata": {},
   "outputs": [
    {
     "name": "stdin",
     "output_type": "stream",
     "text": [
      "Enter a number: 4\n"
     ]
    },
    {
     "name": "stdout",
     "output_type": "stream",
     "text": [
      "Factorial of 4 is: 24\n"
     ]
    }
   ],
   "source": [
    "# 13. Develop a program that calculates the factorial of a given number using recursion.\n",
    "\n",
    "n1=int(input(\"Enter a number:\"))\n",
    "\n",
    "def factorial(n):\n",
    "    if n==0:\n",
    "        return 1\n",
    "    else:\n",
    "        return n*factorial(n-1)\n",
    "\n",
    "result=factorial(n1)\n",
    "print(f\"Factorial of {n1} is:\", result)"
   ]
  },
  {
   "cell_type": "code",
   "execution_count": 18,
   "id": "afd972df-1942-4ffd-b6f1-33769c1fe1a8",
   "metadata": {},
   "outputs": [
    {
     "name": "stdin",
     "output_type": "stream",
     "text": [
      "Enter the 1st  number:  8\n",
      "Enter the 2nd  number:  7\n",
      "Enter the 3rd  number:  4\n"
     ]
    },
    {
     "name": "stdout",
     "output_type": "stream",
     "text": [
      "8 is the max no\n"
     ]
    }
   ],
   "source": [
    "# 14. Write a program to find the largest among three numbers without using the `max()` function\n",
    "\n",
    "n1=int(input(\"Enter the 1st  number: \"))\n",
    "n2=int(input(\"Enter the 2nd  number: \"))\n",
    "n3=int(input(\"Enter the 3rd  number: \"))\n",
    "if(n1>n2 and n1>n3):\n",
    "    print(f\"{n1} is the max no\")\n",
    "elif(n2>n1 and  n2>n3):\n",
    "    print(f\"{n2} is the max no\")\n",
    "else:\n",
    "     print(f\"{n3} is the max no\")"
   ]
  },
  {
   "cell_type": "code",
   "execution_count": 19,
   "id": "975df414-2f24-47ea-9d97-2ea7f09b664e",
   "metadata": {},
   "outputs": [
    {
     "name": "stdout",
     "output_type": "stream",
     "text": [
      "Welcome to the ATM Servic\n",
      "1. Check Balance\n",
      "2. Deposit\n",
      "3. Withdraw\n",
      "4. Exit\n"
     ]
    },
    {
     "name": "stdin",
     "output_type": "stream",
     "text": [
      "Enter your choice (1/2/3/4):  1\n"
     ]
    },
    {
     "name": "stdout",
     "output_type": "stream",
     "text": [
      "Your account balance is Rs. 500.00\n",
      "Welcome to the ATM Servic\n",
      "1. Check Balance\n",
      "2. Deposit\n",
      "3. Withdraw\n",
      "4. Exit\n"
     ]
    },
    {
     "name": "stdin",
     "output_type": "stream",
     "text": [
      "Enter your choice (1/2/3/4):  2\n",
      "Enter the amount to deposit: Rs.  100\n"
     ]
    },
    {
     "name": "stdout",
     "output_type": "stream",
     "text": [
      "Your Rs. 100.00 has been deposited.\n",
      "Welcome to the ATM Servic\n",
      "1. Check Balance\n",
      "2. Deposit\n",
      "3. Withdraw\n",
      "4. Exit\n"
     ]
    },
    {
     "name": "stdin",
     "output_type": "stream",
     "text": [
      "Enter your choice (1/2/3/4):  1\n"
     ]
    },
    {
     "name": "stdout",
     "output_type": "stream",
     "text": [
      "Your account balance is Rs. 600.00\n",
      "Welcome to the ATM Servic\n",
      "1. Check Balance\n",
      "2. Deposit\n",
      "3. Withdraw\n",
      "4. Exit\n"
     ]
    },
    {
     "name": "stdin",
     "output_type": "stream",
     "text": [
      "Enter your choice (1/2/3/4):  3\n",
      "Enter the amount to withdraw: Rs.  -55\n"
     ]
    },
    {
     "name": "stdout",
     "output_type": "stream",
     "text": [
      "Invalid amount. Please enter a positive number.\n",
      "Welcome to the ATM Servic\n",
      "1. Check Balance\n",
      "2. Deposit\n",
      "3. Withdraw\n",
      "4. Exit\n"
     ]
    },
    {
     "name": "stdin",
     "output_type": "stream",
     "text": [
      "Enter your choice (1/2/3/4):  3\n",
      "Enter the amount to withdraw: Rs.  1000\n"
     ]
    },
    {
     "name": "stdout",
     "output_type": "stream",
     "text": [
      "Insufficient balance.\n",
      "Welcome to the ATM Servic\n",
      "1. Check Balance\n",
      "2. Deposit\n",
      "3. Withdraw\n",
      "4. Exit\n"
     ]
    },
    {
     "name": "stdin",
     "output_type": "stream",
     "text": [
      "Enter your choice (1/2/3/4):  3\n",
      "Enter the amount to withdraw: Rs.  300\n"
     ]
    },
    {
     "name": "stdout",
     "output_type": "stream",
     "text": [
      "Your Rs. 300.00 has been withdrawn.\n",
      "Welcome to the ATM Servic\n",
      "1. Check Balance\n",
      "2. Deposit\n",
      "3. Withdraw\n",
      "4. Exit\n"
     ]
    },
    {
     "name": "stdin",
     "output_type": "stream",
     "text": [
      "Enter your choice (1/2/3/4):  1\n"
     ]
    },
    {
     "name": "stdout",
     "output_type": "stream",
     "text": [
      "Your account balance is Rs. 300.00\n",
      "Welcome to the ATM Servic\n",
      "1. Check Balance\n",
      "2. Deposit\n",
      "3. Withdraw\n",
      "4. Exit\n"
     ]
    },
    {
     "name": "stdin",
     "output_type": "stream",
     "text": [
      "Enter your choice (1/2/3/4):  44\n"
     ]
    },
    {
     "name": "stdout",
     "output_type": "stream",
     "text": [
      "Invalid choice. Please select a valid option (1/2/3/4).\n",
      "Welcome to the ATM Servic\n",
      "1. Check Balance\n",
      "2. Deposit\n",
      "3. Withdraw\n",
      "4. Exit\n"
     ]
    },
    {
     "name": "stdin",
     "output_type": "stream",
     "text": [
      "Enter your choice (1/2/3/4):  4\n"
     ]
    },
    {
     "name": "stdout",
     "output_type": "stream",
     "text": [
      "Thank you for visiting the ATM !\n"
     ]
    }
   ],
   "source": [
    "# 15. Create a program that simulates a basic ATM transaction menu.\n",
    "\n",
    "balance=500\n",
    "\n",
    "def menu():\n",
    "    print(\"Welcome to the ATM Servic\")\n",
    "    print(\"1. Check Balance\")\n",
    "    print(\"2. Deposit\")\n",
    "    print(\"3. Withdraw\")\n",
    "    print(\"4. Exit\")\n",
    "\n",
    "# Function to check account balance\n",
    "def check_balance():\n",
    "    print(f\"Your account balance is Rs. {balance:.2f}\")\n",
    "\n",
    "# Function to deposit money\n",
    "def deposit_money():\n",
    "    global balance\n",
    "    amount=float(input(\"Enter the amount to deposit: Rs. \"))\n",
    "    if amount>0:\n",
    "        balance += amount\n",
    "        print(f\"Your Rs. {amount:.2f} has been deposited.\")\n",
    "    else:\n",
    "        print(\"Invalid amount. Please enter a positive number.\")\n",
    "\n",
    "# Function to withdraw money\n",
    "def withdraw_money():\n",
    "    global balance\n",
    "    amount=float(input(\"Enter the amount to withdraw: Rs. \"))\n",
    "    if amount>0 and amount<=balance:\n",
    "        balance -= amount\n",
    "        print(f\"Your Rs. {amount:.2f} has been withdrawn.\")\n",
    "    elif amount<=0:\n",
    "        print(\"Invalid amount. Please enter a positive number.\")\n",
    "    else:\n",
    "        print(\"Insufficient balance.\")\n",
    "\n",
    "\n",
    "while True:\n",
    "    menu()\n",
    "    choice=input(\"Enter your choice (1/2/3/4): \")\n",
    "    \n",
    "    if choice=='1':\n",
    "        check_balance()\n",
    "    elif choice=='2':\n",
    "        deposit_money()\n",
    "    elif choice=='3':\n",
    "        withdraw_money()\n",
    "    elif choice=='4':\n",
    "        print(\"Thank you for visiting the ATM !\")\n",
    "        break\n",
    "    else:\n",
    "        print(\"Invalid choice. Please select a valid option (1/2/3/4).\")"
   ]
  },
  {
   "cell_type": "code",
   "execution_count": 20,
   "id": "258714af-e1e4-4975-ae56-f07fb9cbc490",
   "metadata": {},
   "outputs": [
    {
     "name": "stdin",
     "output_type": "stream",
     "text": [
      "Enter a string:  guest\n"
     ]
    },
    {
     "name": "stdout",
     "output_type": "stream",
     "text": [
      "The string is not Palindrome\n"
     ]
    }
   ],
   "source": [
    "# 16. Build a program that checks if a given string is a palindrome or not.\n",
    "char=input(\"Enter a string: \")\n",
    "char=char.lower()\n",
    "if (char==char[::-1]):\n",
    "    print(\"The string is Palindrome\")\n",
    "else:\n",
    "    print(\"The string is not Palindrome\") "
   ]
  },
  {
   "cell_type": "code",
   "execution_count": 21,
   "id": "729cc73a-2b64-4293-8ddd-d34a98270804",
   "metadata": {},
   "outputs": [
    {
     "name": "stdout",
     "output_type": "stream",
     "text": [
      "The avg of the list : 35.0\n",
      "The min of the list : 10\n",
      "The max of the list : 60\n"
     ]
    }
   ],
   "source": [
    "# 17. Write a program that calculates the average of a list of numbers, excluding the smallest and largest values.\n",
    "\n",
    "l1=[10,20,30,40,50,60]   \n",
    "total=sum(l1)\n",
    "avg=total/len(l1)\n",
    "print(\"The avg of the list :\",avg)\n",
    "print(\"The min of the list :\",min(l1))\n",
    "print(\"The max of the list :\",max(l1))"
   ]
  },
  {
   "cell_type": "code",
   "execution_count": 22,
   "id": "fa38bb6d-2df8-471e-b6a1-48739598a559",
   "metadata": {},
   "outputs": [
    {
     "name": "stdin",
     "output_type": "stream",
     "text": [
      "Enter temperature in Celsius:  -40\n"
     ]
    },
    {
     "name": "stdout",
     "output_type": "stream",
     "text": [
      "-40.0 degrees Celsius is equal to -40.00 degrees Fahrenheit\n"
     ]
    }
   ],
   "source": [
    "# 18. Develop a program that converts a given temperature from Celsius to Fahrenheit.\n",
    "\n",
    "celsius=float(input(\"Enter temperature in Celsius: \"))\n",
    "# Convert Celsius to Fahrenheit\n",
    "fahrenheit=(celsius * 9/5)+32\n",
    "print(f\"{celsius} degrees Celsius is equal to {fahrenheit:.2f} degrees Fahrenheit\")\n"
   ]
  },
  {
   "cell_type": "code",
   "execution_count": 23,
   "id": "d1a0a5dd-edc8-455a-83ef-f8acc660e658",
   "metadata": {},
   "outputs": [
    {
     "name": "stdin",
     "output_type": "stream",
     "text": [
      "Enter 1st number:  40\n",
      "Enter 2nd number:  50\n",
      "Enter Operator (+,-,*,/) *\n"
     ]
    },
    {
     "name": "stdout",
     "output_type": "stream",
     "text": [
      "Multiplication is:  2000\n"
     ]
    }
   ],
   "source": [
    "# 19. Create a program that simulates a basic calculator for addition, subtraction, multiplication, and division.\n",
    "\n",
    "n1=int(input(\"Enter 1st number: \"))\n",
    "n2=int(input(\"Enter 2nd number: \"))\n",
    "operator=input(\"Enter Operator (+,-,*,/)\")\n",
    "if operator=='+':\n",
    "    print(\"Addition is: \",n1+n2)\n",
    "elif operator=='-':\n",
    "    print(\"Substraction is: \",n1-n2)\n",
    "elif operator=='*':\n",
    "    print(\"Multiplication is: \",n1*n2)\n",
    "elif operator=='/':\n",
    "    print(\"Division is: \",n1/n2)\n",
    "else:\n",
    "    print(\"Invalid Operator\")"
   ]
  },
  {
   "cell_type": "code",
   "execution_count": 1,
   "id": "b6379f65-2646-440e-8713-e376ad6196d0",
   "metadata": {},
   "outputs": [
    {
     "name": "stdin",
     "output_type": "stream",
     "text": [
      "Enter the coefficient of x^3 (a):  1\n",
      "Enter the coefficient of x^2 (b):  4\n",
      "Enter the coefficient of x (c):  3\n",
      "Enter the constant term (d):  12\n"
     ]
    },
    {
     "name": "stdout",
     "output_type": "stream",
     "text": [
      "Three real roots:\n",
      "Root 1: (4.440892098500626e-16+2.309401076758503j)\n",
      "Root 2: (-0.5000000000000007-2.02072594216369j)\n",
      "Root 3: (-3.499999999999999-0.2886751345948131j)\n"
     ]
    }
   ],
   "source": [
    "# 20. Write a program that determines the roots of a cubic equation using the Cardano formula.\n",
    "\n",
    "import math\n",
    "\n",
    "# Input coefficients a, b, c, and d\n",
    "a = float(input(\"Enter the coefficient of x^3 (a): \"))\n",
    "b = float(input(\"Enter the coefficient of x^2 (b): \"))\n",
    "c = float(input(\"Enter the coefficient of x (c): \"))\n",
    "d = float(input(\"Enter the constant term (d): \"))\n",
    "\n",
    "# Calculate intermediate values\n",
    "p = (3 * a * c - b ** 2) / (3 * a ** 2)\n",
    "q = (2 * b ** 3 - 9 * a * b * c + 27 * a ** 2 * d) / (27 * a ** 3)\n",
    "delta = (q ** 2) / 4 + (p ** 3) / 27\n",
    "\n",
    "# Check for the cases of real and complex roots\n",
    "if delta > 0:\n",
    "    print(\"Three real roots:\")\n",
    "    r = (-q / 2 + math.sqrt(delta)) ** (1 / 3)\n",
    "    s = (-q / 2 - math.sqrt(delta)) ** (1 / 3)\n",
    "    root1 = r + s - b / (3 * a)\n",
    "    real_part = -0.5 * (r + s) - b / (3 * a)\n",
    "    imaginary_part = 0.5 * math.sqrt(3) * (r - s)\n",
    "    root2 = complex(real_part, imaginary_part)\n",
    "    root3 = complex(real_part, -imaginary_part)\n",
    "    \n",
    "elif delta == 0:\n",
    "    print(\"One real root and two complex conjugate roots: \")\n",
    "    root1 = 3 * q / (p * math.sqrt(p))\n",
    "    real_part = -1.5 * q / (p * math.sqrt(p)) - b / (3 * a)\n",
    "    imaginary_part = 0\n",
    "    root2 = complex(real_part, imaginary_part)\n",
    "    root3 = complex(real_part, -imaginary_part)\n",
    "else:\n",
    "    print(\"Three distinct complex roots: \")\n",
    "    rho = math.sqrt(-(p ** 3) / 27)\n",
    "    theta = math.acos(-q / (2 * rho))\n",
    "    root1 = 2 * math.sqrt(-p / 3) * math.cos(theta / 3) - b / (3 * a)\n",
    "    root2 = 2 * math.sqrt(-p / 3) * math.cos((theta + 2 * math.pi) / 3) - b / (3 * a)\n",
    "    root3 = 2 * math.sqrt(-p / 3) * math.cos((theta + 4 * math.pi) / 3) - b / (3 * a)\n",
    "\n",
    "\n",
    "print(\"Root 1:\", root1)\n",
    "print(\"Root 2:\", root2)\n",
    "print(\"Root 3:\", root3)"
   ]
  },
  {
   "cell_type": "code",
   "execution_count": null,
   "id": "64653530-ed18-4307-9ed0-afa64559c757",
   "metadata": {},
   "outputs": [],
   "source": []
  },
  {
   "cell_type": "code",
   "execution_count": null,
   "id": "b2e5d123-67fc-44e1-a871-2768ce42c96b",
   "metadata": {},
   "outputs": [],
   "source": []
  },
  {
   "cell_type": "markdown",
   "id": "c87e84db-0401-40c5-bfd7-0f542da4235a",
   "metadata": {},
   "source": [
    "-----------------Advanced Level:----------------------"
   ]
  },
  {
   "cell_type": "code",
   "execution_count": null,
   "id": "825638ef-35cc-4359-9959-35dcb2b081e7",
   "metadata": {},
   "outputs": [],
   "source": []
  },
  {
   "cell_type": "code",
   "execution_count": 3,
   "id": "1903ba30-5121-4ebd-bc4d-36fcee38a634",
   "metadata": {},
   "outputs": [
    {
     "name": "stdin",
     "output_type": "stream",
     "text": [
      "Enter your income:  1200000\n"
     ]
    },
    {
     "name": "stdout",
     "output_type": "stream",
     "text": [
      "your tax is Rs. 115000.0\n"
     ]
    }
   ],
   "source": [
    "# 21. Create a program that calculates the income tax based on the user's income and tax brackets.\n",
    "\n",
    "income=int(input(\"Enter your income: \"))\n",
    "if income <= 250000:  \n",
    "    tax=0\n",
    "\n",
    "elif income <= 500000: \n",
    "    tax=(income-250000)*0.05\n",
    "\n",
    "elif income<=750000: \n",
    "    tax=(income - 500000)*0.10 + 12500 \n",
    "\n",
    "elif income <= 1000000:\n",
    "    tax=(income - 750000)*0.15 + 37500 \n",
    "\n",
    "elif income <= 1250000:\n",
    "    tax=(income - 1000000)*0.20 + 75000 \n",
    "\n",
    "elif income <= 1500000:\n",
    "    tax=(income - 1250000)*0.25 + 125000 \n",
    "\n",
    "else:\n",
    "    tax=(income - 1500000)*0.30 + 187500\n",
    "\n",
    "print(\"your tax is Rs.\", tax)\n"
   ]
  },
  {
   "cell_type": "code",
   "execution_count": 4,
   "id": "7e54425b-a5cf-46e0-b8b6-0cc1b52eae17",
   "metadata": {},
   "outputs": [
    {
     "name": "stdout",
     "output_type": "stream",
     "text": [
      "-----------------Rules of the game----------------------\n",
      "Rock vs Paper => Paper Wins\n",
      "Rock vs Scissor => Rock Wins\n",
      "Paper vs Scissor => Scissor Wins\n",
      "\n",
      "1. Rock \n",
      "2. Paper \n",
      "3. Sciissor \n",
      "\n",
      "Enter your choice: \n"
     ]
    },
    {
     "name": "stdin",
     "output_type": "stream",
     "text": [
      " 1\n"
     ]
    },
    {
     "name": "stdout",
     "output_type": "stream",
     "text": [
      "\n",
      "The user's choice is:  Rock\n",
      "\n",
      "Now Computer's Turn: \n",
      "\n",
      "The computer's choice is:  Scissor\n",
      "\n",
      "------------USER    VS     COMPUTER---------\n",
      "\n",
      "User Win  \n",
      "Rock vs Scissor => Rock Wins\n",
      "\n",
      "Do you want to play again? (Y/N)\n"
     ]
    },
    {
     "name": "stdin",
     "output_type": "stream",
     "text": [
      " y\n"
     ]
    },
    {
     "name": "stdout",
     "output_type": "stream",
     "text": [
      "\n",
      "1. Rock \n",
      "2. Paper \n",
      "3. Sciissor \n",
      "\n",
      "Enter your choice: \n"
     ]
    },
    {
     "name": "stdin",
     "output_type": "stream",
     "text": [
      " 3\n"
     ]
    },
    {
     "name": "stdout",
     "output_type": "stream",
     "text": [
      "\n",
      "The user's choice is:  Scissor\n",
      "\n",
      "Now Computer's Turn: \n",
      "\n",
      "The computer's choice is:  Paper\n",
      "\n",
      "------------USER    VS     COMPUTER---------\n",
      "\n",
      "User Win  \n",
      "Paper vs Scissor => Scissor Wins\n",
      "\n",
      "Do you want to play again? (Y/N)\n"
     ]
    },
    {
     "name": "stdin",
     "output_type": "stream",
     "text": [
      " n\n"
     ]
    },
    {
     "name": "stdout",
     "output_type": "stream",
     "text": [
      "\n",
      "-----Thanks For Playing-----\n"
     ]
    }
   ],
   "source": [
    "# 22. Write a program that simulates a rock-paper-scissors game against the computer.\n",
    "\n",
    "\n",
    "import random\n",
    "\n",
    "print(\"-----------------Rules of the game----------------------\")\n",
    "print(\"Rock vs Paper => Paper Wins\")\n",
    "print(\"Rock vs Scissor => Rock Wins\")\n",
    "print(\"Paper vs Scissor => Scissor Wins\")\n",
    "\n",
    "while True:\n",
    "    print(\"\\n1. Rock \\n2. Paper \\n3. Sciissor \\n\\nEnter your choice: \")\n",
    "    user=int(input())\n",
    "    \n",
    "    while user > 3 or user < 1:\n",
    "        print(\"\\nWrong Choice!,\\nEnter new choice: \")\n",
    "        user=int(input())\n",
    "        \n",
    "    if (user==1):\n",
    "        user_choice = \"Rock\"\n",
    "    elif (user == 2):\n",
    "        user_choice = \"Paper\"\n",
    "    else:\n",
    "        user_choice = \"Scissor\"\n",
    "\n",
    "    print(\"\\nThe user's choice is: \", user_choice)\n",
    "    print(\"\\nNow Computer's Turn: \")\n",
    "    \n",
    "    computer = random.randint(1,3)\n",
    "    while(computer==user):\n",
    "        computer=random.randint(1,3)\n",
    "        \n",
    "    if (computer==1):\n",
    "        computer_choice = \"Rock\"\n",
    "    elif (computer == 2):\n",
    "       computer_choice = \"Paper\"\n",
    "    else:\n",
    "       computer_choice = \"Scissor\"\n",
    "\n",
    "    print(\"\\nThe computer's choice is: \", computer_choice)\n",
    "        \n",
    "    \n",
    "    print(\"\\n------------USER    VS     COMPUTER---------\")\n",
    "    \n",
    "    if(user==computer):\n",
    "        print(\"\\nThe Game Is Draw\")\n",
    "        \n",
    "    if(user==1 and computer==2):\n",
    "        print(\"\\nComputer Win \", end=\" \")\n",
    "        print(\"\\nRock vs Paper => Paper Wins\")\n",
    "\n",
    "    elif(user==1 and computer==3):\n",
    "        print(\"\\nUser Win \", end=\" \")\n",
    "        print(\"\\nRock vs Scissor => Rock Wins\")\n",
    "        \n",
    "    elif(user==2 and computer==1):\n",
    "        print(\"\\nUser Win \", end=\" \")\n",
    "        print(\"\\nRock vs Paper => Paper Wins\")\n",
    "        \n",
    "    elif(user==2 and computer==3):\n",
    "        print(\"\\nComputer Win \", end=\" \")\n",
    "        print(\"\\nPaper vs Scissor => Scissor Wins\")\n",
    "        \n",
    "    elif(user==3 and computer==1):\n",
    "        print(\"\\nComputer Win \", end=\" \")\n",
    "        print(\"\\nRock vs Scissor => Rock Wins\")\n",
    "        \n",
    "    elif(user==3 and computer==2):\n",
    "        print(\"\\nUser Win \", end=\" \")\n",
    "        print(\"\\nPaper vs Scissor => Scissor Wins\")\n",
    "\n",
    "    \n",
    "    print(\"\\nDo you want to play again? (Y/N)\")\n",
    "    ans=input().lower()\n",
    "    if ans=='n':\n",
    "        break\n",
    "    \n",
    "print(\"\\n-----Thanks For Playing-----\")"
   ]
  },
  {
   "cell_type": "code",
   "execution_count": 5,
   "id": "6b894d25-efc8-423b-8281-bf62fee15c7e",
   "metadata": {},
   "outputs": [
    {
     "name": "stdin",
     "output_type": "stream",
     "text": [
      "Enter the length of the password:  8\n"
     ]
    },
    {
     "name": "stdout",
     "output_type": "stream",
     "text": [
      "A randomly generated Password is: AivQc3^j\n"
     ]
    }
   ],
   "source": [
    "# 23. Develop a program that generates a random password based on user preferences (length, complexity).\n",
    "\n",
    "import random\n",
    "  \n",
    "def Random_Password(length):  \n",
    "    \"This function accepts a parameter 'len' and returns a randomly generated password\"  \n",
    "  \n",
    "    # defining the list of characters that will be used to generate the password  \n",
    "    list_of_chars = \"ABCDEFGHIJKLMNOPQRSTUVWXYZabcdefghijklmnopqrstuvwxyz1234567890!@#$%^&*()\"  \n",
    "\n",
    "    password = \"\"  \n",
    "\n",
    "    for i in range(length):  \n",
    "        # using the random.choice() method to select a random character from the list\n",
    "        password = password + random.choice(list_of_chars)  \n",
    "      \n",
    "    return password  \n",
    "  \n",
    "\n",
    "len=int(input(\"Enter the length of the password: \"))\n",
    "password = Random_Password(len)  \n",
    "print(\"A randomly generated Password is:\", password)  "
   ]
  },
  {
   "cell_type": "code",
   "execution_count": null,
   "id": "b768be8a-8d5a-40f1-8b6e-f10ded249843",
   "metadata": {},
   "outputs": [],
   "source": [
    "# 24. Create a program that implements a simple text-based adventure game with branching scenarios.\n",
    "\n",
    "\n"
   ]
  },
  {
   "cell_type": "code",
   "execution_count": 6,
   "id": "65d4e6b2-3e40-4fa8-9887-8d1b6ba2efcc",
   "metadata": {},
   "outputs": [
    {
     "name": "stdin",
     "output_type": "stream",
     "text": [
      "Enter the coefficient a:  1\n",
      "Enter the coefficient b:  6\n"
     ]
    },
    {
     "name": "stdout",
     "output_type": "stream",
     "text": [
      "The solution for x is: -6.0\n"
     ]
    }
   ],
   "source": [
    "# 25. Build a program that solves a linear equation for x, considering different cases.\n",
    "\n",
    "a=float(input(\"Enter the coefficient a: \"))\n",
    "b=float(input(\"Enter the coefficient b: \"))\n",
    "\n",
    "if a==0:\n",
    "    if b==0:\n",
    "        print(\"Infinite solutions\")\n",
    "    else:\n",
    "        print(\"No solution, where b is not 0)\")\n",
    "else:\n",
    "    x=(-b / a)\n",
    "    print(f\"The solution for x is: {x}\")"
   ]
  },
  {
   "cell_type": "code",
   "execution_count": null,
   "id": "ac7206e6-bb2f-444e-b044-b358de9f3e80",
   "metadata": {},
   "outputs": [],
   "source": [
    "# 26. Write a program that simulates a basic quiz game with multiple-choice questions and scoring.\n",
    "\n"
   ]
  },
  {
   "cell_type": "code",
   "execution_count": 7,
   "id": "edc2aebe-72b6-45db-b728-8fcd23d7f32f",
   "metadata": {},
   "outputs": [
    {
     "name": "stdin",
     "output_type": "stream",
     "text": [
      "Enter the year:  2016\n"
     ]
    },
    {
     "name": "stdout",
     "output_type": "stream",
     "text": [
      "This year is not prime.\n"
     ]
    }
   ],
   "source": [
    "# 27. Develop a program that determines whether a given year is a prime number or not.\n",
    "import math\n",
    "num=int(input(\"Enter the year: \"))\n",
    "\n",
    "if num<2:\n",
    "    print(\"This year is not prime.\")\n",
    "else:\n",
    "    prime=True\n",
    "    \n",
    "    for i in range(2,int(math.sqrt(num))+1):\n",
    "        if num%i==0:\n",
    "            prime=False\n",
    "            break\n",
    "    \n",
    "    if prime:\n",
    "        print(\"This year is prime.\")\n",
    "    else:\n",
    "        print(\"This year is not prime.\")\n"
   ]
  },
  {
   "cell_type": "code",
   "execution_count": 8,
   "id": "0b19161c-8f12-4889-8928-c0b9949b0718",
   "metadata": {},
   "outputs": [
    {
     "name": "stdin",
     "output_type": "stream",
     "text": [
      "Enter the  1st no:  22\n",
      "Enter the  2nd no:  78\n",
      "Enter the  3rd no:  45\n"
     ]
    },
    {
     "name": "stdout",
     "output_type": "stream",
     "text": [
      "The sort element is:  [22, 45, 78]\n"
     ]
    }
   ],
   "source": [
    "# 28. Create a program that sorts three numbers in ascending order using conditional statements.\n",
    "\n",
    "a=int(input(\"Enter the  1st no: \"))\n",
    "b=int(input(\"Enter the  2nd no: \"))\n",
    "c=int(input(\"Enter the  3rd no: \"))\n",
    "\n",
    "if a<=b<=c:\n",
    "    sort_list=[a,b,c]\n",
    "elif a<=c<=b:\n",
    "     sort_list=[a,c,b]\n",
    "elif b<=a<=c:\n",
    "     sort_list=[b,a,c]\n",
    "elif b<=c<=a:\n",
    "     sort_list=[b,c,a]\n",
    "elif c<=a<=b:\n",
    "     sort_list=[c,a,b]\n",
    "else:\n",
    "    sort_list=[c,b,a]\n",
    "    \n",
    "print(\"The sort element is: \",sort_list)\n"
   ]
  },
  {
   "cell_type": "code",
   "execution_count": 9,
   "id": "d68eba15-28d8-4e22-8092-d453c3b34dae",
   "metadata": {},
   "outputs": [
    {
     "name": "stdin",
     "output_type": "stream",
     "text": [
      "Enter the value of a:  4\n",
      "Enter the value of b:  6\n",
      "Enter the value of c:  12\n"
     ]
    },
    {
     "name": "stdout",
     "output_type": "stream",
     "text": [
      "The Root is Real and Diffrent\n",
      "-0.75 +i 12.489995996796797\n",
      "-0.75 -i 12.489995996796797\n"
     ]
    }
   ],
   "source": [
    "# 29. Build a program that determines the roots of a quartic equation using numerical methods.\n",
    "\n",
    "import math\n",
    "def quadratic_equation(a,b,c):\n",
    "    \n",
    "    d = b*b - (4*a*c)\n",
    "    value = math.sqrt(abs(d))\n",
    "    \n",
    "    if d > 0:\n",
    "        print(\"The Root is Real and Diffrent\")\n",
    "        print((-b + value)/(2*a))\n",
    "        print((-b - value)/(2*a))\n",
    "    \n",
    "    elif d==0:\n",
    "        print(\"The Root is Real and Same\")\n",
    "        print(-b / (2 * a))\n",
    "        \n",
    "    else:\n",
    "        print(\"The Root is Real and Diffrent\")\n",
    "        print((-b / (2 * a)), \"+i\" ,value)\n",
    "        print((-b / (2 * a)), \"-i\" , value)\n",
    "    \n",
    "    \n",
    "a=int(input(\"Enter the value of a: \"))\n",
    "b=int(input(\"Enter the value of b: \"))\n",
    "c=int(input(\"Enter the value of c: \"))\n",
    "\n",
    "if a==0:\n",
    "\tprint(\"Equation is not valid quadratic equation\")\n",
    "else:\n",
    "\tquadratic_equation(a, b, c)"
   ]
  },
  {
   "cell_type": "code",
   "execution_count": 10,
   "id": "a9f22fa7-378d-4f6f-8ab5-7a0aea8e85b4",
   "metadata": {},
   "outputs": [
    {
     "name": "stdin",
     "output_type": "stream",
     "text": [
      "Enter your height in meters:  1.8\n",
      "Enter your Weight in Kg:  55\n"
     ]
    },
    {
     "name": "stdout",
     "output_type": "stream",
     "text": [
      "BMI calculated is: 16.975308641975307\n",
      "You are underweight\n"
     ]
    }
   ],
   "source": [
    "# 30. Write a program that calculates the BMI (Body Mass Index) and provides health recommendations based on the user's input.\n",
    "\n",
    "h=float(input(\"Enter your height in meters: \"))\n",
    "w=float(input(\"Enter your Weight in Kg: \"))\n",
    "\n",
    "BMI=w/(h*h)\n",
    "print(\"BMI calculated is:\",BMI)\n",
    "\n",
    "if(BMI>0):\n",
    "\tif(BMI<=16):\n",
    "\t\tprint(\"You are very underweight\")\n",
    "\telif(BMI<=18.5):\n",
    "\t\tprint(\"You are underweight\")\n",
    "\telif(BMI<=25):\n",
    "\t\tprint(\"Congrats! You are Healthy\")\n",
    "\telif(BMI<=30):\n",
    "\t\tprint(\"You are overweight\")\n",
    "\telse:\n",
    "         print(\"You are very overweight\")\n",
    "else:\n",
    "    print(\"enter valid details\") "
   ]
  },
  {
   "cell_type": "code",
   "execution_count": null,
   "id": "b2cc7d5a-645b-47d1-a4a6-51b3bc155bb7",
   "metadata": {},
   "outputs": [],
   "source": []
  },
  {
   "cell_type": "markdown",
   "id": "806c3c5a-8c2f-4b94-9545-1eb51469a089",
   "metadata": {},
   "source": [
    "--------------------Challenge Level:-----------------"
   ]
  },
  {
   "cell_type": "code",
   "execution_count": null,
   "id": "a018e12b-94a1-42f0-99e3-ff12c76f8ded",
   "metadata": {},
   "outputs": [],
   "source": []
  },
  {
   "cell_type": "code",
   "execution_count": 1,
   "id": "a7f449d4-6896-464c-9bea-95c355a9ee14",
   "metadata": {},
   "outputs": [
    {
     "name": "stdin",
     "output_type": "stream",
     "text": [
      "Enter a password:  123456@aA\n"
     ]
    },
    {
     "name": "stdout",
     "output_type": "stream",
     "text": [
      "Valid password\n"
     ]
    }
   ],
   "source": [
    "# 31. Create a program that validates a password based on complexity rules (length, characters, etc.).\n",
    "\n",
    "password = input(\"Enter a password: \")\n",
    "\n",
    "def check_password(password):\n",
    "    if len(password) < 8 or len(password) > 16:         # password lenth between 8 to 16\n",
    "        return False\n",
    "    if not any(char.isupper() for char in password):    # atleast one Uppercase letter\n",
    "        return False\n",
    "    if not any(char.islower() for char in password):    # atleast one Lowercase letter\n",
    "        return False\n",
    "    if not any(char.isdigit() for char in password):    # atleast one Digit \n",
    "        return False\n",
    "    if not any(char in \"@#$%\" for char in password):    # atleast one special Symbol letter\n",
    "        return False\n",
    "    return True\n",
    "\n",
    "if check_password(password):\n",
    "    print(\"Valid password\")\n",
    "else:\n",
    "    print(\"Not a valid password\")"
   ]
  },
  {
   "cell_type": "code",
   "execution_count": 1,
   "id": "fd2b1e7e-d616-40ad-9570-a3d108a2313a",
   "metadata": {},
   "outputs": [
    {
     "name": "stdout",
     "output_type": "stream",
     "text": [
      "\n",
      "Enter first Matrix details \n"
     ]
    },
    {
     "name": "stdin",
     "output_type": "stream",
     "text": [
      "Enter the number of rows:  2\n",
      "Enter the number of columns:  2\n",
      "Enter the element at row 1, and column 1:  2\n",
      "Enter the element at row 1, and column 2:  3\n",
      "Enter the element at row 2, and column 1:  2\n",
      "Enter the element at row 2, and column 2:  3\n"
     ]
    },
    {
     "name": "stdout",
     "output_type": "stream",
     "text": [
      "\n",
      "Enter 2nd Matrix details \n"
     ]
    },
    {
     "name": "stdin",
     "output_type": "stream",
     "text": [
      "Enter the number of rows:  2\n",
      "Enter the number of columns:  2\n",
      "Enter the element at row 1, and column 1:  2\n",
      "Enter the element at row 1, and column 2:  3\n",
      "Enter the element at row 2, and column 1:  2\n",
      "Enter the element at row 2, and column 2:  3\n"
     ]
    },
    {
     "name": "stdout",
     "output_type": "stream",
     "text": [
      "\n",
      "Resultant Matrix (Adddition of the two matrices):\n",
      "[4, 6]\n",
      "[4, 6]\n",
      "\n",
      "Resultant Matrix (Subtration of the two matrices):\n",
      "[0, 0]\n",
      "[0, 0]\n"
     ]
    }
   ],
   "source": [
    "# 32. Develop a program that performs matrix addition and subtraction based on user input.\n",
    "\n",
    "print(\"\\nEnter first Matrix details \")\n",
    "m1 = int(input(\"Enter the number of rows: \"))\n",
    "n1 = int(input(\"Enter the number of columns: \"))\n",
    "\n",
    "matrix1 = []\n",
    "for i in range(m1):\n",
    "    row = []\n",
    "    for j in range(n1):\n",
    "        element = int(input(f\"Enter the element at row {i+1}, and column {j+1}: \"))\n",
    "        row.append(element)\n",
    "    matrix1.append(row)\n",
    "\n",
    "print(\"\\nEnter 2nd Matrix details \")\n",
    "m2 = int(input(\"Enter the number of rows: \"))\n",
    "n2 = int(input(\"Enter the number of columns: \"))\n",
    "\n",
    "matrix2 = []\n",
    "for i in range(m2):\n",
    "    row = []\n",
    "    for j in range(n2):\n",
    "        element = int(input(f\"Enter the element at row {i+1}, and column {j+1}: \"))\n",
    "        row.append(element)\n",
    "    matrix2.append(row)\n",
    "\n",
    "if m1 != m2 or n1 != n2:\n",
    "    print(\"Matrix Addition is not possible because the dimensions are different.\")\n",
    "else:\n",
    "    addition = []\n",
    "    for i in range(m1):\n",
    "        row = []\n",
    "        for j in range(n1):\n",
    "            row.append(matrix1[i][j] + matrix2[i][j])\n",
    "        addition.append(row)\n",
    "\n",
    "    print(\"\\nResultant Matrix (Adddition of the two matrices):\")\n",
    "    for row in addition:\n",
    "        print(row)\n",
    "        \n",
    "if m1 != m2 or n1 != n2:\n",
    "    print(\"Matrix subtraction is not possible because the dimensions are different.\")\n",
    "else:\n",
    "    subtraction = []\n",
    "    for i in range(m1):\n",
    "        row = []\n",
    "        for j in range(n1):\n",
    "            row.append(matrix1[i][j] - matrix2[i][j])\n",
    "        subtraction.append(row)\n",
    "\n",
    "    print(\"\\nResultant Matrix (Subtration of the two matrices):\")\n",
    "    for row in subtraction:\n",
    "        print(row)"
   ]
  },
  {
   "cell_type": "code",
   "execution_count": 2,
   "id": "f3847020-1427-4cd4-8fb1-288acfac565e",
   "metadata": {},
   "outputs": [
    {
     "name": "stdin",
     "output_type": "stream",
     "text": [
      "Enter the 1st number:  12\n",
      "Enter the 2nd number:  84\n"
     ]
    },
    {
     "name": "stdout",
     "output_type": "stream",
     "text": [
      "The GCD of 12 and 84 is 12\n"
     ]
    }
   ],
   "source": [
    "# 33. Write a program that calculates the greatest common divisor (GCD) of two numbers using the Euclidean algorithm.\n",
    "\n",
    "def gcd(a,b):\n",
    "    while b:\n",
    "        a,b = b, a%b\n",
    "    return a\n",
    "\n",
    "n1=int(input(\"Enter the 1st number: \"))\n",
    "n2=int(input(\"Enter the 2nd number: \"))\n",
    "\n",
    "result=gcd(n1,n2)\n",
    "\n",
    "print(f\"The GCD of {n1} and {n2} is {result}\")"
   ]
  },
  {
   "cell_type": "code",
   "execution_count": 1,
   "id": "2e37a726-2249-4850-977b-5f992680b293",
   "metadata": {},
   "outputs": [
    {
     "name": "stdout",
     "output_type": "stream",
     "text": [
      "\n",
      "Enter first Matrix details \n"
     ]
    },
    {
     "name": "stdin",
     "output_type": "stream",
     "text": [
      "Enter the number of rows:  2\n",
      "Enter the number of columns:  3\n",
      "Enter the element at row 1, and column 1:  2\n",
      "Enter the element at row 1, and column 2:  4\n",
      "Enter the element at row 1, and column 3:  2\n",
      "Enter the element at row 2, and column 1:  3\n",
      "Enter the element at row 2, and column 2:  2\n",
      "Enter the element at row 2, and column 3:  4\n"
     ]
    },
    {
     "name": "stdout",
     "output_type": "stream",
     "text": [
      "\n",
      "Enter 2nd Matrix details \n"
     ]
    },
    {
     "name": "stdin",
     "output_type": "stream",
     "text": [
      "Enter the number of rows:  3\n",
      "Enter the number of columns:  2\n",
      "Enter the element at row 1, and column 1:  4\n",
      "Enter the element at row 1, and column 2:  5\n",
      "Enter the element at row 2, and column 1:  4\n",
      "Enter the element at row 2, and column 2:  5\n",
      "Enter the element at row 3, and column 1:  4\n",
      "Enter the element at row 3, and column 2:  5\n"
     ]
    },
    {
     "name": "stdout",
     "output_type": "stream",
     "text": [
      "\n",
      "Resultant Matrix (Multiplication of the two matrices):\n",
      "[32, 40]\n",
      "[36, 45]\n"
     ]
    }
   ],
   "source": [
    "# 34. Build a program that performs matrix multiplication using nested loops and conditional statements.\n",
    "\n",
    "print(\"\\nEnter first Matrix details \")\n",
    "m1 = int(input(\"Enter the number of rows: \"))\n",
    "n1 = int(input(\"Enter the number of columns: \"))\n",
    "\n",
    "matrix1 = []\n",
    "for i in range(m1):\n",
    "    row = []\n",
    "    for j in range(n1):\n",
    "        element = int(input(f\"Enter the element at row {i+1}, and column {j+1}: \"))\n",
    "        row.append(element)\n",
    "    matrix1.append(row)\n",
    "\n",
    "print(\"\\nEnter 2nd Matrix details \")\n",
    "m2 = int(input(\"Enter the number of rows: \"))\n",
    "n2 = int(input(\"Enter the number of columns: \"))\n",
    "\n",
    "matrix2 = []\n",
    "for i in range(m2):\n",
    "    row = []\n",
    "    for j in range(n2):\n",
    "        element = int(input(f\"Enter the element at row {i+1}, and column {j+1}: \"))\n",
    "        row.append(element)\n",
    "    matrix2.append(row)\n",
    "\n",
    "\n",
    "if n1 != m2:\n",
    "    print(\"Matrix Multiplication is not possible because the dimensions are different.\")\n",
    "else:\n",
    "    result = [[0 for i in range(n2)] for i in range(m1)]\n",
    "    for i in range(m1):\n",
    "        for j in range(n2):\n",
    "            for k in range(n1):\n",
    "                result[i][j]+= matrix1[i][k] * matrix2[k][j]\n",
    "    \n",
    "\n",
    "    print(\"\\nResultant Matrix (Multiplication of the two matrices):\")\n",
    "    for row in result:\n",
    "        print(row)"
   ]
  },
  {
   "cell_type": "code",
   "execution_count": null,
   "id": "2947d1e0-e9be-4542-a869-1e61adbfebbc",
   "metadata": {},
   "outputs": [],
   "source": [
    "# 35. Create a program that simulates a basic text-based tic-tac-toe game against the computer.\n"
   ]
  },
  {
   "cell_type": "code",
   "execution_count": 2,
   "id": "e5811361-a14a-4251-a16c-33e37f1fc8b2",
   "metadata": {},
   "outputs": [
    {
     "name": "stdin",
     "output_type": "stream",
     "text": [
      "Enter the length : 5\n"
     ]
    },
    {
     "name": "stdout",
     "output_type": "stream",
     "text": [
      "Fibonacci series upto 5 is: \n",
      "0\n",
      "1\n",
      "1\n",
      "2\n",
      "3\n"
     ]
    }
   ],
   "source": [
    "# 36. Write a program that generates Fibonacci numbers up to a specified term using iterative methods.\n",
    "\n",
    "n=int(input(\"Enter the length :\"))\n",
    "print(f\"Fibonacci series upto {n} is: \")\n",
    "a,b=0,1\n",
    "for i in range(n):\n",
    "    print(a)\n",
    "    a,b=b,a+b"
   ]
  },
  {
   "cell_type": "code",
   "execution_count": 3,
   "id": "dc6b1b54-15e0-46f9-9c88-615006966666",
   "metadata": {},
   "outputs": [
    {
     "name": "stdin",
     "output_type": "stream",
     "text": [
      "Enter the value of n for the nth Fibonacci term:  5\n"
     ]
    },
    {
     "name": "stdout",
     "output_type": "stream",
     "text": [
      "The 5th Fibonacci term is: 5\n"
     ]
    }
   ],
   "source": [
    "# 37. Develop a program that calculates the nth term of the Fibonacci sequence using memoization.\n",
    "\n",
    "def fibonacci(n,memo={}):\n",
    "    if n in memo:   # Check if the value is already memoized\n",
    "        return memo[n]\n",
    "\n",
    "    if n == 0:\n",
    "        return 0\n",
    "    elif n == 1:\n",
    "        return 1\n",
    "\n",
    "    result = fibonacci(n-1, memo) + fibonacci(n-2, memo)        # Calculate the nth Fibonacci term using recursion\n",
    "    # Memoize the result\n",
    "    memo[n] = result\n",
    "\n",
    "    return result\n",
    "\n",
    "n=int(input(\"Enter the value of n for the nth Fibonacci term: \"))\n",
    "result=fibonacci(n)\n",
    "print(f\"The {n}th Fibonacci term is: {result}\")"
   ]
  },
  {
   "cell_type": "code",
   "execution_count": 4,
   "id": "24405a5b-5f78-4443-b7b0-5cfc854ad36a",
   "metadata": {},
   "outputs": [
    {
     "name": "stdin",
     "output_type": "stream",
     "text": [
      "Enter the year:  2023\n",
      "Enter the month :  3\n"
     ]
    },
    {
     "name": "stdout",
     "output_type": "stream",
     "text": [
      "Calendar for 3 month of 2023:\n",
      "\n",
      "      March 2023\n",
      "Mo Tu We Th Fr Sa Su\n",
      "       1  2  3  4  5\n",
      " 6  7  8  9 10 11 12\n",
      "13 14 15 16 17 18 19\n",
      "20 21 22 23 24 25 26\n",
      "27 28 29 30 31\n",
      "\n"
     ]
    }
   ],
   "source": [
    "# 38. Create a program that generates a calendar for a given month and year using conditional statements.\n",
    "\n",
    "import calendar\n",
    "year=int(input(\"Enter the year: \"))\n",
    "month=int(input(\"Enter the month : \"))\n",
    "\n",
    "if month<1 or month>12:\n",
    "    print(\"Invalid month input. Please enter a month between 1 and 12.\")\n",
    "else:\n",
    "    mon=calendar.month(year, month)\n",
    "    print(f\"Calendar for {month} month of {year}:\\n\\n\",mon)"
   ]
  },
  {
   "cell_type": "code",
   "execution_count": null,
   "id": "65e951f5-7741-4e9e-b11f-fdb0e99c8832",
   "metadata": {},
   "outputs": [],
   "source": [
    "# 39. Build a program that simulates a basic text-based blackjack game against the computer.\n"
   ]
  },
  {
   "cell_type": "code",
   "execution_count": null,
   "id": "a9a14806-3933-49f4-8ed3-da915a3d2ca9",
   "metadata": {},
   "outputs": [],
   "source": [
    "# 40. Write a program that generates the prime factors of a given number using trial division.\n",
    "\n",
    "import math\n",
    "def prime_factor(n):\n",
    "    while n%2==0:\n",
    "        print(2,)\n",
    "        n=n/2\n",
    "    for i in range(3,int((math.sqrt(n)))+1,2):\n",
    "        while n%i==0:\n",
    "            print(i,)\n",
    "            n=n/i\n",
    "    if n>2:\n",
    "        print(int(n))\n",
    "\n",
    "n=int(input(\"Enter a no: \"))\n",
    "prime_factor(n)"
   ]
  }
 ],
 "metadata": {
  "kernelspec": {
   "display_name": "Python 3 (ipykernel)",
   "language": "python",
   "name": "python3"
  },
  "language_info": {
   "codemirror_mode": {
    "name": "ipython",
    "version": 3
   },
   "file_extension": ".py",
   "mimetype": "text/x-python",
   "name": "python",
   "nbconvert_exporter": "python",
   "pygments_lexer": "ipython3",
   "version": "3.10.8"
  }
 },
 "nbformat": 4,
 "nbformat_minor": 5
}
