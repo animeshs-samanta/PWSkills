{
 "cells": [
  {
   "cell_type": "code",
   "execution_count": null,
   "id": "7dbd50e0-dabd-43ca-947d-2f24b5a40a8c",
   "metadata": {},
   "outputs": [],
   "source": []
  },
  {
   "cell_type": "code",
   "execution_count": 1,
   "id": "d9cc076b-0909-4b27-95a6-19c0f31cd852",
   "metadata": {},
   "outputs": [],
   "source": [
    "import numpy as np\n",
    "import random"
   ]
  },
  {
   "cell_type": "code",
   "execution_count": null,
   "id": "3217aa91-4a57-48df-a9d9-50d1ad53fa2c",
   "metadata": {},
   "outputs": [],
   "source": [
    "# 1. What is a Python library? Why do we use Python libraries?\n",
    "\n",
    "A Python library is a collection of functions and methods that allows you to perform many actions without writing your own code. These libraries are \n",
    "written in Python or other languages, such as C or C++, and are imported into your Python code, enabling you to use their functionality.\n",
    "\n",
    "We use Python libraries for several reasons:\n",
    "1. Reuse of codes.\n",
    "2. Efficiency\n",
    "3. Specialized functionality\n",
    "4. Community support\n",
    "5. Interoperabilityproblems.\n",
    "\n",
    "Python standard library : Pandas, Numpy, TensorFlow, Matplotlib, SciPy, PyTorch\n",
    "Overall, Python libraries are essential for expanding the capabilities of Python and making it a powerful tool for a wide range of tasks,\n",
    "from web development to data analysis, machine learning, scientific computing, and more."
   ]
  },
  {
   "cell_type": "code",
   "execution_count": null,
   "id": "c79eeaaf-50f4-4601-a523-7423f778a8b8",
   "metadata": {},
   "outputs": [],
   "source": [
    "# 2. What is the difference between Numpy array and List?\n",
    "\n",
    "1. Data Types:\n",
    "    NumPy arrays are homogeneous, meaning all elements of an array must be of the same data type (e.g., integers, floats, etc.). This allows for more\n",
    "    efficient storage and operations on the data.\n",
    "    Python lists can contain elements of different data types, making them more flexible but potentially less efficient for numerical computations.\n",
    "\n",
    "2. Memory Usage:\n",
    "    NumPy arrays typically use less memory compared to Python lists, especially for large datasets, because they store data in a contiguous block of \n",
    "    memory.\n",
    "    Python lists are more flexible in terms of memory usage, as they can dynamically resize and store different types of objects, but this flexibility \n",
    "    comes with additional memory overhead.\n",
    "\n",
    "3. Performance: \n",
    "    NumPy arrays are optimized for numerical computations, with efficient element-wise operations and mathematical functions. These operations are \n",
    "    implemented in C, resulting in faster performance than equivalent operations on lists\n",
    "\n",
    "    Lists are not optimized for numerical computations and may have slower mathematical operations due to Python’s interpretation overhead. \n",
    "    They are generally used as general-purpose data structures.\n",
    "\n"
   ]
  },
  {
   "cell_type": "code",
   "execution_count": 4,
   "id": "9ee309b5-984d-4ce6-939f-4af1a98ffdf0",
   "metadata": {},
   "outputs": [
    {
     "name": "stdout",
     "output_type": "stream",
     "text": [
      "Shape os the array:  (3, 4)\n",
      "Dimension of teh arr:  2\n"
     ]
    }
   ],
   "source": [
    "'''\n",
    "3. Find the shape, size and dimension of the following array?\n",
    "[[1,2,3,4]\n",
    "[5,6,7,8],\n",
    "[9,10,11,12]]\n",
    "\n",
    "'''\n",
    "\n",
    "arr = np.array([[1,2,3,4], [5,6,7,8], [9,10,11,12]])\n",
    "print(\"Shape os the array: \",arr.shape)\n",
    "print(\"Dimension of teh arr: \",arr.ndim)"
   ]
  },
  {
   "cell_type": "code",
   "execution_count": null,
   "id": "3862fbe1-52a7-4957-9516-9c5ed4e09282",
   "metadata": {},
   "outputs": [],
   "source": [
    "'''\n",
    "4. Write python code to access the first row of the following array?\n",
    "\n",
    "[[1,2,3,4]\n",
    "[5, 6, 7, 8],\n",
    "[9,10,11,12]]\n",
    "\n",
    "'''\n",
    "arr = np.array([[1,2,3,4], [5,6,7,8], [9,10,11,12]])\n",
    "print(arr)\n",
    "arr[0]"
   ]
  },
  {
   "cell_type": "code",
   "execution_count": 5,
   "id": "07c0e40a-9dac-4ab0-b61d-18128da4a7ac",
   "metadata": {},
   "outputs": [
    {
     "data": {
      "text/plain": [
       "12"
      ]
     },
     "execution_count": 5,
     "metadata": {},
     "output_type": "execute_result"
    }
   ],
   "source": [
    "'''\n",
    "5. How do you access the element at the third row and fourth column from the given numpy array?\n",
    "\n",
    "[[1,2,3,4]\n",
    "[5,6,7,8],\n",
    "[9,10,11,12]]\n",
    "\n",
    "'''\n",
    "arr = np.array([[1,2,3,4], [5,6,7,8], [9,10,11,12]])\n",
    "arr[2,3]"
   ]
  },
  {
   "cell_type": "code",
   "execution_count": 6,
   "id": "dc531de0-6bb9-4768-ba5d-fbab84a3279a",
   "metadata": {},
   "outputs": [
    {
     "data": {
      "text/plain": [
       "array([[ 2,  4],\n",
       "       [ 6,  8],\n",
       "       [10, 12]])"
      ]
     },
     "execution_count": 6,
     "metadata": {},
     "output_type": "execute_result"
    }
   ],
   "source": [
    "'''\n",
    "6. Write code to extract all odd-indexed elements from the given numpy array?\n",
    "\n",
    "[[1,2,3,4],\n",
    "[5, 6, 7, 8],\n",
    "[9,10,11,12]]\n",
    "\n",
    "'''\n",
    "arr[:, [1,3]]"
   ]
  },
  {
   "cell_type": "code",
   "execution_count": 7,
   "id": "39336a57-d05a-43a7-84ec-a44067041b94",
   "metadata": {},
   "outputs": [
    {
     "data": {
      "text/plain": [
       "array([[0.95143893, 0.54265894, 0.20466385],\n",
       "       [0.85197994, 0.25080074, 0.63474072],\n",
       "       [0.04478136, 0.07499691, 0.43914336]])"
      ]
     },
     "execution_count": 7,
     "metadata": {},
     "output_type": "execute_result"
    }
   ],
   "source": [
    "# 7. How can you generate a random 3x3 matrix with values between 0 and 1?\n",
    "arr1 = np.random.rand(3,3)\n",
    "arr1"
   ]
  },
  {
   "cell_type": "code",
   "execution_count": 8,
   "id": "90c14644-3a43-44aa-8030-5a0553b94f5d",
   "metadata": {},
   "outputs": [
    {
     "name": "stdout",
     "output_type": "stream",
     "text": [
      "Uniform distribution: \n",
      " [[0.53066638 0.05360121 0.27885386]\n",
      " [0.50448664 0.62287672 0.33791098]]\n",
      "Normal distribution: \n",
      " [[-0.28786527 -0.86167604 -0.43574361]\n",
      " [ 0.08047494  1.34479093  2.42190489]]\n"
     ]
    }
   ],
   "source": [
    "# 8. Describe the difference between np.random.rand and np.random.randn?\n",
    "\n",
    "''' np.random.randn generates samples from the normal distribution, while np.random.rand from a uniform distribution '''\n",
    "\n",
    "a1 = np.random.rand(2,3)\n",
    "print(\"Uniform distribution: \\n\",a1)\n",
    "a2 = np.random.randn(2,3)  #normal distribution\n",
    "print(\"Normal distribution: \\n\",a2)\n"
   ]
  },
  {
   "cell_type": "code",
   "execution_count": 9,
   "id": "5ef41a61-4858-4e43-9071-f18ac6c1c9ac",
   "metadata": {},
   "outputs": [
    {
     "name": "stdout",
     "output_type": "stream",
     "text": [
      "initials dimension:  2\n",
      "\n",
      "New dimension:  3\n",
      "[[[ 1  2  3  4]\n",
      "  [ 5  6  7  8]\n",
      "  [ 9 10 11 12]]]\n"
     ]
    }
   ],
   "source": [
    "'''\n",
    "9. Write code to increase the dimension of the following array?\n",
    "\n",
    "[[1,2,3,4]\n",
    "[5,6,7,8],\n",
    "[9,10,11,12]]\n",
    "\n",
    "'''\n",
    "arr = np.array([[1,2,3,4], [5,6,7,8], [9,10,11,12]])\n",
    "print(\"initials dimension: \", arr.ndim)\n",
    "arr = np.expand_dims(arr, axis = 0)\n",
    "print(\"\\nNew dimension: \", arr.ndim)\n",
    "print(arr)\n"
   ]
  },
  {
   "cell_type": "code",
   "execution_count": 10,
   "id": "443800b5-cf81-4c99-99a2-bf8d8c1f47d8",
   "metadata": {},
   "outputs": [
    {
     "name": "stdout",
     "output_type": "stream",
     "text": [
      "Original array: \n",
      " [[ 1  2  3  4]\n",
      " [ 5  6  7  8]\n",
      " [ 9 10 11 12]]\n",
      "\n",
      "Transpose array: \n",
      " [[ 1  5  9]\n",
      " [ 2  6 10]\n",
      " [ 3  7 11]\n",
      " [ 4  8 12]]\n"
     ]
    }
   ],
   "source": [
    "'''\n",
    "10. How to transpose the following array in NumPy?\n",
    "\n",
    "[[1,2,3,4]\n",
    "[5,6,7,8],\n",
    "[9,10,11,12]]\n",
    "'''\n",
    "arr = np.array([[1,2,3,4], [5,6,7,8], [9,10,11,12]])\n",
    "print(\"Original array: \\n\",arr)\n",
    "print(\"\\nTranspose array: \\n\",arr.T)\n"
   ]
  },
  {
   "cell_type": "code",
   "execution_count": 11,
   "id": "3689f5c5-f5a7-4a99-a0db-e5a4e6a7e65b",
   "metadata": {},
   "outputs": [
    {
     "name": "stdout",
     "output_type": "stream",
     "text": [
      "Index wise multiplication: \n",
      " [[  1   4   9  16]\n",
      " [ 25  36  49  64]\n",
      " [ 81 100 121 144]]\n",
      "\n",
      "Add both the matrics: \n",
      " [[ 2  4  6  8]\n",
      " [10 12 14 16]\n",
      " [18 20 22 24]]\n",
      "\n",
      "Subtract matrix B from A: \n",
      " [[0 0 0 0]\n",
      " [0 0 0 0]\n",
      " [0 0 0 0]]\n",
      "\n",
      "Divide Matrix B by A : \n",
      " [[1. 1. 1. 1.]\n",
      " [1. 1. 1. 1.]\n",
      " [1. 1. 1. 1.]]\n"
     ]
    }
   ],
   "source": [
    "'''\n",
    "11. Consider the following matrix:\n",
    "\n",
    "Matrix A: [[1,2,3,4] [5, 6, 7, 8], [9, 10, 11, 12]] Matrix B: [[1,2,3,4][5,6,7,8],[9,10,11,12]]\n",
    "\n",
    "Perform the following operation using Python:\n",
    "\n",
    "1. Index wise multiplication\n",
    "\n",
    "2. Matrix multiplication\n",
    "\n",
    "3. Add both the matrics\n",
    "\n",
    "4. Subtract matrix B from A\n",
    "\n",
    "5. Divide Matrix B by A\n",
    "\n",
    "'''\n",
    "A = np.array([[1,2,3,4], [5, 6, 7, 8], [9, 10, 11, 12]])\n",
    "B = np.array([[1,2,3,4], [5, 6, 7, 8], [9,10,11,12]])\n",
    "\n",
    "print(\"Index wise multiplication: \\n\", A * B)\n",
    "\n",
    "#print(\"Matrix multiplication: \\n\", A@B) #Matrix multiplicaion not possible -> size 3 is different from 4\n",
    "\n",
    "print(\"\\nAdd both the matrics: \\n\", A+B)\n",
    "print(\"\\nSubtract matrix B from A: \\n\", A-B)\n",
    "print(\"\\nDivide Matrix B by A : \\n\", B/A)\n",
    "\n"
   ]
  },
  {
   "cell_type": "code",
   "execution_count": 12,
   "id": "2e4bb7a4-2638-4b29-82fd-6c8c40f98bf6",
   "metadata": {},
   "outputs": [
    {
     "data": {
      "text/plain": [
       "array([ 256, 1024,  768,  512], dtype=int16)"
      ]
     },
     "execution_count": 12,
     "metadata": {},
     "output_type": "execute_result"
    }
   ],
   "source": [
    "# 12. Which function in Numpy can be used to swap the byte order of an array?\n",
    "\n",
    "arr1 = np.array([1,4,3,2], dtype = np.int16)\n",
    "arr1.byteswap(inplace=True)"
   ]
  },
  {
   "cell_type": "code",
   "execution_count": null,
   "id": "745bd099-0f5b-4619-9d68-d2e53d2567a2",
   "metadata": {},
   "outputs": [],
   "source": [
    "# 13. What is the significance of the np.linalg.inv function?\n",
    "\n",
    "''' We use np.linalg.inv() function to calculate the inverse of a matrix '''\n",
    "from numpy.linalg import inv\n",
    "\n",
    "A = np.array([[1,2,3,4], [5, 6, 7, 8], [9, 10, 11, 12]])\n",
    "B = np.linalg.inv(A)\n",
    "print(A)\n",
    "print(B)"
   ]
  },
  {
   "cell_type": "code",
   "execution_count": 13,
   "id": "33601199-a957-4beb-8910-4a3691a83245",
   "metadata": {},
   "outputs": [
    {
     "data": {
      "text/plain": [
       "array([[3, 2, 2, 2],\n",
       "       [3, 4, 3, 4],\n",
       "       [4, 2, 2, 3]])"
      ]
     },
     "execution_count": 13,
     "metadata": {},
     "output_type": "execute_result"
    }
   ],
   "source": [
    "# 14. What does the np.reshape function do, and how is it used?\n",
    "''' reshape() function is used to create a new array of the same size (as the original array) but of different desired dimensions '''\n",
    "arr = np.random.randint(1,5, size = (3, 4))\n",
    "arr"
   ]
  },
  {
   "cell_type": "code",
   "execution_count": 14,
   "id": "e82f57a5-29d4-435b-9d75-540bf7646839",
   "metadata": {},
   "outputs": [
    {
     "data": {
      "text/plain": [
       "12"
      ]
     },
     "execution_count": 14,
     "metadata": {},
     "output_type": "execute_result"
    }
   ],
   "source": [
    "arr.size"
   ]
  },
  {
   "cell_type": "code",
   "execution_count": 15,
   "id": "a437e3bd-3475-46f5-95b9-130b34289d5c",
   "metadata": {},
   "outputs": [
    {
     "data": {
      "text/plain": [
       "array([[3, 2, 2, 2, 3, 4],\n",
       "       [3, 4, 4, 2, 2, 3]])"
      ]
     },
     "execution_count": 15,
     "metadata": {},
     "output_type": "execute_result"
    }
   ],
   "source": [
    "arr.reshape(2,6)"
   ]
  },
  {
   "cell_type": "code",
   "execution_count": 16,
   "id": "8b005fd1-eed0-4897-8c8c-71461885e501",
   "metadata": {},
   "outputs": [
    {
     "data": {
      "text/plain": [
       "array([[3, 2, 2],\n",
       "       [2, 3, 4],\n",
       "       [3, 4, 4],\n",
       "       [2, 2, 3]])"
      ]
     },
     "execution_count": 16,
     "metadata": {},
     "output_type": "execute_result"
    }
   ],
   "source": [
    "arr.reshape(4,3)"
   ]
  },
  {
   "cell_type": "code",
   "execution_count": 17,
   "id": "876fab6d-c35f-432a-a932-a72812eebb3f",
   "metadata": {},
   "outputs": [
    {
     "data": {
      "text/plain": [
       "array([[1., 1., 1., 1.],\n",
       "       [1., 1., 1., 1.],\n",
       "       [1., 1., 1., 1.]])"
      ]
     },
     "execution_count": 17,
     "metadata": {},
     "output_type": "execute_result"
    }
   ],
   "source": [
    "# 15. What is broadcasting in Numpy?\n",
    "\n",
    "''' The term broadcasting describes how NumPy treats arrays with different shapes during arithmetic operations. '''\n",
    "\n",
    "arr1 = np.ones((3,4))\n",
    "arr1"
   ]
  },
  {
   "cell_type": "code",
   "execution_count": 18,
   "id": "732e676b-6066-4bca-a5f0-99dff3f40f58",
   "metadata": {},
   "outputs": [
    {
     "data": {
      "text/plain": [
       "array([[4., 4., 4., 4.],\n",
       "       [4., 4., 4., 4.],\n",
       "       [4., 4., 4., 4.]])"
      ]
     },
     "execution_count": 18,
     "metadata": {},
     "output_type": "execute_result"
    }
   ],
   "source": [
    "arr1 +3"
   ]
  },
  {
   "cell_type": "code",
   "execution_count": 19,
   "id": "b3a86f00-b7f3-4ce7-a4f6-2e45e03dddd6",
   "metadata": {},
   "outputs": [
    {
     "data": {
      "text/plain": [
       "array([[6., 6., 6., 6.],\n",
       "       [6., 6., 6., 6.],\n",
       "       [6., 6., 6., 6.]])"
      ]
     },
     "execution_count": 19,
     "metadata": {},
     "output_type": "execute_result"
    }
   ],
   "source": [
    "arr1 * 6"
   ]
  },
  {
   "cell_type": "code",
   "execution_count": null,
   "id": "ab7b13f7-45d6-4c7f-ae8a-992d97512210",
   "metadata": {},
   "outputs": [],
   "source": []
  }
 ],
 "metadata": {
  "kernelspec": {
   "display_name": "Python 3 (ipykernel)",
   "language": "python",
   "name": "python3"
  },
  "language_info": {
   "codemirror_mode": {
    "name": "ipython",
    "version": 3
   },
   "file_extension": ".py",
   "mimetype": "text/x-python",
   "name": "python",
   "nbconvert_exporter": "python",
   "pygments_lexer": "ipython3",
   "version": "3.10.8"
  }
 },
 "nbformat": 4,
 "nbformat_minor": 5
}
