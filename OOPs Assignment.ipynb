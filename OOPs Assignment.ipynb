{
 "cells": [
  {
   "cell_type": "code",
   "execution_count": 1,
   "id": "22314555-e665-4822-b5ee-86a8079e6c54",
   "metadata": {},
   "outputs": [],
   "source": [
    "# Problem 1: Bank Account Create a class representing a bank account with attributes like account number, account holder name, and balance.\n",
    "# Implement methods to deposit and withdraw money from the account.\n",
    "\n",
    "\n",
    "class bankaccount:\n",
    "    \n",
    "    def __init__(self):\n",
    "        self.balance = 1000\n",
    "    \n",
    "    def openaccount(self, name, account_n0 = 24400120002) :\n",
    "        print(\"Open an account by taking name and \")\n",
    "        return name + \" your primary balance is\", + self.balance\n",
    "    \n",
    "    def deposite(self) :\n",
    "        print(\"I am trying to deposite an amount in my account\")\n",
    "        try:\n",
    "            amount=int(input(\"Enter amount to deposite: \"))\n",
    "            if amount > 0:\n",
    "                self.balance+=amount        \n",
    "            else:\n",
    "                print(\"Invalid amount\")\n",
    "        except Exception as e:\n",
    "            print(e)\n",
    "            \n",
    "    def withdraw(self, wit_amount) :\n",
    "        print(\"I am trying to withdraw an amount from my account\")\n",
    "        \n",
    "    def update_details(self, up_name, up_emailid) :\n",
    "        print(\"Updating details of my account taking name and email id\")\n",
    "    "
   ]
  },
  {
   "cell_type": "code",
   "execution_count": 2,
   "id": "da89162f-54c3-433b-8064-f8dc3d32aee9",
   "metadata": {},
   "outputs": [],
   "source": [
    "obj1 = bankaccount()"
   ]
  },
  {
   "cell_type": "code",
   "execution_count": 3,
   "id": "5f9a17d5-5121-4d71-bceb-ed8c7670a9ff",
   "metadata": {},
   "outputs": [
    {
     "name": "stdout",
     "output_type": "stream",
     "text": [
      "Open an account by taking name and \n"
     ]
    },
    {
     "data": {
      "text/plain": [
       "('Animesh your primary balance is', 1000)"
      ]
     },
     "execution_count": 3,
     "metadata": {},
     "output_type": "execute_result"
    }
   ],
   "source": [
    "obj1.openaccount(\"Animesh\")"
   ]
  },
  {
   "cell_type": "code",
   "execution_count": 4,
   "id": "5224f3bb-b592-49a0-8d6b-cbf02f7bb8d8",
   "metadata": {},
   "outputs": [
    {
     "name": "stdout",
     "output_type": "stream",
     "text": [
      "I am trying to deposite an amount in my account\n"
     ]
    },
    {
     "name": "stdin",
     "output_type": "stream",
     "text": [
      "Enter amount to deposite:  5000\n"
     ]
    }
   ],
   "source": [
    "obj1.deposite()"
   ]
  },
  {
   "cell_type": "code",
   "execution_count": 7,
   "id": "94242eb5-d6b7-4a2b-9fb7-6043da645ca1",
   "metadata": {},
   "outputs": [
    {
     "name": "stdout",
     "output_type": "stream",
     "text": [
      "I am trying to withdraw an amount from my account\n"
     ]
    }
   ],
   "source": [
    "obj1.withdraw(500)"
   ]
  },
  {
   "cell_type": "code",
   "execution_count": null,
   "id": "2634e703-8350-486a-885d-c29b7a04b06e",
   "metadata": {},
   "outputs": [],
   "source": []
  },
  {
   "cell_type": "code",
   "execution_count": 8,
   "id": "90f2f23c-41b6-4b51-b5f7-aa339c0b60dc",
   "metadata": {},
   "outputs": [],
   "source": [
    "# Problem 2: Employee Management Create a class representing an employee with attributes like employee ID, name, and salary.\n",
    "# Implement methods to calculate the yearly bonus and display employee details.\n",
    "\n",
    "class EmployeeManagement : \n",
    "    \n",
    "    def __init__(self,ename, eid, salary):\n",
    "        \n",
    "        self.ename = ename\n",
    "        self.eid = eid\n",
    "        self.salary = salary\n",
    "        \n",
    "    def YearlyBonus(self):\n",
    "        print(\"Your Bonus is 5% of your Salary\")\n",
    "        bonus = self.salary * (.05)\n",
    "        return \"Your yearly bonus is: \", bonus\n",
    "        \n",
    "    def EmployeeDetails(self):\n",
    "        print(\"Name of the Employee is: \",self.ename)\n",
    "        print(f\"{self.ename}, your Employee  ID is: \",self.eid)\n",
    "        print(f\"{self.ename}, your salary is: \",self.salary)\n",
    "        #print(f\"{self.ename}, your yearly bonus: \",self.bonus)\n",
    "        \n",
    " \n"
   ]
  },
  {
   "cell_type": "code",
   "execution_count": 9,
   "id": "eecd6473-ff2a-486f-b9fb-d46e0f1ed3a3",
   "metadata": {},
   "outputs": [],
   "source": [
    "ani = EmployeeManagement(\"Ani\",\"E123\",500000)"
   ]
  },
  {
   "cell_type": "code",
   "execution_count": 10,
   "id": "9985264f-5731-49fd-b227-906cdb04490c",
   "metadata": {},
   "outputs": [
    {
     "name": "stdout",
     "output_type": "stream",
     "text": [
      "Your Bonus is 5% of your Salary\n"
     ]
    },
    {
     "data": {
      "text/plain": [
       "('Your yearly bonus is: ', 25000.0)"
      ]
     },
     "execution_count": 10,
     "metadata": {},
     "output_type": "execute_result"
    }
   ],
   "source": [
    "ani.YearlyBonus()"
   ]
  },
  {
   "cell_type": "code",
   "execution_count": 11,
   "id": "c5e8a5fa-10ec-46ba-9d28-8fcbd488fe70",
   "metadata": {},
   "outputs": [
    {
     "name": "stdout",
     "output_type": "stream",
     "text": [
      "Name of the Employee is:  Ani\n",
      "Ani, your Employee  ID is:  E123\n",
      "Ani, your salary is:  500000\n"
     ]
    }
   ],
   "source": [
    "ani.EmployeeDetails()"
   ]
  },
  {
   "cell_type": "code",
   "execution_count": null,
   "id": "d5532455-88e2-4f01-b6be-378972814ad3",
   "metadata": {},
   "outputs": [],
   "source": []
  },
  {
   "cell_type": "code",
   "execution_count": null,
   "id": "fc1d2299-1aed-4f4c-acc7-7d4f00d8401b",
   "metadata": {},
   "outputs": [],
   "source": []
  },
  {
   "cell_type": "code",
   "execution_count": 12,
   "id": "d8cf5075-b80a-485f-b202-692bef9427a6",
   "metadata": {},
   "outputs": [],
   "source": [
    "# Problem 3: Vehicle Rental Create a class representing a vehicle rental system.\n",
    "# Implement methods to rent a vehicle, return a vehicle, and display available vehicles.\n",
    "\n",
    "\n",
    "\n",
    "class VehicleSystem:\n",
    "    \n",
    "    def __init__(self):\n",
    "        self.available_vehicles = {}\n",
    "        \n",
    "    def RentVehicle(self,vehicle_type,count):\n",
    "        if vehicle_type in self.available_vehicles and self.available_vehicles[vehicle_type]>=count:\n",
    "            self.available_vehicles[vehicle_type]-=count\n",
    "            print(f\"Rented {count} {vehicle_type} Vehicle\")\n",
    "        \n",
    "        else:\n",
    "            print(f\"{vehicle_type} is not avialable\")\n",
    "        \n",
    "    \n",
    "    def ReturnVehicle(self,vehicle_type,count):\n",
    "        if vehicle_type in self.available_vehicles:\n",
    "            self.available_vehicles[vehicle_type]+=count\n",
    "            print(f\"{count} {vehicle_type} is returned\")\n",
    "        else:\n",
    "            print(f\"This {vehicle_type} vehicle is not from our Services\")\n",
    "    \n",
    "    def DisplayVehicle(self):\n",
    "        print(\"Our available Vehicle is : \")\n",
    "        for vehicle_type, count in self.available_vehicles.items():\n",
    "            print(f\"{vehicle_type} : {count}\")\n",
    "    \n",
    "    def add_vehicle(self,vehicle_type,count):\n",
    "        if vehicle_type in self.available_vehicles:\n",
    "            self.available_vehicles[vehicle_type]+=count\n",
    "        else:\n",
    "            self.available_vehicles[vehicle_type]=count\n",
    "        print(f\"{count} {vehicle_type} added to our services.\")\n",
    "        "
   ]
  },
  {
   "cell_type": "code",
   "execution_count": 13,
   "id": "aa36a6e1-07c5-4980-90a5-bcf74d535d7d",
   "metadata": {},
   "outputs": [],
   "source": [
    "service=VehicleSystem()"
   ]
  },
  {
   "cell_type": "code",
   "execution_count": 14,
   "id": "34a8c833-cfad-4b5f-a80b-5abb42f3768f",
   "metadata": {},
   "outputs": [
    {
     "name": "stdout",
     "output_type": "stream",
     "text": [
      "5 car added to our services.\n"
     ]
    }
   ],
   "source": [
    "service.add_vehicle(\"car\",5)"
   ]
  },
  {
   "cell_type": "code",
   "execution_count": 15,
   "id": "ed9603ef-5941-4852-b3a7-80262c83721b",
   "metadata": {},
   "outputs": [
    {
     "name": "stdout",
     "output_type": "stream",
     "text": [
      "5 bus added to our services.\n"
     ]
    }
   ],
   "source": [
    "service.add_vehicle(\"bus\",5)"
   ]
  },
  {
   "cell_type": "code",
   "execution_count": 16,
   "id": "4f90291b-c1da-4785-94d1-c2ee42c986b6",
   "metadata": {},
   "outputs": [
    {
     "name": "stdout",
     "output_type": "stream",
     "text": [
      "5 Auto added to our services.\n"
     ]
    }
   ],
   "source": [
    "service.add_vehicle(\"Auto\",5)"
   ]
  },
  {
   "cell_type": "code",
   "execution_count": 17,
   "id": "ab3de83a-226e-4654-89fe-457e869b4d51",
   "metadata": {},
   "outputs": [
    {
     "name": "stdout",
     "output_type": "stream",
     "text": [
      "5 car added to our services.\n"
     ]
    }
   ],
   "source": [
    "service.add_vehicle(\"car\",5)"
   ]
  },
  {
   "cell_type": "code",
   "execution_count": 18,
   "id": "ba2a1196-ffc7-4609-b2a2-f65fa521c994",
   "metadata": {},
   "outputs": [
    {
     "name": "stdout",
     "output_type": "stream",
     "text": [
      "Our available Vehicle is : \n",
      "car : 10\n",
      "bus : 5\n",
      "Auto : 5\n"
     ]
    }
   ],
   "source": [
    "service.DisplayVehicle()"
   ]
  },
  {
   "cell_type": "code",
   "execution_count": 19,
   "id": "7073f309-d089-40b4-8949-823edf263f96",
   "metadata": {},
   "outputs": [
    {
     "name": "stdout",
     "output_type": "stream",
     "text": [
      "Rented 3 car Vehicle\n"
     ]
    }
   ],
   "source": [
    "service.RentVehicle(\"car\",3)"
   ]
  },
  {
   "cell_type": "code",
   "execution_count": 20,
   "id": "8f6015e3-891f-4c42-819e-fe557aab3fb4",
   "metadata": {},
   "outputs": [
    {
     "name": "stdout",
     "output_type": "stream",
     "text": [
      "Our available Vehicle is : \n",
      "car : 7\n",
      "bus : 5\n",
      "Auto : 5\n"
     ]
    }
   ],
   "source": [
    "service.DisplayVehicle()"
   ]
  },
  {
   "cell_type": "code",
   "execution_count": 21,
   "id": "a4500937-bb46-43c6-9f88-672138352937",
   "metadata": {},
   "outputs": [
    {
     "name": "stdout",
     "output_type": "stream",
     "text": [
      "3 car is returned\n"
     ]
    }
   ],
   "source": [
    "service.ReturnVehicle(\"car\",3)"
   ]
  },
  {
   "cell_type": "code",
   "execution_count": 22,
   "id": "1686aa9b-10ae-4432-8a7e-4d347d0d9aec",
   "metadata": {},
   "outputs": [
    {
     "name": "stdout",
     "output_type": "stream",
     "text": [
      "Our available Vehicle is : \n",
      "car : 10\n",
      "bus : 5\n",
      "Auto : 5\n"
     ]
    }
   ],
   "source": [
    "service.DisplayVehicle()"
   ]
  },
  {
   "cell_type": "code",
   "execution_count": 23,
   "id": "f1e9bd38-57fa-407c-90e2-f3ff854c3538",
   "metadata": {},
   "outputs": [
    {
     "name": "stdout",
     "output_type": "stream",
     "text": [
      "3 bus is returned\n"
     ]
    }
   ],
   "source": [
    "service.ReturnVehicle(\"bus\",3)"
   ]
  },
  {
   "cell_type": "code",
   "execution_count": 24,
   "id": "d0b907a8-8d2e-4630-bbd4-81b2149e51dc",
   "metadata": {},
   "outputs": [
    {
     "name": "stdout",
     "output_type": "stream",
     "text": [
      "This taxi vehicle is not from our Services\n"
     ]
    }
   ],
   "source": [
    "service.ReturnVehicle(\"taxi\",3)"
   ]
  },
  {
   "cell_type": "code",
   "execution_count": null,
   "id": "7ff77b2f-541e-413a-b6c6-5421ca537e55",
   "metadata": {},
   "outputs": [],
   "source": []
  },
  {
   "cell_type": "code",
   "execution_count": 33,
   "id": "57c475b1-c76e-4bfb-9d4f-f147b6f6085a",
   "metadata": {},
   "outputs": [],
   "source": [
    "# Problem 4: Library Catalog Create classes representing a library and a book.\n",
    "# Implement methods to add books to the library, borrow books, and display available books.\n",
    "\n",
    "\n",
    "\n",
    "\n",
    "class LibraryManagement:\n",
    "    \n",
    "    def __init__(self):\n",
    "        self.available_book= {}\n",
    "        \n",
    "    def add_book(self,book_name,count):\n",
    "        if book_name in self.available_book:\n",
    "            self.available_book[book_name]+=count\n",
    "        else:\n",
    "            self.available_book[book_name]=count\n",
    "        print(f\"{count} {book_name} added to Library.\")\n",
    "        \n",
    "    def Borrow_book(self,book_name):\n",
    "        if book_name in self.available_book and self.available_book[book_name]>=1:\n",
    "            self.available_book[book_name]-=1\n",
    "            print(f\"Rented one {book_name} \")\n",
    "            \n",
    "        else:\n",
    "            print(f\"{book_name} is not avialable\")\n",
    "        \n",
    "    \n",
    "    def Return_book(self,book_name):\n",
    "        if book_name in self.available_book:\n",
    "            self.available_book[book_name]+=1\n",
    "            print(f\" 1 {book_name} is returned\")\n",
    "        else:\n",
    "            print(f\"This {book_name} book not from our Library\")\n",
    "    \n",
    "    def Display_book(self):\n",
    "        print(\"Available book in Library : \")\n",
    "        for book_name, count in self.available_book.items():\n",
    "            print(f\"{book_name} : {count}\")\n",
    "    \n",
    "    \n",
    "        "
   ]
  },
  {
   "cell_type": "code",
   "execution_count": 34,
   "id": "37226e11-191b-4c1d-999d-0bfdf2548e4b",
   "metadata": {},
   "outputs": [],
   "source": [
    "system = LibraryManagement()\n"
   ]
  },
  {
   "cell_type": "code",
   "execution_count": 27,
   "id": "1fc79e8d-0ef9-44f3-8613-f74685ba0963",
   "metadata": {},
   "outputs": [
    {
     "name": "stdout",
     "output_type": "stream",
     "text": [
      "5 DSA added to Library.\n",
      "10 Python added to Library.\n",
      "1 Networking added to Library.\n",
      "4 DBMS added to Library.\n",
      "5 Java added to Library.\n",
      "6 Cyber Security added to Library.\n"
     ]
    }
   ],
   "source": [
    "system.add_book(\"DSA\", 5)\n",
    "system.add_book(\"Python\", 10)\n",
    "system.add_book(\"Networking\", 1)\n",
    "system.add_book(\"DBMS\", 4)\n",
    "system.add_book(\"Java\", 5)\n",
    "system.add_book(\"Cyber Security\", 6)"
   ]
  },
  {
   "cell_type": "code",
   "execution_count": 28,
   "id": "9c78da38-8e87-41eb-a4d1-0cc78c7d753a",
   "metadata": {},
   "outputs": [
    {
     "name": "stdout",
     "output_type": "stream",
     "text": [
      "Available book in Library : \n",
      "DSA : 5\n",
      "Python : 10\n",
      "Networking : 1\n",
      "DBMS : 4\n",
      "Java : 5\n",
      "Cyber Security : 6\n"
     ]
    }
   ],
   "source": [
    "system.Display_book()"
   ]
  },
  {
   "cell_type": "code",
   "execution_count": 29,
   "id": "699e6ba5-f243-4c5f-9c89-55f9b4485251",
   "metadata": {},
   "outputs": [
    {
     "name": "stdout",
     "output_type": "stream",
     "text": [
      "Rented one DSA \n",
      "Available book in Library : \n",
      "DSA : 4\n",
      "Python : 10\n",
      "Networking : 1\n",
      "DBMS : 4\n",
      "Java : 5\n",
      "Cyber Security : 6\n"
     ]
    }
   ],
   "source": [
    "system.Borrow_book(\"DSA\")\n",
    "system.Display_book()"
   ]
  },
  {
   "cell_type": "code",
   "execution_count": 30,
   "id": "de01ae8b-b08a-4354-a12d-198126ccacdf",
   "metadata": {},
   "outputs": [
    {
     "name": "stdout",
     "output_type": "stream",
     "text": [
      " 1 DSA is returned\n",
      "Available book in Library : \n",
      "DSA : 5\n",
      "Python : 10\n",
      "Networking : 1\n",
      "DBMS : 4\n",
      "Java : 5\n",
      "Cyber Security : 6\n"
     ]
    }
   ],
   "source": [
    "system.Return_book(\"DSA\")\n",
    "system.Display_book()"
   ]
  },
  {
   "cell_type": "code",
   "execution_count": 31,
   "id": "4b031de6-e1f5-470c-82b2-baafacc8c064",
   "metadata": {},
   "outputs": [
    {
     "name": "stdout",
     "output_type": "stream",
     "text": [
      " 1 Python is returned\n",
      "Available book in Library : \n",
      "DSA : 5\n",
      "Python : 11\n",
      "Networking : 1\n",
      "DBMS : 4\n",
      "Java : 5\n",
      "Cyber Security : 6\n"
     ]
    }
   ],
   "source": [
    "system.Return_book(\"Python\")\n",
    "system.Display_book()"
   ]
  },
  {
   "cell_type": "code",
   "execution_count": 35,
   "id": "054125e2-4d7c-441f-b19e-a7b8b9cba9b0",
   "metadata": {},
   "outputs": [
    {
     "name": "stdout",
     "output_type": "stream",
     "text": [
      "Networkings is not avialable\n",
      "Available book in Library : \n"
     ]
    }
   ],
   "source": [
    "system.Borrow_book(\"Networkings\")\n",
    "system.Display_book()"
   ]
  },
  {
   "cell_type": "code",
   "execution_count": null,
   "id": "c14a4cf3-9e35-4c8b-a99a-717d3618c847",
   "metadata": {},
   "outputs": [],
   "source": []
  },
  {
   "cell_type": "code",
   "execution_count": null,
   "id": "e1108025-49f6-4cdb-a53d-701f8772faa5",
   "metadata": {},
   "outputs": [],
   "source": []
  },
  {
   "cell_type": "code",
   "execution_count": 36,
   "id": "35e4bed4-ca8c-4d0e-b71a-736e0ebaef51",
   "metadata": {},
   "outputs": [],
   "source": [
    "# Problem 5: Product Inventory Create classes representing a product and an inventory system. \n",
    "# Implement methods to add products to the inventory, update product quantity, and display available products.\n",
    "\n",
    "\n",
    "class ProductItem:\n",
    "    def __init__(self, product_name, product_id, product_quantity, product_price):\n",
    "        self.product_name = product_name\n",
    "        self.product_id = product_id\n",
    "        self.product_quantity = product_quantity\n",
    "        self.product_price = product_price\n",
    "\n",
    "class Inventory:\n",
    "    def __init__(self):\n",
    "        self.items = {}\n",
    "\n",
    "    def add_product(self, product):\n",
    "        if product.product_name in self.items:\n",
    "            self.items[product.product_name] += product.product_quantity\n",
    "        else:\n",
    "            self.items[product.product_name] = product.product_quantity\n",
    "        print(f\"{product.product_quantity} {product.product_name} added to Inventory.\")\n",
    "\n",
    "    def update_product(self, product_name, product_quantity):\n",
    "        if product_name in self.items:\n",
    "            self.items[product_name] += product_quantity\n",
    "            print(f\"Updated quantity of {product_name}\")\n",
    "        else:\n",
    "            print(f\"{product_name} not found in the inventory.\")\n",
    "\n",
    "    def display_products(self):\n",
    "        print(\"Available items in Inventory:\")\n",
    "        for product_name, product_quantity in self.items.items():\n",
    "            print(f\"{product_name}: {product_quantity}\")"
   ]
  },
  {
   "cell_type": "code",
   "execution_count": 37,
   "id": "5cde4d65-626e-4b77-86ab-aa98f4b3af9a",
   "metadata": {},
   "outputs": [],
   "source": [
    " inventory = Inventory()   "
   ]
  },
  {
   "cell_type": "code",
   "execution_count": 38,
   "id": "033e1ff0-a862-415b-9bd5-a84a38606285",
   "metadata": {},
   "outputs": [],
   "source": [
    "product1 = ProductItem(\"Light\", \"l1\", 10, 150)\n",
    "product2 = ProductItem(\"fan\", \"f1\", 20, 1200)"
   ]
  },
  {
   "cell_type": "code",
   "execution_count": 39,
   "id": "ec4cdb94-4643-44f5-80c5-1671a4c5bec0",
   "metadata": {},
   "outputs": [
    {
     "name": "stdout",
     "output_type": "stream",
     "text": [
      "10 Light added to Inventory.\n",
      "20 fan added to Inventory.\n"
     ]
    }
   ],
   "source": [
    "inventory.add_product(product1)\n",
    "inventory.add_product(product2)"
   ]
  },
  {
   "cell_type": "code",
   "execution_count": 40,
   "id": "13493bbe-8093-4c63-869b-2a5030b5a3e4",
   "metadata": {},
   "outputs": [
    {
     "name": "stdout",
     "output_type": "stream",
     "text": [
      "Available items in Inventory:\n",
      "Light: 10\n",
      "fan: 20\n"
     ]
    }
   ],
   "source": [
    "inventory.display_products()"
   ]
  },
  {
   "cell_type": "code",
   "execution_count": 41,
   "id": "f7c2a02d-8ebf-43c7-a171-126a13217141",
   "metadata": {},
   "outputs": [
    {
     "name": "stdout",
     "output_type": "stream",
     "text": [
      "AC not found in the inventory.\n"
     ]
    }
   ],
   "source": [
    "inventory.update_product(\"AC\", 5)"
   ]
  },
  {
   "cell_type": "code",
   "execution_count": 42,
   "id": "5ddb83d0-3048-47c1-a813-b56265d7347a",
   "metadata": {},
   "outputs": [
    {
     "name": "stdout",
     "output_type": "stream",
     "text": [
      "Updated quantity of fan\n"
     ]
    }
   ],
   "source": [
    "inventory.update_product(\"fan\", 5)"
   ]
  },
  {
   "cell_type": "code",
   "execution_count": 43,
   "id": "4ba8e5f4-af70-49a0-9035-59a1a69d6f54",
   "metadata": {},
   "outputs": [
    {
     "name": "stdout",
     "output_type": "stream",
     "text": [
      "Available items in Inventory:\n",
      "Light: 10\n",
      "fan: 25\n"
     ]
    }
   ],
   "source": [
    "inventory.display_products()"
   ]
  },
  {
   "cell_type": "code",
   "execution_count": null,
   "id": "2a88705a-35a2-403f-b2b5-86f2d8d96948",
   "metadata": {},
   "outputs": [],
   "source": []
  },
  {
   "cell_type": "code",
   "execution_count": null,
   "id": "7901de77-17bd-4c7b-80ca-3e620f527b11",
   "metadata": {},
   "outputs": [],
   "source": []
  },
  {
   "cell_type": "code",
   "execution_count": 44,
   "id": "9e8156b1-73d3-40a8-b45b-d562fe2160cc",
   "metadata": {},
   "outputs": [],
   "source": [
    "# Problem 6: Shape Calculation Create a class representing a shape with attributes like length, width, and height. \n",
    "# Implement methods to calculate the area and perimeter of the shape.\n",
    "\n",
    "class ShapeCaculation:\n",
    "    \n",
    "    def __init__(self,length,width,height):\n",
    "        self.length = length\n",
    "        self.width = width\n",
    "        self.height = height\n",
    "    \n",
    "    def Triangle(self):\n",
    "        area = (.5 * self.height * self.length)\n",
    "        return \"The area of Triangle is\", area \n",
    "    \n",
    "    def Rectangle(self):\n",
    "        area = (self.width * self.length)\n",
    "        return \"The area of rectangle is\", area \n",
    "    \n",
    "    def Square(self):\n",
    "        area = (self.length * self.length)\n",
    "        return \"The area of Square is\", area \n",
    "    \n",
    "    def Cube(self):\n",
    "        area = (6 * self.height * self.height)\n",
    "        return \"The area of Cube is\", area \n",
    "    \n",
    "    \n",
    "    "
   ]
  },
  {
   "cell_type": "code",
   "execution_count": 45,
   "id": "1fe6b0d4-d028-43cb-9ac6-8ea103bbc467",
   "metadata": {},
   "outputs": [],
   "source": [
    "area = ShapeCaculation(10,20,30)"
   ]
  },
  {
   "cell_type": "code",
   "execution_count": 46,
   "id": "8df9ccf5-e1fa-4e52-99e6-1a5006982dad",
   "metadata": {},
   "outputs": [
    {
     "data": {
      "text/plain": [
       "('The area of Triangle is', 150.0)"
      ]
     },
     "execution_count": 46,
     "metadata": {},
     "output_type": "execute_result"
    }
   ],
   "source": [
    "area.Triangle()"
   ]
  },
  {
   "cell_type": "code",
   "execution_count": 47,
   "id": "a6fdc0e2-fb5e-4724-8c37-e6b4d1c5f6a4",
   "metadata": {},
   "outputs": [
    {
     "data": {
      "text/plain": [
       "('The area of rectangle is', 200)"
      ]
     },
     "execution_count": 47,
     "metadata": {},
     "output_type": "execute_result"
    }
   ],
   "source": [
    "area.Rectangle()"
   ]
  },
  {
   "cell_type": "code",
   "execution_count": 48,
   "id": "da019145-408c-4c60-b68d-772224973097",
   "metadata": {},
   "outputs": [
    {
     "data": {
      "text/plain": [
       "('The area of Square is', 100)"
      ]
     },
     "execution_count": 48,
     "metadata": {},
     "output_type": "execute_result"
    }
   ],
   "source": [
    "area.Square()"
   ]
  },
  {
   "cell_type": "code",
   "execution_count": 49,
   "id": "6e989ad9-4b5f-48e2-96e0-c36f67a897b9",
   "metadata": {},
   "outputs": [
    {
     "data": {
      "text/plain": [
       "('The area of Cube is', 5400)"
      ]
     },
     "execution_count": 49,
     "metadata": {},
     "output_type": "execute_result"
    }
   ],
   "source": [
    "area.Cube()"
   ]
  },
  {
   "cell_type": "code",
   "execution_count": null,
   "id": "6c3dcab7-bd85-4cce-9112-4b535bfa0e0e",
   "metadata": {},
   "outputs": [],
   "source": []
  },
  {
   "cell_type": "code",
   "execution_count": null,
   "id": "fae58b45-4c62-4569-9ecf-06d6a88399b8",
   "metadata": {},
   "outputs": [],
   "source": []
  },
  {
   "cell_type": "code",
   "execution_count": 50,
   "id": "7b2459a5-894a-4bb6-8fea-bfa194797771",
   "metadata": {},
   "outputs": [
    {
     "name": "stdin",
     "output_type": "stream",
     "text": [
      "Enter the student's score:  85\n"
     ]
    },
    {
     "name": "stdout",
     "output_type": "stream",
     "text": [
      "Name of the Student is: Rahul\n",
      "Rahul, your Student ID is: 12345\n",
      "Rahul, your grade is: B\n"
     ]
    }
   ],
   "source": [
    "# Problem 7: Student Management Create a class representing a student with attributes like student ID, name, and grades.\n",
    "# Implement methods to calculate the average grade and display student details\n",
    "\n",
    "\n",
    "class StudentManagement:\n",
    "    \n",
    "    def __init__(self, name, student_id, result=\"\"):\n",
    "        self.name = name\n",
    "        self.student_id = student_id\n",
    "        self.result = result\n",
    "\n",
    "    def calculate_grade(self, score):\n",
    "        if score >= 90:\n",
    "            return \"A\"\n",
    "        elif score >= 80:\n",
    "            return \"B\"\n",
    "        elif score >= 70:\n",
    "            return \"C\"\n",
    "        elif score >= 60:\n",
    "            return \"D\"\n",
    "        else:\n",
    "            return \"Fail\"\n",
    "\n",
    "    def student_details(self):\n",
    "        print(\"Name of the Student is:\", self.name)\n",
    "        print(f\"{self.name}, your Student ID is:\", self.student_id)\n",
    "        print(f\"{self.name}, your grade is:\", self.result)\n",
    "\n",
    "# Example usage:\n",
    "student = StudentManagement(\"Rahul\", \"12345\")\n",
    "score = int(input(\"Enter the student's score: \"))\n",
    "student.result = student.calculate_grade(score)\n",
    "student.student_details()\n"
   ]
  },
  {
   "cell_type": "code",
   "execution_count": null,
   "id": "a60e9c0e-abc3-42ff-b836-45ee69086b68",
   "metadata": {},
   "outputs": [],
   "source": []
  },
  {
   "cell_type": "code",
   "execution_count": null,
   "id": "9e97c772-16fb-42cd-81bd-0344be175f3b",
   "metadata": {},
   "outputs": [],
   "source": []
  },
  {
   "cell_type": "code",
   "execution_count": 51,
   "id": "040d61ed-1006-46dc-a05a-4dc5c63c08ce",
   "metadata": {},
   "outputs": [],
   "source": [
    "# Problem 8: Email Management Create a class representing an email with attributes like sender, recipient, and subject. \n",
    "# Implement methods to send an email and display email details.\n",
    "\n",
    "\n",
    "class EmailManagement:\n",
    "    \n",
    "    def __init__(self, sender, receiver, subject, message):\n",
    "        self.sender = sender\n",
    "        self.receiver = receiver\n",
    "        self.subject = subject\n",
    "        self.message = message\n",
    "        self.sent = False\n",
    "\n",
    "    def send_email(self):\n",
    "        if not self.sent:\n",
    "            # Logic for sending the email (you can customize this part)\n",
    "            # For simplicity, we'll just print the email details.\n",
    "            print(f\"Email sent to {self.receiver} from {self.sender} with subject: '{self.subject}'\\nMessage: {self.message}\")\n",
    "            self.sent = True\n",
    "        else:\n",
    "            print(\"Email has already been sent.\")\n",
    "\n",
    "    def display_details(self):\n",
    "        print(f\"Sender: {self.sender}\")\n",
    "        print(f\"Recipient: {self.receiver}\")\n",
    "        print(f\"Subject: {self.subject}\")\n",
    "        print(f\"Message:\\n{self.message}\")\n"
   ]
  },
  {
   "cell_type": "code",
   "execution_count": 52,
   "id": "94535114-e576-40f4-9dac-66385c50dd7e",
   "metadata": {},
   "outputs": [],
   "source": [
    "email = EmailManagement(\"animeshsamanta@gmail.com\" , \"akashchowdhury@gmail.com\" , \"Return Book\" , \"Return the DSA a book within 20th Oct 2023\")"
   ]
  },
  {
   "cell_type": "code",
   "execution_count": 53,
   "id": "1a82886e-0cd8-49bc-b814-3ed47a2041c0",
   "metadata": {},
   "outputs": [
    {
     "name": "stdout",
     "output_type": "stream",
     "text": [
      "Email sent to akashchowdhury@gmail.com from animeshsamanta@gmail.com with subject: 'Return Book'\n",
      "Message: Return the DSA a book within 20th Oct 2023\n"
     ]
    }
   ],
   "source": [
    "email.send_email()"
   ]
  },
  {
   "cell_type": "code",
   "execution_count": 54,
   "id": "b98fbd16-44f9-4b47-9f20-3f42143be612",
   "metadata": {},
   "outputs": [
    {
     "name": "stdout",
     "output_type": "stream",
     "text": [
      "Sender: animeshsamanta@gmail.com\n",
      "Recipient: akashchowdhury@gmail.com\n",
      "Subject: Return Book\n",
      "Message:\n",
      "Return the DSA a book within 20th Oct 2023\n"
     ]
    }
   ],
   "source": [
    "email.display_details() "
   ]
  },
  {
   "cell_type": "code",
   "execution_count": null,
   "id": "3a09650e-402a-4cda-8225-d1d04f23360a",
   "metadata": {},
   "outputs": [],
   "source": []
  },
  {
   "cell_type": "code",
   "execution_count": 55,
   "id": "6030f3ed-3c08-4ab1-a82c-3f967d4751e2",
   "metadata": {},
   "outputs": [],
   "source": [
    "# Problem 9: Social Media Profile Create a class representing a social media profile with attributes like username and posts. \n",
    "# Implement methods to add posts, display posts, and search for posts by keyword.\n",
    "\n",
    "class SocialMedia :\n",
    "    \n",
    "    def __init__(self,username):\n",
    "        self.username = username\n",
    "        self.postlist = []\n",
    "        \n",
    "    def addpost(self, content):\n",
    "        self.postlist.append(content)\n",
    "        print(\"Your content is posted in social media\")\n",
    "        \n",
    "    def displaypost(self):\n",
    "        if not self.postlist:\n",
    "            print(f\"{self.username} you have no post yet \")\n",
    "        else:\n",
    "            print(f\"{self.username} yours posts are :\\n \")\n",
    "            for i in range(len(self.postlist)):\n",
    "                print( i , \" - \" , self.postlist[i])\n",
    "    \n",
    "    def searchpost(self,keyword):\n",
    "        matching_post = [post for post in self.postlist if keyword in post]\n",
    "        \n",
    "        if matching_post:\n",
    "            print(f\"{self.username} , yours search keyword {self.keyword} present in the post: \")\n",
    "            for i, post in enumerate(matching_post, start=1):\n",
    "                print(f\"Post {i}: {post}\")\n",
    "        else:\n",
    "            print(f\"{self.username} you have no post yet \")\n",
    "            "
   ]
  },
  {
   "cell_type": "code",
   "execution_count": 56,
   "id": "fd8fd40b-9ab6-4c7b-9cd4-a08c9ce7fbfa",
   "metadata": {},
   "outputs": [],
   "source": [
    "akash = SocialMedia(\"Akash\")"
   ]
  },
  {
   "cell_type": "code",
   "execution_count": 57,
   "id": "1ec952ef-6dd4-40aa-bc11-913625bc34fa",
   "metadata": {},
   "outputs": [
    {
     "name": "stdout",
     "output_type": "stream",
     "text": [
      "Akash you have no post yet \n"
     ]
    }
   ],
   "source": [
    "akash.displaypost()"
   ]
  },
  {
   "cell_type": "code",
   "execution_count": 58,
   "id": "e5f59749-4ebb-4a50-8c75-fc61213c9f38",
   "metadata": {},
   "outputs": [
    {
     "name": "stdout",
     "output_type": "stream",
     "text": [
      "Akash you have no post yet \n"
     ]
    }
   ],
   "source": [
    "akash.searchpost(\"first\")"
   ]
  },
  {
   "cell_type": "code",
   "execution_count": null,
   "id": "2c308816-ad53-47bb-8473-b2d8176bde15",
   "metadata": {},
   "outputs": [],
   "source": []
  },
  {
   "cell_type": "code",
   "execution_count": 59,
   "id": "9c145e4d-e8e9-47c2-a80b-f3e8b7da1167",
   "metadata": {},
   "outputs": [
    {
     "name": "stdout",
     "output_type": "stream",
     "text": [
      "Your content is posted in social media\n"
     ]
    }
   ],
   "source": [
    "akash.addpost(\"This is my first poat on social media\")"
   ]
  },
  {
   "cell_type": "code",
   "execution_count": 60,
   "id": "dc9777f6-8796-4b48-86dc-39d227ac7f70",
   "metadata": {},
   "outputs": [
    {
     "name": "stdout",
     "output_type": "stream",
     "text": [
      "Akash yours posts are :\n",
      " \n",
      "0  -  This is my first poat on social media\n"
     ]
    }
   ],
   "source": [
    "akash.displaypost()"
   ]
  },
  {
   "cell_type": "code",
   "execution_count": 61,
   "id": "8bf72fb7-b0e0-40d2-8607-09a3160d47fb",
   "metadata": {},
   "outputs": [
    {
     "data": {
      "text/plain": [
       "['This is my first poat on social media']"
      ]
     },
     "execution_count": 61,
     "metadata": {},
     "output_type": "execute_result"
    }
   ],
   "source": [
    "akash.postlist"
   ]
  },
  {
   "cell_type": "code",
   "execution_count": null,
   "id": "8156e2df-e5d6-49e5-9f6e-7bb4975bc8ab",
   "metadata": {},
   "outputs": [],
   "source": [
    "akash.searchpost(\"first\")"
   ]
  },
  {
   "cell_type": "code",
   "execution_count": null,
   "id": "58205eaf-7a6f-4f06-9545-0a630c5f6273",
   "metadata": {},
   "outputs": [],
   "source": []
  },
  {
   "cell_type": "code",
   "execution_count": null,
   "id": "9a504fe4-ee45-44d0-bd0e-bcb27d1bf4c0",
   "metadata": {},
   "outputs": [],
   "source": []
  },
  {
   "cell_type": "code",
   "execution_count": 63,
   "id": "63c41e58-2f57-4f62-a8a8-cab048565936",
   "metadata": {},
   "outputs": [],
   "source": [
    "# Problem 10: ToDo List Create a class representing a ToDo list with attributes like tasks and due dates. \n",
    "# Implement methods to add tasks, mark tasks as completed, and display pending taskss\n",
    "\n",
    "class ToDoList:\n",
    "    \n",
    "    def __init__(self):\n",
    "        self.task_list = {}\n",
    "        \n",
    "        \n",
    "    def add_task(self , task, due_date):\n",
    "        self.task_list[task] = due_date\n",
    "        print(\"Your task is added\")\n",
    "    \n",
    "    def mark_tasks_as_completed(self, task):\n",
    "        if task in self.task_list:\n",
    "            del self.task_list[task]\n",
    "            print(f\"{task} is completed from your list\")\n",
    "        else:\n",
    "            print(f\"{task} is not found in the list\")\n",
    "            \n",
    "    \n",
    "    def display_pending_task(self):\n",
    "        if self.task_list:\n",
    "            for task, due_date in self.task_list.items():\n",
    "                print(f\"{task} : Due date {due_date}\")\n",
    "        \n",
    "        else:\n",
    "            print(\"You have no pending task\")"
   ]
  },
  {
   "cell_type": "code",
   "execution_count": null,
   "id": "2a4aa167-d28c-4f92-ab73-73c6451e590a",
   "metadata": {},
   "outputs": [],
   "source": []
  },
  {
   "cell_type": "code",
   "execution_count": 64,
   "id": "70ce72a8-7a14-4702-a0cb-edef094cf878",
   "metadata": {},
   "outputs": [],
   "source": [
    "arnam = ToDoList()"
   ]
  },
  {
   "cell_type": "code",
   "execution_count": 65,
   "id": "54957d51-e732-48b4-b1d1-25a79f4a7140",
   "metadata": {},
   "outputs": [
    {
     "name": "stdout",
     "output_type": "stream",
     "text": [
      "You have no pending task\n"
     ]
    }
   ],
   "source": [
    "arnam.display_pending_task()"
   ]
  },
  {
   "cell_type": "code",
   "execution_count": 66,
   "id": "2d71991b-5fef-4011-8c1d-5b6ccece3f8a",
   "metadata": {},
   "outputs": [
    {
     "name": "stdout",
     "output_type": "stream",
     "text": [
      "Reading Book is not found in the list\n"
     ]
    }
   ],
   "source": [
    "arnam.mark_tasks_as_completed(\"Reading Book\")"
   ]
  },
  {
   "cell_type": "code",
   "execution_count": 67,
   "id": "d8876e73-55ae-4c7d-955e-4ffd6a34088a",
   "metadata": {},
   "outputs": [
    {
     "name": "stdout",
     "output_type": "stream",
     "text": [
      "Your task is added\n"
     ]
    }
   ],
   "source": [
    "arnam.add_task(\"Buy a car\" ,\"15-05-2026\")"
   ]
  },
  {
   "cell_type": "code",
   "execution_count": 68,
   "id": "1459f8cc-0688-4ae3-9a0b-69dc53ccd557",
   "metadata": {},
   "outputs": [
    {
     "name": "stdout",
     "output_type": "stream",
     "text": [
      "Your task is added\n"
     ]
    }
   ],
   "source": [
    "arnam.add_task(\"Complete Assignment\" , \"20-10-2023\")"
   ]
  },
  {
   "cell_type": "code",
   "execution_count": 69,
   "id": "27981f4f-0d9a-467a-8008-b51dd47ed1fb",
   "metadata": {},
   "outputs": [
    {
     "name": "stdout",
     "output_type": "stream",
     "text": [
      "Buy a car : Due date 15-05-2026\n",
      "Complete Assignment : Due date 20-10-2023\n"
     ]
    }
   ],
   "source": [
    "arnam.display_pending_task()"
   ]
  },
  {
   "cell_type": "code",
   "execution_count": 70,
   "id": "d1599d6f-80e4-4205-a4e8-5fccb735b2ca",
   "metadata": {},
   "outputs": [
    {
     "name": "stdout",
     "output_type": "stream",
     "text": [
      "Buy a car is completed from your list\n"
     ]
    }
   ],
   "source": [
    "arnam.mark_tasks_as_completed(\"Buy a car\")"
   ]
  },
  {
   "cell_type": "code",
   "execution_count": 71,
   "id": "425e6ca2-2d08-4e8c-b20c-24bca1c7a14f",
   "metadata": {},
   "outputs": [
    {
     "name": "stdout",
     "output_type": "stream",
     "text": [
      "Complete Assignment : Due date 20-10-2023\n"
     ]
    }
   ],
   "source": [
    "arnam.display_pending_task()"
   ]
  },
  {
   "cell_type": "code",
   "execution_count": null,
   "id": "ab2db8a6-0a59-4df6-9f5c-128bb3291c90",
   "metadata": {},
   "outputs": [],
   "source": []
  }
 ],
 "metadata": {
  "kernelspec": {
   "display_name": "Python 3 (ipykernel)",
   "language": "python",
   "name": "python3"
  },
  "language_info": {
   "codemirror_mode": {
    "name": "ipython",
    "version": 3
   },
   "file_extension": ".py",
   "mimetype": "text/x-python",
   "name": "python",
   "nbconvert_exporter": "python",
   "pygments_lexer": "ipython3",
   "version": "3.10.8"
  }
 },
 "nbformat": 4,
 "nbformat_minor": 5
}
