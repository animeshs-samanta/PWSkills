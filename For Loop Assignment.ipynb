{
 "cells": [
  {
   "cell_type": "markdown",
   "id": "fc6745aa-e0d0-41dc-a81d-8f364dda08c9",
   "metadata": {},
   "source": [
    "---------------Basic Level:------------------"
   ]
  },
  {
   "cell_type": "code",
   "execution_count": null,
   "id": "259abacc-039b-4e62-ae5a-c9ee6105ea51",
   "metadata": {},
   "outputs": [],
   "source": []
  },
  {
   "cell_type": "code",
   "execution_count": 1,
   "id": "703f2d89-27cf-4448-a2b7-e4188e7f9fe2",
   "metadata": {},
   "outputs": [
    {
     "name": "stdout",
     "output_type": "stream",
     "text": [
      "1\n",
      "2\n",
      "3\n",
      "4\n",
      "5\n",
      "6\n",
      "7\n",
      "8\n",
      "9\n",
      "10\n"
     ]
    }
   ],
   "source": [
    "# 1. Write a Python program to print the numbers from 1 to 10 using a `for` loop.\n",
    "\n",
    "for i in range(1,11):\n",
    "    print(i)"
   ]
  },
  {
   "cell_type": "code",
   "execution_count": 2,
   "id": "53951b88-17ac-424e-aa1b-1e2ca4e565be",
   "metadata": {},
   "outputs": [
    {
     "name": "stdout",
     "output_type": "stream",
     "text": [
      "Sum of 1 to 10: 55\n"
     ]
    }
   ],
   "source": [
    "# 2. Create a program that calculates the sum of all numbers in a list using a `for` loop.\n",
    "\n",
    "sum=0\n",
    "for i in range(1,11):\n",
    "    sum=sum+i\n",
    "print(\"Sum of 1 to 10:\",sum)"
   ]
  },
  {
   "cell_type": "code",
   "execution_count": 3,
   "id": "615f0ad0-86d5-45be-8f4f-4d7ad61c7ab4",
   "metadata": {},
   "outputs": [
    {
     "name": "stdin",
     "output_type": "stream",
     "text": [
      "Enter a string:  Animesh\n"
     ]
    },
    {
     "name": "stdout",
     "output_type": "stream",
     "text": [
      "hseminA\n"
     ]
    }
   ],
   "source": [
    "# 3. Write a program to print the characters of a string in reverse order using a `for` loop.\n",
    "\n",
    "s=input(\"Enter a string: \")\n",
    "s1=\"\"\n",
    "for i in range(len(s)-1,-1,-1):\n",
    "    s1=s1+s[i]\n",
    "print(s1)"
   ]
  },
  {
   "cell_type": "code",
   "execution_count": 4,
   "id": "1de38ee3-86a1-4c7a-ab44-560d81e94c22",
   "metadata": {},
   "outputs": [
    {
     "name": "stdin",
     "output_type": "stream",
     "text": [
      "Enter a no:  4\n"
     ]
    },
    {
     "name": "stdout",
     "output_type": "stream",
     "text": [
      "Factorial of 4 is:  24\n"
     ]
    }
   ],
   "source": [
    "# 4. Develop a program that finds the factorial of a given number using a `for` loop.\n",
    "\n",
    "n=int(input(\"Enter a no: \"))\n",
    "factorial=1\n",
    "for i in range(1,n+1):\n",
    "    factorial=factorial*i\n",
    "print(f\"Factorial of {n} is: \",factorial)\n"
   ]
  },
  {
   "cell_type": "code",
   "execution_count": 5,
   "id": "34045a0e-f244-4f00-9c54-acbc8182095b",
   "metadata": {},
   "outputs": [
    {
     "name": "stdin",
     "output_type": "stream",
     "text": [
      "Enter a no:  4\n"
     ]
    },
    {
     "name": "stdout",
     "output_type": "stream",
     "text": [
      "4\n",
      "8\n",
      "12\n",
      "16\n",
      "20\n",
      "24\n",
      "28\n",
      "32\n",
      "36\n",
      "40\n"
     ]
    }
   ],
   "source": [
    "# 5. Create a program to print the multiplication table of a given number using a `for` loop.\n",
    "\n",
    "n=int(input(\"Enter a no: \"))\n",
    "for i in range(1,11):\n",
    "    print(i*n)"
   ]
  },
  {
   "cell_type": "code",
   "execution_count": 6,
   "id": "9cf0d998-5c42-4717-b42a-ae0ec8e8ebdb",
   "metadata": {},
   "outputs": [
    {
     "name": "stdin",
     "output_type": "stream",
     "text": [
      "Enter the range:  50\n"
     ]
    },
    {
     "name": "stdout",
     "output_type": "stream",
     "text": [
      "Number of Even no:  25\n",
      "Number of Odd no:  25\n"
     ]
    }
   ],
   "source": [
    "# 6. Write a program that counts the number of even and odd numbers in a list using a `for` loop.\n",
    "\n",
    "n=int(input(\"Enter the range: \"))\n",
    "even=0\n",
    "odd=0\n",
    "for i in range(1,n+1):\n",
    "    if(i%2==0):\n",
    "        even+=1\n",
    "    else:\n",
    "        odd+=1\n",
    "print(\"Number of Even no: \",even)\n",
    "print(\"Number of Odd no: \",odd)"
   ]
  },
  {
   "cell_type": "code",
   "execution_count": null,
   "id": "a62df408-73cc-43ef-a4f9-fc1be7a33cc5",
   "metadata": {},
   "outputs": [],
   "source": []
  },
  {
   "cell_type": "code",
   "execution_count": 7,
   "id": "9a853f51-b40e-4485-83fd-d7c5859aa597",
   "metadata": {},
   "outputs": [
    {
     "name": "stdout",
     "output_type": "stream",
     "text": [
      "1\n",
      "4\n",
      "9\n",
      "16\n",
      "25\n"
     ]
    }
   ],
   "source": [
    "# 7. Develop a program that prints the squares of numbers from 1 to 5 using a `for` loop.\n",
    "\n",
    "for i in range(1,6):\n",
    "    print(i**2)"
   ]
  },
  {
   "cell_type": "code",
   "execution_count": null,
   "id": "2929f458-d79d-42f2-b9d7-0ba0b8fe7215",
   "metadata": {},
   "outputs": [],
   "source": []
  },
  {
   "cell_type": "code",
   "execution_count": 8,
   "id": "b33c435a-4946-4924-80f0-b6fbc2d55246",
   "metadata": {},
   "outputs": [
    {
     "name": "stdin",
     "output_type": "stream",
     "text": [
      "Enter a string:  animesh\n"
     ]
    },
    {
     "name": "stdout",
     "output_type": "stream",
     "text": [
      "7\n"
     ]
    }
   ],
   "source": [
    "#8. Create a program to find the length of a string without using the `len()` function.\n",
    "\n",
    "s=input(\"Enter a string: \")\n",
    "length=0\n",
    "for i in s:\n",
    "    length+=1\n",
    "print(length)"
   ]
  },
  {
   "cell_type": "code",
   "execution_count": null,
   "id": "fa399b16-0b47-4fb0-9d14-73dafb8fd7c9",
   "metadata": {},
   "outputs": [],
   "source": [
    "# 9. Write a program that calculates the average of a list of numbers using a `for` loop.\n",
    "\n",
    "l1=[2,4,6,8,10,12]\n",
    "avg=0\n",
    "for i in l1:\n",
    "    avg=sum(l1)/len(l1)\n",
    "print(avg)"
   ]
  },
  {
   "cell_type": "code",
   "execution_count": 13,
   "id": "5e81aa14-0eea-4384-a1ad-f73423243cd3",
   "metadata": {},
   "outputs": [
    {
     "name": "stdin",
     "output_type": "stream",
     "text": [
      "Enter a number:  10\n"
     ]
    },
    {
     "name": "stdout",
     "output_type": "stream",
     "text": [
      "0 1 1 2 3 5 8 13 21 34 \n"
     ]
    }
   ],
   "source": [
    "# 10. Develop a program that prints the first `n` Fibonacci numbers using a `for` loop.\n",
    "\n",
    "n1=int(input(\"Enter a number: \"))\n",
    "a,b=0,1\n",
    "for i in range(n1):\n",
    "    print(a, end=\" \")\n",
    "    a,b=b,a+b\n",
    "print()  "
   ]
  },
  {
   "cell_type": "code",
   "execution_count": null,
   "id": "34932432-793f-44d5-aefd-abb0f021f7e1",
   "metadata": {},
   "outputs": [],
   "source": []
  },
  {
   "cell_type": "markdown",
   "id": "59a45f70-8da1-4dad-ae1a-54cf20544e2d",
   "metadata": {},
   "source": [
    "---------------------Intermediate Level:--------------------\n"
   ]
  },
  {
   "cell_type": "code",
   "execution_count": null,
   "id": "cd36f04d-5bee-4129-9cd9-24b2a82e1234",
   "metadata": {},
   "outputs": [],
   "source": []
  },
  {
   "cell_type": "code",
   "execution_count": 14,
   "id": "3f8af4b6-3eea-4c9a-8ed8-8b9130707531",
   "metadata": {},
   "outputs": [
    {
     "name": "stdout",
     "output_type": "stream",
     "text": [
      "Find Duplicate Element\n"
     ]
    }
   ],
   "source": [
    "# 11. Write a program to check if a given list contains any duplicates using a `for` loop.\n",
    "\n",
    "l1=[4,2,5,4,6,8,2]\n",
    "l1.sort()\n",
    "c=0\n",
    "for i in range(len(l1)):\n",
    "    for j in range(0,i):\n",
    "        if l1[i]==l1[j]:\n",
    "            c=1\n",
    "if c==1:\n",
    "    print(\"Find Duplicate Element\")\n",
    "else:\n",
    "    print(\"Could not find Duplicate element\")\n"
   ]
  },
  {
   "cell_type": "code",
   "execution_count": 15,
   "id": "66108021-51c7-44cc-95de-c09faba54974",
   "metadata": {},
   "outputs": [
    {
     "name": "stdin",
     "output_type": "stream",
     "text": [
      "Enter a number:  50\n"
     ]
    },
    {
     "name": "stdout",
     "output_type": "stream",
     "text": [
      "The number is not prime.\n"
     ]
    }
   ],
   "source": [
    "# 12. Create a program that prints the prime numbers in a given range using a `for` loop.\n",
    "\n",
    "num=int(input(\"Enter a number: \"))\n",
    "\n",
    "if num<2:\n",
    "    print(\"The number is not prime.\")\n",
    "else:\n",
    "    prime=True\n",
    "    \n",
    "    for i in range(2,int(num**0.5)+1):\n",
    "        if num%i==0:\n",
    "            prime=False\n",
    "            break\n",
    "    \n",
    "    if prime:\n",
    "        print(\"The number is prime.\")\n",
    "    else:\n",
    "        print(\"The number is not prime.\")"
   ]
  },
  {
   "cell_type": "code",
   "execution_count": 16,
   "id": "33677fdc-4024-4563-ac67-c47317289159",
   "metadata": {},
   "outputs": [
    {
     "name": "stdin",
     "output_type": "stream",
     "text": [
      "Enter a strimg:  animesh\n"
     ]
    },
    {
     "name": "stdout",
     "output_type": "stream",
     "text": [
      "The total no of Vowel is:  3\n"
     ]
    }
   ],
   "source": [
    "# 13. Develop a program that counts the number of vowels in a string using a `for` loop.\n",
    "\n",
    "string=input(\"Enter a strimg: \")\n",
    "c=0\n",
    "for i in string:\n",
    "    if i in 'AEIOUaeiou':\n",
    "        c+=1\n",
    "print(\"The total no of Vowel is: \",c)"
   ]
  },
  {
   "cell_type": "code",
   "execution_count": 17,
   "id": "6d5d9d66-0902-4166-b5f6-90706b228d62",
   "metadata": {},
   "outputs": [
    {
     "name": "stdout",
     "output_type": "stream",
     "text": [
      "Maximum Element of the list is:  80\n"
     ]
    }
   ],
   "source": [
    "# 14. Write a program to find the maximum element in a 2D list using a nested `for` loop.\n",
    "\n",
    "l1=[[2,3,4,5,6],[7,8,9,34,2],[5,80]] \n",
    "new_list=[]\n",
    "for i in l1:\n",
    "    for j in i:\n",
    "        new_list.append(j)\n",
    "new_list.sort()\n",
    "print(\"Maximum Element of the list is: \",new_list[-1]) "
   ]
  },
  {
   "cell_type": "code",
   "execution_count": 18,
   "id": "1d23bb44-3882-4017-8957-90b88c3bcf02",
   "metadata": {},
   "outputs": [
    {
     "name": "stdin",
     "output_type": "stream",
     "text": [
      "Enter the elemrnt to remove:  4\n"
     ]
    },
    {
     "name": "stdout",
     "output_type": "stream",
     "text": [
      "ABefore removing the element:  [2, 4, 6, 8, 4, 6, 8, 4]\n",
      "After removing the element:  [2, 6, 8, 6, 8]\n"
     ]
    }
   ],
   "source": [
    "# 15. Create a program that removes all occurrences of a specific element from a list using a `for` loop.\n",
    "\n",
    "l1=[2,4,6,8,4,6,8,4]\n",
    "n=int(input(\"Enter the elemrnt to remove: \"))\n",
    "print(\"ABefore removing the element: \", l1)\n",
    "for i in l1:\n",
    "    if i==n:\n",
    "        l1.remove(i)\n",
    "print(\"After removing the element: \", l1)"
   ]
  },
  {
   "cell_type": "code",
   "execution_count": 19,
   "id": "760a7442-d1f9-4dee-910d-251b980bbcc0",
   "metadata": {},
   "outputs": [
    {
     "name": "stdout",
     "output_type": "stream",
     "text": [
      "\n",
      "\n",
      "Multiplication table of  1 \n",
      "\n",
      " 1   2   3   4   5   6   7   8   9  10  \n",
      "\n",
      "Multiplication table of  2 \n",
      "\n",
      " 2   4   6   8  10  12  14  16  18  20  \n",
      "\n",
      "Multiplication table of  3 \n",
      "\n",
      " 3   6   9  12  15  18  21  24  27  30  \n",
      "\n",
      "Multiplication table of  4 \n",
      "\n",
      " 4   8  12  16  20  24  28  32  36  40  \n",
      "\n",
      "Multiplication table of  5 \n",
      "\n",
      " 5  10  15  20  25  30  35  40  45  50  "
     ]
    }
   ],
   "source": [
    "# 16. Develop a program that generates a multiplication table for numbers from 1 to 5 using a nested `for` loop.\n",
    "\n",
    "for i in range(1,6):\n",
    "    print(\"\\n\\nMultiplication table of \",i,\"\\n\")\n",
    "    for j in range(1,11):\n",
    "        c=(i*j)\n",
    "        print(\"{:2d}  \".format(c),end='')"
   ]
  },
  {
   "cell_type": "code",
   "execution_count": 20,
   "id": "8ab2c413-71b4-46f0-8d25-016e91372746",
   "metadata": {},
   "outputs": [
    {
     "name": "stdout",
     "output_type": "stream",
     "text": [
      "List of Celsius:  [0.0, 17.778, 10.0, 32.222]\n"
     ]
    }
   ],
   "source": [
    "# 17. Write a program that converts a list of Fahrenheit temperatures to Celsius using a `for` loop.\n",
    "\n",
    "f=[32,64,50,90]\n",
    "c=[]\n",
    "#Fahrenheit to Celsius is °C = [(°F-32)×5]/9\n",
    "for i in f:\n",
    "    x=((i-32)*5)/9\n",
    "    c.append(round(x,3))\n",
    "print(\"List of Celsius: \",c)"
   ]
  },
  {
   "cell_type": "code",
   "execution_count": 21,
   "id": "d8684d24-2207-40ac-8a99-fa85b91dae1b",
   "metadata": {},
   "outputs": [
    {
     "name": "stdout",
     "output_type": "stream",
     "text": [
      "[2, 6, 9]\n"
     ]
    }
   ],
   "source": [
    "# 18. Create a program to print the common elements from two lists using a `for` loop.\n",
    " \n",
    "l1=[2,4,6,8,9] \n",
    "l2=[2,5,6,9,3]\n",
    "common=[]\n",
    "for i in l1:\n",
    "    for j in l2:\n",
    "        if i==j:\n",
    "            common.append(i)\n",
    "print(common)"
   ]
  },
  {
   "cell_type": "code",
   "execution_count": 23,
   "id": "a974d719-2aa8-4517-9e5c-c62eb9464343",
   "metadata": {},
   "outputs": [
    {
     "name": "stdin",
     "output_type": "stream",
     "text": [
      "Enter the number of rows:  5\n"
     ]
    },
    {
     "name": "stdout",
     "output_type": "stream",
     "text": [
      "* \n",
      "* * \n",
      "* * * \n",
      "* * * * \n",
      "* * * * * \n"
     ]
    }
   ],
   "source": [
    "# 19. Develop a program that prints the pattern of right-angled triangles using a `for` loop. Use ‘*’ to draw the pattern\n",
    "\n",
    "n=int(input(\"Enter the number of rows: \"))\n",
    "for i in range(1, n + 1):\n",
    "    for j in range(i):\n",
    "        print('*', end=' ')\n",
    "    print()"
   ]
  },
  {
   "cell_type": "code",
   "execution_count": 24,
   "id": "ef8e2562-2ac1-4bc4-aada-c55d1c19c8af",
   "metadata": {},
   "outputs": [
    {
     "name": "stdin",
     "output_type": "stream",
     "text": [
      "Enter the 1st no:  24\n",
      "Enter the 2nd no:  612\n"
     ]
    },
    {
     "name": "stdout",
     "output_type": "stream",
     "text": [
      "GCD of 24 and 612 is:  12\n"
     ]
    }
   ],
   "source": [
    "# 20. Write a program to find the greatest common divisor (GCD) of two numbers using a `for` loop.\n",
    "\n",
    "n1=int(input(\"Enter the 1st no: \"))\n",
    "n2=int(input(\"Enter the 2nd no: \"))\n",
    " \n",
    "if n1>n2:\n",
    "    small=n2\n",
    "else:\n",
    "    small=n1\n",
    "for i in range(1,small+1):\n",
    "    if ((n1%i==0) and (n2%i==0)):\n",
    "        gcd=i\n",
    "print(f\"GCD of {n1} and {n2} is: \",gcd)"
   ]
  },
  {
   "cell_type": "code",
   "execution_count": null,
   "id": "fbcc629b-5e69-416a-a47a-6754b0ae1f19",
   "metadata": {},
   "outputs": [],
   "source": []
  },
  {
   "cell_type": "markdown",
   "id": "f9295246-8389-42a9-9df8-49334fff637d",
   "metadata": {},
   "source": [
    "-------------------Advanced Level:-----------------"
   ]
  },
  {
   "cell_type": "code",
   "execution_count": null,
   "id": "109fb6d9-f5b1-494b-87ee-d6d9731e0b35",
   "metadata": {},
   "outputs": [],
   "source": []
  },
  {
   "cell_type": "code",
   "execution_count": null,
   "id": "5d050549-ae97-43b8-9a2b-2d8d41346c4c",
   "metadata": {},
   "outputs": [],
   "source": [
    "# 21. Create a program that calculates the sum of the digits of numbers in a list using a list comprehension.\n",
    "\n",
    "l1=[23,45,62,87,15]\n",
    "l2=[]  \n",
    "l2=[sum(int(digit) for digit in str(item) if digit.isdigit()) for item in l1]\n",
    "print(\"The sum of list element is : \",l2)  \n"
   ]
  },
  {
   "cell_type": "code",
   "execution_count": 27,
   "id": "cd50d5f6-f4f5-4559-a1db-70ab108db2b1",
   "metadata": {},
   "outputs": [
    {
     "name": "stdin",
     "output_type": "stream",
     "text": [
      "Enter a no:  24\n"
     ]
    },
    {
     "name": "stdout",
     "output_type": "stream",
     "text": [
      "2\n",
      "2\n",
      "2\n",
      "3\n"
     ]
    }
   ],
   "source": [
    "# 22. Write a program to find the prime factors of a given number using a `for` loop and list comprehension.\n",
    "\n",
    "import math\n",
    "def prime_factor(n):\n",
    "    while n%2==0:\n",
    "        print(2,)\n",
    "        n=n/2\n",
    "    for i in range(3,int((math.sqrt(n)))+1,2):\n",
    "        while n%i==0:\n",
    "            print(i,)\n",
    "            n=n/i\n",
    "    if n>2:\n",
    "        print(int(n))\n",
    "\n",
    "n=int(input(\"Enter a no: \"))\n",
    "prime_factor(n)\n",
    "    "
   ]
  },
  {
   "cell_type": "code",
   "execution_count": 28,
   "id": "19c63a63-ceda-489d-9a4d-f6c5738f92af",
   "metadata": {},
   "outputs": [
    {
     "name": "stdout",
     "output_type": "stream",
     "text": [
      "Orginal list is:  [2, 4, 5, 8, 10, 2, 4]\n",
      "Unique list is:  [5, 8, 10]\n"
     ]
    }
   ],
   "source": [
    "# 23. Develop a program that extracts unique elements from a list and stores them in a new list using a list comprehension.\n",
    "\n",
    "l1=[2,4,5,8,10,2,4]\n",
    "l2=[]\n",
    "l2=[i for i in l1 if l1.count(i)==1]\n",
    "print(\"Orginal list is: \",l1)\n",
    "print(\"Unique list is: \",l2)"
   ]
  },
  {
   "cell_type": "code",
   "execution_count": 29,
   "id": "ea1fe413-5ee3-473b-8db9-4b96ee649526",
   "metadata": {},
   "outputs": [
    {
     "name": "stdin",
     "output_type": "stream",
     "text": [
      "Enter a range:  50\n"
     ]
    },
    {
     "name": "stdout",
     "output_type": "stream",
     "text": [
      "List of palindrome no:  [0, 1, 2, 3, 4, 5, 6, 7, 8, 9, 11, 22, 33, 44]\n"
     ]
    }
   ],
   "source": [
    "# 24. Create a program that generates a list of all palindromic numbers up to a specified limit using a list comprehension.\n",
    "\n",
    "n=int(input(\"Enter a range: \"))\n",
    "l1=[i for i in range(n+1) if str(i)== str(i)[::-1]]\n",
    "print(\"List of palindrome no: \",l1)"
   ]
  },
  {
   "cell_type": "code",
   "execution_count": 30,
   "id": "c2023a15-3e8e-45e2-a6e9-8d719ed294e8",
   "metadata": {},
   "outputs": [
    {
     "name": "stdout",
     "output_type": "stream",
     "text": [
      "Flatten list is:  [2, 3, 4, 5, 6, 7, 8, 9, 34, 2, 5, 80]\n"
     ]
    }
   ],
   "source": [
    "# 25. Write a program to flatten a nested list using list comprehension.\n",
    "\n",
    "l1=[[2,3,4,5,6],[7,8,9,34,2],[5,80]] \n",
    "new_list=[item for i in l1 for item in i]\n",
    "print(\"Flatten list is: \",new_list)"
   ]
  },
  {
   "cell_type": "code",
   "execution_count": 31,
   "id": "7f5d6622-4d20-49d8-84d8-21ab051ed65c",
   "metadata": {},
   "outputs": [
    {
     "name": "stdin",
     "output_type": "stream",
     "text": [
      "Enter a range:  50\n"
     ]
    },
    {
     "name": "stdout",
     "output_type": "stream",
     "text": [
      "List of Even no:  [2, 4, 6, 8, 10, 12, 14, 16, 18, 20, 22, 24, 26, 28, 30, 32, 34, 36, 38, 40, 42, 44, 46, 48, 50]\n",
      "List of Odd no:  [1, 3, 5, 7, 9, 11, 13, 15, 17, 19, 21, 23, 25, 27, 29, 31, 33, 35, 37, 39, 41, 43, 45, 47, 49]\n"
     ]
    }
   ],
   "source": [
    "# 26. Develop a program that computes the sum of even and odd numbers in a list separately using list comprehension.\n",
    "\n",
    "n=int(input(\"Enter a range: \"))\n",
    "l1=[i for i in range(1, n+1) if i%2==0]\n",
    "l2=[i for i in range(n+1) if i%2!=0]\n",
    "print(\"List of Even no: \",l1)   \n",
    "print(\"List of Odd no: \",l2)"
   ]
  },
  {
   "cell_type": "code",
   "execution_count": 32,
   "id": "79fbdee5-dc4d-4a12-8628-ab0dc0650b86",
   "metadata": {},
   "outputs": [
    {
     "name": "stdin",
     "output_type": "stream",
     "text": [
      "Enter a range:  10\n"
     ]
    },
    {
     "name": "stdout",
     "output_type": "stream",
     "text": [
      "List of squre odd no:  [1, 9, 25, 49, 81]\n"
     ]
    }
   ],
   "source": [
    "# 27. Create a program that generates a list of squares of odd numbers between 1 and 10 using list comprehension.\n",
    "\n",
    "n=int(input(\"Enter a range: \"))\n",
    "l1=[i**2 for i in range(n+1) if i%2!=0]\n",
    "print(\"List of squre odd no: \",l1)"
   ]
  },
  {
   "cell_type": "code",
   "execution_count": 33,
   "id": "37204dc0-8cc1-4b11-8130-bc0d460f56bc",
   "metadata": {},
   "outputs": [
    {
     "name": "stdout",
     "output_type": "stream",
     "text": [
      "Original key list is :  [1, 3, 5, 7, 9]\n",
      "\n",
      "Original value list is :  ['Akash', 'Arnam', 'Argha', 'Animesh', 'Aishik']\n",
      "\n",
      "New dictionary is :  {1: 'Akash', 3: 'Arnam', 5: 'Argha', 7: 'Animesh', 9: 'Aishik'}\n"
     ]
    }
   ],
   "source": [
    "# 28. Write a program that combines two lists into a dictionary using list comprehension.\n",
    "\n",
    "keys=[1,3,5,7,9]\n",
    "values=[\"Akash\",\"Arnam\",\"Argha\",\"Animesh\",\"Aishik\"]\n",
    "\n",
    "print(\"Original key list is : \",keys)\n",
    "print(\"\\nOriginal value list is : \", values)\n",
    "\n",
    "dic={keys[i] : values[i] for i in range(len(keys))}\n",
    "\n",
    "print(\"\\nNew dictionary is : \" ,dic)"
   ]
  },
  {
   "cell_type": "code",
   "execution_count": 34,
   "id": "d3608c95-fa87-4c73-a9f1-273aaec14ff8",
   "metadata": {},
   "outputs": [
    {
     "name": "stdin",
     "output_type": "stream",
     "text": [
      "Enter a string:  animesh\n"
     ]
    },
    {
     "name": "stdout",
     "output_type": "stream",
     "text": [
      "['a', 'i', 'e']\n"
     ]
    }
   ],
   "source": [
    "# 29. Develop a program that extracts the vowels from a string and stores them in a list using list comprehension.\n",
    "\n",
    "n=input(\"Enter a string: \")\n",
    "x=[vowel for vowel in n if vowel in 'aeiouAEIOU']\n",
    "print(x)\n"
   ]
  },
  {
   "cell_type": "code",
   "execution_count": 35,
   "id": "5e5fa536-4ed2-4fe0-9fd5-104e71b8de48",
   "metadata": {},
   "outputs": [
    {
     "name": "stdout",
     "output_type": "stream",
     "text": [
      "['2', '4', '4', '9']\n"
     ]
    }
   ],
   "source": [
    "# 30. Create a program that removes all non-numeric characters from a list of strings using list comprehension.\n",
    "\n",
    "l=['2','4',\"a\",\"B\",'4','9',\"c\",'5.6']\n",
    "l1=[item for item in l if item.isnumeric() ==True]\n",
    "print(l1)"
   ]
  },
  {
   "cell_type": "code",
   "execution_count": null,
   "id": "30592c13-e343-435b-b10a-61d84d737ed1",
   "metadata": {},
   "outputs": [],
   "source": []
  },
  {
   "cell_type": "code",
   "execution_count": null,
   "id": "b96f168e-dfdd-4557-853e-75abc019c72a",
   "metadata": {},
   "outputs": [],
   "source": []
  },
  {
   "cell_type": "markdown",
   "id": "bc9f7848-d5a0-4c79-bb77-2b9a8d0d6ab0",
   "metadata": {},
   "source": [
    "----------------------Challenge Level:-----------------"
   ]
  },
  {
   "cell_type": "code",
   "execution_count": null,
   "id": "a593147c-06af-454c-8a81-82c6f67af797",
   "metadata": {},
   "outputs": [],
   "source": []
  },
  {
   "cell_type": "code",
   "execution_count": 36,
   "id": "eb4777c2-868c-4ef8-ae1b-5536d0cb1b7a",
   "metadata": {},
   "outputs": [
    {
     "name": "stdout",
     "output_type": "stream",
     "text": [
      "2\n",
      "3\n",
      "5\n",
      "7\n",
      "11\n",
      "13\n",
      "17\n",
      "19\n",
      "23\n",
      "29\n",
      "31\n",
      "37\n",
      "41\n",
      "43\n",
      "47\n",
      "53\n",
      "59\n",
      "61\n",
      "67\n",
      "71\n",
      "73\n",
      "79\n",
      "83\n",
      "89\n",
      "97\n",
      "None\n"
     ]
    }
   ],
   "source": [
    "# 31. Write a program to generate a list of prime numbers using the Sieve of Eratosthenes algorithm and list comprehension.\n",
    "\n",
    "def Sieve_Eratosthenes(n):\n",
    "    prime=[]\n",
    "    for i in range(2, n+1):\n",
    "        if i not in prime:\n",
    "            print (i)\n",
    "            for j in range(i*i, n+1, i):\n",
    "                prime.append(j)\n",
    "                \n",
    "print(Sieve_Eratosthenes(100))"
   ]
  },
  {
   "cell_type": "code",
   "execution_count": 38,
   "id": "95d88fb5-3b98-4569-8301-18cd87c244f2",
   "metadata": {},
   "outputs": [
    {
     "name": "stdin",
     "output_type": "stream",
     "text": [
      "Enter the limit :  50\n"
     ]
    },
    {
     "name": "stdout",
     "output_type": "stream",
     "text": [
      "Pythagorean triplets up to 50 are: [(3, 4, 5), (5, 12, 13), (6, 8, 10), (7, 24, 25), (8, 15, 17), (9, 12, 15), (9, 40, 41), (10, 24, 26), (12, 16, 20), (12, 35, 37), (14, 48, 50), (15, 20, 25), (15, 36, 39), (16, 30, 34), (18, 24, 30), (20, 21, 29), (21, 28, 35), (24, 32, 40), (27, 36, 45), (30, 40, 50)]\n"
     ]
    }
   ],
   "source": [
    "# 32. Create a program that generates a list of all Pythagorean triplets up to a specified limit using list comprehension.\n",
    "\n",
    "def pythagorean_triplets(n):\n",
    "    triplets=[(a,b,c)\n",
    "              for a in range(1,n+1)\n",
    "              for b in range(a,n+1)\n",
    "              for c in range(b,n+1)\n",
    "              if a**2 + b**2 == c**2]\n",
    "    return triplets\n",
    "\n",
    "n=int(input(\"Enter the limit : \"))\n",
    "print(\"Pythagorean triplets up to\",n, \"are:\", pythagorean_triplets(n))"
   ]
  },
  {
   "cell_type": "code",
   "execution_count": 39,
   "id": "e41f28a6-c3a0-4ada-a522-b00fd676edd0",
   "metadata": {},
   "outputs": [
    {
     "name": "stdout",
     "output_type": "stream",
     "text": [
      "List of all possible combinations of two lists:  [(2, 'A'), (2, 'B'), (2, 'C'), (2, 'D'), (4, 'A'), (4, 'B'), (4, 'C'), (4, 'D'), (6, 'A'), (6, 'B'), (6, 'C'), (6, 'D'), (8, 'A'), (8, 'B'), (8, 'C'), (8, 'D')]\n"
     ]
    }
   ],
   "source": [
    "# 33. Develop a program that generates a list of all possible combinations of two lists using list comprehension.\n",
    "\n",
    "list1=[2,4,6,8]\n",
    "list2=[\"A\",\"B\",\"C\",\"D\"]\n",
    "\n",
    "point=[(x,y) for x in list1 for y in list2]\n",
    "print(\"List of all possible combinations of two lists: \",point)"
   ]
  },
  {
   "cell_type": "code",
   "execution_count": 40,
   "id": "a74daa7a-4ba7-47e0-b58b-a618815fbb24",
   "metadata": {},
   "outputs": [
    {
     "name": "stdout",
     "output_type": "stream",
     "text": [
      "Mean of the list:  5.053\n",
      "Median of the list:  5\n",
      "Mode of the list:  6\n"
     ]
    }
   ],
   "source": [
    "# 34. Write a program that calculates the mean, median, and mode of a list of numbers using list comprehension.\n",
    "\n",
    "import statistics\n",
    "l=[2,4,6,8,5,6,4,3,6,3,6,4,2,1,7,8,5,7,9]\n",
    "x=round(statistics.mean(l),3)\n",
    "y=statistics.median(l)\n",
    "z=statistics.mode(l)\n",
    "print(\"Mean of the list: \",x)\n",
    "print(\"Median of the list: \",y)\n",
    "print(\"Mode of the list: \",z) "
   ]
  },
  {
   "cell_type": "code",
   "execution_count": 42,
   "id": "552c1f90-3485-4385-a7c8-5fac758517a9",
   "metadata": {},
   "outputs": [
    {
     "name": "stdin",
     "output_type": "stream",
     "text": [
      "Enter the no of row:  6\n"
     ]
    },
    {
     "name": "stdout",
     "output_type": "stream",
     "text": [
      "       1 \n",
      "      1 1 \n",
      "     1 2 1 \n",
      "    1 3 3 1 \n",
      "   1 4 6 4 1 \n",
      "  1 5 10 10 5 1 \n"
     ]
    }
   ],
   "source": [
    "# 35. Create a program that generates Pascal's triangle up to a specified number of rows using list comprehension.\n",
    "\n",
    "from math import factorial\n",
    "n=int(input(\"Enter the no of row: \"))\n",
    "for i in range(n):\n",
    "\tfor j in range(n-i+1):\n",
    "\t\t# for left spacing\n",
    "\t\tprint(end=\" \")\n",
    "        \n",
    "\tfor j in range(i+1):\n",
    "\t\t# nCr=n!/((n-r)!*r!)\n",
    "\t\tprint(factorial(i)//(factorial(j)*factorial(i-j)), end=\" \")\n",
    "\tprint()\n"
   ]
  },
  {
   "cell_type": "code",
   "execution_count": null,
   "id": "ed4f210f-547c-42d3-b26c-feb3fa6cb72a",
   "metadata": {},
   "outputs": [],
   "source": [
    "# 36. Develop a program that calculates the sum of the digits of a factorial of numbers from 1 to 5 using list comprehension.\n",
    "\n",
    "from math import factorial\n",
    "l1=[]\n",
    "for i in range(1,6):\n",
    "    l1.append(factorial(i))\n",
    "print(\"The factorial is  : \",l1)  \n",
    "l2=[]  \n",
    "l2=[sum (int(digit) for digit in str(item)) for item in l1]\n",
    "print(\"The sum of list element is : \",l2) "
   ]
  },
  {
   "cell_type": "code",
   "execution_count": 44,
   "id": "530d81f3-05a4-4f2e-bc3c-d014fe968cd3",
   "metadata": {},
   "outputs": [
    {
     "name": "stdin",
     "output_type": "stream",
     "text": [
      "Enter a sentence:  He is a good boy\n"
     ]
    },
    {
     "name": "stdout",
     "output_type": "stream",
     "text": [
      "Longest word in the sentence: good\n"
     ]
    }
   ],
   "source": [
    "# 37. Write a program that finds the longest word in a sentence using list comprehension.\n",
    "\n",
    "sentence=input(\"Enter a sentence: \")\n",
    "word=sentence.split()\n",
    "#print(word)\n",
    "longest_word=max(word, key=lambda word: len(word))\n",
    "print(\"Longest word in the sentence:\", longest_word)"
   ]
  },
  {
   "cell_type": "code",
   "execution_count": null,
   "id": "d0761181-7322-4258-9816-8c1f11f77dca",
   "metadata": {},
   "outputs": [],
   "source": [
    "# 38. Create a program that filters a list of strings to include only those with more than three vowels using list comprehension.\n",
    "\n",
    "l1=[\"under\", \"grapefruit\",\"beast\", \"coconut\", \"good\"]\n",
    "def count_vowels(string):\n",
    "    return sum(1 for char in string if char in \"AEIOUaeiou\")\n",
    "\n",
    "l2= [word for word in l1 if count_vowels(word) > 3]\n",
    "print(\"Original List:\", l1)\n",
    "print(\"New List:\", l2) #more than 3 vowels"
   ]
  },
  {
   "cell_type": "code",
   "execution_count": null,
   "id": "e4de31a1-5026-48e3-9a0d-a41c4c87e817",
   "metadata": {},
   "outputs": [],
   "source": [
    "# 39. Develop a program that calculates the sum of the digits of numbers from 1 to 1000 using list comprehension.\n",
    "\n",
    "l=[]  \n",
    "l=[sum(int(digit) for digit in str(item)) for item in range(1,1001)]\n",
    "print(\"The sum of list element is : \",l)"
   ]
  },
  {
   "cell_type": "code",
   "execution_count": null,
   "id": "b0d0e755-3190-44ea-929f-cb0f24984f24",
   "metadata": {},
   "outputs": [],
   "source": []
  },
  {
   "cell_type": "code",
   "execution_count": 49,
   "id": "2e2098ec-d71c-4735-8e6f-95487e8c4b9f",
   "metadata": {},
   "outputs": [
    {
     "name": "stdin",
     "output_type": "stream",
     "text": [
      "Enter a range:  200\n"
     ]
    },
    {
     "name": "stdout",
     "output_type": "stream",
     "text": [
      "List of palindrome no:  [2, 3, 5, 7, 11, 101, 131, 151, 181, 191]\n"
     ]
    }
   ],
   "source": [
    "# 40. Write a program that generates a list of prime palindromic numbers using list comprehension.\n",
    "\n",
    "def prime(num):\n",
    "    if num<2:\n",
    "        #print(\"The number is not prime.\")\n",
    "        prime=False\n",
    "    else:\n",
    "        prime=True\n",
    "    \n",
    "    for i in range(2,int(num**0.5)+1):\n",
    "        if num%i==0:\n",
    "            prime=False\n",
    "            break\n",
    "    if prime:\n",
    "        return True\n",
    "    else:\n",
    "        return False\n",
    "n=int(input(\"Enter a range: \"))\n",
    "l1=[i for i in range(n+1) if str(i)== str(i)[::-1] and prime(i)]\n",
    "print(\"List of palindrome no: \",l1)    \n"
   ]
  },
  {
   "cell_type": "code",
   "execution_count": null,
   "id": "80d77634-c139-46f7-b049-2b407b7179a3",
   "metadata": {},
   "outputs": [],
   "source": []
  },
  {
   "cell_type": "code",
   "execution_count": null,
   "id": "f3676f30-19a4-48e1-9b2c-15cd5a51b36c",
   "metadata": {},
   "outputs": [],
   "source": []
  },
  {
   "cell_type": "code",
   "execution_count": null,
   "id": "3a9dd5df-04b7-4ad8-8123-885952c50dc3",
   "metadata": {},
   "outputs": [],
   "source": []
  },
  {
   "cell_type": "code",
   "execution_count": null,
   "id": "7b3d4404-c14b-4f60-bd47-1127e9cd2746",
   "metadata": {},
   "outputs": [],
   "source": []
  }
 ],
 "metadata": {
  "kernelspec": {
   "display_name": "Python 3 (ipykernel)",
   "language": "python",
   "name": "python3"
  },
  "language_info": {
   "codemirror_mode": {
    "name": "ipython",
    "version": 3
   },
   "file_extension": ".py",
   "mimetype": "text/x-python",
   "name": "python",
   "nbconvert_exporter": "python",
   "pygments_lexer": "ipython3",
   "version": "3.10.8"
  }
 },
 "nbformat": 4,
 "nbformat_minor": 5
}
