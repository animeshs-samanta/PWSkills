{
 "cells": [
  {
   "cell_type": "markdown",
   "id": "2a0c8d67-69fc-42fd-a8df-fd232228ddeb",
   "metadata": {},
   "source": [
    "TOPIC: String Based Assignment Problem"
   ]
  },
  {
   "cell_type": "code",
   "execution_count": 1,
   "id": "3b650e24-46f7-4548-aae5-5da015231e1f",
   "metadata": {},
   "outputs": [
    {
     "name": "stdin",
     "output_type": "stream",
     "text": [
      "Enter a string:  Animesh\n"
     ]
    },
    {
     "name": "stdout",
     "output_type": "stream",
     "text": [
      "Reverse of the string is:  hseminA\n"
     ]
    }
   ],
   "source": [
    "#Q.1 Write a program to reverse a string.\n",
    "\n",
    "s=input(\"Enter a string: \")\n",
    "print(\"Reverse of the string is: \",s[::-1])"
   ]
  },
  {
   "cell_type": "code",
   "execution_count": 2,
   "id": "1f1cf436-a6b3-405f-a355-e962e3e3251f",
   "metadata": {},
   "outputs": [
    {
     "name": "stdin",
     "output_type": "stream",
     "text": [
      "Enter a string:  mom\n"
     ]
    },
    {
     "name": "stdout",
     "output_type": "stream",
     "text": [
      "String is palindrome\n"
     ]
    }
   ],
   "source": [
    "#Q.2 Check if a string is a palindrome\n",
    "\n",
    "s=input(\"Enter a string: \")\n",
    "s1=s.replace(\" \", \"\").lower()\n",
    "if(s1==s1[::-1]):\n",
    "    print(\"String is palindrome\")\n",
    "else:\n",
    "    print(\"string is not palindrome\")"
   ]
  },
  {
   "cell_type": "code",
   "execution_count": 3,
   "id": "d9d98db3-f2bf-446c-b5f6-e0e67632a7b7",
   "metadata": {},
   "outputs": [
    {
     "name": "stdin",
     "output_type": "stream",
     "text": [
      "Enter a string:  luck\n"
     ]
    },
    {
     "name": "stdout",
     "output_type": "stream",
     "text": [
      "The upper case of string is:  LUCK\n"
     ]
    }
   ],
   "source": [
    "#Q.3 Convert a string to uppercase.\n",
    "\n",
    "s=input(\"Enter a string: \")\n",
    "print(\"The upper case of string is: \",s.upper())"
   ]
  },
  {
   "cell_type": "code",
   "execution_count": 4,
   "id": "34375727-d79e-4815-9cdd-1f2bfeaac484",
   "metadata": {},
   "outputs": [
    {
     "name": "stdin",
     "output_type": "stream",
     "text": [
      "Enter a string:  gOOD\n"
     ]
    },
    {
     "name": "stdout",
     "output_type": "stream",
     "text": [
      "The upper case of string is:  good\n"
     ]
    }
   ],
   "source": [
    "#Q.4 Convert a string to lowercase\n",
    "\n",
    "s=input(\"Enter a string: \")\n",
    "print(\"The upper case of string is: \",s.lower())"
   ]
  },
  {
   "cell_type": "code",
   "execution_count": 5,
   "id": "bf8027eb-22f5-4c5c-8df7-cfdc264ae28d",
   "metadata": {},
   "outputs": [
    {
     "name": "stdin",
     "output_type": "stream",
     "text": [
      "Enter a string:  Animesh\n"
     ]
    },
    {
     "name": "stdout",
     "output_type": "stream",
     "text": [
      "Total no of vowels are:  3\n"
     ]
    }
   ],
   "source": [
    "#Q.5 Count the number of vowels in a string.\n",
    "\n",
    "s=input(\"Enter a string: \")\n",
    "count=0\n",
    "s=s.lower()\n",
    "for vowel in s:\n",
    "    if vowel in \"aeiou\":\n",
    "        count=count+1\n",
    "print(\"Total no of vowels are: \",count)"
   ]
  },
  {
   "cell_type": "code",
   "execution_count": 6,
   "id": "c49ff38c-0b6c-4b30-8cd9-cb65346efb8e",
   "metadata": {},
   "outputs": [
    {
     "name": "stdin",
     "output_type": "stream",
     "text": [
      "Enter a string:  Animesh\n"
     ]
    },
    {
     "name": "stdout",
     "output_type": "stream",
     "text": [
      "Total no of consonants are:  4\n"
     ]
    }
   ],
   "source": [
    "#Q.6 Count the number of consonants in a string.\n",
    "\n",
    "s=input(\"Enter a string: \")\n",
    "count=0\n",
    "s=s.lower()\n",
    "for vowel in s:\n",
    "    if vowel not in \"aeiou\":\n",
    "        count=count+1\n",
    "print(\"Total no of consonants are: \",count)"
   ]
  },
  {
   "cell_type": "code",
   "execution_count": 7,
   "id": "2d70aa2e-6913-4def-a0e4-aeaee03d091d",
   "metadata": {},
   "outputs": [
    {
     "name": "stdin",
     "output_type": "stream",
     "text": [
      "Enter a string:  I am a student\n"
     ]
    },
    {
     "name": "stdout",
     "output_type": "stream",
     "text": [
      "After remove whitespaces from a string: Iamastudent\n"
     ]
    }
   ],
   "source": [
    "#Q.7  Remove all whitespaces from a string\n",
    "\n",
    "s=input(\"Enter a string: \")\n",
    "s=s.replace(\" \", \"\")\n",
    "print(\"After remove whitespaces from a string:\",s)"
   ]
  },
  {
   "cell_type": "code",
   "execution_count": 8,
   "id": "b06d0b92-32a6-48f2-b7fa-ab13d892f38c",
   "metadata": {},
   "outputs": [
    {
     "name": "stdin",
     "output_type": "stream",
     "text": [
      "Enter a string:  pwskills\n"
     ]
    },
    {
     "name": "stdout",
     "output_type": "stream",
     "text": [
      "length of the string is: 8\n"
     ]
    }
   ],
   "source": [
    "#Q.8 Find the length of a string without using the `len()` function\n",
    "\n",
    "s=input(\"Enter a string: \")\n",
    "count=0\n",
    "for i in s:\n",
    "    count+=1\n",
    "print(\"length of the string is:\",count)"
   ]
  },
  {
   "cell_type": "code",
   "execution_count": 9,
   "id": "768db2ba-c7f2-47f9-9895-50c9fb6baef6",
   "metadata": {},
   "outputs": [
    {
     "name": "stdin",
     "output_type": "stream",
     "text": [
      "Enter a string:  I am a student\n",
      "Enter a word:  am\n"
     ]
    },
    {
     "name": "stdout",
     "output_type": "stream",
     "text": [
      "Yes\n"
     ]
    }
   ],
   "source": [
    "#Q.9  Check if a string contains a specific word\n",
    "\n",
    "s=input(\"Enter a string: \")\n",
    "word=input(\"Enter a word: \")\n",
    "if word in s:\n",
    "    print(\"Yes\")\n",
    "else:\n",
    "     print(\"No\")"
   ]
  },
  {
   "cell_type": "code",
   "execution_count": 10,
   "id": "22b4e93c-0f7b-4063-8720-9c8e1f6f7ccf",
   "metadata": {},
   "outputs": [
    {
     "name": "stdin",
     "output_type": "stream",
     "text": [
      "Enter a string:  He are a boy\n",
      "Enter a word to change:  are\n",
      "Enter a new word:  is\n"
     ]
    },
    {
     "name": "stdout",
     "output_type": "stream",
     "text": [
      "New String is:  He is a boy\n"
     ]
    }
   ],
   "source": [
    "#Q.10 Replace a word in a string with another word.\n",
    "\n",
    "s=input(\"Enter a string: \")\n",
    "old=input(\"Enter a word to change: \")\n",
    "new=input(\"Enter a new word: \")\n",
    "s=s.replace(old, new)\n",
    "print(\"New String is: \",s)\n"
   ]
  },
  {
   "cell_type": "code",
   "execution_count": 12,
   "id": "fedec9b2-de28-4df9-a57b-6c418423baa7",
   "metadata": {},
   "outputs": [
    {
     "name": "stdin",
     "output_type": "stream",
     "text": [
      "Enter a string:  aa bb cc aa\n",
      "Enter a word:  aa\n"
     ]
    },
    {
     "name": "stdout",
     "output_type": "stream",
     "text": [
      "No of word is:  2\n"
     ]
    }
   ],
   "source": [
    "#Q.11 Count the occurrences of a word in a string\n",
    "\n",
    "s=input(\"Enter a string: \")\n",
    "word=input(\"Enter a word: \")\n",
    "c=0\n",
    "c=s.count(word)\n",
    "print(\"No of word is: \",c)"
   ]
  },
  {
   "cell_type": "code",
   "execution_count": 13,
   "id": "5294ecde-b92b-4743-89df-2071cc022c37",
   "metadata": {},
   "outputs": [
    {
     "name": "stdin",
     "output_type": "stream",
     "text": [
      "Enter a string:  aa bb cc dd cc \n",
      "Enter a word:  cc\n"
     ]
    },
    {
     "name": "stdout",
     "output_type": "stream",
     "text": [
      "Index of first Occurance of the word is:  6\n"
     ]
    }
   ],
   "source": [
    "#Q.12 Find the first occurrence of a word in a string\n",
    "\n",
    "s=input(\"Enter a string: \")\n",
    "word=input(\"Enter a word: \")\n",
    "c=s.find(word)\n",
    "print(\"Index of first Occurance of the word is: \",c)"
   ]
  },
  {
   "cell_type": "code",
   "execution_count": 14,
   "id": "6f40db1b-a383-4971-8e5a-a54d56ab42ef",
   "metadata": {},
   "outputs": [
    {
     "name": "stdin",
     "output_type": "stream",
     "text": [
      "Enter a string:  aa bb cc dd bb aa\n",
      "Enter a word:  bb\n"
     ]
    },
    {
     "name": "stdout",
     "output_type": "stream",
     "text": [
      "Index of last Occurance of the word is:  12\n"
     ]
    }
   ],
   "source": [
    "#Q.13 Find the last occurrence of a word in a string\n",
    "\n",
    "s=input(\"Enter a string: \")\n",
    "word=input(\"Enter a word: \")\n",
    "c=s.rfind(word)\n",
    "print(\"Index of last Occurance of the word is: \",c)"
   ]
  },
  {
   "cell_type": "code",
   "execution_count": 16,
   "id": "b98f9614-fbae-42dc-b809-98ab70edd046",
   "metadata": {},
   "outputs": [
    {
     "name": "stdin",
     "output_type": "stream",
     "text": [
      "Enter a string:   He is a boy\n"
     ]
    },
    {
     "name": "stdout",
     "output_type": "stream",
     "text": [
      "list of words:  ['He', 'is', 'a', 'boy']\n"
     ]
    }
   ],
   "source": [
    "#Q.14 Split a string into a list of words.\n",
    "\n",
    "s=input(\"Enter a string: \")\n",
    "l=s.split()\n",
    "print(\"list of words: \",l) "
   ]
  },
  {
   "cell_type": "code",
   "execution_count": 17,
   "id": "8f7ae734-ffcf-482c-9174-baea1fe4943d",
   "metadata": {},
   "outputs": [
    {
     "name": "stdout",
     "output_type": "stream",
     "text": [
      "I am a student\n"
     ]
    }
   ],
   "source": [
    "#Q.15 Join a list of words into a string.\n",
    "\n",
    "l=[\"I\",\"am\", \"a\", \"student\"]\n",
    "l=\" \".join(l)\n",
    "print(l)"
   ]
  },
  {
   "cell_type": "code",
   "execution_count": 18,
   "id": "14b080f9-774f-43cd-94da-58ba07e4b38a",
   "metadata": {},
   "outputs": [
    {
     "name": "stdin",
     "output_type": "stream",
     "text": [
      "Enter a string:   He is lucky man\n"
     ]
    },
    {
     "name": "stdout",
     "output_type": "stream",
     "text": [
      "After remove whitespaces from a string: _He_is_lucky_man\n"
     ]
    }
   ],
   "source": [
    "#Q.16 Convert a string where words are separated by spaces to one where words are separated by underscores.\n",
    "\n",
    "s=input(\"Enter a string: \")\n",
    "s=s.replace(\" \", \"_\")\n",
    "print(\"After remove whitespaces from a string:\",s)\n"
   ]
  },
  {
   "cell_type": "code",
   "execution_count": 19,
   "id": "b301e21d-6381-48a6-97f7-9b837d991b7f",
   "metadata": {},
   "outputs": [
    {
     "name": "stdin",
     "output_type": "stream",
     "text": [
      "Enter a string:  I write this code\n",
      "Enter the first word:  I\n"
     ]
    },
    {
     "name": "stdout",
     "output_type": "stream",
     "text": [
      "The text starts with I\n"
     ]
    }
   ],
   "source": [
    "#Q.17 Check if a string starts with a specific word or phrase.\n",
    "\n",
    "s=input(\"Enter a string: \")\n",
    "\n",
    "first_word=input(\"Enter the first word: \")\n",
    "if first_word.startswith(first_word):\n",
    "    print(\"The text starts with\",first_word)\n",
    "else:\n",
    "    print(\"The text does not start with first word\")"
   ]
  },
  {
   "cell_type": "code",
   "execution_count": 20,
   "id": "3ecdd489-3172-40c6-8721-0853c25fbf5b",
   "metadata": {},
   "outputs": [
    {
     "name": "stdin",
     "output_type": "stream",
     "text": [
      "Enter a string:   I write this code\n",
      "Enter the last word:  code\n"
     ]
    },
    {
     "name": "stdout",
     "output_type": "stream",
     "text": [
      "The text end with code\n"
     ]
    }
   ],
   "source": [
    "#Q.18 Check if a string ends with a specific word or phrase\n",
    "\n",
    "s=input(\"Enter a string: \")\n",
    "\n",
    "last_word=input(\"Enter the last word: \")\n",
    "if last_word.endswith(last_word):\n",
    "    print(\"The text end with\",last_word)\n",
    "else:\n",
    "    print(\"The text does not end with last word\")"
   ]
  },
  {
   "cell_type": "code",
   "execution_count": 21,
   "id": "a1450062-22e3-449a-b7af-2d25e35313c5",
   "metadata": {},
   "outputs": [
    {
     "name": "stdin",
     "output_type": "stream",
     "text": [
      "Enter a string:  pw skills\n"
     ]
    },
    {
     "name": "stdout",
     "output_type": "stream",
     "text": [
      "The title case of string is:  Pw Skills\n"
     ]
    }
   ],
   "source": [
    "#Q.19 Convert a string to title case (e.g., \"hello world\" to \"Hello World\n",
    "\n",
    "s=input(\"Enter a string: \")\n",
    "print(\"The title case of string is: \",s.title())"
   ]
  },
  {
   "cell_type": "code",
   "execution_count": 22,
   "id": "5ada26f0-27e2-446d-8111-dc09a8aef330",
   "metadata": {},
   "outputs": [
    {
     "name": "stdin",
     "output_type": "stream",
     "text": [
      "Enter a string:   He is a good boy\n"
     ]
    },
    {
     "name": "stdout",
     "output_type": "stream",
     "text": [
      "The longest word in the string is: good\n"
     ]
    }
   ],
   "source": [
    "#Q.20 Find the longest word in a string\n",
    "\n",
    "string = input(\"Enter a string: \")\n",
    "\n",
    "words = string.split()\n",
    "longest_word = \"\"\n",
    "max_length = 0\n",
    "\n",
    "for word in words:\n",
    "    if len(word) > max_length:\n",
    "        max_length = len(word)\n",
    "        longest_word = word\n",
    "print(\"The longest word in the string is:\", longest_word)"
   ]
  },
  {
   "cell_type": "code",
   "execution_count": 23,
   "id": "85c3d9e0-1fff-46c7-8908-eb08cb5a37e6",
   "metadata": {},
   "outputs": [
    {
     "name": "stdin",
     "output_type": "stream",
     "text": [
      "Enter a string:  He is a good boy\n"
     ]
    },
    {
     "name": "stdout",
     "output_type": "stream",
     "text": [
      "The shortest word in the string is: a\n"
     ]
    }
   ],
   "source": [
    "#Q.21 Find the shortest word in a string\n",
    "\n",
    "string = input(\"Enter a string: \")\n",
    "words = string.split()\n",
    "\n",
    "shortest_word = words[0]  \n",
    "min_length = len(shortest_word)\n",
    "\n",
    "for word in words:\n",
    "    if len(word) < min_length:\n",
    "        min_length = len(word)\n",
    "        shortest_word = word\n",
    "\n",
    "print(\"The shortest word in the string is:\", shortest_word)"
   ]
  },
  {
   "cell_type": "code",
   "execution_count": 24,
   "id": "987454a4-c825-442a-b77d-b0539056eb54",
   "metadata": {},
   "outputs": [
    {
     "name": "stdout",
     "output_type": "stream",
     "text": [
      "student a am I\n"
     ]
    }
   ],
   "source": [
    "#Q.22 Reverse the order of words in a string.\n",
    "\n",
    "string = \"I am a student\"\n",
    "s = string.split()[::-1] # reversing words in a given string\n",
    "l = []\n",
    "for i in s:\n",
    "\tl.append(i) # appending reversed words to l\n",
    "print(\" \".join(l)) # printing reverse words"
   ]
  },
  {
   "cell_type": "code",
   "execution_count": 25,
   "id": "df257b5e-11f8-4af9-ad44-bba4d1872ea4",
   "metadata": {},
   "outputs": [
    {
     "name": "stdin",
     "output_type": "stream",
     "text": [
      "Enter a string:  aabb cc dd\n"
     ]
    },
    {
     "name": "stdout",
     "output_type": "stream",
     "text": [
      "The string is not alphanumeric.\n"
     ]
    }
   ],
   "source": [
    "#Q.23 Check if a string is alphanumeric\n",
    "\n",
    "s=input(\"Enter a string: \")\n",
    "if s.isalnum():\n",
    "    print(\"The string is alphanumeric.\")\n",
    "else:\n",
    "    print(\"The string is not alphanumeric.\")"
   ]
  },
  {
   "cell_type": "code",
   "execution_count": 26,
   "id": "aaee24ed-e458-4fa6-ac57-3486d4a71fda",
   "metadata": {},
   "outputs": [
    {
     "name": "stdin",
     "output_type": "stream",
     "text": [
      "Enter a string:  aacc23\n"
     ]
    },
    {
     "name": "stdout",
     "output_type": "stream",
     "text": [
      "23"
     ]
    }
   ],
   "source": [
    "#Q.24 Extract all digits from a string\n",
    "\n",
    "s=input(\"Enter a string: \")\n",
    "\n",
    "for i in s:\n",
    "    if(i.isdigit()): # using isdigit() function\n",
    "        print(i,end=\"\")"
   ]
  },
  {
   "cell_type": "code",
   "execution_count": 27,
   "id": "59912cc0-305c-4316-b8fb-5f34bc187749",
   "metadata": {},
   "outputs": [
    {
     "name": "stdin",
     "output_type": "stream",
     "text": [
      "Enter a string:  aa bb cc 345\n"
     ]
    },
    {
     "name": "stdout",
     "output_type": "stream",
     "text": [
      "aabbcc"
     ]
    }
   ],
   "source": [
    "#Q.25 Extract all alphabets from a string\n",
    "\n",
    "s=input(\"Enter a string: \")\n",
    "\n",
    "for i in s:\n",
    "    if(i.isalpha()): # using isalpha() function\n",
    "        print(i,end=\"\")"
   ]
  },
  {
   "cell_type": "code",
   "execution_count": 28,
   "id": "d06d4789-57f5-475d-b991-a620475525ef",
   "metadata": {},
   "outputs": [
    {
     "name": "stdin",
     "output_type": "stream",
     "text": [
      "Enter a string:  AniMesh\n"
     ]
    },
    {
     "name": "stdout",
     "output_type": "stream",
     "text": [
      "The no of Uppercase letter:  2\n"
     ]
    }
   ],
   "source": [
    "#Q.26 Count the number of uppercase letters in a string\n",
    "\n",
    "s=input(\"Enter a string: \")\n",
    "count=0\n",
    "for i in s:\n",
    "    if(i.isupper()): # using isupper() function\n",
    "        count+=1\n",
    "print(\"The no of Uppercase letter: \",count)"
   ]
  },
  {
   "cell_type": "code",
   "execution_count": 29,
   "id": "1200f43e-4ae1-4019-bdca-3acc2aa77d62",
   "metadata": {},
   "outputs": [
    {
     "name": "stdin",
     "output_type": "stream",
     "text": [
      "Enter a string:  AniMesh\n"
     ]
    },
    {
     "name": "stdout",
     "output_type": "stream",
     "text": [
      "The no of Lowercase letter:  5\n"
     ]
    }
   ],
   "source": [
    "#Q.27 Count the number of lowercase letters in a string.\n",
    "\n",
    "s=input(\"Enter a string: \")\n",
    "count=0\n",
    "for i in s:\n",
    "    if(i.islower()): # using islower() function\n",
    "        count+=1\n",
    "print(\"The no of Lowercase letter: \",count)"
   ]
  },
  {
   "cell_type": "code",
   "execution_count": 30,
   "id": "3b42906c-5094-49aa-a5c6-042813b95d2b",
   "metadata": {},
   "outputs": [
    {
     "name": "stdin",
     "output_type": "stream",
     "text": [
      "Enter a string:  AnimMesh\n"
     ]
    },
    {
     "name": "stdout",
     "output_type": "stream",
     "text": [
      "The Swap case of string is:  aNIMmESH\n"
     ]
    }
   ],
   "source": [
    "#Q.28 Swap the case of each character in a string\n",
    "\n",
    "s=input(\"Enter a string: \")\n",
    "s=s.swapcase()\n",
    "print(\"The Swap case of string is: \",s)"
   ]
  },
  {
   "cell_type": "code",
   "execution_count": 31,
   "id": "05be5c10-2beb-4c02-9df0-d9f30b3a81ee",
   "metadata": {},
   "outputs": [
    {
     "name": "stdout",
     "output_type": "stream",
     "text": [
      "This is an  sentence with the word '' in it.\n"
     ]
    }
   ],
   "source": [
    "#Q.29 Remove a specific word from a string.\n",
    "\n",
    "text = \"This is an example sentence with the word 'example' in it.\"\n",
    "remove_word = \"example\"\n",
    "new_text = text.replace(remove_word, '')\n",
    "print(new_text)"
   ]
  },
  {
   "cell_type": "code",
   "execution_count": 32,
   "id": "163ba1a0-f69a-4103-9216-0e808b30e936",
   "metadata": {},
   "outputs": [
    {
     "name": "stdout",
     "output_type": "stream",
     "text": [
      "example@email.com is a valid email address.\n"
     ]
    }
   ],
   "source": [
    "#Q.30 Check if a string is a valid email address\n",
    "\n",
    "import re\n",
    "\n",
    "def is_valid_email(email):\n",
    "    pattern = r'^[\\w\\.-]+@[\\w\\.-]+\\.\\w+$'\n",
    "\n",
    "    if re.match(pattern, email):\n",
    "        return True\n",
    "    else:\n",
    "        return False\n",
    "email = \"example@email.com\"\n",
    "if is_valid_email(email):\n",
    "    print(f\"{email} is a valid email address.\")\n",
    "else:\n",
    "    \n",
    "    print(f\"{email} is not a valid email address.\")"
   ]
  },
  {
   "cell_type": "code",
   "execution_count": 33,
   "id": "3d57659a-76b1-4d04-8749-80f09738af03",
   "metadata": {},
   "outputs": [
    {
     "name": "stdout",
     "output_type": "stream",
     "text": [
      "Username: user\n"
     ]
    }
   ],
   "source": [
    "#Q.31 Extract the username from an email address string.\n",
    "\n",
    "email = \"user@example.com\"\n",
    "username = email.split('@')[0]\n",
    "print(\"Username:\", username)"
   ]
  },
  {
   "cell_type": "code",
   "execution_count": 34,
   "id": "1be05722-93f5-49b5-94a3-506cecf70525",
   "metadata": {},
   "outputs": [
    {
     "name": "stdout",
     "output_type": "stream",
     "text": [
      "Domain: example.com\n"
     ]
    }
   ],
   "source": [
    "#Q.32 Extract the domain name from an email address string\n",
    "\n",
    "email = \"user@example.com\"\n",
    "domain = email.split('@')[1]\n",
    "print(\"Domain:\", domain)\n"
   ]
  },
  {
   "cell_type": "code",
   "execution_count": 35,
   "id": "001fc1a2-b6fa-438b-922e-8ce7c9431f4d",
   "metadata": {},
   "outputs": [
    {
     "name": "stdin",
     "output_type": "stream",
     "text": [
      "Enter a string:  They are      playing       \n"
     ]
    },
    {
     "name": "stdout",
     "output_type": "stream",
     "text": [
      "They are playing\n"
     ]
    }
   ],
   "source": [
    "#Q.33 Replace multiple spaces in a string with a single space\n",
    "\n",
    "string = input(\"Enter a string: \")\n",
    "words = string.split()\n",
    "output_string = ' '.join(words)\n",
    "print(output_string)\n"
   ]
  },
  {
   "cell_type": "code",
   "execution_count": 36,
   "id": "679be00e-56d8-4046-917a-eed2a0fd0cfc",
   "metadata": {},
   "outputs": [
    {
     "name": "stdout",
     "output_type": "stream",
     "text": [
      "https://www.example.com is a valid URL.\n"
     ]
    }
   ],
   "source": [
    "#Q.34 Check if a string is a valid URL.\n",
    "\n",
    "from urllib.parse import urlparse\n",
    "\n",
    "def is_valid_url(url):\n",
    "    try:\n",
    "        result = urlparse(url)\n",
    "        return all([result.scheme, result.netloc])\n",
    "    except ValueError:\n",
    "        return False\n",
    "\n",
    "# Example usage:\n",
    "url = \"https://www.example.com\"\n",
    "if is_valid_url(url):\n",
    "    print(f\"{url} is a valid URL.\")\n",
    "else:\n",
    "    print(f\"{url} is not a valid URL.\")\n"
   ]
  },
  {
   "cell_type": "code",
   "execution_count": 37,
   "id": "14bfa89b-5dec-48c1-9ac5-89ab513d8bbd",
   "metadata": {},
   "outputs": [
    {
     "name": "stdout",
     "output_type": "stream",
     "text": [
      "The protocol of the URL is: https\n"
     ]
    }
   ],
   "source": [
    "#Q.35 Extract the protocol (http or https) from a URL string\n",
    "\n",
    "from urllib.parse import urlparse\n",
    "\n",
    "def extract_protocol(url):\n",
    "    parsed_url = urlparse(url)\n",
    "    if parsed_url.scheme in ['http', 'https']:\n",
    "        return parsed_url.scheme\n",
    "    else:\n",
    "        return None\n",
    "\n",
    "# Example usage:\n",
    "url = \"https://www.example.com\"\n",
    "protocol = extract_protocol(url)\n",
    "\n",
    "if protocol:\n",
    "    print(f\"The protocol of the URL is: {protocol}\")\n",
    "else:\n",
    "    print(\"The URL does not have a valid protocol.\")\n"
   ]
  },
  {
   "cell_type": "code",
   "execution_count": 38,
   "id": "8f31f62a-8bcc-4046-8bcd-4fccb78d23dd",
   "metadata": {},
   "outputs": [
    {
     "name": "stdout",
     "output_type": "stream",
     "text": [
      "'H': 1\n",
      "'e': 1\n",
      "'l': 3\n",
      "'o': 2\n",
      "'W': 1\n",
      "'r': 1\n",
      "'d': 1\n"
     ]
    }
   ],
   "source": [
    "#Q.36 Find the frequency of each character in a string\n",
    "\n",
    "input_string = \"Hello, World!\"\n",
    "\n",
    "# Create an empty dictionary to store character frequencies\n",
    "char_frequency = {}\n",
    "\n",
    "# Iterate through the string and update the character frequencies\n",
    "for char in input_string:\n",
    "    if char.isalnum():  # Check if the character is alphanumeric\n",
    "        char_frequency[char] = char_frequency.get(char, 0) + 1\n",
    "\n",
    "# Print the character frequencies\n",
    "for char, frequency in char_frequency.items():\n",
    "    print(f\"'{char}': {frequency}\")"
   ]
  },
  {
   "cell_type": "code",
   "execution_count": 39,
   "id": "956993eb-f473-4b2f-8acf-c485ac4e6f9c",
   "metadata": {},
   "outputs": [
    {
     "name": "stdout",
     "output_type": "stream",
     "text": [
      "Hello World This is an example string\n"
     ]
    }
   ],
   "source": [
    "#Q.37 Remove all punctuation from a string\n",
    "\n",
    "import string\n",
    "\n",
    "input_string = \"Hello, World! This is an example string.\"\n",
    "# Remove punctuation from the string\n",
    "cleaned_string = ''.join(char for char in input_string if char not in string.punctuation)\n",
    "print(cleaned_string)"
   ]
  },
  {
   "cell_type": "code",
   "execution_count": 40,
   "id": "ff517274-c3c3-42f7-b008-714b1b8584cd",
   "metadata": {},
   "outputs": [
    {
     "name": "stdin",
     "output_type": "stream",
     "text": [
      "Enter a string:  345\n"
     ]
    },
    {
     "name": "stdout",
     "output_type": "stream",
     "text": [
      "True\n"
     ]
    }
   ],
   "source": [
    "#Q.38 Check if a string contains only digits\n",
    "\n",
    "text=input(\"Enter a string: \")\n",
    "print(text.isdigit()) #if the string is digit return True either False\n"
   ]
  },
  {
   "cell_type": "code",
   "execution_count": 41,
   "id": "9d615263-3718-4696-9b82-d3bafc6d0a54",
   "metadata": {},
   "outputs": [
    {
     "name": "stdin",
     "output_type": "stream",
     "text": [
      "Enter a string:  good\n"
     ]
    },
    {
     "name": "stdout",
     "output_type": "stream",
     "text": [
      "True\n"
     ]
    }
   ],
   "source": [
    "#Q.39 Check if a string contains only alphabets\n",
    "\n",
    "text=input(\"Enter a string: \")\n",
    "print(text.isalpha()) #if the string is only alpha return True either False\n"
   ]
  },
  {
   "cell_type": "code",
   "execution_count": 42,
   "id": "f3aaaa02-9b8c-49a2-af10-447b7a04f772",
   "metadata": {},
   "outputs": [
    {
     "name": "stdin",
     "output_type": "stream",
     "text": [
      "Enter a string:  Animesh\n"
     ]
    },
    {
     "name": "stdout",
     "output_type": "stream",
     "text": [
      "['A', 'n', 'i', 'm', 'e', 's', 'h']\n"
     ]
    }
   ],
   "source": [
    "#Q.40 Convert a string to a list of characters.\n",
    "\n",
    "text=input(\"Enter a string: \")\n",
    "l = list(text)\n",
    "print(l)"
   ]
  },
  {
   "cell_type": "code",
   "execution_count": 43,
   "id": "ccf970fc-7ae4-425d-95ae-7e393db42b33",
   "metadata": {},
   "outputs": [
    {
     "name": "stdout",
     "output_type": "stream",
     "text": [
      "True\n"
     ]
    }
   ],
   "source": [
    "#Q.41 Check if two strings are anagrams\n",
    "\n",
    "word1 = \"listen\"\n",
    "word2 = \"silent\"\n",
    "anagrams = sorted(word1) == sorted(word2)\n",
    "print(anagrams)  # True\n"
   ]
  },
  {
   "cell_type": "code",
   "execution_count": null,
   "id": "ef171aca-b880-422c-aaf3-fea69976ba11",
   "metadata": {},
   "outputs": [],
   "source": [
    "#Q.42  Encode a string using a Caesar cipher\n",
    "\n"
   ]
  },
  {
   "cell_type": "code",
   "execution_count": null,
   "id": "e629811e-b2c9-47cb-8b76-8712e4b3e9e5",
   "metadata": {},
   "outputs": [],
   "source": [
    "#Q.43 Decode a Caesar cipher encoded string\n"
   ]
  },
  {
   "cell_type": "code",
   "execution_count": 44,
   "id": "406cefaa-26b8-4706-b8ed-272452c79fd4",
   "metadata": {},
   "outputs": [
    {
     "name": "stdout",
     "output_type": "stream",
     "text": [
      "The most frequent word is 'this' with a frequency of 2 times.\n"
     ]
    }
   ],
   "source": [
    "#Q.44 Find the most frequent word in a string\n",
    "\n",
    "from collections import Counter\n",
    "import re\n",
    "\n",
    "input_string = \"This is a sample string. This string contains some sample words.\"\n",
    "\n",
    "# Tokenize the string into words (split by spaces and remove punctuation)\n",
    "words = re.findall(r'\\b\\w+\\b', input_string.lower())\n",
    "\n",
    "# Count the frequency of each word using Counter\n",
    "word_counts = Counter(words)\n",
    "\n",
    "# Find the most frequent word\n",
    "most_common_word, most_common_count = word_counts.most_common(1)[0]\n",
    "\n",
    "print(f\"The most frequent word is '{most_common_word}' with a frequency of {most_common_count} times.\")\n"
   ]
  },
  {
   "cell_type": "code",
   "execution_count": 45,
   "id": "b8fc3077-3bda-4e0b-a8fa-bdcd8df49737",
   "metadata": {},
   "outputs": [
    {
     "name": "stdout",
     "output_type": "stream",
     "text": [
      "Unique words in the string:\n",
      "words\n",
      "sample\n",
      "contains\n",
      "this\n",
      "string\n",
      "is\n",
      "a\n",
      "some\n"
     ]
    }
   ],
   "source": [
    "#Q.45 Find all unique words in a string\n",
    "\n",
    "import re\n",
    "\n",
    "input_string = \"This is a sample string. This string contains some sample words.\"\n",
    "\n",
    "# Tokenize the string into words (split by spaces and remove punctuation)\n",
    "words = re.findall(r'\\b\\w+\\b', input_string.lower())\n",
    "\n",
    "# Create a set to store unique words\n",
    "unique_words = set(words)\n",
    "\n",
    "# Convert the set back to a list if needed\n",
    "unique_words_list = list(unique_words)\n",
    "\n",
    "print(\"Unique words in the string:\")\n",
    "for word in unique_words_list:\n",
    "    print(word)\n"
   ]
  },
  {
   "cell_type": "code",
   "execution_count": 46,
   "id": "d500becf-c1e5-49fe-9837-a5f7b4694ea5",
   "metadata": {},
   "outputs": [
    {
     "name": "stdout",
     "output_type": "stream",
     "text": [
      "'hello' has 2 syllables.\n",
      "'banana' has 3 syllables.\n",
      "'syllable' has 3 syllables.\n"
     ]
    }
   ],
   "source": [
    "#Q.46 Count the number of syllables in a string.\n",
    "\n",
    "import re\n",
    "\n",
    "def count_syllables(word):\n",
    "    # Count vowel groups using regular expression\n",
    "    vowel_groups = re.findall(r'[aeiouy]+', word, re.IGNORECASE)\n",
    "\n",
    "    return len(vowel_groups)\n",
    "\n",
    "# Example words\n",
    "word1 = \"hello\"\n",
    "word2 = \"banana\"\n",
    "word3 = \"syllable\"\n",
    "\n",
    "# Count syllables\n",
    "syllables1 = count_syllables(word1)\n",
    "syllables2 = count_syllables(word2)\n",
    "syllables3 = count_syllables(word3)\n",
    "\n",
    "# Print the results\n",
    "print(f\"'{word1}' has {syllables1} syllables.\")\n",
    "print(f\"'{word2}' has {syllables2} syllables.\")\n",
    "print(f\"'{word3}' has {syllables3} syllables.\")"
   ]
  },
  {
   "cell_type": "code",
   "execution_count": null,
   "id": "117a6c2b-4424-4ba4-baf7-5a674468cd4f",
   "metadata": {},
   "outputs": [],
   "source": [
    "#Q.47 Check if a string contains any special characters\n",
    "\n"
   ]
  },
  {
   "cell_type": "code",
   "execution_count": 47,
   "id": "e1b25162-c01c-4497-9b25-80e39e63caf0",
   "metadata": {},
   "outputs": [
    {
     "name": "stdout",
     "output_type": "stream",
     "text": [
      "This is sample sentence with some words.\n"
     ]
    }
   ],
   "source": [
    "#Q.48 Remove the nth word from a string\n",
    "\n",
    "input_string = \"This is a sample sentence with some words.\"\n",
    "n = 3  # Remove the 3rd word (which is \"a\")\n",
    "\n",
    "# Split the string into words using whitespace as the separator\n",
    "words = input_string.split()\n",
    "\n",
    "# Check if the nth word exists\n",
    "if 1 <= n <= len(words):\n",
    "    # Remove the nth word (subtract 1 from n to get the correct index)\n",
    "    del words[n - 1]\n",
    "\n",
    "    # Join the remaining words back into a string\n",
    "    new_string = ' '.join(words)\n",
    "    print(new_string)\n",
    "else:\n",
    "    # Print the original string if n is out of range\n",
    "    print(input_string)\n"
   ]
  },
  {
   "cell_type": "code",
   "execution_count": 48,
   "id": "1101e12d-587a-4e98-a93f-af46c846b8ed",
   "metadata": {},
   "outputs": [
    {
     "name": "stdout",
     "output_type": "stream",
     "text": [
      "This is a new sample sentence with words.\n"
     ]
    }
   ],
   "source": [
    "#Q.49 Insert a word at the nth position in a string\n",
    "\n",
    "input_string = \"This is a sample sentence with words.\"\n",
    "n = 3  # Insert \"new\" at the 3rd position (0-based index)\n",
    "new_word = \"new\"\n",
    "\n",
    "# Split the string into words using whitespace as the separator\n",
    "words = input_string.split()\n",
    "\n",
    "# Check if the nth position is within a valid range\n",
    "if 0 <= n <= len(words):\n",
    "    # Insert the new word at the specified position (use n as the index)\n",
    "    words.insert(n, new_word)\n",
    "\n",
    "    # Join the words back into a string\n",
    "    new_string = ' '.join(words)\n",
    "    print(new_string)\n",
    "else:\n",
    "    # Print the original string if n is out of range\n",
    "    print(input_string)\n"
   ]
  },
  {
   "cell_type": "code",
   "execution_count": 49,
   "id": "9850d9a9-0a10-4aa0-bbea-4f8336a94937",
   "metadata": {},
   "outputs": [
    {
     "name": "stdout",
     "output_type": "stream",
     "text": [
      "['Name', 'Age', 'Location']\n",
      "['Alice', '30', 'New York']\n",
      "['Bob', '25', 'Los Angeles']\n",
      "['Charlie', '35', 'San Francisco']\n"
     ]
    }
   ],
   "source": [
    "#Q.50 Convert a CSV string to a list of lists\n",
    "\n",
    "import csv\n",
    "from io import StringIO\n",
    "\n",
    "csv_string = \"\"\"Name,Age,Location\n",
    "Alice,30,New York\n",
    "Bob,25,Los Angeles\n",
    "Charlie,35,San Francisco\"\"\"\n",
    "\n",
    "# Use StringIO to create a file-like object from the CSV string\n",
    "csv_file = StringIO(csv_string)\n",
    "\n",
    "# Initialize a CSV reader\n",
    "csv_reader = csv.reader(csv_file)\n",
    "\n",
    "# Convert the CSV data to a list of lists\n",
    "csv_data = list(csv_reader)\n",
    "\n",
    "# Close the StringIO object (not necessary in recent Python versions)\n",
    "csv_file.close()\n",
    "\n",
    "# Print the list of lists\n",
    "for row in csv_data:\n",
    "    print(row)\n"
   ]
  },
  {
   "cell_type": "code",
   "execution_count": null,
   "id": "1b7af5a0-eefc-4616-b272-f4744d41ea60",
   "metadata": {},
   "outputs": [],
   "source": []
  },
  {
   "cell_type": "markdown",
   "id": "4ccdef57-c113-40a6-9dfb-eb43021a8a14",
   "metadata": {},
   "source": [
    "List Based Practice Problem :"
   ]
  },
  {
   "cell_type": "code",
   "execution_count": 50,
   "id": "976a58d5-5fb8-4760-820d-9b92d9c22c99",
   "metadata": {},
   "outputs": [
    {
     "name": "stdout",
     "output_type": "stream",
     "text": [
      "[1, 2, 3, 4, 5, 6, 7, 8, 9, 10]\n"
     ]
    }
   ],
   "source": [
    "#Q.1 Create a list with integers from 1 to 10\n",
    "\n",
    "l=[]\n",
    "for i in range(1,11):\n",
    "    l.append(i)\n",
    "print(l)"
   ]
  },
  {
   "cell_type": "code",
   "execution_count": 51,
   "id": "71517674-6eda-44be-b3b2-fe5bdafb8e46",
   "metadata": {},
   "outputs": [
    {
     "name": "stdout",
     "output_type": "stream",
     "text": [
      "length of the list is: 11\n"
     ]
    }
   ],
   "source": [
    "#Q.2 Find the length of a list without using the `len()` function.\n",
    "l=[1,2,3,4,5,6,7,9,3,2,49]\n",
    "count=0\n",
    "for i in l:\n",
    "    count+=1\n",
    "print(\"length of the list is:\",count)\n"
   ]
  },
  {
   "cell_type": "code",
   "execution_count": 52,
   "id": "c864c380-b8c1-44d4-b662-a723a6bd9c39",
   "metadata": {},
   "outputs": [
    {
     "name": "stdin",
     "output_type": "stream",
     "text": [
      "Enter a no:  100\n"
     ]
    },
    {
     "name": "stdout",
     "output_type": "stream",
     "text": [
      "New List: [1, 2, 3, 4, 5, 6, 7, 9, 3, 2, 49, 100]\n"
     ]
    }
   ],
   "source": [
    "#Q.3 Append an element to the end of a list.\n",
    "\n",
    "l=[1,2,3,4,5,6,7,9,3,2,49]\n",
    "a=int(input(\"Enter a no: \"))\n",
    "l.append(a)\n",
    "print(\"New List:\",l)"
   ]
  },
  {
   "cell_type": "code",
   "execution_count": 53,
   "id": "966fdd93-a0a1-4ea6-9826-26c40e032617",
   "metadata": {},
   "outputs": [
    {
     "name": "stdin",
     "output_type": "stream",
     "text": [
      "Enter a no:  100\n",
      "Enter the index no:  5\n"
     ]
    },
    {
     "name": "stdout",
     "output_type": "stream",
     "text": [
      "New List: [1, 2, 3, 4, 5, 100, 6, 7, 9, 3, 2, 49]\n"
     ]
    }
   ],
   "source": [
    "#Q.4 Insert an element at a specific index in a list.\n",
    "\n",
    "l=[1,2,3,4,5,6,7,9,3,2,49]\n",
    "a=int(input(\"Enter a no: \"))\n",
    "index=int(input(\"Enter the index no: \"))\n",
    "l.insert(index, a)\n",
    "print(\"New List:\",l)"
   ]
  },
  {
   "cell_type": "code",
   "execution_count": 54,
   "id": "17eb54c5-1ac4-46e0-b8da-bd161a6b4538",
   "metadata": {},
   "outputs": [
    {
     "name": "stdin",
     "output_type": "stream",
     "text": [
      "Enter a valur to remove:  7\n"
     ]
    },
    {
     "name": "stdout",
     "output_type": "stream",
     "text": [
      "New List: [1, 2, 3, 4, 5, 6, 9]\n"
     ]
    }
   ],
   "source": [
    "#Q.5 Remove an element from a list by its value\n",
    "\n",
    "l=[1,2,3,4,5,6,7,9]\n",
    "a=int(input(\"Enter a valur to remove: \"))\n",
    "l.remove(a)\n",
    "print(\"New List:\",l)"
   ]
  },
  {
   "cell_type": "code",
   "execution_count": 55,
   "id": "7da6e8ef-3552-49c7-9d13-a08d25a6525b",
   "metadata": {},
   "outputs": [
    {
     "name": "stdin",
     "output_type": "stream",
     "text": [
      "Enter the index no to remove:  4\n"
     ]
    },
    {
     "name": "stdout",
     "output_type": "stream",
     "text": [
      "New List: [1, 2, 3, 4, 6, 7, 9, 3, 2, 49]\n"
     ]
    }
   ],
   "source": [
    "#Q.6 Remove an element from a list by its index.\n",
    "\n",
    "l=[1,2,3,4,5,6,7,9,3,2,49]\n",
    "index=int(input(\"Enter the index no to remove: \"))\n",
    "l.pop(index)\n",
    "print(\"New List:\",l)"
   ]
  },
  {
   "cell_type": "code",
   "execution_count": 56,
   "id": "5b437492-7d59-48dd-bb9f-24f7ac58e154",
   "metadata": {},
   "outputs": [
    {
     "name": "stdin",
     "output_type": "stream",
     "text": [
      "Enter a element to found:  5\n"
     ]
    },
    {
     "name": "stdout",
     "output_type": "stream",
     "text": [
      "Element is found\n"
     ]
    }
   ],
   "source": [
    "#Q.7 Check if an element exists in a list.\n",
    "\n",
    "l=[1,2,3,4,5,6,7,9,3,2,49]\n",
    "a=int(input(\"Enter a element to found: \"))\n",
    "c=0\n",
    "for i in l:\n",
    "    if i==a:\n",
    "        c=1\n",
    "\n",
    "if c==1:\n",
    "    print(\"Element is found\")\n",
    "else:\n",
    "    print(\"Element is not found\")"
   ]
  },
  {
   "cell_type": "code",
   "execution_count": 57,
   "id": "a5e5bdda-346d-4909-baac-c0fb9b36f85b",
   "metadata": {},
   "outputs": [
    {
     "name": "stdin",
     "output_type": "stream",
     "text": [
      "Enter a element to found:  5\n"
     ]
    },
    {
     "name": "stdout",
     "output_type": "stream",
     "text": [
      "The index of the first occurrence:  4\n"
     ]
    }
   ],
   "source": [
    "#Q.8 Find the index of the first occurrence of an element in a list\n",
    "\n",
    "l=[1,2,3,4,5,6,7,9,3,2,49]\n",
    "a=int(input(\"Enter a element to found: \"))\n",
    "ind=l.index(a)\n",
    "print(\"The index of the first occurrence: \",ind)"
   ]
  },
  {
   "cell_type": "code",
   "execution_count": 58,
   "id": "a12de872-c2e5-4086-b844-1f772102da2c",
   "metadata": {},
   "outputs": [
    {
     "name": "stdin",
     "output_type": "stream",
     "text": [
      "Enter a element to found:  5\n"
     ]
    },
    {
     "name": "stdout",
     "output_type": "stream",
     "text": [
      "No of Occurence is:  2\n"
     ]
    }
   ],
   "source": [
    "#Q.9 Count the occurrences of an element in a list\n",
    "\n",
    "l=[1,2,3,4,5,6,4,6,4,5,4,7,9,3,2,49]\n",
    "a=int(input(\"Enter a element to found: \"))\n",
    "x=l.count(a)\n",
    "print(\"No of Occurence is: \",x)"
   ]
  },
  {
   "cell_type": "code",
   "execution_count": 59,
   "id": "e79cd318-8deb-4222-b4ca-6ac13908a887",
   "metadata": {},
   "outputs": [
    {
     "name": "stdout",
     "output_type": "stream",
     "text": [
      "Reverse List is [2, 3, 9, 7, 4, 5, 4, 3, 2, 1]\n"
     ]
    }
   ],
   "source": [
    "#Q.10 Reverse the order of elements in a list.\n",
    "\n",
    "l=[1,2,3,4,5,4,7,9,3,2]\n",
    "l.reverse()\n",
    "print(\"Reverse List is\",l)"
   ]
  },
  {
   "cell_type": "code",
   "execution_count": 60,
   "id": "6977d535-b9f0-41f3-82eb-b3e78b4e6455",
   "metadata": {},
   "outputs": [
    {
     "name": "stdout",
     "output_type": "stream",
     "text": [
      "Sort in ascending order List is [1, 2, 2, 3, 3, 4, 4, 5, 7, 9]\n"
     ]
    }
   ],
   "source": [
    "#Q.11 Sort a list in ascending order\n",
    "\n",
    "l=[1,2,3,4,5,4,7,9,3,2]\n",
    "l.sort()\n",
    "print(\"Sort in ascending order List is\",l)\n"
   ]
  },
  {
   "cell_type": "code",
   "execution_count": 61,
   "id": "e6efda71-6993-4971-b424-fbdad8d65bf0",
   "metadata": {},
   "outputs": [
    {
     "name": "stdout",
     "output_type": "stream",
     "text": [
      "Sort in descending order List is [9, 7, 5, 4, 4, 3, 3, 2, 2, 1]\n"
     ]
    }
   ],
   "source": [
    "#Q.12 Sort a list in descending order.\n",
    "\n",
    "l=[1,2,3,4,5,4,7,9,3,2]\n",
    "l.sort(reverse=True)\n",
    "print(\"Sort in descending order List is\",l)"
   ]
  },
  {
   "cell_type": "code",
   "execution_count": 62,
   "id": "a1d82496-398e-4563-beb4-b6b9f9163d36",
   "metadata": {},
   "outputs": [
    {
     "name": "stdout",
     "output_type": "stream",
     "text": [
      "Even no of list [2, 4, 6, 8, 10, 12, 14, 16, 18, 20]\n"
     ]
    }
   ],
   "source": [
    "#Q.13 Create a list of even numbers from 1 to 20\n",
    "\n",
    "l1=[]\n",
    "for i in range(2,21,2):\n",
    "    l1.append(i)\n",
    "print(\"Even no of list\",l1)"
   ]
  },
  {
   "cell_type": "code",
   "execution_count": 63,
   "id": "84c1c82f-c9fb-4f05-929c-65cfddf2442c",
   "metadata": {},
   "outputs": [
    {
     "name": "stdout",
     "output_type": "stream",
     "text": [
      "Even no of list [1, 3, 5, 7, 9, 11, 13, 15, 17, 19]\n"
     ]
    }
   ],
   "source": [
    "#Q.14 Create a list of odd numbers from 1 to 20\n",
    "\n",
    "l1=[]\n",
    "for i in range(1,21,2):\n",
    "    l1.append(i)\n",
    "print(\"Even no of list\",l1)"
   ]
  },
  {
   "cell_type": "code",
   "execution_count": 64,
   "id": "413b1cd2-ebea-40c2-8939-7d46e3ad649d",
   "metadata": {},
   "outputs": [
    {
     "name": "stdout",
     "output_type": "stream",
     "text": [
      "Sum of the List is 40\n"
     ]
    }
   ],
   "source": [
    "#Q.15 Find the sum of all elements in a list\n",
    "\n",
    "l=[1,2,3,4,5,4,7,9,3,2]\n",
    "s=sum(l)\n",
    "print(\"Sum of the List is\",s)"
   ]
  },
  {
   "cell_type": "code",
   "execution_count": 65,
   "id": "2b08f3ba-166b-44db-8602-3ebcbb9b1590",
   "metadata": {},
   "outputs": [
    {
     "name": "stdout",
     "output_type": "stream",
     "text": [
      "max element of the List is 9\n"
     ]
    }
   ],
   "source": [
    "#Q.16 Find the maximum value in a list.\n",
    "\n",
    "l=[1,2,3,4,5,4,7,9,3,2]\n",
    "s=max(l)\n",
    "print(\"max element of the List is\",s)"
   ]
  },
  {
   "cell_type": "code",
   "execution_count": 66,
   "id": "5700aeb6-c54e-4a86-bd3a-9d3a9e2cd1bf",
   "metadata": {},
   "outputs": [
    {
     "name": "stdout",
     "output_type": "stream",
     "text": [
      "min element of the List is 1\n"
     ]
    }
   ],
   "source": [
    "#Q.17 Find the minimum value in a list\n",
    "\n",
    "l=[1,2,3,4,5,4,7,9,3,2]\n",
    "s=min(l)\n",
    "print(\"min element of the List is\",s)"
   ]
  },
  {
   "cell_type": "code",
   "execution_count": 67,
   "id": "8900eae7-1a01-43d0-b229-e85967466e1f",
   "metadata": {},
   "outputs": [
    {
     "name": "stdout",
     "output_type": "stream",
     "text": [
      "Squre no of list [1, 4, 9, 16, 25, 36, 49, 64, 81, 100]\n"
     ]
    }
   ],
   "source": [
    "#Q.18 Create a list of squares of numbers from 1 to 10\n",
    "\n",
    "l1=[]\n",
    "for i in range(1,11):\n",
    "    l1.append(i*i)\n",
    "print(\"Squre no of list\",l1)"
   ]
  },
  {
   "cell_type": "code",
   "execution_count": 68,
   "id": "52d0e8d6-eb1b-4db6-8e3c-5ae297f5d87f",
   "metadata": {},
   "outputs": [
    {
     "name": "stdout",
     "output_type": "stream",
     "text": [
      "List of random no : [10, 3, 1, 9, 8, 1, 10, 2, 7, 10]\n"
     ]
    }
   ],
   "source": [
    "#Q.19 Create a list of random numbers\n",
    "\n",
    "import random\n",
    "l1=[]\n",
    "n=10\n",
    "for i in range(n):\n",
    "    l1.append(random.randint(1,10))\n",
    "print(\"List of random no :\",l1)"
   ]
  },
  {
   "cell_type": "code",
   "execution_count": 69,
   "id": "aa50e80d-6f0b-43b1-b443-059511c7c096",
   "metadata": {},
   "outputs": [
    {
     "name": "stdout",
     "output_type": "stream",
     "text": [
      "After remove the duplicate element of the List is [2, 3, 4, 5, 7, 9]\n"
     ]
    }
   ],
   "source": [
    "#Q.20 Remove duplicates from a list.\n",
    "\n",
    "l=[2,3,4,5,4,7,9,3,2]\n",
    "l=list(set(l))\n",
    "print(\"After remove the duplicate element of the List is\",l)"
   ]
  },
  {
   "cell_type": "code",
   "execution_count": 70,
   "id": "9838b594-6d96-4b0b-af4f-5438da85afcc",
   "metadata": {},
   "outputs": [
    {
     "name": "stdout",
     "output_type": "stream",
     "text": [
      "Common element of the List is [2, 3, 4, 5, 7]\n"
     ]
    }
   ],
   "source": [
    "#Q.21 Find the common elements between two lists.\n",
    "\n",
    "l1=[1,3,4,5,4,7,9,3,2]\n",
    "l2=[4,5,3,2,7,8,10,23]\n",
    "l=list(set(l1).intersection(l2))\n",
    "print(\"Common element of the List is\",l)"
   ]
  },
  {
   "cell_type": "code",
   "execution_count": 71,
   "id": "a91798ba-182d-415a-910d-5da7972b1fb9",
   "metadata": {},
   "outputs": [
    {
     "name": "stdout",
     "output_type": "stream",
     "text": [
      "Diffrence between two list [9, 2, 3]\n"
     ]
    }
   ],
   "source": [
    "#Q.22 Find the difference between two lists\n",
    "\n",
    "\n",
    "l1= [4, 9, 2, 3]\n",
    "l2= [4, 0, 1]\n",
    "\n",
    "diff= set(l1) - set(l2)\n",
    "result= list(diff)\n",
    "\n",
    "print(\"Diffrence between two list\",result)"
   ]
  },
  {
   "cell_type": "code",
   "execution_count": 72,
   "id": "1e4d4ef7-68e7-4d32-9a93-4361c9278b72",
   "metadata": {},
   "outputs": [
    {
     "name": "stdout",
     "output_type": "stream",
     "text": [
      "Merge of two list [4, 9, 2, 3, 4, 0, 1]\n"
     ]
    }
   ],
   "source": [
    "#Q.23 Merge two lists.\n",
    "\n",
    "l1= [4, 9, 2, 3]\n",
    "l2= [4, 0, 1]\n",
    "\n",
    "merge=l1+l2\n",
    "print(\"Merge of two list\",merge)"
   ]
  },
  {
   "cell_type": "code",
   "execution_count": 76,
   "id": "6ad9b081-9909-40da-9f5d-3746186c0e08",
   "metadata": {},
   "outputs": [
    {
     "name": "stdout",
     "output_type": "stream",
     "text": [
      "Multiply by 2 of list [2, 3, 1, 5, 7, 4, 4, 6, 2, 10, 14, 8]\n"
     ]
    }
   ],
   "source": [
    "#Q.24 Multiply all elements in a list by 2.\n",
    "\n",
    "l1=[2,3,1,5,7,4]\n",
    "for i in range(len(l1)):\n",
    "    l1.append(l1[i]*2)\n",
    "print(\"Multiply by 2 of list\",l1)"
   ]
  },
  {
   "cell_type": "code",
   "execution_count": 77,
   "id": "4aaebb03-0afe-4b9a-928a-1cefe0a6eef9",
   "metadata": {},
   "outputs": [
    {
     "name": "stdout",
     "output_type": "stream",
     "text": [
      "Even numbers of list [2, 4]\n"
     ]
    }
   ],
   "source": [
    "#Q.25 Filter out all even numbers from a list.\n",
    "\n",
    "l1=[2,3,1,5,7,4]\n",
    "l2=[]\n",
    "for i in range(len(l1)):\n",
    "    if(l1[i]%2==0):\n",
    "        l2.append(l1[i])\n",
    "print(\"Even numbers of list\",l2)"
   ]
  },
  {
   "cell_type": "code",
   "execution_count": 78,
   "id": "f3e20032-2578-418a-b0d9-a169920a78d1",
   "metadata": {},
   "outputs": [
    {
     "name": "stdout",
     "output_type": "stream",
     "text": [
      "List of Integers:  [1, 4, 3, 5, 7, 2]\n"
     ]
    }
   ],
   "source": [
    "#Q.26 Convert a list of strings to a list of integers\n",
    "\n",
    "l=['1','4','3','5','7','2']\n",
    "for i in range(0,len(l)):\n",
    "    l[i]=int(l[i])\n",
    "print(\"List of Integers: \",l)"
   ]
  },
  {
   "cell_type": "code",
   "execution_count": 79,
   "id": "eaf978db-6b66-4e8a-95d1-79d9737e3691",
   "metadata": {},
   "outputs": [
    {
     "name": "stdout",
     "output_type": "stream",
     "text": [
      "List of String:  ['2', '3', '1', '5', '7', '4']\n"
     ]
    }
   ],
   "source": [
    "#Q.27 Convert a list of integers to a list of strings\n",
    "\n",
    "l1=[2,3,1,5,7,4]\n",
    "for i in range(0,len(l1)):\n",
    "    l1[i]=str(l1[i])\n",
    "print(\"List of String: \",l1)"
   ]
  },
  {
   "cell_type": "code",
   "execution_count": 80,
   "id": "a0c55e5b-7d3f-46ee-8be1-e96c3b54841a",
   "metadata": {},
   "outputs": [
    {
     "name": "stdout",
     "output_type": "stream",
     "text": [
      "[11, 33, 22, 55, 11, 77, 88]\n"
     ]
    }
   ],
   "source": [
    "#Q.28 Flatten a nested list.\n",
    "\n",
    "import numpy as np\n",
    "\n",
    "l = [[11, 33], [22, 55], [11], [77, 88]]\n",
    "\n",
    "new = list(np.concatenate(l))\n",
    "\n",
    "print(new)"
   ]
  },
  {
   "cell_type": "code",
   "execution_count": 81,
   "id": "3ef5d254-567b-4507-9505-9b622342d936",
   "metadata": {},
   "outputs": [
    {
     "name": "stdout",
     "output_type": "stream",
     "text": [
      "Fibonacci Series: [0, 1, 1, 2, 3, 5, 8, 13, 21, 34]\n"
     ]
    }
   ],
   "source": [
    "#Q.29 Create a list of the first 10 Fibonacci numbers\n",
    "\n",
    "num=10\n",
    "n1, n2 = 0, 1\n",
    "l=[0,1]\n",
    "for i in range(2, num):\n",
    "    n3 = n1 + n2\n",
    "    n1 = n2\n",
    "    n2 = n3\n",
    "    l.append(n3)\n",
    "print(\"Fibonacci Series:\",l)"
   ]
  },
  {
   "cell_type": "code",
   "execution_count": 82,
   "id": "f0812be7-ff7c-4b55-812a-f4b237c01c4c",
   "metadata": {},
   "outputs": [
    {
     "name": "stdout",
     "output_type": "stream",
     "text": [
      "The list is not sorted.\n"
     ]
    }
   ],
   "source": [
    "#Q.30 Check if a list is sorted.\n",
    "\n",
    "def is_sorted(lst):\n",
    "    for i in range(len(lst) - 1):\n",
    "        if lst[i] > lst[i + 1]:\n",
    "            return False\n",
    "    return True\n",
    "\n",
    "my_list = [1, 2, 6, 4, 5]\n",
    "if is_sorted(my_list):\n",
    "    print(\"The list is sorted.\")\n",
    "else:\n",
    "    print(\"The list is not sorted.\")"
   ]
  },
  {
   "cell_type": "code",
   "execution_count": 83,
   "id": "71a74c5a-107c-4819-9f59-91ba3b7d4177",
   "metadata": {},
   "outputs": [
    {
     "name": "stdout",
     "output_type": "stream",
     "text": [
      "[3, 4, 5, 1, 2]\n"
     ]
    }
   ],
   "source": [
    "#Q.31 Rotate a list to the left by `n` positions.\n",
    "\n",
    "original_list = [1, 2, 3, 4, 5]\n",
    "n = 2  # Rotate left by 2 positions\n",
    "n = n % len(original_list)  # Ensure n is within the length of the list\n",
    "rotated_list = original_list[n:] + original_list[:n]\n",
    "print(rotated_list)"
   ]
  },
  {
   "cell_type": "code",
   "execution_count": 84,
   "id": "0f5c5b96-d2a7-4ab6-af62-ae71d106fdca",
   "metadata": {},
   "outputs": [
    {
     "name": "stdout",
     "output_type": "stream",
     "text": [
      "[4, 5, 1, 2, 3]\n"
     ]
    }
   ],
   "source": [
    "#Q.32 Rotate a list to the right by `n` positions\n",
    "\n",
    "original_list = [1, 2, 3, 4, 5]\n",
    "n = 2  # Rotate right by 2 positions\n",
    "n = n % len(original_list)  # Ensure n is within the length of the list\n",
    "rotated_list = original_list[-n:] + original_list[:-n]\n",
    "print(rotated_list)"
   ]
  },
  {
   "cell_type": "code",
   "execution_count": 85,
   "id": "dc0d3ced-38aa-465d-8a72-510a1b1de1b1",
   "metadata": {},
   "outputs": [
    {
     "name": "stdout",
     "output_type": "stream",
     "text": [
      "The prime numbers till 50:  [2, 3, 5, 7, 11, 13, 17, 19, 23, 29, 31, 37, 41, 43, 47]\n"
     ]
    }
   ],
   "source": [
    "#Q.33 Create a list of prime numbers up to 50\n",
    "\n",
    "def prime(x, y):\n",
    "\tprime_list = []\n",
    "\tfor i in range(x, y):\n",
    "\t\tif i == 0 or i == 1:\n",
    "\t\t\tcontinue\n",
    "\t\telse:\n",
    "\t\t\tfor j in range(2, int(i/2)+1):\n",
    "\t\t\t\tif i % j == 0:\n",
    "\t\t\t\t\tbreak\n",
    "\t\t\telse:\n",
    "\t\t\t\tprime_list.append(i)\n",
    "\treturn prime_list\n",
    "\n",
    "l = prime(2,51)\n",
    "print(\"The prime numbers till 50: \", l)"
   ]
  },
  {
   "cell_type": "code",
   "execution_count": 86,
   "id": "d165bfc7-58af-41a1-93ae-220d05289117",
   "metadata": {},
   "outputs": [
    {
     "name": "stdout",
     "output_type": "stream",
     "text": [
      "[1, 2, 3]\n",
      "[4, 5, 6]\n",
      "[7, 8, 9]\n"
     ]
    }
   ],
   "source": [
    "#Q.34 Split a list into chunks of size `n`.\n",
    "\n",
    "l1= [1, 2, 3, 4, 5, 6, 7, 8, 9]\n",
    "size= len(l1)\n",
    "chunk = 3\n",
    "for i in range(0,size,chunk):\n",
    "\tx = i\n",
    "\tprint(l1[x:x+chunk])"
   ]
  },
  {
   "cell_type": "code",
   "execution_count": 87,
   "id": "b66f2e8d-f4aa-4eb3-a5e3-fd843895105f",
   "metadata": {},
   "outputs": [
    {
     "name": "stdout",
     "output_type": "stream",
     "text": [
      "Second Largest element of the list is:  8\n"
     ]
    }
   ],
   "source": [
    "#Q.35 Find the second largest number in a list.\n",
    "\n",
    "l1= [1, 2, 3, 4, 5, 6, 7, 8, 9]\n",
    "l1.sort(reverse=True) #sort the list in descending order \n",
    "print(\"Second Largest element of the list is: \",l1[1]) #print the 2nd element"
   ]
  },
  {
   "cell_type": "code",
   "execution_count": 88,
   "id": "323054c3-52ca-4578-a47b-cfbd761a9f0e",
   "metadata": {},
   "outputs": [
    {
     "name": "stdout",
     "output_type": "stream",
     "text": [
      "Squre no of list [1, 36, 9, 100, 64, 4, 49, 25, 81]\n"
     ]
    }
   ],
   "source": [
    "#Q.36 Replace every element in a list with its square.\n",
    "\n",
    "l1= [1, 6, 3, 10, 8, 2, 7, 5, 9]\n",
    "l2=[]\n",
    "for i in range(len(l1)):\n",
    "    l2.append(l1[i]*l1[i])\n",
    "print(\"Squre no of list\",l2)"
   ]
  },
  {
   "cell_type": "code",
   "execution_count": 89,
   "id": "4ed74e16-fb58-4fd2-b6ea-8a8d97cc7ddb",
   "metadata": {},
   "outputs": [
    {
     "name": "stdout",
     "output_type": "stream",
     "text": [
      "{'apple': 0, 'banana': 1, 'cherry': 2, 'date': 3}\n"
     ]
    }
   ],
   "source": [
    "#Q.37 Convert a list to a dictionary where list elements become keys and their indices become values.\n",
    "\n",
    "l1 = ['apple', 'banana', 'cherry', 'date']\n",
    "# Using dictionary comprehension to create the dictionary\n",
    "dic = {element: index for index, element in enumerate(l1)} #In this code, we iterate through the list using enumerate() to get both the index and the element\n",
    "print(dic)"
   ]
  },
  {
   "cell_type": "code",
   "execution_count": 90,
   "id": "45f937b9-e922-4750-9356-9445fffe7f25",
   "metadata": {},
   "outputs": [
    {
     "name": "stdout",
     "output_type": "stream",
     "text": [
      "[4, 1, 3, 5, 2]\n"
     ]
    }
   ],
   "source": [
    "#Q.38 Shuffle the elements of a list randomly\n",
    "\n",
    "import random\n",
    "my_list = [1, 2, 3, 4, 5]\n",
    "# Shuffle the list randomly\n",
    "random.shuffle(my_list)\n",
    "print(my_list)"
   ]
  },
  {
   "cell_type": "code",
   "execution_count": 92,
   "id": "56c62e42-50d9-472f-8486-6a67a6f191e1",
   "metadata": {},
   "outputs": [
    {
     "name": "stdout",
     "output_type": "stream",
     "text": [
      "[1, 2, 6, 24, 120, 720, 5040, 40320, 362880, 3628800]\n"
     ]
    }
   ],
   "source": [
    "#Q.39 Create a list of the first 10 factorial numbers.\n",
    "\n",
    "def factorial(n):\n",
    "    if n == 0:\n",
    "        return 1\n",
    "    else:\n",
    "        return n * factorial(n - 1)\n",
    "\n",
    "factorial_numbers = [factorial(i) for i in range(1, 11)]\n",
    "\n",
    "print(factorial_numbers)\n"
   ]
  },
  {
   "cell_type": "code",
   "execution_count": 93,
   "id": "e7cb947e-62d9-4c28-a83a-f6ed150c4c39",
   "metadata": {},
   "outputs": [
    {
     "name": "stdout",
     "output_type": "stream",
     "text": [
      "The two lists have at least one common element.\n"
     ]
    }
   ],
   "source": [
    "#Q.40 Check if two lists have at least one element in common.\n",
    "\n",
    "list1 = [1, 2, 3, 4, 5]\n",
    "list2 = [4, 5, 6, 7, 8]\n",
    "\n",
    "# Convert the lists to sets\n",
    "set1 = set(list1)\n",
    "set2 = set(list2)\n",
    "\n",
    "# Check if there is any intersection between the sets\n",
    "if set1.intersection(set2):\n",
    "    print(\"The two lists have at least one common element.\")\n",
    "else:\n",
    "    print(\"The two lists have no common elements.\")\n"
   ]
  },
  {
   "cell_type": "code",
   "execution_count": 94,
   "id": "6e2abed4-064b-4250-a8f6-4a064b7bc1a6",
   "metadata": {},
   "outputs": [
    {
     "name": "stdout",
     "output_type": "stream",
     "text": [
      "[]\n"
     ]
    }
   ],
   "source": [
    "#Q.41 Remove all elements from a list\n",
    "\n",
    "list1 = [1, 2, 3, 4, 5]\n",
    "list1.clear()\n",
    "print(list1)"
   ]
  },
  {
   "cell_type": "code",
   "execution_count": 95,
   "id": "16fde8fd-1624-4cff-b039-deaeff22d2ec",
   "metadata": {},
   "outputs": [
    {
     "name": "stdout",
     "output_type": "stream",
     "text": [
      "List after replacing negative numbers: [1, 0, 3, 0, 5]\n"
     ]
    }
   ],
   "source": [
    "#Q.42 Replace negative numbers in a list with 0.\n",
    "\n",
    "list1 = [1, -2, 3, -4, 5]\n",
    "for i in range(len(list1)):\n",
    "    if list1[i] < 0:\n",
    "        list1[i] = 0\n",
    "print(\"List after replacing negative numbers:\", list1)"
   ]
  },
  {
   "cell_type": "code",
   "execution_count": 96,
   "id": "45152f3c-e965-41f3-aae9-28da7fe93c03",
   "metadata": {},
   "outputs": [
    {
     "name": "stdout",
     "output_type": "stream",
     "text": [
      "['I', 'am', 'a', 'student']\n"
     ]
    }
   ],
   "source": [
    "#Q.43 Convert a string into a list of words\n",
    "\n",
    "s=\"I am a student\"\n",
    "s=s.split()\n",
    "print(s)"
   ]
  },
  {
   "cell_type": "code",
   "execution_count": 97,
   "id": "945b276d-3a64-45a0-9cb8-0dc172788a15",
   "metadata": {},
   "outputs": [
    {
     "name": "stdout",
     "output_type": "stream",
     "text": [
      "I am a student\n"
     ]
    }
   ],
   "source": [
    "#Q.44 Convert a list of words into a string\n",
    "\n",
    "l=[\"I\",\"am\",\"a\",\"student\"]\n",
    "l= \" \".join(l)\n",
    "print(l)"
   ]
  },
  {
   "cell_type": "code",
   "execution_count": 98,
   "id": "7ae3aadb-333d-4998-b348-5cbe93d66af2",
   "metadata": {},
   "outputs": [
    {
     "name": "stdout",
     "output_type": "stream",
     "text": [
      "powers of 2 list: [1, 2, 4, 8, 16, 32, 64, 128, 256, 512]\n"
     ]
    }
   ],
   "source": [
    "#Q.45 Create a list of the first `n` powers of 2.\n",
    "\n",
    "n = 10\n",
    "powers_of_2 = [2 ** i for i in range(n)]\n",
    "print(\"powers of 2 list:\",powers_of_2)"
   ]
  },
  {
   "cell_type": "code",
   "execution_count": 99,
   "id": "35668c2a-50b4-4564-981c-e0402dd358e1",
   "metadata": {},
   "outputs": [
    {
     "name": "stdout",
     "output_type": "stream",
     "text": [
      "Longest string: yellow\n"
     ]
    }
   ],
   "source": [
    "#Q.46 Find the longest string in a list of strings.\n",
    "\n",
    "list = [\"blue\", \"green\", \"yellow\", \"red\", \"violet\"]\n",
    "longest_string = \"\"\n",
    "for s in list:\n",
    "    if len(s) > len(longest_string):\n",
    "        longest_string = s\n",
    "print(\"Longest string:\", longest_string)"
   ]
  },
  {
   "cell_type": "code",
   "execution_count": 100,
   "id": "0616b6df-c294-4fba-ac75-6dea34f0672e",
   "metadata": {},
   "outputs": [
    {
     "name": "stdout",
     "output_type": "stream",
     "text": [
      "Shortest_string: red\n"
     ]
    }
   ],
   "source": [
    "#Q.47 Find the shortest string in a list of strings.\n",
    "\n",
    "list = [\"blue\", \"green\", \"yellow\", \"red\", \"violet\"]\n",
    "shortest_string = list[0]\n",
    "for s in list:\n",
    "    if len(s) < len(shortest_string):\n",
    "        shortest_string = s\n",
    "print(\"Shortest_string:\", shortest_string)"
   ]
  },
  {
   "cell_type": "code",
   "execution_count": 101,
   "id": "a05a00cc-bf02-43f3-bfa9-182f5665582e",
   "metadata": {},
   "outputs": [
    {
     "name": "stdout",
     "output_type": "stream",
     "text": [
      "list of triangular_numbers: [1, 3, 6, 10, 15, 21, 28, 36, 45, 55]\n"
     ]
    }
   ],
   "source": [
    "#Q.48 Create a list of the first `n` triangular numbers\n",
    "\n",
    "n = 10\n",
    "triangular_numbers = [(i * (i + 1)) // 2 for i in range(1, n + 1)]\n",
    "print(\"list of triangular_numbers:\", triangular_numbers)\n"
   ]
  },
  {
   "cell_type": "code",
   "execution_count": 102,
   "id": "0511709a-4ea3-40a7-a0e9-0739b21266db",
   "metadata": {},
   "outputs": [
    {
     "name": "stdout",
     "output_type": "stream",
     "text": [
      "True\n"
     ]
    }
   ],
   "source": [
    "#Q.49 Check if a list contains another list as a subsequence\n",
    "\n",
    "sequence = [1, 2, 3, 4, 5, 6, 7]\n",
    "subsequence = [2, 4, 6]\n",
    "\n",
    "sub_len = len(subsequence)\n",
    "seq_len = len(sequence)\n",
    "i = j = 0\n",
    "\n",
    "while i < sub_len and j < seq_len:\n",
    "    if subsequence[i] == sequence[j]:\n",
    "        i += 1\n",
    "    j += 1\n",
    "\n",
    "if i == sub_len:\n",
    "    print(True)  # subsequence is found in the sequence\n",
    "else:\n",
    "    print(False)  # subsequence is not found in the sequence\n"
   ]
  },
  {
   "cell_type": "code",
   "execution_count": 103,
   "id": "0a24f246-d1c6-4cc3-b395-113d57cda6a0",
   "metadata": {},
   "outputs": [
    {
     "name": "stdin",
     "output_type": "stream",
     "text": [
      "Enter the first index:  2\n",
      "Enter the second index:  4\n"
     ]
    },
    {
     "name": "stdout",
     "output_type": "stream",
     "text": [
      "[10, 20, 50, 40, 30]\n"
     ]
    }
   ],
   "source": [
    "#Q.50 Swap two elements in a list by their indices\n",
    "\n",
    "list1 = [10,20,30,40,50]\n",
    "\n",
    "index1 = int(input(\"Enter the first index: \")) \n",
    "index2 = int(input(\"Enter the second index: \")) \n",
    "\n",
    "temp = list1[index1]\n",
    "list1[index1] = list1[index2]\n",
    "list1[index2] = temp\n",
    "\n",
    "# Print the list after the swap\n",
    "print(list1)"
   ]
  },
  {
   "cell_type": "code",
   "execution_count": null,
   "id": "301fa70c-20b8-4545-b5d1-584efd2ade58",
   "metadata": {},
   "outputs": [],
   "source": []
  },
  {
   "cell_type": "code",
   "execution_count": null,
   "id": "e27cefb5-8263-4a63-8f41-b2808d3aa6bd",
   "metadata": {},
   "outputs": [],
   "source": []
  },
  {
   "cell_type": "markdown",
   "id": "6ed3456e-e315-4201-a24d-bed97c5d48e6",
   "metadata": {},
   "source": [
    "Tuple Based Practice Problem :"
   ]
  },
  {
   "cell_type": "code",
   "execution_count": null,
   "id": "82980783-8051-49bf-a027-d25ac1ade878",
   "metadata": {},
   "outputs": [],
   "source": []
  },
  {
   "cell_type": "code",
   "execution_count": 104,
   "id": "3e4b6eb2-47db-4420-9bca-a96d50d2b950",
   "metadata": {},
   "outputs": [
    {
     "name": "stdout",
     "output_type": "stream",
     "text": [
      "(1, 2, 3, 4, 5)\n"
     ]
    }
   ],
   "source": [
    "#Q.1 Create a tuple with integers from 1 to 5.\n",
    "\n",
    "l=[]\n",
    "for i in range(1,6):\n",
    "    l.append(i)\n",
    "l=tuple(l)\n",
    "print(l)"
   ]
  },
  {
   "cell_type": "code",
   "execution_count": 105,
   "id": "699bc31d-a212-4e52-9dab-994059bb638c",
   "metadata": {},
   "outputs": [
    {
     "name": "stdout",
     "output_type": "stream",
     "text": [
      "The third element of the tuple is: 3\n"
     ]
    }
   ],
   "source": [
    "#Q.2 Access the third element of a tuple.\n",
    "\n",
    "t1=(1,2,3,4,5,6)\n",
    "third_element= t1[2]\n",
    "print(\"The third element of the tuple is:\", third_element)"
   ]
  },
  {
   "cell_type": "code",
   "execution_count": 106,
   "id": "edfcabba-e82f-46a5-bad3-c6afb6ab07c8",
   "metadata": {},
   "outputs": [
    {
     "name": "stdout",
     "output_type": "stream",
     "text": [
      "The length of the tuple is: 5\n"
     ]
    }
   ],
   "source": [
    "#Q.3 Find the length of a tuple without using the `len()` function.\n",
    "\n",
    "t1 = (10, 20, 30, 40, 50)\n",
    "count = 0\n",
    "for i in t1:\n",
    "    count += 1\n",
    "print(\"The length of the tuple is:\", count)"
   ]
  },
  {
   "cell_type": "code",
   "execution_count": 107,
   "id": "fdd4fbb4-25d3-43ef-9fbe-fe0df9aea300",
   "metadata": {},
   "outputs": [
    {
     "name": "stdout",
     "output_type": "stream",
     "text": [
      "The element 2 appears 4 times in the tuple.\n"
     ]
    }
   ],
   "source": [
    "#Q.4 Count the occurrences of an element in a tuple\n",
    "\n",
    "t1 = (1, 2, 2, 3, 4, 2, 5, 2)\n",
    "\n",
    "element = 2\n",
    "count = t1.count(element)\n",
    "\n",
    "print(f\"The element {element} appears {count} times in the tuple.\")"
   ]
  },
  {
   "cell_type": "code",
   "execution_count": 108,
   "id": "1022abd1-2596-4652-85e3-c817f6bd92d8",
   "metadata": {},
   "outputs": [
    {
     "name": "stdout",
     "output_type": "stream",
     "text": [
      "Index of the first occurrence:  1\n"
     ]
    }
   ],
   "source": [
    "#Q.5 Find the index of the first occurrence of an element in a tuple.\n",
    "\n",
    "t1 = (1, 2, 2, 3, 4, 2, 5, 2)\n",
    "element = 2\n",
    "index = t1.index(element)\n",
    "print(\"Index of the first occurrence: \",index)"
   ]
  },
  {
   "cell_type": "code",
   "execution_count": 109,
   "id": "a506aada-b9e1-4923-9255-bc53c137f9f9",
   "metadata": {},
   "outputs": [
    {
     "name": "stdout",
     "output_type": "stream",
     "text": [
      "Element exists in the tuple.\n"
     ]
    }
   ],
   "source": [
    "#Q.6 Check if an element exists in a tuple\n",
    "\n",
    "t1 = (10,20,30,40,50,60)\n",
    "element = 30\n",
    "\n",
    "if element in t1:\n",
    "    print( \"Element exists in the tuple.\")\n",
    "else:\n",
    "    print(\"Element exists in the tuple.\")"
   ]
  },
  {
   "cell_type": "code",
   "execution_count": 113,
   "id": "1bb43680-1f20-4b86-9d29-f7d734d3c9de",
   "metadata": {},
   "outputs": [
    {
     "name": "stdout",
     "output_type": "stream",
     "text": [
      "Tuple: (10, 20, 30, 40, 50, 60)\n",
      "List: []\n"
     ]
    }
   ],
   "source": [
    "#Q.7 Convert a tuple to a list.\n",
    "\n",
    "\n",
    "t1 = (10,20,30,40,50,60)\n",
    "l1 = list(t1)\n",
    "print(\"Tuple:\",t1)\n",
    "print(\"List:\",l1)"
   ]
  },
  {
   "cell_type": "code",
   "execution_count": 112,
   "id": "fb4c768a-6f75-4c8f-9e65-63fa2112d018",
   "metadata": {},
   "outputs": [
    {
     "name": "stdout",
     "output_type": "stream",
     "text": [
      "List: [10, 20, 30, 40, 50, 60]\n",
      "Tuple: (10, 20, 30, 40, 50, 60)\n"
     ]
    }
   ],
   "source": [
    "#Q.8 Convert a list to a tuple\n",
    "\n",
    "l1 = [10,20,30,40,50,60]\n",
    "t1 = tuple(l1)\n",
    "\n",
    "print(\"List:\",l1)\n",
    "print(\"Tuple:\",t1)"
   ]
  },
  {
   "cell_type": "code",
   "execution_count": 116,
   "id": "42786100-733a-4988-a496-7ae90f3bc30c",
   "metadata": {},
   "outputs": [
    {
     "name": "stdout",
     "output_type": "stream",
     "text": [
      "var1: 10\n",
      "var2: 20\n",
      "var3: 30\n"
     ]
    }
   ],
   "source": [
    "#Q.9 Unpack the elements of a tuple into variables\n",
    "\n",
    "t1 = (10, 20, 30)\n",
    "a,b,c = t1\n",
    "\n",
    "print(\"var1:\", a)\n",
    "print(\"var2:\", b)\n",
    "print(\"var3:\", c)"
   ]
  },
  {
   "cell_type": "code",
   "execution_count": 117,
   "id": "886531b9-ec8e-44af-9c2c-7c44eccd808d",
   "metadata": {},
   "outputs": [
    {
     "name": "stdout",
     "output_type": "stream",
     "text": [
      "Tuple of even numbers: (2, 4, 6, 8, 10)\n"
     ]
    }
   ],
   "source": [
    "#Q.10 Create a tuple of even numbers from 1 to 10\n",
    "\n",
    "l1 = [item for item in range(2, 11, 2)]\n",
    "t1 = tuple(l1)\n",
    "print(\"Tuple of even numbers:\", t1)"
   ]
  },
  {
   "cell_type": "code",
   "execution_count": 118,
   "id": "c4536d5b-1eac-4165-b38a-9c9555ecc027",
   "metadata": {},
   "outputs": [
    {
     "name": "stdout",
     "output_type": "stream",
     "text": [
      "Tuple of odd numbers: (1, 3, 5, 7, 9)\n"
     ]
    }
   ],
   "source": [
    "#Q.11 Create a tuple of odd numbers from 1 to 10.\n",
    "\n",
    "l1 = [item for item in range(1, 11, 2)]\n",
    "t1 = tuple(l1)\n",
    "print(\"Tuple of odd numbers:\", t1)"
   ]
  },
  {
   "cell_type": "code",
   "execution_count": 119,
   "id": "1de6d231-7f43-4f8d-baac-afce343afc69",
   "metadata": {},
   "outputs": [
    {
     "name": "stdout",
     "output_type": "stream",
     "text": [
      "Concatenated tuple: (1, 2, 3, 4, 5, 6)\n"
     ]
    }
   ],
   "source": [
    "#Q.12 Concatenate two tuples\n",
    "\n",
    "t1 = (1, 2, 3)\n",
    "t2 = (4, 5, 6)\n",
    "t = t1 + t2\n",
    "\n",
    "print(\"Concatenated tuple:\", t)"
   ]
  },
  {
   "cell_type": "code",
   "execution_count": 120,
   "id": "901a0c53-480e-42b9-a909-d5797de84b12",
   "metadata": {},
   "outputs": [
    {
     "name": "stdout",
     "output_type": "stream",
     "text": [
      "Repeated tuple: (1, 2, 3, 1, 2, 3, 1, 2, 3)\n"
     ]
    }
   ],
   "source": [
    "#Q.13 Repeat a tuple three times.\n",
    "\n",
    "t1 = (1, 2, 3)\n",
    "new = t1 * 3\n",
    "print(\"Repeated tuple:\", new)"
   ]
  },
  {
   "cell_type": "code",
   "execution_count": 121,
   "id": "85c4298a-405b-4716-a4a4-35057aeeb15a",
   "metadata": {},
   "outputs": [
    {
     "name": "stdout",
     "output_type": "stream",
     "text": [
      "The tuple is empty.\n"
     ]
    }
   ],
   "source": [
    "#Q.14 Check if a tuple is empty.\n",
    "\n",
    "empty_tuple = ()\n",
    "# Check if the tuple is empty\n",
    "if len(empty_tuple) == 0:\n",
    "    print(\"The tuple is empty.\")\n",
    "else:\n",
    "    print(\"The tuple is not empty.\")\n"
   ]
  },
  {
   "cell_type": "code",
   "execution_count": 122,
   "id": "cd895b5c-3439-4852-91ee-e696e1b0319e",
   "metadata": {},
   "outputs": [
    {
     "name": "stdout",
     "output_type": "stream",
     "text": [
      "Nested tuple: ((10, 20, 30), ('A', 'B', 'C'), (True, False))\n"
     ]
    }
   ],
   "source": [
    "#Q.15 Create a nested tuple.\n",
    "\n",
    "nested = ((10,20,30), ('A', 'B', 'C'), (True, False))\n",
    "print(\"Nested tuple:\", nested)"
   ]
  },
  {
   "cell_type": "code",
   "execution_count": 123,
   "id": "5a915fcf-8a70-4813-99f8-a21eff6d070b",
   "metadata": {},
   "outputs": [
    {
     "name": "stdout",
     "output_type": "stream",
     "text": [
      "First element of the nested tuple: (10, 20, 30)\n"
     ]
    }
   ],
   "source": [
    "#Q.16 Access the first element of a nested tuple\n",
    "\n",
    "nested = ((10,20,30), ('A', 'B', 'C'), (True, False))\n",
    "first_element = nested[0]\n",
    "print(\"First element of the nested tuple:\", first_element)"
   ]
  },
  {
   "cell_type": "code",
   "execution_count": 124,
   "id": "8f67ddd3-6444-450c-b82a-c5e23e4fc75c",
   "metadata": {},
   "outputs": [
    {
     "name": "stdout",
     "output_type": "stream",
     "text": [
      "Single element tuple: (42,)\n"
     ]
    }
   ],
   "source": [
    "#Q.17 Create a tuple with a single element\n",
    "\n",
    "single = (42,)\n",
    "print(\"Single element tuple:\", single)"
   ]
  },
  {
   "cell_type": "code",
   "execution_count": 125,
   "id": "7a7a752d-207d-4ed9-bcaf-4c0a42a68ae3",
   "metadata": {},
   "outputs": [
    {
     "name": "stdout",
     "output_type": "stream",
     "text": [
      "tuple1 == tuple2: False\n",
      "tuple1 != tuple2: True\n",
      "tuple1 < tuple2: True\n",
      "tuple1 <= tuple2: True\n",
      "tuple1 > tuple2: False\n",
      "tuple1 >= tuple2: False\n"
     ]
    }
   ],
   "source": [
    "#Q.18 Compare two tuples.\n",
    "\n",
    "t1 = (10,20,30)\n",
    "t2 = (10,30,40)\n",
    "\n",
    "print(\"tuple1 == tuple2:\", t1 == t2)  # Equality check\n",
    "print(\"tuple1 != tuple2:\", t1 != t2)  # Inequality check\n",
    "print(\"tuple1 < tuple2:\", t1 < t2)    # Less than check\n",
    "print(\"tuple1 <= tuple2:\", t1 <= t2)  # Less than or equal to check\n",
    "print(\"tuple1 > tuple2:\", t1 > t2)    # Greater than check\n",
    "print(\"tuple1 >= tuple2:\", t1 >= t2)  # Greater than or equal to check"
   ]
  },
  {
   "cell_type": "code",
   "execution_count": 126,
   "id": "1e909595-ea02-413c-a9f6-46add828dab3",
   "metadata": {},
   "outputs": [
    {
     "ename": "NameError",
     "evalue": "name 't1' is not defined",
     "output_type": "error",
     "traceback": [
      "\u001b[0;31m---------------------------------------------------------------------------\u001b[0m",
      "\u001b[0;31mNameError\u001b[0m                                 Traceback (most recent call last)",
      "Cell \u001b[0;32mIn[126], line 5\u001b[0m\n\u001b[1;32m      3\u001b[0m t1 \u001b[38;5;241m=\u001b[39m (\u001b[38;5;241m10\u001b[39m,\u001b[38;5;241m20\u001b[39m,\u001b[38;5;241m30\u001b[39m)\n\u001b[1;32m      4\u001b[0m \u001b[38;5;28;01mdel\u001b[39;00m t1\n\u001b[0;32m----> 5\u001b[0m \u001b[38;5;28mprint\u001b[39m(\u001b[43mt1\u001b[49m) \u001b[38;5;66;03m#Try to access the tuple (will raise a NameError)\u001b[39;00m\n",
      "\u001b[0;31mNameError\u001b[0m: name 't1' is not defined"
     ]
    }
   ],
   "source": [
    "#Q.19 Delete a tuple.\n",
    "\n",
    "t1 = (10,20,30)\n",
    "del t1\n",
    "print(t1) #Try to access the tuple (will raise a NameError)"
   ]
  },
  {
   "cell_type": "code",
   "execution_count": 127,
   "id": "7b4565bb-f23e-40cb-b66b-e68eb89f8005",
   "metadata": {},
   "outputs": [
    {
     "name": "stdout",
     "output_type": "stream",
     "text": [
      "Sliced tuple: (40, 50, 60, 70, 80)\n"
     ]
    }
   ],
   "source": [
    "#Q.20 Slice a tuple. \n",
    "\n",
    "t1 = (10,20,30,40,50,60,70,80,90,100)\n",
    "sliced=t1[3:8]\n",
    "print(\"Sliced tuple:\", sliced)"
   ]
  },
  {
   "cell_type": "code",
   "execution_count": 128,
   "id": "f48715db-fc5e-477b-bade-db1e353bde0b",
   "metadata": {},
   "outputs": [
    {
     "name": "stdout",
     "output_type": "stream",
     "text": [
      "Max value of the tuple: 100\n"
     ]
    }
   ],
   "source": [
    "#Q.21 Find the maximum value in a tuple.\n",
    "\n",
    "t1 = (10,20,30,40,50,60,70,80,90,100)\n",
    "max_value = max(t1)\n",
    "print(\"Max value of the tuple:\", max_value)\n"
   ]
  },
  {
   "cell_type": "code",
   "execution_count": 130,
   "id": "aca10fe1-df53-4f9b-a765-07f9f1dcb1d2",
   "metadata": {},
   "outputs": [
    {
     "name": "stdout",
     "output_type": "stream",
     "text": [
      "Min value of the tuple: 10\n"
     ]
    }
   ],
   "source": [
    "#Q.22 Find the minimum value in a tuple\n",
    "\n",
    "t1 = (10,20,30,40,50,60,70,80,90,100)\n",
    "min_value = min(t1)\n",
    "print(\"Min value of the tuple:\", min_value)"
   ]
  },
  {
   "cell_type": "code",
   "execution_count": null,
   "id": "85e344b1-cb35-4c55-8280-a02bcd752272",
   "metadata": {},
   "outputs": [],
   "source": [
    "#Q.23 Convert a string to a tuple of characters.\n",
    "\n",
    "strring= \" Online class\"\n",
    "characters = tuple(string)\n",
    "print(\"Tuple of characters:\", characters)"
   ]
  },
  {
   "cell_type": "code",
   "execution_count": 132,
   "id": "a274a830-6999-41c2-9fe9-25a30e0662ba",
   "metadata": {},
   "outputs": [
    {
     "name": "stdout",
     "output_type": "stream",
     "text": [
      "String from tuple: Online class\n"
     ]
    }
   ],
   "source": [
    "#Q.24 Convert a tuple of characters to a string.\n",
    "\n",
    "characters = ['O','n','l','i','n','e', ' ' , 'c','l','a','s','s']\n",
    "tuple1 = ''.join(characters)\n",
    "print(\"String from tuple:\", tuple1)"
   ]
  },
  {
   "cell_type": "code",
   "execution_count": 134,
   "id": "a317cafe-d085-4aab-8f17-1130c14e3bfb",
   "metadata": {},
   "outputs": [
    {
     "name": "stdout",
     "output_type": "stream",
     "text": [
      "Multiple data types tuple:  (1, 2, 'Animesh', 'samanta', 2.5, True)\n"
     ]
    }
   ],
   "source": [
    "#Q.25 Create a tuple from multiple data types.\n",
    "\n",
    "mixed = (1,2,\"Animesh\",'samanta',2.5,True)\n",
    "print(\"Multiple data types tuple: \",mixed)\n"
   ]
  },
  {
   "cell_type": "code",
   "execution_count": 135,
   "id": "2da3fa64-a7e4-42e1-bb5b-c853d05b41d7",
   "metadata": {},
   "outputs": [
    {
     "name": "stdout",
     "output_type": "stream",
     "text": [
      "Tuples are not identical\n"
     ]
    }
   ],
   "source": [
    "#Q.26 Check if two tuples are identical\n",
    "\n",
    "t1 = (10,20,30)\n",
    "t2 = (10,30,40)\n",
    "if t1==t2:\n",
    "    print(\"Tuples are identical\")\n",
    "else:\n",
    "    print(\"Tuples are not identical\")"
   ]
  },
  {
   "cell_type": "code",
   "execution_count": 136,
   "id": "6c0bbc9e-452d-456d-825f-12c118b3d946",
   "metadata": {},
   "outputs": [
    {
     "name": "stdout",
     "output_type": "stream",
     "text": [
      "Sorted tuple is : (10, 20, 30, 40, 50, 70)\n"
     ]
    }
   ],
   "source": [
    "#Q.27 Sort the elements of a tuple\n",
    "\n",
    "t1 = (10,40,20,70,30,50)\n",
    "sorted_tuple = tuple(sorted(t1))\n",
    "print(\"Sorted tuple is :\", sorted_tuple)"
   ]
  },
  {
   "cell_type": "code",
   "execution_count": 137,
   "id": "f08808b3-6264-45b3-b43e-5401d5b3ec01",
   "metadata": {},
   "outputs": [
    {
     "name": "stdout",
     "output_type": "stream",
     "text": [
      "Tuple of strings: ('10', '40', '20', '70', '30', '50')\n"
     ]
    }
   ],
   "source": [
    "#Q.28 Convert a tuple of integers to a tuple of strings\n",
    "\n",
    "t1 = (10,40,20,70,30,50)\n",
    "tuple_of_strings = tuple(str(item) for item in t1)\n",
    "print(\"Tuple of strings:\", tuple_of_strings)"
   ]
  },
  {
   "cell_type": "code",
   "execution_count": 138,
   "id": "3833fdc8-4e6a-4ab4-b206-a9a2ee2d3b84",
   "metadata": {},
   "outputs": [
    {
     "name": "stdout",
     "output_type": "stream",
     "text": [
      "Tuple of integers: (10, 40, 20, 70, 30, 50)\n"
     ]
    }
   ],
   "source": [
    "#Q.29 Convert a tuple of strings to a tuple of integers\n",
    "\n",
    "t1 = ('10','40','20','70','30','50')\n",
    "tuple_of_integers = tuple(int(item) for item in t1)\n",
    "print(\"Tuple of integers:\", tuple_of_integers)"
   ]
  },
  {
   "cell_type": "code",
   "execution_count": 139,
   "id": "3fd230e4-6d56-430b-88c0-64eea7871958",
   "metadata": {},
   "outputs": [
    {
     "name": "stdout",
     "output_type": "stream",
     "text": [
      "Merged tuple: (10, 20, 30, 10, 30, 40)\n"
     ]
    }
   ],
   "source": [
    "#Q.30 Merge two tuples.\n",
    "\n",
    "t1 = (10,20,30)\n",
    "t2 = (10,30,40)\n",
    "merged = t1+t2\n",
    "print(\"Merged tuple:\", merged)"
   ]
  },
  {
   "cell_type": "code",
   "execution_count": 140,
   "id": "906e885d-334d-4519-b938-55d00267956b",
   "metadata": {},
   "outputs": [
    {
     "name": "stdout",
     "output_type": "stream",
     "text": [
      "(1, 2, 3, 4, 5, 6, 7)\n"
     ]
    }
   ],
   "source": [
    "#Q.31 Flatten a nested tuple.\n",
    "\n",
    "def flatten_nested_tuple(nested_tuple):\n",
    "    flat_tuple = ()\n",
    "    for item in nested_tuple:\n",
    "        if isinstance(item, tuple):\n",
    "            flat_tuple += flatten_nested_tuple(item)\n",
    "        else:\n",
    "            flat_tuple += (item,)\n",
    "    return flat_tuple\n",
    "\n",
    "\n",
    "nested_tuple = (1, (2, 3), (4, (5, 6)), 7)\n",
    "flat_result = flatten_nested_tuple(nested_tuple)\n",
    "print(flat_result)\n"
   ]
  },
  {
   "cell_type": "code",
   "execution_count": 141,
   "id": "0b0cd38c-db09-4760-a987-f5759a5d7d2f",
   "metadata": {},
   "outputs": [
    {
     "name": "stdout",
     "output_type": "stream",
     "text": [
      "(2, 3, 5, 7, 11)\n"
     ]
    }
   ],
   "source": [
    "#Q.32 Create a tuple of the first 5 prime numbers.\n",
    "\n",
    "def is_prime(num):\n",
    "    if num <= 1:\n",
    "        return False\n",
    "    for i in range(2, int(num ** 0.5) + 1):\n",
    "        if num % i == 0:\n",
    "            return False\n",
    "    return True\n",
    "\n",
    "prime_numbers = []\n",
    "num = 2\n",
    "while len(prime_numbers) < 5:\n",
    "    if is_prime(num):\n",
    "        prime_numbers.append(num)\n",
    "    num += 1\n",
    "\n",
    "prime_tuple = tuple(prime_numbers)\n",
    "\n",
    "print(prime_tuple)"
   ]
  },
  {
   "cell_type": "code",
   "execution_count": 142,
   "id": "cc02f955-53d7-4689-867a-98374049e6f2",
   "metadata": {},
   "outputs": [
    {
     "name": "stdout",
     "output_type": "stream",
     "text": [
      "The tuple is a palindrome.\n"
     ]
    }
   ],
   "source": [
    "#Q.33 Check if a tuple is a palindrome.\n",
    "\n",
    "t1 = (1, 2, 3, 2, 1)\n",
    "# Check if the tuple is a palindrome\n",
    "if t1 == t1[::-1]:\n",
    "    print(\"The tuple is a palindrome.\")\n",
    "else:\n",
    "    print(\"The tuple is not a palindrome.\")\n"
   ]
  },
  {
   "cell_type": "code",
   "execution_count": 143,
   "id": "caa63e3c-156c-48e4-9cca-31f028b2587e",
   "metadata": {},
   "outputs": [
    {
     "name": "stdout",
     "output_type": "stream",
     "text": [
      "Tuple of squares: (1, 4, 9, 16, 25)\n"
     ]
    }
   ],
   "source": [
    "#Q.34 Create a tuple of squares of numbers from 1 to 5.\n",
    "\n",
    "square = tuple(x ** 2 for x in range(1, 6))\n",
    "print(\"Tuple of squares:\", square)"
   ]
  },
  {
   "cell_type": "code",
   "execution_count": 144,
   "id": "1ed6b7a1-7265-497d-9d3c-d23e69807f52",
   "metadata": {},
   "outputs": [
    {
     "name": "stdout",
     "output_type": "stream",
     "text": [
      " Filter out all Even numbers of tuple:  (23, 33, 55)\n"
     ]
    }
   ],
   "source": [
    "#Q.35 Filter out all even numbers from a tuple\n",
    "\n",
    "t1 = (10,23,33,40,44,60,56,80,90,55)\n",
    "even = tuple(num for num in t1 if num % 2 != 0)\n",
    "print(\" Filter out all Even numbers of tuple: \",even)"
   ]
  },
  {
   "cell_type": "code",
   "execution_count": 145,
   "id": "c0e312d9-0c10-40bd-83bb-0beddb17d60a",
   "metadata": {},
   "outputs": [
    {
     "name": "stdout",
     "output_type": "stream",
     "text": [
      "  Multiply all elements in a tuple by 2:  (20, 46, 66, 80, 88, 120, 112, 160, 180, 110)\n"
     ]
    }
   ],
   "source": [
    "#Q.36 Multiply all elements in a tuple by 2.\n",
    "\n",
    "t1 = (10,23,33,40,44,60,56,80,90,55)\n",
    "multy = tuple(num*2 for num in t1 )\n",
    "print(\"  Multiply all elements in a tuple by 2: \",multy)"
   ]
  },
  {
   "cell_type": "code",
   "execution_count": 146,
   "id": "e20bf106-9002-4641-869e-2f77e774a3e9",
   "metadata": {},
   "outputs": [
    {
     "name": "stdout",
     "output_type": "stream",
     "text": [
      "Random tuple is: (11, 60, 44, 27, 65, 18, 52, 23, 54, 54)\n"
     ]
    }
   ],
   "source": [
    "#Q.37 Create a tuple of random numbers\n",
    "\n",
    "import random\n",
    "random_tuple = tuple(random.randint(1, 100) for i in range(10))\n",
    "print(\"Random tuple is:\", random_tuple)"
   ]
  },
  {
   "cell_type": "code",
   "execution_count": 147,
   "id": "f9688b1f-ed44-472e-bedb-9864d5fd6d87",
   "metadata": {},
   "outputs": [
    {
     "name": "stdout",
     "output_type": "stream",
     "text": [
      "The tuple is sorted.\n"
     ]
    }
   ],
   "source": [
    "#Q.38 Check if a tuple is sorted.\n",
    "\n",
    "t1 = (1, 2, 3, 4, 5)\n",
    "if t1 == tuple(sorted(t1)):\n",
    "    print(\"The tuple is sorted.\")\n",
    "else:\n",
    "    print(\"The tuple is not sorted.\")"
   ]
  },
  {
   "cell_type": "code",
   "execution_count": 148,
   "id": "d4b8adad-58bf-4b84-96ea-ea52a8a8f043",
   "metadata": {},
   "outputs": [
    {
     "name": "stdout",
     "output_type": "stream",
     "text": [
      "(3, 4, 5, 1, 2)\n"
     ]
    }
   ],
   "source": [
    "#Q.39 Rotate a tuple to the left by `n` positions\n",
    "\n",
    "original_tuple = (1, 2, 3, 4, 5)\n",
    "n = 2  # Rotate left by 2 positions\n",
    "n = n % len(original_tuple)  # Ensure n is within the length of the list\n",
    "rotated_tuple = original_tuple[n:] + original_tuple[:n]\n",
    "print(rotated_tuple)"
   ]
  },
  {
   "cell_type": "code",
   "execution_count": 149,
   "id": "e430306f-ce02-4b80-a736-f35460456247",
   "metadata": {},
   "outputs": [
    {
     "name": "stdout",
     "output_type": "stream",
     "text": [
      "(4, 5, 1, 2, 3)\n"
     ]
    }
   ],
   "source": [
    "#Q40 Rotate a tuple to the right by `n` positions\n",
    "\n",
    "original_tuple = (1, 2, 3, 4, 5)\n",
    "n = 2  # Rotate right by 2 positions\n",
    "n = n % len(original_tuple)  # Ensure n is within the length of the list\n",
    "rotated_tuple = original_tuple[-n:] + original_tuple[:-n]\n",
    "print(rotated_tuple)"
   ]
  },
  {
   "cell_type": "code",
   "execution_count": 150,
   "id": "2004facd-771f-42b7-bdf7-cf33f948fdfc",
   "metadata": {},
   "outputs": [
    {
     "name": "stdout",
     "output_type": "stream",
     "text": [
      "Fibonacci Series: (0, 1, 1, 2, 3)\n"
     ]
    }
   ],
   "source": [
    "#Q41 Create a tuple of the first 5 Fibonacci numbers\n",
    "\n",
    "num=5\n",
    "n1, n2 = 0, 1\n",
    "l=[0,1]\n",
    "for i in range(2, num):\n",
    "    n3 = n1 + n2\n",
    "    n1 = n2\n",
    "    n2 = n3\n",
    "    l.append(n3)\n",
    "print(\"Fibonacci Series:\",tuple(l))"
   ]
  },
  {
   "cell_type": "code",
   "execution_count": null,
   "id": "ef419d3b-656f-498c-b08a-50c4005496b3",
   "metadata": {},
   "outputs": [],
   "source": []
  },
  {
   "cell_type": "code",
   "execution_count": 151,
   "id": "c4b92133-a4bf-491e-b1a5-e8fbd75357e5",
   "metadata": {},
   "outputs": [
    {
     "name": "stdin",
     "output_type": "stream",
     "text": [
      "Enter elements separated by commas:   He,is,a,boy\n"
     ]
    },
    {
     "name": "stdout",
     "output_type": "stream",
     "text": [
      "User input tuple is: (' He', 'is', 'a', 'boy')\n"
     ]
    }
   ],
   "source": [
    "#Q42 Create a tuple from user input.\n",
    "\n",
    "x = input(\"Enter elements separated by commas: \")\n",
    "list1 = x.split(',')\n",
    "tuple1 = tuple(list1)\n",
    "print(\"User input tuple is:\", tuple1)"
   ]
  },
  {
   "cell_type": "code",
   "execution_count": null,
   "id": "02ad178b-fd65-4fe4-b5a7-666347c055e8",
   "metadata": {},
   "outputs": [],
   "source": [
    "#Q43 Swap two elements in a tuple.\n",
    "\n",
    "tuple1 = (10,20,30,40,50)\n",
    "tuple1 = list(tuple1)\n",
    "index1 = int(input(\"Enter the first index: \")) \n",
    "index2 = int(input(\"Enter the second index: \")) \n",
    "\n",
    "temp = tuple1[index1]\n",
    "tuple1[index1] = tuple1[index2]\n",
    "tuple1[index2] = temp\n",
    "tuple1=tuple(tuple1)\n",
    "# Print the list after the swap\n",
    "print(tuple1)"
   ]
  },
  {
   "cell_type": "code",
   "execution_count": 154,
   "id": "4d29b9a5-b655-4f4d-9882-7b5430b87e2d",
   "metadata": {},
   "outputs": [
    {
     "name": "stdout",
     "output_type": "stream",
     "text": [
      "Reversed tuple is:  (5, 4, 3, 2, 1)\n"
     ]
    }
   ],
   "source": [
    "#Q44 Reverse the elements of a tuple\n",
    "\n",
    "tuple1 = (1, 2, 3, 4, 5)\n",
    "reversed_tuple = tuple1[::-1]\n",
    "print(\"Reversed tuple is: \", reversed_tuple)"
   ]
  },
  {
   "cell_type": "code",
   "execution_count": 155,
   "id": "537af90c-4d87-4562-8ed8-9a9ad18f431c",
   "metadata": {},
   "outputs": [
    {
     "name": "stdout",
     "output_type": "stream",
     "text": [
      "Tuple of powers of 2: (1, 2, 4, 8, 16)\n"
     ]
    }
   ],
   "source": [
    "#Q45 Create a tuple of the first `n` powers of 2\n",
    "\n",
    "n = 5\n",
    "tuple1 = tuple(2 ** i for i in range(n))\n",
    "print(\"Tuple of powers of 2:\", tuple1)"
   ]
  },
  {
   "cell_type": "code",
   "execution_count": 156,
   "id": "62c395a3-5dbe-4f70-b05a-604d867567ac",
   "metadata": {},
   "outputs": [
    {
     "name": "stdout",
     "output_type": "stream",
     "text": [
      "Longest string: yellow\n"
     ]
    }
   ],
   "source": [
    "#Q46 Find the longest string in a tuple of strings.\n",
    "\n",
    "tuple1 = (\"blue\", \"green\", \"yellow\", \"red\", \"violet\")\n",
    "longest_string = \"\"\n",
    "for s in tuple1:\n",
    "    if len(s) > len(longest_string):\n",
    "        longest_string = s\n",
    "print(\"Longest string:\", longest_string)"
   ]
  },
  {
   "cell_type": "code",
   "execution_count": 157,
   "id": "706babcf-0b0f-4d1c-940f-194dde617858",
   "metadata": {},
   "outputs": [
    {
     "name": "stdout",
     "output_type": "stream",
     "text": [
      "Shortest_string: red\n"
     ]
    }
   ],
   "source": [
    "#Q47 Find the shortest string in a tuple of strings.\n",
    "\n",
    "\n",
    "tuple1 = (\"blue\", \"green\", \"yellow\", \"red\", \"violet\")\n",
    "shortest_string = list[0]\n",
    "for s in tuple1:\n",
    "    if len(s) < len(shortest_string):\n",
    "        shortest_string = s\n",
    "print(\"Shortest_string:\", shortest_string)"
   ]
  },
  {
   "cell_type": "code",
   "execution_count": 158,
   "id": "7542a9fc-759c-4754-8578-5ace39b6be8d",
   "metadata": {},
   "outputs": [
    {
     "name": "stdout",
     "output_type": "stream",
     "text": [
      "list of triangular_numbers: (1, 3, 6, 10, 15, 21, 28, 36, 45, 55)\n"
     ]
    }
   ],
   "source": [
    "#Q48 Create a tuple of the first `n` triangular numbers.\n",
    "\n",
    "n = 10\n",
    "triangular_numbers = [(i * (i + 1)) // 2 for i in range(1, n + 1)]\n",
    "print(\"list of triangular_numbers:\", tuple(triangular_numbers))"
   ]
  },
  {
   "cell_type": "code",
   "execution_count": 159,
   "id": "afcf259e-9405-479b-a695-de9a98b9ef3a",
   "metadata": {},
   "outputs": [
    {
     "name": "stdout",
     "output_type": "stream",
     "text": [
      "True\n"
     ]
    }
   ],
   "source": [
    "#Q49 Check if a tuple contains another tuple as a subsequence.\n",
    "\n",
    "sequence = (1, 2, 3, 4, 5, 6, 7)\n",
    "subsequence = (2, 4, 6)\n",
    "\n",
    "sub_len = len(subsequence)\n",
    "seq_len = len(sequence)\n",
    "i = j = 0\n",
    "\n",
    "while i < sub_len and j < seq_len:\n",
    "    if subsequence[i] == sequence[j]:\n",
    "        i += 1\n",
    "    j += 1\n",
    "\n",
    "if i == sub_len:\n",
    "    print(True)  # subsequence is found in the sequence\n",
    "else:\n",
    "    print(False)  # subsequence is not found in the sequence"
   ]
  },
  {
   "cell_type": "code",
   "execution_count": 160,
   "id": "ec1f3d34-6604-4324-b08b-834fcc36c879",
   "metadata": {},
   "outputs": [
    {
     "name": "stdout",
     "output_type": "stream",
     "text": [
      "Tuple of alternating 1s and 0s: (0, 1, 0, 1, 0, 1, 0, 1, 0, 1)\n"
     ]
    }
   ],
   "source": [
    "#Q50 Create a tuple of alternating 1s and 0s of length `n`.\n",
    "\n",
    "\n",
    "n = 10\n",
    "tuple1 = tuple(i % 2 for i in range(n))\n",
    "print(\"Tuple of alternating 1s and 0s:\", tuple1)"
   ]
  },
  {
   "cell_type": "code",
   "execution_count": null,
   "id": "f1f637bf-f05f-41a7-9831-9d1f93357651",
   "metadata": {},
   "outputs": [],
   "source": []
  },
  {
   "cell_type": "code",
   "execution_count": null,
   "id": "eebb376b-f40c-4413-ac33-14b0483b1656",
   "metadata": {},
   "outputs": [],
   "source": []
  },
  {
   "cell_type": "code",
   "execution_count": null,
   "id": "c1c6ce65-ab5b-4815-b366-182e71ab586d",
   "metadata": {},
   "outputs": [],
   "source": [
    "Set Based Practice Problem"
   ]
  },
  {
   "cell_type": "code",
   "execution_count": null,
   "id": "124a80ab-c3c0-4154-ba2c-3d4a20059f75",
   "metadata": {},
   "outputs": [],
   "source": []
  },
  {
   "cell_type": "code",
   "execution_count": 161,
   "id": "a44ec49e-eb1a-4ce5-8c8b-2c4689f0a800",
   "metadata": {},
   "outputs": [
    {
     "name": "stdout",
     "output_type": "stream",
     "text": [
      "{1, 2, 3, 4, 5}\n"
     ]
    }
   ],
   "source": [
    "#Q.1 Create a set with integers from 1 to 5.\n",
    "\n",
    "set1 = set()\n",
    "\n",
    "set1.add(1)\n",
    "set1.add(2)\n",
    "set1.add(3)\n",
    "set1.add(4)\n",
    "set1.add(5)\n",
    "\n",
    "print(set1)"
   ]
  },
  {
   "cell_type": "code",
   "execution_count": 163,
   "id": "82278351-ec49-4c0e-b869-349839922e53",
   "metadata": {},
   "outputs": [
    {
     "name": "stdout",
     "output_type": "stream",
     "text": [
      "Original set: {1, 2, 3, 4, 5}\n"
     ]
    },
    {
     "name": "stdin",
     "output_type": "stream",
     "text": [
      "Enter a element to add:  9\n"
     ]
    },
    {
     "name": "stdout",
     "output_type": "stream",
     "text": [
      "Set after adding element: {1, 2, 3, 4, 5, 9}\n"
     ]
    }
   ],
   "source": [
    "#Q.2 Add an element to a set\n",
    "\n",
    "set1 = {1, 2, 3, 4, 5}\n",
    "print(\"Original set:\", set1)\n",
    "element=int(input(\"Enter a element to add: \"))\n",
    "set1.add(element)\n",
    "print(\"Set after adding element:\", set1)"
   ]
  },
  {
   "cell_type": "code",
   "execution_count": 166,
   "id": "43ff0ff3-7ba8-4d45-8843-51141cc6bc0f",
   "metadata": {},
   "outputs": [
    {
     "name": "stdout",
     "output_type": "stream",
     "text": [
      "Original set: {1, 2, 3, 4, 5}\n"
     ]
    },
    {
     "name": "stdin",
     "output_type": "stream",
     "text": [
      "Enter a element to remove:  4\n"
     ]
    },
    {
     "name": "stdout",
     "output_type": "stream",
     "text": [
      "Set after adding element: {1, 2, 3, 5}\n"
     ]
    }
   ],
   "source": [
    "#Q.3 Remove an element from a set.\n",
    "\n",
    "set1 = {1, 2, 3, 4, 5}\n",
    "print(\"Original set:\", set1)\n",
    "element=int(input(\"Enter a element to remove: \"))\n",
    "\n",
    "set1.remove(element)\n",
    "print(\"Set after adding element:\", set1)"
   ]
  },
  {
   "cell_type": "code",
   "execution_count": 168,
   "id": "7c196d53-ad74-4747-8c77-0039f715ba06",
   "metadata": {},
   "outputs": [
    {
     "name": "stdin",
     "output_type": "stream",
     "text": [
      "Enter a element to check:  3\n"
     ]
    },
    {
     "name": "stdout",
     "output_type": "stream",
     "text": [
      "3 exists in the set.\n"
     ]
    }
   ],
   "source": [
    "#Q.4 Check if an element exists in a set.\n",
    "\n",
    "set1 = {1, 2, 3, 4, 5}\n",
    "element = int(input(\"Enter a element to check: \"))\n",
    "if element in set1:\n",
    "    print(f\"{element} exists in the set.\")\n",
    "else:\n",
    "    print(f\"{element} not exists in the set.\")"
   ]
  },
  {
   "cell_type": "code",
   "execution_count": 170,
   "id": "64d40df6-cedd-4447-9c8a-8365dcc346fb",
   "metadata": {},
   "outputs": [
    {
     "name": "stdout",
     "output_type": "stream",
     "text": [
      "Length of the set: 5\n"
     ]
    }
   ],
   "source": [
    "#Q.5 Find the length of a set without using the `len()` function.\n",
    "\n",
    "set1 = {1, 2, 3, 4, 5}\n",
    "count=0\n",
    "for i in set1:\n",
    "    count += 1\n",
    "print(\"Length of the set:\", count)"
   ]
  },
  {
   "cell_type": "code",
   "execution_count": 171,
   "id": "762c3beb-d460-4d44-805d-2476c8489a5f",
   "metadata": {},
   "outputs": [
    {
     "name": "stdout",
     "output_type": "stream",
     "text": [
      "Original set: {1, 2, 3, 4, 5}\n",
      "Set after cclearing element: set()\n"
     ]
    }
   ],
   "source": [
    "#Q.6 Clear all elements from a set\n",
    "\n",
    "set1 = {1, 2, 3, 4, 5}\n",
    "print(\"Original set:\", set1)\n",
    "set1.clear()\n",
    "print(\"Set after cclearing element:\", set1)"
   ]
  },
  {
   "cell_type": "code",
   "execution_count": 172,
   "id": "ce83cfe9-de17-4dac-bd42-d8b0e4ecc3d4",
   "metadata": {},
   "outputs": [
    {
     "name": "stdout",
     "output_type": "stream",
     "text": [
      "Even no of set is : {2, 4, 6, 8, 10}\n"
     ]
    }
   ],
   "source": [
    "#Q.7 Create a set of even numbers from 1 to 10.\n",
    "\n",
    "set1 = set()\n",
    "for i in range(1, 11):\n",
    "    if i % 2 == 0:\n",
    "        set1.add(i)\n",
    "print(\"Even no of set is :\",set1)"
   ]
  },
  {
   "cell_type": "code",
   "execution_count": 173,
   "id": "80c9c6d3-0220-4d0e-8bd2-3ecfd9bc5a76",
   "metadata": {},
   "outputs": [
    {
     "name": "stdout",
     "output_type": "stream",
     "text": [
      "ODD no of set is : {1, 3, 5, 7, 9}\n"
     ]
    }
   ],
   "source": [
    "#Q.8 Create a set of odd numbers from 1 to 10\n",
    "\n",
    "set1 = set()\n",
    "for i in range(1, 11):\n",
    "    if i % 2 != 0:\n",
    "        set1.add(i)\n",
    "print(\"ODD no of set is :\",set1)\n"
   ]
  },
  {
   "cell_type": "code",
   "execution_count": 174,
   "id": "f1677868-567a-4495-9d3a-98e4c407ac62",
   "metadata": {},
   "outputs": [
    {
     "name": "stdout",
     "output_type": "stream",
     "text": [
      "Set 1: {1, 2, 3, 4, 5}\n",
      "Set 2: {4, 5, 6, 7, 8}\n",
      "Union of Set 1 and Set 2: {1, 2, 3, 4, 5, 6, 7, 8}\n"
     ]
    }
   ],
   "source": [
    "#Q.9 Find the union of two sets.\n",
    "\n",
    "set1 = {1, 2, 3, 4, 5}\n",
    "set2 = {4, 5, 6, 7, 8}\n",
    "result = set1.union(set2)\n",
    "\n",
    "print(\"Set 1:\", set1)\n",
    "print(\"Set 2:\", set2)\n",
    "print(\"Union of Set 1 and Set 2:\", result)"
   ]
  },
  {
   "cell_type": "code",
   "execution_count": 175,
   "id": "8e641e08-fab5-47d1-a911-4d006d39416b",
   "metadata": {},
   "outputs": [
    {
     "name": "stdout",
     "output_type": "stream",
     "text": [
      "Set 1: {1, 2, 3, 4, 5}\n",
      "Set 2: {4, 5, 6, 7, 8}\n",
      "Intersection of Set 1 and Set 2: {4, 5}\n"
     ]
    }
   ],
   "source": [
    "#Q.10 Find the intersection of two sets.\n",
    "\n",
    "set1 = {1, 2, 3, 4, 5}\n",
    "set2 = {4, 5, 6, 7, 8}\n",
    "result = set1.intersection(set2)\n",
    "\n",
    "print(\"Set 1:\", set1)\n",
    "print(\"Set 2:\", set2)\n",
    "print(\"Intersection of Set 1 and Set 2:\", result)\n"
   ]
  },
  {
   "cell_type": "code",
   "execution_count": 176,
   "id": "83e226e4-9e54-4aa5-99ed-81b29168c4fe",
   "metadata": {},
   "outputs": [
    {
     "name": "stdout",
     "output_type": "stream",
     "text": [
      "Set 1: {1, 2, 3, 4, 5}\n",
      "Set 2: {4, 5, 6, 7, 8}\n",
      "Deference of Set 1 and Set 2: {1, 2, 3}\n"
     ]
    }
   ],
   "source": [
    "#Q.11 Find the difference between two sets\n",
    "\n",
    "set1 = {1, 2, 3, 4, 5}\n",
    "set2 = {4, 5, 6, 7, 8}\n",
    "result = set1.difference(set2)\n",
    "\n",
    "print(\"Set 1:\", set1)\n",
    "print(\"Set 2:\", set2)\n",
    "print(\"Deference of Set 1 and Set 2:\", result)"
   ]
  },
  {
   "cell_type": "code",
   "execution_count": 177,
   "id": "88968f8b-fc20-45b2-82a2-65ad21178a26",
   "metadata": {},
   "outputs": [
    {
     "name": "stdout",
     "output_type": "stream",
     "text": [
      "Is set1 a subset of set2: False\n"
     ]
    }
   ],
   "source": [
    "#Q.12 Check if a set is a subset of another set.\n",
    "\n",
    "set1 = {1, 2, 3, 4, 5,6,7,8,9,10}\n",
    "set2 = {1, 5, 7}\n",
    "subset = set1.issubset(set2)\n",
    "print(\"Is set1 a subset of set2:\", subset)"
   ]
  },
  {
   "cell_type": "code",
   "execution_count": 178,
   "id": "549312cc-779b-4fbf-94d5-2c1707a52c2a",
   "metadata": {},
   "outputs": [
    {
     "name": "stdout",
     "output_type": "stream",
     "text": [
      "Is set1 a subset of set2: True\n"
     ]
    }
   ],
   "source": [
    "#Q.13 Check if a set is a superset of another set\n",
    "\n",
    "set1 = {1, 2, 3, 4, 5,6,7,8,9,10}\n",
    "set2 = {1, 5, 7}\n",
    "superset = set1.issuperset(set2)\n",
    "print(\"Is set1 a subset of set2:\", superset)"
   ]
  },
  {
   "cell_type": "code",
   "execution_count": 179,
   "id": "438bdc69-6c75-4942-825c-63de9d8faefd",
   "metadata": {},
   "outputs": [
    {
     "name": "stdout",
     "output_type": "stream",
     "text": [
      "Original List: [1, 2, 3, 4, 5, 6, 7, 8, 9, 10]\n",
      "Set from List: {1, 2, 3, 4, 5, 6, 7, 8, 9, 10}\n"
     ]
    }
   ],
   "source": [
    "#Q.14 Create a set from a list.\n",
    "\n",
    "list1 = [1, 2, 3, 4, 5,6,7,8,9,10]\n",
    "set1 = set(list1)\n",
    "\n",
    "print(\"Original List:\", list1)\n",
    "print(\"Set from List:\", set1)"
   ]
  },
  {
   "cell_type": "code",
   "execution_count": null,
   "id": "3d2e8205-b629-4b15-a44d-5f3a33b365c2",
   "metadata": {},
   "outputs": [],
   "source": [
    "#Q.15 Convert a set to a list.\n",
    "\n",
    "set1 = {1, 2, 3, 4, 5,6,7,8,9,10}\n",
    "list1 = list(set1)\n",
    "\n",
    "print(\"Original set:\", set1)\n",
    "print(\"Set to List:\", list1)"
   ]
  },
  {
   "cell_type": "code",
   "execution_count": null,
   "id": "dc2012b2-74df-46d3-8105-0d31e3e7b301",
   "metadata": {},
   "outputs": [],
   "source": [
    "#Q.16 Remove a random element from a set\n",
    "\n",
    "import random \n",
    "set1 = {1, 2, 3, 4, 5}\n",
    "\n",
    "print(\"Original set:\", set1)\n",
    "element = random.choice(list(set1))\n",
    "\n",
    "set1.remove(element)\n",
    "\n",
    "print(\"New set after removing\", element, \":\",set1)"
   ]
  },
  {
   "cell_type": "code",
   "execution_count": 185,
   "id": "82722995-2ce9-4a58-bd1e-6ac22177c06e",
   "metadata": {},
   "outputs": [
    {
     "name": "stdout",
     "output_type": "stream",
     "text": [
      "Original set: {1, 2, 3, 4, 5}\n",
      "Popped element: 1\n",
      "Set after popping: {2, 3, 4, 5}\n"
     ]
    }
   ],
   "source": [
    "#Q.17 Pop an element from a set\n",
    "\n",
    "set1 = {1, 2, 3, 4, 5}\n",
    "\n",
    "print(\"Original set:\", set1)\n",
    "element = set1.pop()\n",
    "\n",
    "print(\"Popped element:\",element)\n",
    "print(\"Set after popping:\",set1)\n"
   ]
  },
  {
   "cell_type": "code",
   "execution_count": 186,
   "id": "e665bbd7-5057-4bc0-87d1-014601c7521d",
   "metadata": {},
   "outputs": [
    {
     "name": "stdout",
     "output_type": "stream",
     "text": [
      "The two sets have common elements: {4, 5}\n"
     ]
    }
   ],
   "source": [
    "#Q.18 Check if two sets have no elements in common.\n",
    "\n",
    "set1 = {1, 2, 3, 4, 5}\n",
    "set2 = {4, 5, 6, 7, 8}\n",
    "result = set1.intersection(set2)\n",
    "\n",
    "if not result:\n",
    "    print(\"The two sets have no common element.\")\n",
    "else:\n",
    "    print(\"The two sets have common elements:\", result)\n",
    "    "
   ]
  },
  {
   "cell_type": "code",
   "execution_count": 187,
   "id": "01ebd512-edce-48df-9f82-8ba4387853c6",
   "metadata": {},
   "outputs": [
    {
     "name": "stdout",
     "output_type": "stream",
     "text": [
      "Symmetric Difference: {1, 2, 3, 6, 7, 8}\n"
     ]
    }
   ],
   "source": [
    "#Q.19 Find the symmetric difference between two sets.\n",
    "\n",
    "set1 = {1, 2, 3, 4, 5}\n",
    "set2 = {4, 5, 6, 7, 8}\n",
    "difference = set1 ^ set2\n",
    "print(\"Symmetric Difference:\", difference)"
   ]
  },
  {
   "cell_type": "code",
   "execution_count": 188,
   "id": "cc31d323-b11d-4a23-a368-5b9ebceff3cb",
   "metadata": {},
   "outputs": [
    {
     "name": "stdout",
     "output_type": "stream",
     "text": [
      "Updated Set 1: {1, 2, 4, 5, 6, 7, 9}\n"
     ]
    }
   ],
   "source": [
    "#Q.20 Update a set with elements from another set.\n",
    "\n",
    "set1 = {1, 2, 5,7,9}\n",
    "set2 = {4, 5, 6}\n",
    "set1.update(set2)\n",
    "print(\"Updated Set 1:\", set1)\n"
   ]
  },
  {
   "cell_type": "code",
   "execution_count": 189,
   "id": "951fff8d-40ca-4310-8b76-f6f2c5e7ff47",
   "metadata": {},
   "outputs": [
    {
     "name": "stdout",
     "output_type": "stream",
     "text": [
      "Set of the first 5 prime numbers: {2, 3, 5, 7, 11}\n"
     ]
    }
   ],
   "source": [
    "#Q.21 Create a set of the first 5 prime numbers\n",
    "\n",
    "def is_prime(num):\n",
    "    if num <= 1:\n",
    "        return False\n",
    "    for i in range(2, int(num ** 0.5) + 1):\n",
    "        if num % i == 0:\n",
    "            return False\n",
    "    return True\n",
    "\n",
    "prime_numbers = set()\n",
    "num = 2\n",
    "while len(prime_numbers) < 5:\n",
    "    if is_prime(num):\n",
    "        prime_numbers.add(num)\n",
    "    num += 1\n",
    "\n",
    "\n",
    "print(\"Set of the first 5 prime numbers:\", prime_numbers)\n"
   ]
  },
  {
   "cell_type": "code",
   "execution_count": 190,
   "id": "5331e3d7-e77d-4f74-9372-d23023529e9b",
   "metadata": {},
   "outputs": [
    {
     "name": "stdout",
     "output_type": "stream",
     "text": [
      "The sets are identical.\n"
     ]
    }
   ],
   "source": [
    "#Q.22 Check if two sets are identical\n",
    "\n",
    "set1 = {1, 5, 3, 4, 2}\n",
    "set2 = {2, 1, 5, 3, 4}\n",
    "\n",
    "if set1 == set2:\n",
    "    print(\"The sets are identical.\")\n",
    "else:\n",
    "    print(\"The sets are not identical.\")"
   ]
  },
  {
   "cell_type": "code",
   "execution_count": 191,
   "id": "b4649e28-03fe-4f24-86e7-911454e85b91",
   "metadata": {},
   "outputs": [
    {
     "name": "stdout",
     "output_type": "stream",
     "text": [
      "Frozen Set is: frozenset({1, 2, 3, 4, 5})\n"
     ]
    }
   ],
   "source": [
    "#Q.23 Create a frozen set.\n",
    "\n",
    "elements = [1, 2, 3, 4, 5]\n",
    "frozen_set = frozenset(elements)\n",
    "print(\"Frozen Set is:\",frozen_set)"
   ]
  },
  {
   "cell_type": "code",
   "execution_count": 192,
   "id": "140bdd01-f086-44fa-b8c4-0403ac4fbca5",
   "metadata": {},
   "outputs": [
    {
     "name": "stdout",
     "output_type": "stream",
     "text": [
      "Disjoint of Set 1 and Set 2: False\n"
     ]
    }
   ],
   "source": [
    "#Q.24 Check if a set is disjoint with another set.\n",
    "\n",
    "set1 = {1, 2, 3, 4, 5}\n",
    "set2 = {4, 5, 6, 7, 8}\n",
    "result = set1.isdisjoint(set2)\n",
    "print(\"Disjoint of Set 1 and Set 2:\", result)"
   ]
  },
  {
   "cell_type": "code",
   "execution_count": 193,
   "id": "c487c17d-59c5-4b43-92ad-741d61dc71bb",
   "metadata": {},
   "outputs": [
    {
     "name": "stdout",
     "output_type": "stream",
     "text": [
      "{1, 4, 9, 16, 25}\n"
     ]
    }
   ],
   "source": [
    "#Q.25 Create a set of squares of numbers from 1 to 5.\n",
    "\n",
    "squares = set()\n",
    "for i in range(1, 6):\n",
    "    result = i ** 2\n",
    "    squares.add(result)\n",
    "print(squares)"
   ]
  },
  {
   "cell_type": "code",
   "execution_count": 195,
   "id": "a3c98d67-8ddb-4bc5-8834-6c98b9753e27",
   "metadata": {},
   "outputs": [
    {
     "name": "stdout",
     "output_type": "stream",
     "text": [
      "Original Set is: {1, 2, 3, 4, 5}\n",
      "Even Numbers Set is: set()\n"
     ]
    }
   ],
   "source": [
    "#Q.26 Filter out all even numbers from a set.\n",
    "\n",
    "\n",
    "set1 = {1, 2, 3, 4, 5}\n",
    "\n",
    "even_set = set()\n",
    "for i in even_set:\n",
    "    if i % 2 == 0:\n",
    "        even_set.add(i)\n",
    "\n",
    "print(\"Original Set is:\", set1)\n",
    "print(\"Even Numbers Set is:\", even_set)"
   ]
  },
  {
   "cell_type": "code",
   "execution_count": 196,
   "id": "d47cf495-80d4-4c78-8bc2-fad456b5784f",
   "metadata": {},
   "outputs": [
    {
     "name": "stdout",
     "output_type": "stream",
     "text": [
      "Multiply all elements in a set by 2:  {2, 4, 6, 8, 10}\n"
     ]
    }
   ],
   "source": [
    "#Q.27 Multiply all elements in a set by 2.\n",
    "\n",
    "multi = set()\n",
    "for i in range(1, 6):\n",
    "    result = i * 2\n",
    "    multi.add(result)\n",
    "print(\"Multiply all elements in a set by 2: \", multi)\n"
   ]
  },
  {
   "cell_type": "code",
   "execution_count": 197,
   "id": "510117de-27c6-4406-a93c-87df076e460f",
   "metadata": {},
   "outputs": [
    {
     "name": "stdout",
     "output_type": "stream",
     "text": [
      "Set of random numbers: {2, 17, 25, 27, 31}\n"
     ]
    }
   ],
   "source": [
    "#Q.28 Create a set of random numbers\n",
    "\n",
    "import random\n",
    "random_set = set()\n",
    "\n",
    "for i in range(5):\n",
    "    num = random.randint(1, 50) \n",
    "    random_set.add(num)\n",
    "print(\"Set of random numbers:\", random_set)"
   ]
  },
  {
   "cell_type": "code",
   "execution_count": 199,
   "id": "0a561927-27db-4cc2-9a90-a3fcf0df66a1",
   "metadata": {},
   "outputs": [
    {
     "name": "stdout",
     "output_type": "stream",
     "text": [
      "The set is empty.\n"
     ]
    }
   ],
   "source": [
    "#Q.29 Check if a set is empty.\n",
    "\n",
    "set1 = set()\n",
    "if not set1:\n",
    "    print(\"The set is empty.\")\n",
    "else:\n",
    "    print(\"The set is not empty.\")"
   ]
  },
  {
   "cell_type": "code",
   "execution_count": 200,
   "id": "0caf7da8-a4d6-473b-91c4-29677741dac1",
   "metadata": {},
   "outputs": [
    {
     "name": "stdout",
     "output_type": "stream",
     "text": [
      "Nested Set is: {frozenset({1, 2, 3, 4, 5}), frozenset({6, 7, 8, 9, 10})}\n"
     ]
    }
   ],
   "source": [
    "#Q.30 Create a nested set (hint: use frozenset).\n",
    "\n",
    "set1 = {1, 2, 3, 4, 5}\n",
    "set2 = {6, 7, 8, 9, 10}\n",
    "\n",
    "frozen_set1 = frozenset(set1)\n",
    "frozen_set2 = frozenset(set2)\n",
    "nested_set = {frozen_set1, frozen_set2}\n",
    "\n",
    "print(\"Nested Set is:\", nested_set)"
   ]
  },
  {
   "cell_type": "code",
   "execution_count": 201,
   "id": "ba39b4b8-ba74-4d42-ab55-26bb2c3bc07c",
   "metadata": {},
   "outputs": [
    {
     "name": "stdout",
     "output_type": "stream",
     "text": [
      "Orginal set: {1, 2, 3, 4, 5}\n"
     ]
    },
    {
     "name": "stdin",
     "output_type": "stream",
     "text": [
      "Enter a element to remove:  5\n"
     ]
    },
    {
     "name": "stdout",
     "output_type": "stream",
     "text": [
      "Set after removing 5 : {1, 2, 3, 4}\n"
     ]
    }
   ],
   "source": [
    "#Q.31 Remove an element from a set using the discard method\n",
    "\n",
    "set1 = {1, 2, 3, 4, 5}\n",
    "print(\"Orginal set:\", set1)\n",
    "\n",
    "element=int(input(\"Enter a element to remove: \"))\n",
    "set1.discard(element)\n",
    "print(\"Set after removing\", element, \":\", set1)"
   ]
  },
  {
   "cell_type": "code",
   "execution_count": 202,
   "id": "51d3cef0-8672-4668-8bd3-725b44f44a97",
   "metadata": {},
   "outputs": [
    {
     "name": "stdout",
     "output_type": "stream",
     "text": [
      "Set 1: {1, 2, 3, 4, 5}\n",
      "Set 2: {4, 5, 6, 7, 8}\n",
      "Is set1 a subset of set2? False\n",
      "Is set2 a subset of set1? False\n",
      "Intersection: {4, 5}\n",
      "Union: {1, 2, 3, 4, 5, 6, 7, 8}\n",
      "Elements in set1 but not in set2: {1, 2, 3}\n",
      "Elements in set2 but not in set1: {8, 6, 7}\n"
     ]
    }
   ],
   "source": [
    "#Q.32 Compare two sets.\n",
    "\n",
    "# Step 1: Define two sets\n",
    "set1 = {1, 2, 3, 4, 5}\n",
    "set2 = {4, 5, 6, 7, 8}\n",
    "\n",
    "subset = set1.issubset(set2)\n",
    "superset = set1.issuperset(set2)\n",
    "\n",
    "# Find the intersection of the sets\n",
    "intersection = set1.intersection(set2)\n",
    "\n",
    "# Find the union of the sets\n",
    "union = set1.union(set2)\n",
    "\n",
    "# Find the elements that are in set1 but not in set2\n",
    "difference1 = set1.difference(set2)\n",
    "\n",
    "# Find the elements that are in set2 but not in set1\n",
    "difference2 = set2.difference(set1)\n",
    "\n",
    "print(\"Set 1:\", set1)\n",
    "print(\"Set 2:\", set2)\n",
    "print(\"Is set1 a subset of set2?\", subset)\n",
    "print(\"Is set2 a subset of set1?\", superset)\n",
    "print(\"Intersection:\", intersection)\n",
    "print(\"Union:\", union)\n",
    "print(\"Elements in set1 but not in set2:\", difference1)\n",
    "print(\"Elements in set2 but not in set1:\", difference2)\n"
   ]
  },
  {
   "cell_type": "code",
   "execution_count": 203,
   "id": "9dfa683c-a7eb-4258-8e13-46032bf677b9",
   "metadata": {},
   "outputs": [
    {
     "name": "stdout",
     "output_type": "stream",
     "text": [
      "{'s', 'm', 'h', 'i', 'e', 'A', 'n'}\n"
     ]
    }
   ],
   "source": [
    "#Q.33 Create a set from a string\n",
    "\n",
    "string = \"Animesh\"\n",
    "set1 = set(string)\n",
    "print(set1)"
   ]
  },
  {
   "cell_type": "code",
   "execution_count": 204,
   "id": "c08d3c40-a461-4aa2-bcfd-06b59efb42fc",
   "metadata": {},
   "outputs": [
    {
     "name": "stdout",
     "output_type": "stream",
     "text": [
      "Original String Set: {'2', '1', '3', '4', '5'}\n",
      "Converted Integer Set: {1, 2, 3, 4, 5}\n"
     ]
    }
   ],
   "source": [
    "#Q.34 Convert a set of strings to a set of integers.\n",
    "\n",
    "string = {'1', '2','3', '4', '5'}\n",
    "integer = set()\n",
    "for item in string:\n",
    "    value=int(item)\n",
    "    integer.add(value)\n",
    "print(\"Original String Set:\", string)\n",
    "print(\"Converted Integer Set:\", integer)"
   ]
  },
  {
   "cell_type": "code",
   "execution_count": 205,
   "id": "dd81b211-ca4d-4a38-a599-f1b96009c03d",
   "metadata": {},
   "outputs": [
    {
     "name": "stdout",
     "output_type": "stream",
     "text": [
      "Original Integer Set: {1, 2, 3, 4, 5}\n",
      "Converted String Set: {'4', '5', '2', '1', '3'}\n"
     ]
    }
   ],
   "source": [
    "#Q.35 Convert a set of integers to a set of strings.\n",
    "\n",
    "\n",
    "set1 = {1, 2, 3, 4, 5}\n",
    "string = set()\n",
    "for item in set1:\n",
    "    value=str(item)\n",
    "    string.add(value)\n",
    "print(\"Original Integer Set:\", set1)\n",
    "print(\"Converted String Set:\", string)"
   ]
  },
  {
   "cell_type": "code",
   "execution_count": 207,
   "id": "f5e05085-ad46-4370-a337-3640ba1b3628",
   "metadata": {},
   "outputs": [
    {
     "name": "stdout",
     "output_type": "stream",
     "text": [
      "The New set is :  {1, 2, 3, 4, 5, 6}\n"
     ]
    }
   ],
   "source": [
    "#Q.36 Create a set from a tuple.\n",
    "\n",
    "tuple1 = (1, 2, 3, 4, 5, 6)\n",
    "set1 = set(tuple1)\n",
    "print(\"The New set is : \", set1)\n"
   ]
  },
  {
   "cell_type": "code",
   "execution_count": 209,
   "id": "25ab7436-3035-458c-ac5f-4ae58cded6b4",
   "metadata": {},
   "outputs": [
    {
     "name": "stdout",
     "output_type": "stream",
     "text": [
      "The New tuple is :  (1, 2, 3, 4, 5, 6)\n"
     ]
    }
   ],
   "source": [
    "#Q.37 Convert a set to a tuple\n",
    "\n",
    "set1 = {1, 2, 3, 4, 5, 6}\n",
    "tuple1 = tuple(set1)\n",
    "print(\"The New tuple is : \", tuple1)"
   ]
  },
  {
   "cell_type": "code",
   "execution_count": 210,
   "id": "21baf3eb-914f-4087-aa60-ca5e0fcae980",
   "metadata": {},
   "outputs": [
    {
     "name": "stdout",
     "output_type": "stream",
     "text": [
      "The maximum value in the set is: 5\n"
     ]
    }
   ],
   "source": [
    "#Q.38 Find the maximum value in a set.\n",
    "\n",
    "set1 = {1, 2, 3, 4, 5}\n",
    "max_value = max(set1)\n",
    "print(\"The maximum value in the set is:\", max_value)\n"
   ]
  },
  {
   "cell_type": "code",
   "execution_count": 211,
   "id": "8854ffb9-4bd8-49fd-a817-c1778835b122",
   "metadata": {},
   "outputs": [
    {
     "name": "stdout",
     "output_type": "stream",
     "text": [
      "The minimum value in the set is: 1\n"
     ]
    }
   ],
   "source": [
    "#Q.39 Find the minimum value in a set\n",
    "\n",
    "set1 = {1, 2, 3, 4, 5}\n",
    "min_value = min(set1)\n",
    "print(\"The minimum value in the set is:\", min_value)"
   ]
  },
  {
   "cell_type": "code",
   "execution_count": 213,
   "id": "b0968392-cff5-4c40-8b65-5ebda39d4897",
   "metadata": {},
   "outputs": [
    {
     "name": "stdin",
     "output_type": "stream",
     "text": [
      "Enter an element (or 'stop' to finish):  65\n",
      "Enter an element (or 'stop' to finish):  65\n",
      "Enter an element (or 'stop' to finish):  76\n",
      "Enter an element (or 'stop' to finish):  67\n",
      "Enter an element (or 'stop' to finish):  87\n",
      "Enter an element (or 'stop' to finish):  stop\n"
     ]
    },
    {
     "name": "stdout",
     "output_type": "stream",
     "text": [
      "The set created from user input is: {65, 67, 76, 87}\n"
     ]
    }
   ],
   "source": [
    "#Q.40 Create a set from user input.\n",
    "\n",
    "set1 = set()  \n",
    "\n",
    "while True:\n",
    "    element = input(\"Enter an element (or 'stop' to finish): \")\n",
    "    \n",
    "    if element.lower() == 'stop':\n",
    "        break  # Exit the loop if the user enters 'stop'\n",
    "    \n",
    "    try:\n",
    "        integer = int(element)  # Convert user input to an integer\n",
    "        set1.add(integer)  # Add the integer to the set\n",
    "    except ValueError:\n",
    "        print(\"Invalid input. Please enter a valid integer.\")\n",
    "\n",
    "print(\"The set created from user input is:\", set1)\n"
   ]
  },
  {
   "cell_type": "code",
   "execution_count": 214,
   "id": "8983e316-6681-417a-9684-549ffe335568",
   "metadata": {},
   "outputs": [
    {
     "name": "stdout",
     "output_type": "stream",
     "text": [
      "The intersection of the two sets is not empty.\n"
     ]
    }
   ],
   "source": [
    "#Q.41 Check if the intersection of two sets is empty\n",
    "\n",
    "set1 = {1, 5, 3, 4, 2}\n",
    "set2 = {2, 1, 5, 3, 4}\n",
    "\n",
    "result = set1.intersection(set2)\n",
    "\n",
    "if not result:\n",
    "    print(\"The intersection of the two sets is empty.\")\n",
    "else:\n",
    "    print(\"The intersection of the two sets is not empty.\")"
   ]
  },
  {
   "cell_type": "code",
   "execution_count": null,
   "id": "11f0d9fe-e331-42b7-a3cb-f057cd4b51eb",
   "metadata": {},
   "outputs": [
    {
     "name": "stdout",
     "output_type": "stream",
     "text": [
      "Set of the first 5 Fibonacci numbers: {0, 1, 2, 3, 5}\n"
     ]
    }
   ],
   "source": [
    "#Q.42 Create a set of the first 5 Fibonacci numbers\n",
    "\n",
    "fibonacci = set()\n",
    "a, b = 0, 1\n",
    "for i in range(6):\n",
    "    fibonacci.add(a)\n",
    "    a, b = b, a + b\n",
    "print(\"Set of the first 5 Fibonacci numbers:\", fibonacci)"
   ]
  },
  {
   "cell_type": "code",
   "execution_count": null,
   "id": "a01d8c21-e942-463b-b847-d634d0de0c71",
   "metadata": {},
   "outputs": [],
   "source": [
    "#Q.43 Remove duplicates from a list using sets.\n",
    "\n",
    "list1 = [1, 4, 5, 8, 8, 10, 6, 12, 14, 4]\n",
    "\n",
    "set1 = set(list1)\n",
    "list2 = list(set1)\n",
    "\n",
    "print(\"Original List:\", list1)\n",
    "print(\"List with Duplicates Removed:\", list2)"
   ]
  },
  {
   "cell_type": "code",
   "execution_count": 217,
   "id": "46152473-12c2-4c2a-9d6b-a2fc9c4c7d62",
   "metadata": {},
   "outputs": [
    {
     "name": "stdout",
     "output_type": "stream",
     "text": [
      "Set1 and Set2 equal?  True\n",
      "Set1 and Set3 equal?  False\n"
     ]
    }
   ],
   "source": [
    "#Q.44 Check if two sets have the same elements, regardless of their count\n",
    "\n",
    "set1 = {12,90,43,56}\n",
    "set2 = {43,56,12,90}\n",
    "set3 = {43,56,12}\n",
    "\n",
    "print(\"Set1 and Set2 equal? \",set1 == set2)\n",
    "print(\"Set1 and Set3 equal? \",set1 == set3)"
   ]
  },
  {
   "cell_type": "code",
   "execution_count": 218,
   "id": "c8cf284f-82b0-4861-b7be-cab24aaec6de",
   "metadata": {},
   "outputs": [
    {
     "name": "stdout",
     "output_type": "stream",
     "text": [
      "{32, 2, 4, 8, 16}\n"
     ]
    }
   ],
   "source": [
    "#Q.45 Create a set of the first `n` powers of 2.\n",
    "\n",
    "power = set()\n",
    "for i in range(1, 6):\n",
    "    result = 2 ** i\n",
    "    power.add(result)\n",
    "print(power)"
   ]
  },
  {
   "cell_type": "code",
   "execution_count": 219,
   "id": "b032d242-3e16-4aa6-bb26-52b1b3698bf2",
   "metadata": {},
   "outputs": [
    {
     "name": "stdout",
     "output_type": "stream",
     "text": [
      "Common elements between a set and a list: [5, 6, 12]\n"
     ]
    }
   ],
   "source": [
    "#Q.46 Find the common elements between a set and a list.\n",
    "\n",
    "set1 = {4, 5, 6, 10, 12}\n",
    "list1 = [6, 12, 5, 8]\n",
    "\n",
    "list_to_set = set(list1)\n",
    "common_elements = []\n",
    "\n",
    "for element in set1:\n",
    "    if element in list_to_set:\n",
    "        common_elements.append(element)\n",
    "\n",
    "print(\"Common elements between a set and a list:\", common_elements)"
   ]
  },
  {
   "cell_type": "code",
   "execution_count": 220,
   "id": "71650860-f863-4762-b6dc-d84f04d3dde0",
   "metadata": {},
   "outputs": [
    {
     "name": "stdout",
     "output_type": "stream",
     "text": [
      "list of triangular_numbers: {1, 3, 36, 6, 10, 45, 15, 21, 55, 28}\n"
     ]
    }
   ],
   "source": [
    "#Q.47 Create a set of the first `n` triangular numbers.\n",
    "\n",
    "n = 10\n",
    "triangular_numbers = [(i * (i + 1)) // 2 for i in range(1, n + 1)]\n",
    "print(\"list of triangular_numbers:\", set(triangular_numbers))"
   ]
  },
  {
   "cell_type": "code",
   "execution_count": 221,
   "id": "9e7a77ca-c34f-40a4-b400-3746bad8ac47",
   "metadata": {},
   "outputs": [
    {
     "name": "stdout",
     "output_type": "stream",
     "text": [
      "set2 is a subset of set1\n"
     ]
    }
   ],
   "source": [
    "#Q.48 Check if a set contains another set as a subset.\n",
    "\n",
    "set1 = {1, 2, 3, 4, 5, 6, 7}\n",
    "set2 = {2, 4, 6}\n",
    "subset = set2.issubset(set1)\n",
    "\n",
    "if subset:\n",
    "    print(\"set2 is a subset of set1\")\n",
    "else:\n",
    "    print(\"set2 is not a subset of set1\")"
   ]
  },
  {
   "cell_type": "code",
   "execution_count": 222,
   "id": "b55a7c6b-90d4-4cd7-9b68-dcb10b15256d",
   "metadata": {},
   "outputs": [
    {
     "name": "stdout",
     "output_type": "stream",
     "text": [
      "Tuple of alternating 1s and 0s: {0, 1}\n"
     ]
    }
   ],
   "source": [
    "#Q.49 Create a set of alternating 1s and 0s of length `n`.\n",
    "\n",
    "n = 10\n",
    "set1 = set(i % 2 for i in range(n))\n",
    "print(\"Tuple of alternating 1s and 0s:\", set1)"
   ]
  },
  {
   "cell_type": "code",
   "execution_count": 223,
   "id": "92740881-3279-4de6-a0f1-ceb7872524ab",
   "metadata": {},
   "outputs": [
    {
     "name": "stdout",
     "output_type": "stream",
     "text": [
      "Merged Set: {80, 50, 20, 70, 40, 10, 60, 30}\n"
     ]
    }
   ],
   "source": [
    "#Q.50 Merge multiple sets into one.\n",
    "\n",
    "# Step 1: Create multiple sets\n",
    "set1 = {10, 20, 30}\n",
    "set2 = {30, 40, 50}\n",
    "set3 = {60, 70, 80}\n",
    "\n",
    "merged = set1.union(set2, set3)\n",
    "print(\"Merged Set:\", merged)"
   ]
  },
  {
   "cell_type": "code",
   "execution_count": null,
   "id": "5a26c676-2021-4977-9506-ed15c4b3b27e",
   "metadata": {},
   "outputs": [],
   "source": []
  }
 ],
 "metadata": {
  "kernelspec": {
   "display_name": "Python 3 (ipykernel)",
   "language": "python",
   "name": "python3"
  },
  "language_info": {
   "codemirror_mode": {
    "name": "ipython",
    "version": 3
   },
   "file_extension": ".py",
   "mimetype": "text/x-python",
   "name": "python",
   "nbconvert_exporter": "python",
   "pygments_lexer": "ipython3",
   "version": "3.10.8"
  }
 },
 "nbformat": 4,
 "nbformat_minor": 5
}
